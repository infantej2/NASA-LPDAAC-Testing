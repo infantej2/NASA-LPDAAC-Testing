{
 "cells": [
  {
   "cell_type": "code",
   "execution_count": 9,
   "id": "ea3eff27",
   "metadata": {},
   "outputs": [],
   "source": [
    "import os\n",
    "from datetime import datetime\n",
    "import requests as r\n",
    "import numpy as np\n",
    "import pandas as pd\n",
    "import geopandas as gp\n",
    "import io\n",
    "import matplotlib.pyplot as plt\n",
    "#from osgeo import gdal\n",
    "import rasterio as rio\n",
    "from rasterio.mask import mask\n",
    "from rasterio.enums import Resampling\n",
    "from rasterio.shutil import copy\n",
    "from rasterio.transform import from_origin\n",
    "import pyproj\n",
    "from pyproj import Proj\n",
    "from shapely.ops import transform\n",
    "import xarray as xr\n",
    "#import geoviews as gv\n",
    "from cartopy import crs\n",
    "import hvplot.xarray\n",
    "import holoviews as hv\n",
    "import boto3\n",
    "from rasterio.session import AWSSession\n",
    "import rioxarray as rxr\n",
    "from rioxarray.merge import merge_arrays\n",
    "import requests\n",
    "import h5py\n",
    "from satpy import Scene\n",
    "#from satpy.readers import hdf5_reader"
   ]
  },
  {
   "cell_type": "code",
   "execution_count": 10,
   "id": "13730405",
   "metadata": {},
   "outputs": [],
   "source": [
    "# AUTHENTICATION CONFIGURATION\n",
    "from netrc import netrc\n",
    "from subprocess import Popen, DEVNULL, STDOUT\n",
    "from getpass import getpass\n",
    "from sys import platform\n",
    "\n",
    "urs = 'urs.earthdata.nasa.gov'    # Earthdata URL to call for authentication\n",
    "prompts = ['Enter NASA Earthdata Login Username \\n(or create an account at urs.earthdata.nasa.gov): ',\n",
    "           'Enter NASA Earthdata Login Password: ']\n",
    "\n",
    "# Determine if netrc file exists, and if it includes NASA Earthdata Login Credentials\n",
    "if 'win' in platform:\n",
    "    nrc = '_netrc'\n",
    "else:\n",
    "    nrc = '.netrc'\n",
    "try:\n",
    "    netrcDir = os.path.expanduser(f\"~/{nrc}\")\n",
    "    netrc(netrcDir).authenticators(urs)[0]\n",
    "    del netrcDir\n",
    "\n",
    "# If not, create a netrc file and prompt user for NASA Earthdata Login Username/Password\n",
    "except FileNotFoundError:\n",
    "    homeDir = os.path.expanduser(\"~\")\n",
    "\n",
    "    # Windows OS won't read the netrc unless this is set\n",
    "    Popen(f'setx HOME {homeDir}', shell=True, stdout=DEVNULL);\n",
    "\n",
    "    if nrc == '.netrc':\n",
    "        Popen(f'touch {homeDir + os.sep}{nrc} | chmod og-rw {homeDir + os.sep}{nrc}', shell=True, stdout=DEVNULL, stderr=STDOUT);\n",
    "\n",
    "    # Unable to use touch/chmod on Windows OS\n",
    "    Popen(f'echo machine {urs} >> {homeDir + os.sep}{nrc}', shell=True)\n",
    "    Popen(f'echo login {getpass(prompt=prompts[0])} >> {homeDir + os.sep}{nrc}', shell=True)\n",
    "    Popen(f'echo password {getpass(prompt=prompts[1])} >> {homeDir + os.sep}{nrc}', shell=True)\n",
    "    del homeDir\n",
    "\n",
    "# Determine OS and edit netrc file if it exists but is not set up for NASA Earthdata Login\n",
    "except TypeError:\n",
    "    homeDir = os.path.expanduser(\"~\")\n",
    "    Popen(f'echo machine {urs} >> {homeDir + os.sep}{nrc}', shell=True)\n",
    "    Popen(f'echo login {getpass(prompt=prompts[0])} >> {homeDir + os.sep}{nrc}', shell=True)\n",
    "    Popen(f'echo password {getpass(prompt=prompts[1])} >> {homeDir + os.sep}{nrc}', shell=True)\n",
    "    del homeDir\n",
    "del urs, prompts"
   ]
  },
  {
   "cell_type": "code",
   "execution_count": 11,
   "id": "fe8586e2",
   "metadata": {},
   "outputs": [
    {
     "name": "stderr",
     "output_type": "stream",
     "text": [
      "c:\\Users\\cinfante\\OneDrive - NRCan RNCan\\Documents\\Greenup\\NASA-LPDAAC-Testing\\venv\\Lib\\site-packages\\urllib3\\connectionpool.py:1056: InsecureRequestWarning: Unverified HTTPS request is being made to host 'cmr.earthdata.nasa.gov'. Adding certificate verification is strongly advised. See: https://urllib3.readthedocs.io/en/1.26.x/advanced-usage.html#ssl-warnings\n",
      "  warnings.warn(\n"
     ]
    },
    {
     "name": "stdout",
     "output_type": "stream",
     "text": [
      "https://cmr.earthdata.nasa.gov/stac/LPCLOUD/collections/VNP13A2.v002/items/?page=11229\n"
     ]
    },
    {
     "name": "stderr",
     "output_type": "stream",
     "text": [
      "c:\\Users\\cinfante\\OneDrive - NRCan RNCan\\Documents\\Greenup\\NASA-LPDAAC-Testing\\venv\\Lib\\site-packages\\urllib3\\connectionpool.py:1056: InsecureRequestWarning: Unverified HTTPS request is being made to host 'cmr.earthdata.nasa.gov'. Adding certificate verification is strongly advised. See: https://urllib3.readthedocs.io/en/1.26.x/advanced-usage.html#ssl-warnings\n",
      "  warnings.warn(\n"
     ]
    },
    {
     "name": "stdout",
     "output_type": "stream",
     "text": [
      "https://data.lpdaac.earthdatacloud.nasa.gov/lp-prod-public/VNP13A2.002/VNP13A2.A2023185.h16v01.002.2023201123309/BROWSE.VNP13A2.A2023185.h16v01.002.2023201123309.1.jpg\n",
      "https://data.lpdaac.earthdatacloud.nasa.gov/lp-prod-public/VNP13A2.002/VNP13A2.A2023185.h15v01.002.2023201122420/BROWSE.VNP13A2.A2023185.h15v01.002.2023201122420.1.jpg\n",
      "https://data.lpdaac.earthdatacloud.nasa.gov/lp-prod-public/VNP13A2.002/VNP13A2.A2023185.h19v01.002.2023201124032/BROWSE.VNP13A2.A2023185.h19v01.002.2023201124032.1.jpg\n",
      "https://data.lpdaac.earthdatacloud.nasa.gov/lp-prod-public/VNP13A2.002/VNP13A2.A2023185.h20v01.002.2023201124919/BROWSE.VNP13A2.A2023185.h20v01.002.2023201124919.1.jpg\n",
      "https://data.lpdaac.earthdatacloud.nasa.gov/lp-prod-public/VNP13A2.002/VNP13A2.A2023185.h11v02.002.2023201114934/BROWSE.VNP13A2.A2023185.h11v02.002.2023201114934.1.jpg\n"
     ]
    }
   ],
   "source": [
    "# Find last page\n",
    "base_url = 'https://cmr.earthdata.nasa.gov/stac/LPCLOUD/collections/VNP13A2.v002/items/'\n",
    "collections_response = r.get(base_url, verify=False).json()\n",
    "total_items = collections_response['numberMatched']\n",
    "items_returned = collections_response['numberReturned']\n",
    "last_page = total_items // items_returned\n",
    "if total_items % items_returned != 0:\n",
    "    last_page += 1\n",
    "last_page_url = base_url + f\"?page={last_page}\"\n",
    "print(last_page_url)\n",
    "# https://cmr.earthdata.nasa.gov/stac/LPCLOUD/collections/VNP13A2.v002/items/?page=11229\n",
    "last_response = r.get(last_page_url, verify=False).json()\n",
    "\n",
    "for i in last_response['features']:\n",
    "    print(i['assets']['browse']['href'])"
   ]
  },
  {
   "cell_type": "markdown",
   "id": "92df90ca",
   "metadata": {},
   "source": [
    "# Testing logic from code that Justin showed"
   ]
  },
  {
   "cell_type": "code",
   "execution_count": 14,
   "id": "877cb69a",
   "metadata": {},
   "outputs": [
    {
     "name": "stderr",
     "output_type": "stream",
     "text": [
      "c:\\Users\\cinfante\\OneDrive - NRCan RNCan\\Documents\\Greenup\\NASA-LPDAAC-Testing\\venv\\Lib\\site-packages\\urllib3\\connectionpool.py:1056: InsecureRequestWarning: Unverified HTTPS request is being made to host 'cmr.earthdata.nasa.gov'. Adding certificate verification is strongly advised. See: https://urllib3.readthedocs.io/en/1.26.x/advanced-usage.html#ssl-warnings\n",
      "  warnings.warn(\n"
     ]
    },
    {
     "name": "stdout",
     "output_type": "stream",
     "text": [
      "29\n"
     ]
    },
    {
     "name": "stderr",
     "output_type": "stream",
     "text": [
      "c:\\Users\\cinfante\\OneDrive - NRCan RNCan\\Documents\\Greenup\\NASA-LPDAAC-Testing\\venv\\Lib\\site-packages\\urllib3\\connectionpool.py:1056: InsecureRequestWarning: Unverified HTTPS request is being made to host 'data.lpdaac.earthdatacloud.nasa.gov'. Adding certificate verification is strongly advised. See: https://urllib3.readthedocs.io/en/1.26.x/advanced-usage.html#ssl-warnings\n",
      "  warnings.warn(\n",
      "c:\\Users\\cinfante\\OneDrive - NRCan RNCan\\Documents\\Greenup\\NASA-LPDAAC-Testing\\venv\\Lib\\site-packages\\urllib3\\connectionpool.py:1056: InsecureRequestWarning: Unverified HTTPS request is being made to host 'urs.earthdata.nasa.gov'. Adding certificate verification is strongly advised. See: https://urllib3.readthedocs.io/en/1.26.x/advanced-usage.html#ssl-warnings\n",
      "  warnings.warn(\n",
      "c:\\Users\\cinfante\\OneDrive - NRCan RNCan\\Documents\\Greenup\\NASA-LPDAAC-Testing\\venv\\Lib\\site-packages\\urllib3\\connectionpool.py:1056: InsecureRequestWarning: Unverified HTTPS request is being made to host 'data.lpdaac.earthdatacloud.nasa.gov'. Adding certificate verification is strongly advised. See: https://urllib3.readthedocs.io/en/1.26.x/advanced-usage.html#ssl-warnings\n",
      "  warnings.warn(\n",
      "c:\\Users\\cinfante\\OneDrive - NRCan RNCan\\Documents\\Greenup\\NASA-LPDAAC-Testing\\venv\\Lib\\site-packages\\urllib3\\connectionpool.py:1056: InsecureRequestWarning: Unverified HTTPS request is being made to host 'data.lpdaac.earthdatacloud.nasa.gov'. Adding certificate verification is strongly advised. See: https://urllib3.readthedocs.io/en/1.26.x/advanced-usage.html#ssl-warnings\n",
      "  warnings.warn(\n",
      "c:\\Users\\cinfante\\OneDrive - NRCan RNCan\\Documents\\Greenup\\NASA-LPDAAC-Testing\\venv\\Lib\\site-packages\\urllib3\\connectionpool.py:1056: InsecureRequestWarning: Unverified HTTPS request is being made to host 'd1nklfio7vscoe.cloudfront.net'. Adding certificate verification is strongly advised. See: https://urllib3.readthedocs.io/en/1.26.x/advanced-usage.html#ssl-warnings\n",
      "  warnings.warn(\n"
     ]
    },
    {
     "name": "stdout",
     "output_type": "stream",
     "text": [
      "{'type': 'Feature', 'id': 'VNP13A2.A2023185.h08v04.002.2023201103423', 'stac_version': '1.0.0', 'stac_extensions': [], 'collection': 'VNP13A2.v002', 'geometry': {'type': 'Polygon', 'coordinates': [[[-131.0149, 39.7081], [-117.2848, 39.8699], [-140.2398, 50.1258], [-156.8405, 49.8983], [-131.0149, 39.7081]]]}, 'bbox': [-156.8405, 39.7081, -117.2848, 50.319858], 'links': [{'rel': 'self', 'href': 'https://cmr.earthdata.nasa.gov/stac/LPCLOUD/collections/VNP13A2.v002/items/VNP13A2.A2023185.h08v04.002.2023201103423'}, {'rel': 'parent', 'href': 'https://cmr.earthdata.nasa.gov/stac/LPCLOUD/collections/VNP13A2.v002'}, {'rel': 'collection', 'href': 'https://cmr.earthdata.nasa.gov/stac/LPCLOUD/collections/VNP13A2.v002'}, {'rel': 'root', 'href': 'https://cmr.earthdata.nasa.gov/stac/'}, {'rel': 'provider', 'href': 'https://cmr.earthdata.nasa.gov/stac/LPCLOUD'}, {'rel': 'via', 'href': 'https://cmr.earthdata.nasa.gov/search/concepts/G2736246121-LPCLOUD.json'}, {'rel': 'via', 'href': 'https://cmr.earthdata.nasa.gov/search/concepts/G2736246121-LPCLOUD.umm_json'}], 'properties': {'datetime': '2023-07-04T00:00:00.000Z', 'start_datetime': '2023-07-04T00:00:00.000Z', 'end_datetime': '2023-07-19T23:59:59.000Z'}, 'assets': {'data': {'href': 'https://data.lpdaac.earthdatacloud.nasa.gov/lp-prod-protected/VNP13A2.002/VNP13A2.A2023185.h08v04.002.2023201103423/VNP13A2.A2023185.h08v04.002.2023201103423.h5', 'title': 'Download VNP13A2.A2023185.h08v04.002.2023201103423.h5'}, 'browse': {'href': 'https://data.lpdaac.earthdatacloud.nasa.gov/lp-prod-public/VNP13A2.002/VNP13A2.A2023185.h08v04.002.2023201103423/BROWSE.VNP13A2.A2023185.h08v04.002.2023201103423.1.jpg', 'type': 'image/jpeg', 'title': 'Download BROWSE.VNP13A2.A2023185.h08v04.002.2023201103423.1.jpg'}, 'opendap': {'href': 'https://opendap.earthdata.nasa.gov/collections/C2519127613-LPCLOUD/granules/VNP13A2.A2023185.h08v04.002.2023201103423', 'title': 'OPeNDAP request URL (GET DATA : OPENDAP DATA)'}, 'metadata': {'href': 'https://cmr.earthdata.nasa.gov/search/concepts/G2736246121-LPCLOUD.xml', 'type': 'application/xml'}}}\n"
     ]
    },
    {
     "name": "stderr",
     "output_type": "stream",
     "text": [
      "c:\\Users\\cinfante\\OneDrive - NRCan RNCan\\Documents\\Greenup\\NASA-LPDAAC-Testing\\venv\\Lib\\site-packages\\urllib3\\connectionpool.py:1056: InsecureRequestWarning: Unverified HTTPS request is being made to host 'data.lpdaac.earthdatacloud.nasa.gov'. Adding certificate verification is strongly advised. See: https://urllib3.readthedocs.io/en/1.26.x/advanced-usage.html#ssl-warnings\n",
      "  warnings.warn(\n",
      "c:\\Users\\cinfante\\OneDrive - NRCan RNCan\\Documents\\Greenup\\NASA-LPDAAC-Testing\\venv\\Lib\\site-packages\\urllib3\\connectionpool.py:1056: InsecureRequestWarning: Unverified HTTPS request is being made to host 'urs.earthdata.nasa.gov'. Adding certificate verification is strongly advised. See: https://urllib3.readthedocs.io/en/1.26.x/advanced-usage.html#ssl-warnings\n",
      "  warnings.warn(\n",
      "c:\\Users\\cinfante\\OneDrive - NRCan RNCan\\Documents\\Greenup\\NASA-LPDAAC-Testing\\venv\\Lib\\site-packages\\urllib3\\connectionpool.py:1056: InsecureRequestWarning: Unverified HTTPS request is being made to host 'data.lpdaac.earthdatacloud.nasa.gov'. Adding certificate verification is strongly advised. See: https://urllib3.readthedocs.io/en/1.26.x/advanced-usage.html#ssl-warnings\n",
      "  warnings.warn(\n",
      "c:\\Users\\cinfante\\OneDrive - NRCan RNCan\\Documents\\Greenup\\NASA-LPDAAC-Testing\\venv\\Lib\\site-packages\\urllib3\\connectionpool.py:1056: InsecureRequestWarning: Unverified HTTPS request is being made to host 'data.lpdaac.earthdatacloud.nasa.gov'. Adding certificate verification is strongly advised. See: https://urllib3.readthedocs.io/en/1.26.x/advanced-usage.html#ssl-warnings\n",
      "  warnings.warn(\n",
      "c:\\Users\\cinfante\\OneDrive - NRCan RNCan\\Documents\\Greenup\\NASA-LPDAAC-Testing\\venv\\Lib\\site-packages\\urllib3\\connectionpool.py:1056: InsecureRequestWarning: Unverified HTTPS request is being made to host 'd1nklfio7vscoe.cloudfront.net'. Adding certificate verification is strongly advised. See: https://urllib3.readthedocs.io/en/1.26.x/advanced-usage.html#ssl-warnings\n",
      "  warnings.warn(\n"
     ]
    },
    {
     "name": "stdout",
     "output_type": "stream",
     "text": [
      "{'type': 'Feature', 'id': 'VNP13A2.A2023185.h11v04.002.2023201103404', 'stac_version': '1.0.0', 'stac_extensions': [], 'collection': 'VNP13A2.v002', 'geometry': {'type': 'Polygon', 'coordinates': [[[-91.3388, 39.7728], [-78.1497, 39.8489], [-93.3968, 50.0921], [-109.0855, 49.9863], [-91.3388, 39.7728]]]}, 'bbox': [-109.0855, 39.7728, -78.1497, 50.306824], 'links': [{'rel': 'self', 'href': 'https://cmr.earthdata.nasa.gov/stac/LPCLOUD/collections/VNP13A2.v002/items/VNP13A2.A2023185.h11v04.002.2023201103404'}, {'rel': 'parent', 'href': 'https://cmr.earthdata.nasa.gov/stac/LPCLOUD/collections/VNP13A2.v002'}, {'rel': 'collection', 'href': 'https://cmr.earthdata.nasa.gov/stac/LPCLOUD/collections/VNP13A2.v002'}, {'rel': 'root', 'href': 'https://cmr.earthdata.nasa.gov/stac/'}, {'rel': 'provider', 'href': 'https://cmr.earthdata.nasa.gov/stac/LPCLOUD'}, {'rel': 'via', 'href': 'https://cmr.earthdata.nasa.gov/search/concepts/G2736246135-LPCLOUD.json'}, {'rel': 'via', 'href': 'https://cmr.earthdata.nasa.gov/search/concepts/G2736246135-LPCLOUD.umm_json'}], 'properties': {'datetime': '2023-07-04T00:00:00.000Z', 'start_datetime': '2023-07-04T00:00:00.000Z', 'end_datetime': '2023-07-19T23:59:59.000Z'}, 'assets': {'data': {'href': 'https://data.lpdaac.earthdatacloud.nasa.gov/lp-prod-protected/VNP13A2.002/VNP13A2.A2023185.h11v04.002.2023201103404/VNP13A2.A2023185.h11v04.002.2023201103404.h5', 'title': 'Download VNP13A2.A2023185.h11v04.002.2023201103404.h5'}, 'browse': {'href': 'https://data.lpdaac.earthdatacloud.nasa.gov/lp-prod-public/VNP13A2.002/VNP13A2.A2023185.h11v04.002.2023201103404/BROWSE.VNP13A2.A2023185.h11v04.002.2023201103404.1.jpg', 'type': 'image/jpeg', 'title': 'Download BROWSE.VNP13A2.A2023185.h11v04.002.2023201103404.1.jpg'}, 'opendap': {'href': 'https://opendap.earthdata.nasa.gov/collections/C2519127613-LPCLOUD/granules/VNP13A2.A2023185.h11v04.002.2023201103404', 'title': 'OPeNDAP request URL (GET DATA : OPENDAP DATA)'}, 'metadata': {'href': 'https://cmr.earthdata.nasa.gov/search/concepts/G2736246135-LPCLOUD.xml', 'type': 'application/xml'}}}\n"
     ]
    },
    {
     "name": "stderr",
     "output_type": "stream",
     "text": [
      "c:\\Users\\cinfante\\OneDrive - NRCan RNCan\\Documents\\Greenup\\NASA-LPDAAC-Testing\\venv\\Lib\\site-packages\\urllib3\\connectionpool.py:1056: InsecureRequestWarning: Unverified HTTPS request is being made to host 'data.lpdaac.earthdatacloud.nasa.gov'. Adding certificate verification is strongly advised. See: https://urllib3.readthedocs.io/en/1.26.x/advanced-usage.html#ssl-warnings\n",
      "  warnings.warn(\n",
      "c:\\Users\\cinfante\\OneDrive - NRCan RNCan\\Documents\\Greenup\\NASA-LPDAAC-Testing\\venv\\Lib\\site-packages\\urllib3\\connectionpool.py:1056: InsecureRequestWarning: Unverified HTTPS request is being made to host 'urs.earthdata.nasa.gov'. Adding certificate verification is strongly advised. See: https://urllib3.readthedocs.io/en/1.26.x/advanced-usage.html#ssl-warnings\n",
      "  warnings.warn(\n",
      "c:\\Users\\cinfante\\OneDrive - NRCan RNCan\\Documents\\Greenup\\NASA-LPDAAC-Testing\\venv\\Lib\\site-packages\\urllib3\\connectionpool.py:1056: InsecureRequestWarning: Unverified HTTPS request is being made to host 'data.lpdaac.earthdatacloud.nasa.gov'. Adding certificate verification is strongly advised. See: https://urllib3.readthedocs.io/en/1.26.x/advanced-usage.html#ssl-warnings\n",
      "  warnings.warn(\n",
      "c:\\Users\\cinfante\\OneDrive - NRCan RNCan\\Documents\\Greenup\\NASA-LPDAAC-Testing\\venv\\Lib\\site-packages\\urllib3\\connectionpool.py:1056: InsecureRequestWarning: Unverified HTTPS request is being made to host 'data.lpdaac.earthdatacloud.nasa.gov'. Adding certificate verification is strongly advised. See: https://urllib3.readthedocs.io/en/1.26.x/advanced-usage.html#ssl-warnings\n",
      "  warnings.warn(\n",
      "c:\\Users\\cinfante\\OneDrive - NRCan RNCan\\Documents\\Greenup\\NASA-LPDAAC-Testing\\venv\\Lib\\site-packages\\urllib3\\connectionpool.py:1056: InsecureRequestWarning: Unverified HTTPS request is being made to host 'd1nklfio7vscoe.cloudfront.net'. Adding certificate verification is strongly advised. See: https://urllib3.readthedocs.io/en/1.26.x/advanced-usage.html#ssl-warnings\n",
      "  warnings.warn(\n"
     ]
    },
    {
     "name": "stdout",
     "output_type": "stream",
     "text": [
      "{'type': 'Feature', 'id': 'VNP13A2.A2023185.h10v04.002.2023201103437', 'stac_version': '1.0.0', 'stac_extensions': [], 'collection': 'VNP13A2.v002', 'geometry': {'type': 'Polygon', 'coordinates': [[[-104.5202, 39.7557], [-91.191, 39.8554], [-109.0021, 50.1047], [-124.8854, 49.9677], [-104.5202, 39.7557]]]}, 'bbox': [-124.8854, 39.7557, -91.191, 50.312155], 'links': [{'rel': 'self', 'href': 'https://cmr.earthdata.nasa.gov/stac/LPCLOUD/collections/VNP13A2.v002/items/VNP13A2.A2023185.h10v04.002.2023201103437'}, {'rel': 'parent', 'href': 'https://cmr.earthdata.nasa.gov/stac/LPCLOUD/collections/VNP13A2.v002'}, {'rel': 'collection', 'href': 'https://cmr.earthdata.nasa.gov/stac/LPCLOUD/collections/VNP13A2.v002'}, {'rel': 'root', 'href': 'https://cmr.earthdata.nasa.gov/stac/'}, {'rel': 'provider', 'href': 'https://cmr.earthdata.nasa.gov/stac/LPCLOUD'}, {'rel': 'via', 'href': 'https://cmr.earthdata.nasa.gov/search/concepts/G2736247716-LPCLOUD.json'}, {'rel': 'via', 'href': 'https://cmr.earthdata.nasa.gov/search/concepts/G2736247716-LPCLOUD.umm_json'}], 'properties': {'datetime': '2023-07-04T00:00:00.000Z', 'start_datetime': '2023-07-04T00:00:00.000Z', 'end_datetime': '2023-07-19T23:59:59.000Z'}, 'assets': {'data': {'href': 'https://data.lpdaac.earthdatacloud.nasa.gov/lp-prod-protected/VNP13A2.002/VNP13A2.A2023185.h10v04.002.2023201103437/VNP13A2.A2023185.h10v04.002.2023201103437.h5', 'title': 'Download VNP13A2.A2023185.h10v04.002.2023201103437.h5'}, 'browse': {'href': 'https://data.lpdaac.earthdatacloud.nasa.gov/lp-prod-public/VNP13A2.002/VNP13A2.A2023185.h10v04.002.2023201103437/BROWSE.VNP13A2.A2023185.h10v04.002.2023201103437.1.jpg', 'type': 'image/jpeg', 'title': 'Download BROWSE.VNP13A2.A2023185.h10v04.002.2023201103437.1.jpg'}, 'opendap': {'href': 'https://opendap.earthdata.nasa.gov/collections/C2519127613-LPCLOUD/granules/VNP13A2.A2023185.h10v04.002.2023201103437', 'title': 'OPeNDAP request URL (GET DATA : OPENDAP DATA)'}, 'metadata': {'href': 'https://cmr.earthdata.nasa.gov/search/concepts/G2736247716-LPCLOUD.xml', 'type': 'application/xml'}}}\n"
     ]
    },
    {
     "name": "stderr",
     "output_type": "stream",
     "text": [
      "c:\\Users\\cinfante\\OneDrive - NRCan RNCan\\Documents\\Greenup\\NASA-LPDAAC-Testing\\venv\\Lib\\site-packages\\urllib3\\connectionpool.py:1056: InsecureRequestWarning: Unverified HTTPS request is being made to host 'data.lpdaac.earthdatacloud.nasa.gov'. Adding certificate verification is strongly advised. See: https://urllib3.readthedocs.io/en/1.26.x/advanced-usage.html#ssl-warnings\n",
      "  warnings.warn(\n",
      "c:\\Users\\cinfante\\OneDrive - NRCan RNCan\\Documents\\Greenup\\NASA-LPDAAC-Testing\\venv\\Lib\\site-packages\\urllib3\\connectionpool.py:1056: InsecureRequestWarning: Unverified HTTPS request is being made to host 'urs.earthdata.nasa.gov'. Adding certificate verification is strongly advised. See: https://urllib3.readthedocs.io/en/1.26.x/advanced-usage.html#ssl-warnings\n",
      "  warnings.warn(\n",
      "c:\\Users\\cinfante\\OneDrive - NRCan RNCan\\Documents\\Greenup\\NASA-LPDAAC-Testing\\venv\\Lib\\site-packages\\urllib3\\connectionpool.py:1056: InsecureRequestWarning: Unverified HTTPS request is being made to host 'data.lpdaac.earthdatacloud.nasa.gov'. Adding certificate verification is strongly advised. See: https://urllib3.readthedocs.io/en/1.26.x/advanced-usage.html#ssl-warnings\n",
      "  warnings.warn(\n",
      "c:\\Users\\cinfante\\OneDrive - NRCan RNCan\\Documents\\Greenup\\NASA-LPDAAC-Testing\\venv\\Lib\\site-packages\\urllib3\\connectionpool.py:1056: InsecureRequestWarning: Unverified HTTPS request is being made to host 'data.lpdaac.earthdatacloud.nasa.gov'. Adding certificate verification is strongly advised. See: https://urllib3.readthedocs.io/en/1.26.x/advanced-usage.html#ssl-warnings\n",
      "  warnings.warn(\n",
      "c:\\Users\\cinfante\\OneDrive - NRCan RNCan\\Documents\\Greenup\\NASA-LPDAAC-Testing\\venv\\Lib\\site-packages\\urllib3\\connectionpool.py:1056: InsecureRequestWarning: Unverified HTTPS request is being made to host 'd1nklfio7vscoe.cloudfront.net'. Adding certificate verification is strongly advised. See: https://urllib3.readthedocs.io/en/1.26.x/advanced-usage.html#ssl-warnings\n",
      "  warnings.warn(\n"
     ]
    },
    {
     "name": "stdout",
     "output_type": "stream",
     "text": [
      "{'type': 'Feature', 'id': 'VNP13A2.A2023185.h13v04.002.2023201103448', 'stac_version': '1.0.0', 'stac_extensions': [], 'collection': 'VNP13A2.v002', 'geometry': {'type': 'Polygon', 'coordinates': [[[-65.15, 39.7937], [-52.0094, 39.8337], [-62.1191, 50.0582], [-77.7862, 50], [-65.15, 39.7937]]]}, 'bbox': [-77.7862, 39.7937, -52.0094, 50.294153], 'links': [{'rel': 'self', 'href': 'https://cmr.earthdata.nasa.gov/stac/LPCLOUD/collections/VNP13A2.v002/items/VNP13A2.A2023185.h13v04.002.2023201103448'}, {'rel': 'parent', 'href': 'https://cmr.earthdata.nasa.gov/stac/LPCLOUD/collections/VNP13A2.v002'}, {'rel': 'collection', 'href': 'https://cmr.earthdata.nasa.gov/stac/LPCLOUD/collections/VNP13A2.v002'}, {'rel': 'root', 'href': 'https://cmr.earthdata.nasa.gov/stac/'}, {'rel': 'provider', 'href': 'https://cmr.earthdata.nasa.gov/stac/LPCLOUD'}, {'rel': 'via', 'href': 'https://cmr.earthdata.nasa.gov/search/concepts/G2736251947-LPCLOUD.json'}, {'rel': 'via', 'href': 'https://cmr.earthdata.nasa.gov/search/concepts/G2736251947-LPCLOUD.umm_json'}], 'properties': {'datetime': '2023-07-04T00:00:00.000Z', 'start_datetime': '2023-07-04T00:00:00.000Z', 'end_datetime': '2023-07-19T23:59:59.000Z'}, 'assets': {'data': {'href': 'https://data.lpdaac.earthdatacloud.nasa.gov/lp-prod-protected/VNP13A2.002/VNP13A2.A2023185.h13v04.002.2023201103448/VNP13A2.A2023185.h13v04.002.2023201103448.h5', 'title': 'Download VNP13A2.A2023185.h13v04.002.2023201103448.h5'}, 'browse': {'href': 'https://data.lpdaac.earthdatacloud.nasa.gov/lp-prod-public/VNP13A2.002/VNP13A2.A2023185.h13v04.002.2023201103448/BROWSE.VNP13A2.A2023185.h13v04.002.2023201103448.1.jpg', 'type': 'image/jpeg', 'title': 'Download BROWSE.VNP13A2.A2023185.h13v04.002.2023201103448.1.jpg'}, 'opendap': {'href': 'https://opendap.earthdata.nasa.gov/collections/C2519127613-LPCLOUD/granules/VNP13A2.A2023185.h13v04.002.2023201103448', 'title': 'OPeNDAP request URL (GET DATA : OPENDAP DATA)'}, 'metadata': {'href': 'https://cmr.earthdata.nasa.gov/search/concepts/G2736251947-LPCLOUD.xml', 'type': 'application/xml'}}}\n"
     ]
    },
    {
     "name": "stderr",
     "output_type": "stream",
     "text": [
      "c:\\Users\\cinfante\\OneDrive - NRCan RNCan\\Documents\\Greenup\\NASA-LPDAAC-Testing\\venv\\Lib\\site-packages\\urllib3\\connectionpool.py:1056: InsecureRequestWarning: Unverified HTTPS request is being made to host 'data.lpdaac.earthdatacloud.nasa.gov'. Adding certificate verification is strongly advised. See: https://urllib3.readthedocs.io/en/1.26.x/advanced-usage.html#ssl-warnings\n",
      "  warnings.warn(\n",
      "c:\\Users\\cinfante\\OneDrive - NRCan RNCan\\Documents\\Greenup\\NASA-LPDAAC-Testing\\venv\\Lib\\site-packages\\urllib3\\connectionpool.py:1056: InsecureRequestWarning: Unverified HTTPS request is being made to host 'urs.earthdata.nasa.gov'. Adding certificate verification is strongly advised. See: https://urllib3.readthedocs.io/en/1.26.x/advanced-usage.html#ssl-warnings\n",
      "  warnings.warn(\n",
      "c:\\Users\\cinfante\\OneDrive - NRCan RNCan\\Documents\\Greenup\\NASA-LPDAAC-Testing\\venv\\Lib\\site-packages\\urllib3\\connectionpool.py:1056: InsecureRequestWarning: Unverified HTTPS request is being made to host 'data.lpdaac.earthdatacloud.nasa.gov'. Adding certificate verification is strongly advised. See: https://urllib3.readthedocs.io/en/1.26.x/advanced-usage.html#ssl-warnings\n",
      "  warnings.warn(\n",
      "c:\\Users\\cinfante\\OneDrive - NRCan RNCan\\Documents\\Greenup\\NASA-LPDAAC-Testing\\venv\\Lib\\site-packages\\urllib3\\connectionpool.py:1056: InsecureRequestWarning: Unverified HTTPS request is being made to host 'data.lpdaac.earthdatacloud.nasa.gov'. Adding certificate verification is strongly advised. See: https://urllib3.readthedocs.io/en/1.26.x/advanced-usage.html#ssl-warnings\n",
      "  warnings.warn(\n",
      "c:\\Users\\cinfante\\OneDrive - NRCan RNCan\\Documents\\Greenup\\NASA-LPDAAC-Testing\\venv\\Lib\\site-packages\\urllib3\\connectionpool.py:1056: InsecureRequestWarning: Unverified HTTPS request is being made to host 'd1nklfio7vscoe.cloudfront.net'. Adding certificate verification is strongly advised. See: https://urllib3.readthedocs.io/en/1.26.x/advanced-usage.html#ssl-warnings\n",
      "  warnings.warn(\n"
     ]
    },
    {
     "name": "stdout",
     "output_type": "stream",
     "text": [
      "{'type': 'Feature', 'id': 'VNP13A2.A2023185.h12v04.002.2023201103408', 'stac_version': '1.0.0', 'stac_extensions': [], 'collection': 'VNP13A2.v002', 'geometry': {'type': 'Polygon', 'coordinates': [[[-78.2083, 39.7858], [-65.0781, 39.8411], [-77.7506, 50.0754], [-93.3822, 49.9972], [-78.2083, 39.7858]]]}, 'bbox': [-93.3822, 39.7858, -65.0781, 50.3008], 'links': [{'rel': 'self', 'href': 'https://cmr.earthdata.nasa.gov/stac/LPCLOUD/collections/VNP13A2.v002/items/VNP13A2.A2023185.h12v04.002.2023201103408'}, {'rel': 'parent', 'href': 'https://cmr.earthdata.nasa.gov/stac/LPCLOUD/collections/VNP13A2.v002'}, {'rel': 'collection', 'href': 'https://cmr.earthdata.nasa.gov/stac/LPCLOUD/collections/VNP13A2.v002'}, {'rel': 'root', 'href': 'https://cmr.earthdata.nasa.gov/stac/'}, {'rel': 'provider', 'href': 'https://cmr.earthdata.nasa.gov/stac/LPCLOUD'}, {'rel': 'via', 'href': 'https://cmr.earthdata.nasa.gov/search/concepts/G2736252083-LPCLOUD.json'}, {'rel': 'via', 'href': 'https://cmr.earthdata.nasa.gov/search/concepts/G2736252083-LPCLOUD.umm_json'}], 'properties': {'datetime': '2023-07-04T00:00:00.000Z', 'start_datetime': '2023-07-04T00:00:00.000Z', 'end_datetime': '2023-07-19T23:59:59.000Z'}, 'assets': {'data': {'href': 'https://data.lpdaac.earthdatacloud.nasa.gov/lp-prod-protected/VNP13A2.002/VNP13A2.A2023185.h12v04.002.2023201103408/VNP13A2.A2023185.h12v04.002.2023201103408.h5', 'title': 'Download VNP13A2.A2023185.h12v04.002.2023201103408.h5'}, 'browse': {'href': 'https://data.lpdaac.earthdatacloud.nasa.gov/lp-prod-public/VNP13A2.002/VNP13A2.A2023185.h12v04.002.2023201103408/BROWSE.VNP13A2.A2023185.h12v04.002.2023201103408.1.jpg', 'type': 'image/jpeg', 'title': 'Download BROWSE.VNP13A2.A2023185.h12v04.002.2023201103408.1.jpg'}, 'opendap': {'href': 'https://opendap.earthdata.nasa.gov/collections/C2519127613-LPCLOUD/granules/VNP13A2.A2023185.h12v04.002.2023201103408', 'title': 'OPeNDAP request URL (GET DATA : OPENDAP DATA)'}, 'metadata': {'href': 'https://cmr.earthdata.nasa.gov/search/concepts/G2736252083-LPCLOUD.xml', 'type': 'application/xml'}}}\n"
     ]
    },
    {
     "name": "stderr",
     "output_type": "stream",
     "text": [
      "c:\\Users\\cinfante\\OneDrive - NRCan RNCan\\Documents\\Greenup\\NASA-LPDAAC-Testing\\venv\\Lib\\site-packages\\urllib3\\connectionpool.py:1056: InsecureRequestWarning: Unverified HTTPS request is being made to host 'data.lpdaac.earthdatacloud.nasa.gov'. Adding certificate verification is strongly advised. See: https://urllib3.readthedocs.io/en/1.26.x/advanced-usage.html#ssl-warnings\n",
      "  warnings.warn(\n",
      "c:\\Users\\cinfante\\OneDrive - NRCan RNCan\\Documents\\Greenup\\NASA-LPDAAC-Testing\\venv\\Lib\\site-packages\\urllib3\\connectionpool.py:1056: InsecureRequestWarning: Unverified HTTPS request is being made to host 'urs.earthdata.nasa.gov'. Adding certificate verification is strongly advised. See: https://urllib3.readthedocs.io/en/1.26.x/advanced-usage.html#ssl-warnings\n",
      "  warnings.warn(\n",
      "c:\\Users\\cinfante\\OneDrive - NRCan RNCan\\Documents\\Greenup\\NASA-LPDAAC-Testing\\venv\\Lib\\site-packages\\urllib3\\connectionpool.py:1056: InsecureRequestWarning: Unverified HTTPS request is being made to host 'data.lpdaac.earthdatacloud.nasa.gov'. Adding certificate verification is strongly advised. See: https://urllib3.readthedocs.io/en/1.26.x/advanced-usage.html#ssl-warnings\n",
      "  warnings.warn(\n",
      "c:\\Users\\cinfante\\OneDrive - NRCan RNCan\\Documents\\Greenup\\NASA-LPDAAC-Testing\\venv\\Lib\\site-packages\\urllib3\\connectionpool.py:1056: InsecureRequestWarning: Unverified HTTPS request is being made to host 'data.lpdaac.earthdatacloud.nasa.gov'. Adding certificate verification is strongly advised. See: https://urllib3.readthedocs.io/en/1.26.x/advanced-usage.html#ssl-warnings\n",
      "  warnings.warn(\n",
      "c:\\Users\\cinfante\\OneDrive - NRCan RNCan\\Documents\\Greenup\\NASA-LPDAAC-Testing\\venv\\Lib\\site-packages\\urllib3\\connectionpool.py:1056: InsecureRequestWarning: Unverified HTTPS request is being made to host 'd1nklfio7vscoe.cloudfront.net'. Adding certificate verification is strongly advised. See: https://urllib3.readthedocs.io/en/1.26.x/advanced-usage.html#ssl-warnings\n",
      "  warnings.warn(\n"
     ]
    },
    {
     "name": "stdout",
     "output_type": "stream",
     "text": [
      "{'type': 'Feature', 'id': 'VNP13A2.A2023185.h09v04.002.2023201103403', 'stac_version': '1.0.0', 'stac_extensions': [], 'collection': 'VNP13A2.v002', 'geometry': {'type': 'Polygon', 'coordinates': [[[-117.7464, 39.7342], [-104.2354, 39.8624], [-124.6153, 50.1159], [-140.7952, 49.9394], [-117.7464, 39.7342]]]}, 'bbox': [-140.7952, 39.7342, -104.2354, 50.3165], 'links': [{'rel': 'self', 'href': 'https://cmr.earthdata.nasa.gov/stac/LPCLOUD/collections/VNP13A2.v002/items/VNP13A2.A2023185.h09v04.002.2023201103403'}, {'rel': 'parent', 'href': 'https://cmr.earthdata.nasa.gov/stac/LPCLOUD/collections/VNP13A2.v002'}, {'rel': 'collection', 'href': 'https://cmr.earthdata.nasa.gov/stac/LPCLOUD/collections/VNP13A2.v002'}, {'rel': 'root', 'href': 'https://cmr.earthdata.nasa.gov/stac/'}, {'rel': 'provider', 'href': 'https://cmr.earthdata.nasa.gov/stac/LPCLOUD'}, {'rel': 'via', 'href': 'https://cmr.earthdata.nasa.gov/search/concepts/G2736252348-LPCLOUD.json'}, {'rel': 'via', 'href': 'https://cmr.earthdata.nasa.gov/search/concepts/G2736252348-LPCLOUD.umm_json'}], 'properties': {'datetime': '2023-07-04T00:00:00.000Z', 'start_datetime': '2023-07-04T00:00:00.000Z', 'end_datetime': '2023-07-19T23:59:59.000Z'}, 'assets': {'data': {'href': 'https://data.lpdaac.earthdatacloud.nasa.gov/lp-prod-protected/VNP13A2.002/VNP13A2.A2023185.h09v04.002.2023201103403/VNP13A2.A2023185.h09v04.002.2023201103403.h5', 'title': 'Download VNP13A2.A2023185.h09v04.002.2023201103403.h5'}, 'browse': {'href': 'https://data.lpdaac.earthdatacloud.nasa.gov/lp-prod-public/VNP13A2.002/VNP13A2.A2023185.h09v04.002.2023201103403/BROWSE.VNP13A2.A2023185.h09v04.002.2023201103403.1.jpg', 'type': 'image/jpeg', 'title': 'Download BROWSE.VNP13A2.A2023185.h09v04.002.2023201103403.1.jpg'}, 'opendap': {'href': 'https://opendap.earthdata.nasa.gov/collections/C2519127613-LPCLOUD/granules/VNP13A2.A2023185.h09v04.002.2023201103403', 'title': 'OPeNDAP request URL (GET DATA : OPENDAP DATA)'}, 'metadata': {'href': 'https://cmr.earthdata.nasa.gov/search/concepts/G2736252348-LPCLOUD.xml', 'type': 'application/xml'}}}\n"
     ]
    },
    {
     "name": "stderr",
     "output_type": "stream",
     "text": [
      "c:\\Users\\cinfante\\OneDrive - NRCan RNCan\\Documents\\Greenup\\NASA-LPDAAC-Testing\\venv\\Lib\\site-packages\\urllib3\\connectionpool.py:1056: InsecureRequestWarning: Unverified HTTPS request is being made to host 'data.lpdaac.earthdatacloud.nasa.gov'. Adding certificate verification is strongly advised. See: https://urllib3.readthedocs.io/en/1.26.x/advanced-usage.html#ssl-warnings\n",
      "  warnings.warn(\n",
      "c:\\Users\\cinfante\\OneDrive - NRCan RNCan\\Documents\\Greenup\\NASA-LPDAAC-Testing\\venv\\Lib\\site-packages\\urllib3\\connectionpool.py:1056: InsecureRequestWarning: Unverified HTTPS request is being made to host 'urs.earthdata.nasa.gov'. Adding certificate verification is strongly advised. See: https://urllib3.readthedocs.io/en/1.26.x/advanced-usage.html#ssl-warnings\n",
      "  warnings.warn(\n",
      "c:\\Users\\cinfante\\OneDrive - NRCan RNCan\\Documents\\Greenup\\NASA-LPDAAC-Testing\\venv\\Lib\\site-packages\\urllib3\\connectionpool.py:1056: InsecureRequestWarning: Unverified HTTPS request is being made to host 'data.lpdaac.earthdatacloud.nasa.gov'. Adding certificate verification is strongly advised. See: https://urllib3.readthedocs.io/en/1.26.x/advanced-usage.html#ssl-warnings\n",
      "  warnings.warn(\n",
      "c:\\Users\\cinfante\\OneDrive - NRCan RNCan\\Documents\\Greenup\\NASA-LPDAAC-Testing\\venv\\Lib\\site-packages\\urllib3\\connectionpool.py:1056: InsecureRequestWarning: Unverified HTTPS request is being made to host 'data.lpdaac.earthdatacloud.nasa.gov'. Adding certificate verification is strongly advised. See: https://urllib3.readthedocs.io/en/1.26.x/advanced-usage.html#ssl-warnings\n",
      "  warnings.warn(\n",
      "c:\\Users\\cinfante\\OneDrive - NRCan RNCan\\Documents\\Greenup\\NASA-LPDAAC-Testing\\venv\\Lib\\site-packages\\urllib3\\connectionpool.py:1056: InsecureRequestWarning: Unverified HTTPS request is being made to host 'd1nklfio7vscoe.cloudfront.net'. Adding certificate verification is strongly advised. See: https://urllib3.readthedocs.io/en/1.26.x/advanced-usage.html#ssl-warnings\n",
      "  warnings.warn(\n"
     ]
    },
    {
     "name": "stdout",
     "output_type": "stream",
     "text": [
      "{'type': 'Feature', 'id': 'VNP13A2.A2023185.h08v03.002.2023201105413', 'stac_version': '1.0.0', 'stac_extensions': [], 'collection': 'VNP13A2.v002', 'geometry': {'type': 'Polygon', 'coordinates': [[[-173.5174, 46.8804], [-140.0527, 49.782], [-136.7871, 63.1801], [177.1722, 59.213], [-173.5174, 46.8804]]]}, 'bbox': [177.1722, 46.8804, -136.7871, 63.695463], 'links': [{'rel': 'self', 'href': 'https://cmr.earthdata.nasa.gov/stac/LPCLOUD/collections/VNP13A2.v002/items/VNP13A2.A2023185.h08v03.002.2023201105413'}, {'rel': 'parent', 'href': 'https://cmr.earthdata.nasa.gov/stac/LPCLOUD/collections/VNP13A2.v002'}, {'rel': 'collection', 'href': 'https://cmr.earthdata.nasa.gov/stac/LPCLOUD/collections/VNP13A2.v002'}, {'rel': 'root', 'href': 'https://cmr.earthdata.nasa.gov/stac/'}, {'rel': 'provider', 'href': 'https://cmr.earthdata.nasa.gov/stac/LPCLOUD'}, {'rel': 'via', 'href': 'https://cmr.earthdata.nasa.gov/search/concepts/G2736260654-LPCLOUD.json'}, {'rel': 'via', 'href': 'https://cmr.earthdata.nasa.gov/search/concepts/G2736260654-LPCLOUD.umm_json'}], 'properties': {'datetime': '2023-07-04T00:00:00.000Z', 'start_datetime': '2023-07-04T00:00:00.000Z', 'end_datetime': '2023-07-19T23:59:59.000Z'}, 'assets': {'data': {'href': 'https://data.lpdaac.earthdatacloud.nasa.gov/lp-prod-protected/VNP13A2.002/VNP13A2.A2023185.h08v03.002.2023201105413/VNP13A2.A2023185.h08v03.002.2023201105413.h5', 'title': 'Download VNP13A2.A2023185.h08v03.002.2023201105413.h5'}, 'browse': {'href': 'https://data.lpdaac.earthdatacloud.nasa.gov/lp-prod-public/VNP13A2.002/VNP13A2.A2023185.h08v03.002.2023201105413/BROWSE.VNP13A2.A2023185.h08v03.002.2023201105413.1.jpg', 'type': 'image/jpeg', 'title': 'Download BROWSE.VNP13A2.A2023185.h08v03.002.2023201105413.1.jpg'}, 'opendap': {'href': 'https://opendap.earthdata.nasa.gov/collections/C2519127613-LPCLOUD/granules/VNP13A2.A2023185.h08v03.002.2023201105413', 'title': 'OPeNDAP request URL (GET DATA : OPENDAP DATA)'}, 'metadata': {'href': 'https://cmr.earthdata.nasa.gov/search/concepts/G2736260654-LPCLOUD.xml', 'type': 'application/xml'}}}\n"
     ]
    },
    {
     "name": "stderr",
     "output_type": "stream",
     "text": [
      "c:\\Users\\cinfante\\OneDrive - NRCan RNCan\\Documents\\Greenup\\NASA-LPDAAC-Testing\\venv\\Lib\\site-packages\\urllib3\\connectionpool.py:1056: InsecureRequestWarning: Unverified HTTPS request is being made to host 'data.lpdaac.earthdatacloud.nasa.gov'. Adding certificate verification is strongly advised. See: https://urllib3.readthedocs.io/en/1.26.x/advanced-usage.html#ssl-warnings\n",
      "  warnings.warn(\n",
      "c:\\Users\\cinfante\\OneDrive - NRCan RNCan\\Documents\\Greenup\\NASA-LPDAAC-Testing\\venv\\Lib\\site-packages\\urllib3\\connectionpool.py:1056: InsecureRequestWarning: Unverified HTTPS request is being made to host 'urs.earthdata.nasa.gov'. Adding certificate verification is strongly advised. See: https://urllib3.readthedocs.io/en/1.26.x/advanced-usage.html#ssl-warnings\n",
      "  warnings.warn(\n",
      "c:\\Users\\cinfante\\OneDrive - NRCan RNCan\\Documents\\Greenup\\NASA-LPDAAC-Testing\\venv\\Lib\\site-packages\\urllib3\\connectionpool.py:1056: InsecureRequestWarning: Unverified HTTPS request is being made to host 'data.lpdaac.earthdatacloud.nasa.gov'. Adding certificate verification is strongly advised. See: https://urllib3.readthedocs.io/en/1.26.x/advanced-usage.html#ssl-warnings\n",
      "  warnings.warn(\n",
      "c:\\Users\\cinfante\\OneDrive - NRCan RNCan\\Documents\\Greenup\\NASA-LPDAAC-Testing\\venv\\Lib\\site-packages\\urllib3\\connectionpool.py:1056: InsecureRequestWarning: Unverified HTTPS request is being made to host 'data.lpdaac.earthdatacloud.nasa.gov'. Adding certificate verification is strongly advised. See: https://urllib3.readthedocs.io/en/1.26.x/advanced-usage.html#ssl-warnings\n",
      "  warnings.warn(\n",
      "c:\\Users\\cinfante\\OneDrive - NRCan RNCan\\Documents\\Greenup\\NASA-LPDAAC-Testing\\venv\\Lib\\site-packages\\urllib3\\connectionpool.py:1056: InsecureRequestWarning: Unverified HTTPS request is being made to host 'd1nklfio7vscoe.cloudfront.net'. Adding certificate verification is strongly advised. See: https://urllib3.readthedocs.io/en/1.26.x/advanced-usage.html#ssl-warnings\n",
      "  warnings.warn(\n"
     ]
    },
    {
     "name": "stdout",
     "output_type": "stream",
     "text": [
      "{'type': 'Feature', 'id': 'VNP13A2.A2023185.h14v04.002.2023201105437', 'stac_version': '1.0.0', 'stac_extensions': [], 'collection': 'VNP13A2.v002', 'geometry': {'type': 'Polygon', 'coordinates': [[[-52.1199, 39.7994], [-38.9707, 39.828], [-46.5357, 50.0429], [-62.229, 50], [-52.1199, 39.7994]]]}, 'bbox': [-62.229, 39.7994, -38.9707, 50.287031], 'links': [{'rel': 'self', 'href': 'https://cmr.earthdata.nasa.gov/stac/LPCLOUD/collections/VNP13A2.v002/items/VNP13A2.A2023185.h14v04.002.2023201105437'}, {'rel': 'parent', 'href': 'https://cmr.earthdata.nasa.gov/stac/LPCLOUD/collections/VNP13A2.v002'}, {'rel': 'collection', 'href': 'https://cmr.earthdata.nasa.gov/stac/LPCLOUD/collections/VNP13A2.v002'}, {'rel': 'root', 'href': 'https://cmr.earthdata.nasa.gov/stac/'}, {'rel': 'provider', 'href': 'https://cmr.earthdata.nasa.gov/stac/LPCLOUD'}, {'rel': 'via', 'href': 'https://cmr.earthdata.nasa.gov/search/concepts/G2736260661-LPCLOUD.json'}, {'rel': 'via', 'href': 'https://cmr.earthdata.nasa.gov/search/concepts/G2736260661-LPCLOUD.umm_json'}], 'properties': {'datetime': '2023-07-04T00:00:00.000Z', 'start_datetime': '2023-07-04T00:00:00.000Z', 'end_datetime': '2023-07-19T23:59:59.000Z'}, 'assets': {'data': {'href': 'https://data.lpdaac.earthdatacloud.nasa.gov/lp-prod-protected/VNP13A2.002/VNP13A2.A2023185.h14v04.002.2023201105437/VNP13A2.A2023185.h14v04.002.2023201105437.h5', 'title': 'Download VNP13A2.A2023185.h14v04.002.2023201105437.h5'}, 'browse': {'href': 'https://data.lpdaac.earthdatacloud.nasa.gov/lp-prod-public/VNP13A2.002/VNP13A2.A2023185.h14v04.002.2023201105437/BROWSE.VNP13A2.A2023185.h14v04.002.2023201105437.1.jpg', 'type': 'image/jpeg', 'title': 'Download BROWSE.VNP13A2.A2023185.h14v04.002.2023201105437.1.jpg'}, 'opendap': {'href': 'https://opendap.earthdata.nasa.gov/collections/C2519127613-LPCLOUD/granules/VNP13A2.A2023185.h14v04.002.2023201105437', 'title': 'OPeNDAP request URL (GET DATA : OPENDAP DATA)'}, 'metadata': {'href': 'https://cmr.earthdata.nasa.gov/search/concepts/G2736260661-LPCLOUD.xml', 'type': 'application/xml'}}}\n"
     ]
    },
    {
     "name": "stderr",
     "output_type": "stream",
     "text": [
      "c:\\Users\\cinfante\\OneDrive - NRCan RNCan\\Documents\\Greenup\\NASA-LPDAAC-Testing\\venv\\Lib\\site-packages\\urllib3\\connectionpool.py:1056: InsecureRequestWarning: Unverified HTTPS request is being made to host 'data.lpdaac.earthdatacloud.nasa.gov'. Adding certificate verification is strongly advised. See: https://urllib3.readthedocs.io/en/1.26.x/advanced-usage.html#ssl-warnings\n",
      "  warnings.warn(\n",
      "c:\\Users\\cinfante\\OneDrive - NRCan RNCan\\Documents\\Greenup\\NASA-LPDAAC-Testing\\venv\\Lib\\site-packages\\urllib3\\connectionpool.py:1056: InsecureRequestWarning: Unverified HTTPS request is being made to host 'urs.earthdata.nasa.gov'. Adding certificate verification is strongly advised. See: https://urllib3.readthedocs.io/en/1.26.x/advanced-usage.html#ssl-warnings\n",
      "  warnings.warn(\n",
      "c:\\Users\\cinfante\\OneDrive - NRCan RNCan\\Documents\\Greenup\\NASA-LPDAAC-Testing\\venv\\Lib\\site-packages\\urllib3\\connectionpool.py:1056: InsecureRequestWarning: Unverified HTTPS request is being made to host 'data.lpdaac.earthdatacloud.nasa.gov'. Adding certificate verification is strongly advised. See: https://urllib3.readthedocs.io/en/1.26.x/advanced-usage.html#ssl-warnings\n",
      "  warnings.warn(\n",
      "c:\\Users\\cinfante\\OneDrive - NRCan RNCan\\Documents\\Greenup\\NASA-LPDAAC-Testing\\venv\\Lib\\site-packages\\urllib3\\connectionpool.py:1056: InsecureRequestWarning: Unverified HTTPS request is being made to host 'data.lpdaac.earthdatacloud.nasa.gov'. Adding certificate verification is strongly advised. See: https://urllib3.readthedocs.io/en/1.26.x/advanced-usage.html#ssl-warnings\n",
      "  warnings.warn(\n",
      "c:\\Users\\cinfante\\OneDrive - NRCan RNCan\\Documents\\Greenup\\NASA-LPDAAC-Testing\\venv\\Lib\\site-packages\\urllib3\\connectionpool.py:1056: InsecureRequestWarning: Unverified HTTPS request is being made to host 'd1nklfio7vscoe.cloudfront.net'. Adding certificate verification is strongly advised. See: https://urllib3.readthedocs.io/en/1.26.x/advanced-usage.html#ssl-warnings\n",
      "  warnings.warn(\n"
     ]
    },
    {
     "name": "stdout",
     "output_type": "stream",
     "text": [
      "{'type': 'Feature', 'id': 'VNP13A2.A2023185.h15v03.002.2023201105448', 'stac_version': '1.0.0', 'stac_extensions': [], 'collection': 'VNP13A2.v002', 'geometry': {'type': 'Polygon', 'coordinates': [[[-46.5118, 49.7271], [-30.908, 49.7476], [-39.9182, 60.0484], [-60.0312, 59.9975], [-46.5118, 49.7271]]]}, 'bbox': [-60.0312, 49.7271, -30.908, 60.405843], 'links': [{'rel': 'self', 'href': 'https://cmr.earthdata.nasa.gov/stac/LPCLOUD/collections/VNP13A2.v002/items/VNP13A2.A2023185.h15v03.002.2023201105448'}, {'rel': 'parent', 'href': 'https://cmr.earthdata.nasa.gov/stac/LPCLOUD/collections/VNP13A2.v002'}, {'rel': 'collection', 'href': 'https://cmr.earthdata.nasa.gov/stac/LPCLOUD/collections/VNP13A2.v002'}, {'rel': 'root', 'href': 'https://cmr.earthdata.nasa.gov/stac/'}, {'rel': 'provider', 'href': 'https://cmr.earthdata.nasa.gov/stac/LPCLOUD'}, {'rel': 'via', 'href': 'https://cmr.earthdata.nasa.gov/search/concepts/G2736267587-LPCLOUD.json'}, {'rel': 'via', 'href': 'https://cmr.earthdata.nasa.gov/search/concepts/G2736267587-LPCLOUD.umm_json'}], 'properties': {'datetime': '2023-07-04T00:00:00.000Z', 'start_datetime': '2023-07-04T00:00:00.000Z', 'end_datetime': '2023-07-19T23:59:59.000Z'}, 'assets': {'data': {'href': 'https://data.lpdaac.earthdatacloud.nasa.gov/lp-prod-protected/VNP13A2.002/VNP13A2.A2023185.h15v03.002.2023201105448/VNP13A2.A2023185.h15v03.002.2023201105448.h5', 'title': 'Download VNP13A2.A2023185.h15v03.002.2023201105448.h5'}, 'browse': {'href': 'https://data.lpdaac.earthdatacloud.nasa.gov/lp-prod-public/VNP13A2.002/VNP13A2.A2023185.h15v03.002.2023201105448/BROWSE.VNP13A2.A2023185.h15v03.002.2023201105448.1.jpg', 'type': 'image/jpeg', 'title': 'Download BROWSE.VNP13A2.A2023185.h15v03.002.2023201105448.1.jpg'}, 'opendap': {'href': 'https://opendap.earthdata.nasa.gov/collections/C2519127613-LPCLOUD/granules/VNP13A2.A2023185.h15v03.002.2023201105448', 'title': 'OPeNDAP request URL (GET DATA : OPENDAP DATA)'}, 'metadata': {'href': 'https://cmr.earthdata.nasa.gov/search/concepts/G2736267587-LPCLOUD.xml', 'type': 'application/xml'}}}\n"
     ]
    },
    {
     "name": "stderr",
     "output_type": "stream",
     "text": [
      "c:\\Users\\cinfante\\OneDrive - NRCan RNCan\\Documents\\Greenup\\NASA-LPDAAC-Testing\\venv\\Lib\\site-packages\\urllib3\\connectionpool.py:1056: InsecureRequestWarning: Unverified HTTPS request is being made to host 'data.lpdaac.earthdatacloud.nasa.gov'. Adding certificate verification is strongly advised. See: https://urllib3.readthedocs.io/en/1.26.x/advanced-usage.html#ssl-warnings\n",
      "  warnings.warn(\n",
      "c:\\Users\\cinfante\\OneDrive - NRCan RNCan\\Documents\\Greenup\\NASA-LPDAAC-Testing\\venv\\Lib\\site-packages\\urllib3\\connectionpool.py:1056: InsecureRequestWarning: Unverified HTTPS request is being made to host 'urs.earthdata.nasa.gov'. Adding certificate verification is strongly advised. See: https://urllib3.readthedocs.io/en/1.26.x/advanced-usage.html#ssl-warnings\n",
      "  warnings.warn(\n",
      "c:\\Users\\cinfante\\OneDrive - NRCan RNCan\\Documents\\Greenup\\NASA-LPDAAC-Testing\\venv\\Lib\\site-packages\\urllib3\\connectionpool.py:1056: InsecureRequestWarning: Unverified HTTPS request is being made to host 'data.lpdaac.earthdatacloud.nasa.gov'. Adding certificate verification is strongly advised. See: https://urllib3.readthedocs.io/en/1.26.x/advanced-usage.html#ssl-warnings\n",
      "  warnings.warn(\n",
      "c:\\Users\\cinfante\\OneDrive - NRCan RNCan\\Documents\\Greenup\\NASA-LPDAAC-Testing\\venv\\Lib\\site-packages\\urllib3\\connectionpool.py:1056: InsecureRequestWarning: Unverified HTTPS request is being made to host 'data.lpdaac.earthdatacloud.nasa.gov'. Adding certificate verification is strongly advised. See: https://urllib3.readthedocs.io/en/1.26.x/advanced-usage.html#ssl-warnings\n",
      "  warnings.warn(\n",
      "c:\\Users\\cinfante\\OneDrive - NRCan RNCan\\Documents\\Greenup\\NASA-LPDAAC-Testing\\venv\\Lib\\site-packages\\urllib3\\connectionpool.py:1056: InsecureRequestWarning: Unverified HTTPS request is being made to host 'd1nklfio7vscoe.cloudfront.net'. Adding certificate verification is strongly advised. See: https://urllib3.readthedocs.io/en/1.26.x/advanced-usage.html#ssl-warnings\n",
      "  warnings.warn(\n"
     ]
    },
    {
     "name": "stdout",
     "output_type": "stream",
     "text": [
      "{'type': 'Feature', 'id': 'VNP13A2.A2023185.h14v03.002.2023201105451', 'stac_version': '1.0.0', 'stac_extensions': [], 'collection': 'VNP13A2.v002', 'geometry': {'type': 'Polygon', 'coordinates': [[[-62.1851, 49.7086], [-46.4314, 49.755], [-60.0073, 60.0731], [-80.2821, 59.9771], [-62.1851, 49.7086]]]}, 'bbox': [-80.2821, 49.7086, -46.4314, 60.415241], 'links': [{'rel': 'self', 'href': 'https://cmr.earthdata.nasa.gov/stac/LPCLOUD/collections/VNP13A2.v002/items/VNP13A2.A2023185.h14v03.002.2023201105451'}, {'rel': 'parent', 'href': 'https://cmr.earthdata.nasa.gov/stac/LPCLOUD/collections/VNP13A2.v002'}, {'rel': 'collection', 'href': 'https://cmr.earthdata.nasa.gov/stac/LPCLOUD/collections/VNP13A2.v002'}, {'rel': 'root', 'href': 'https://cmr.earthdata.nasa.gov/stac/'}, {'rel': 'provider', 'href': 'https://cmr.earthdata.nasa.gov/stac/LPCLOUD'}, {'rel': 'via', 'href': 'https://cmr.earthdata.nasa.gov/search/concepts/G2736270877-LPCLOUD.json'}, {'rel': 'via', 'href': 'https://cmr.earthdata.nasa.gov/search/concepts/G2736270877-LPCLOUD.umm_json'}], 'properties': {'datetime': '2023-07-04T00:00:00.000Z', 'start_datetime': '2023-07-04T00:00:00.000Z', 'end_datetime': '2023-07-19T23:59:59.000Z'}, 'assets': {'data': {'href': 'https://data.lpdaac.earthdatacloud.nasa.gov/lp-prod-protected/VNP13A2.002/VNP13A2.A2023185.h14v03.002.2023201105451/VNP13A2.A2023185.h14v03.002.2023201105451.h5', 'title': 'Download VNP13A2.A2023185.h14v03.002.2023201105451.h5'}, 'browse': {'href': 'https://data.lpdaac.earthdatacloud.nasa.gov/lp-prod-public/VNP13A2.002/VNP13A2.A2023185.h14v03.002.2023201105451/BROWSE.VNP13A2.A2023185.h14v03.002.2023201105451.1.jpg', 'type': 'image/jpeg', 'title': 'Download BROWSE.VNP13A2.A2023185.h14v03.002.2023201105451.1.jpg'}, 'opendap': {'href': 'https://opendap.earthdata.nasa.gov/collections/C2519127613-LPCLOUD/granules/VNP13A2.A2023185.h14v03.002.2023201105451', 'title': 'OPeNDAP request URL (GET DATA : OPENDAP DATA)'}, 'metadata': {'href': 'https://cmr.earthdata.nasa.gov/search/concepts/G2736270877-LPCLOUD.xml', 'type': 'application/xml'}}}\n"
     ]
    },
    {
     "name": "stderr",
     "output_type": "stream",
     "text": [
      "c:\\Users\\cinfante\\OneDrive - NRCan RNCan\\Documents\\Greenup\\NASA-LPDAAC-Testing\\venv\\Lib\\site-packages\\urllib3\\connectionpool.py:1056: InsecureRequestWarning: Unverified HTTPS request is being made to host 'data.lpdaac.earthdatacloud.nasa.gov'. Adding certificate verification is strongly advised. See: https://urllib3.readthedocs.io/en/1.26.x/advanced-usage.html#ssl-warnings\n",
      "  warnings.warn(\n",
      "c:\\Users\\cinfante\\OneDrive - NRCan RNCan\\Documents\\Greenup\\NASA-LPDAAC-Testing\\venv\\Lib\\site-packages\\urllib3\\connectionpool.py:1056: InsecureRequestWarning: Unverified HTTPS request is being made to host 'urs.earthdata.nasa.gov'. Adding certificate verification is strongly advised. See: https://urllib3.readthedocs.io/en/1.26.x/advanced-usage.html#ssl-warnings\n",
      "  warnings.warn(\n",
      "c:\\Users\\cinfante\\OneDrive - NRCan RNCan\\Documents\\Greenup\\NASA-LPDAAC-Testing\\venv\\Lib\\site-packages\\urllib3\\connectionpool.py:1056: InsecureRequestWarning: Unverified HTTPS request is being made to host 'data.lpdaac.earthdatacloud.nasa.gov'. Adding certificate verification is strongly advised. See: https://urllib3.readthedocs.io/en/1.26.x/advanced-usage.html#ssl-warnings\n",
      "  warnings.warn(\n",
      "c:\\Users\\cinfante\\OneDrive - NRCan RNCan\\Documents\\Greenup\\NASA-LPDAAC-Testing\\venv\\Lib\\site-packages\\urllib3\\connectionpool.py:1056: InsecureRequestWarning: Unverified HTTPS request is being made to host 'data.lpdaac.earthdatacloud.nasa.gov'. Adding certificate verification is strongly advised. See: https://urllib3.readthedocs.io/en/1.26.x/advanced-usage.html#ssl-warnings\n",
      "  warnings.warn(\n",
      "c:\\Users\\cinfante\\OneDrive - NRCan RNCan\\Documents\\Greenup\\NASA-LPDAAC-Testing\\venv\\Lib\\site-packages\\urllib3\\connectionpool.py:1056: InsecureRequestWarning: Unverified HTTPS request is being made to host 'd1nklfio7vscoe.cloudfront.net'. Adding certificate verification is strongly advised. See: https://urllib3.readthedocs.io/en/1.26.x/advanced-usage.html#ssl-warnings\n",
      "  warnings.warn(\n"
     ]
    },
    {
     "name": "stdout",
     "output_type": "stream",
     "text": [
      "{'type': 'Feature', 'id': 'VNP13A2.A2023185.h10v03.002.2023201111147', 'stac_version': '1.0.0', 'stac_extensions': [], 'collection': 'VNP13A2.v002', 'geometry': {'type': 'Polygon', 'coordinates': [[[-126.123, 49.5058], [-108.5455, 49.7953], [-140.5395, 60.1347], [-165.423, 59.4392], [-126.123, 49.5058]]]}, 'bbox': [-165.423, 49.5058, -108.5455, 60.428275], 'links': [{'rel': 'self', 'href': 'https://cmr.earthdata.nasa.gov/stac/LPCLOUD/collections/VNP13A2.v002/items/VNP13A2.A2023185.h10v03.002.2023201111147'}, {'rel': 'parent', 'href': 'https://cmr.earthdata.nasa.gov/stac/LPCLOUD/collections/VNP13A2.v002'}, {'rel': 'collection', 'href': 'https://cmr.earthdata.nasa.gov/stac/LPCLOUD/collections/VNP13A2.v002'}, {'rel': 'root', 'href': 'https://cmr.earthdata.nasa.gov/stac/'}, {'rel': 'provider', 'href': 'https://cmr.earthdata.nasa.gov/stac/LPCLOUD'}, {'rel': 'via', 'href': 'https://cmr.earthdata.nasa.gov/search/concepts/G2736270930-LPCLOUD.json'}, {'rel': 'via', 'href': 'https://cmr.earthdata.nasa.gov/search/concepts/G2736270930-LPCLOUD.umm_json'}], 'properties': {'datetime': '2023-07-04T00:00:00.000Z', 'start_datetime': '2023-07-04T00:00:00.000Z', 'end_datetime': '2023-07-19T23:59:59.000Z'}, 'assets': {'data': {'href': 'https://data.lpdaac.earthdatacloud.nasa.gov/lp-prod-protected/VNP13A2.002/VNP13A2.A2023185.h10v03.002.2023201111147/VNP13A2.A2023185.h10v03.002.2023201111147.h5', 'title': 'Download VNP13A2.A2023185.h10v03.002.2023201111147.h5'}, 'browse': {'href': 'https://data.lpdaac.earthdatacloud.nasa.gov/lp-prod-public/VNP13A2.002/VNP13A2.A2023185.h10v03.002.2023201111147/BROWSE.VNP13A2.A2023185.h10v03.002.2023201111147.1.jpg', 'type': 'image/jpeg', 'title': 'Download BROWSE.VNP13A2.A2023185.h10v03.002.2023201111147.1.jpg'}, 'opendap': {'href': 'https://opendap.earthdata.nasa.gov/collections/C2519127613-LPCLOUD/granules/VNP13A2.A2023185.h10v03.002.2023201111147', 'title': 'OPeNDAP request URL (GET DATA : OPENDAP DATA)'}, 'metadata': {'href': 'https://cmr.earthdata.nasa.gov/search/concepts/G2736270930-LPCLOUD.xml', 'type': 'application/xml'}}}\n"
     ]
    },
    {
     "name": "stderr",
     "output_type": "stream",
     "text": [
      "c:\\Users\\cinfante\\OneDrive - NRCan RNCan\\Documents\\Greenup\\NASA-LPDAAC-Testing\\venv\\Lib\\site-packages\\urllib3\\connectionpool.py:1056: InsecureRequestWarning: Unverified HTTPS request is being made to host 'data.lpdaac.earthdatacloud.nasa.gov'. Adding certificate verification is strongly advised. See: https://urllib3.readthedocs.io/en/1.26.x/advanced-usage.html#ssl-warnings\n",
      "  warnings.warn(\n",
      "c:\\Users\\cinfante\\OneDrive - NRCan RNCan\\Documents\\Greenup\\NASA-LPDAAC-Testing\\venv\\Lib\\site-packages\\urllib3\\connectionpool.py:1056: InsecureRequestWarning: Unverified HTTPS request is being made to host 'urs.earthdata.nasa.gov'. Adding certificate verification is strongly advised. See: https://urllib3.readthedocs.io/en/1.26.x/advanced-usage.html#ssl-warnings\n",
      "  warnings.warn(\n",
      "c:\\Users\\cinfante\\OneDrive - NRCan RNCan\\Documents\\Greenup\\NASA-LPDAAC-Testing\\venv\\Lib\\site-packages\\urllib3\\connectionpool.py:1056: InsecureRequestWarning: Unverified HTTPS request is being made to host 'data.lpdaac.earthdatacloud.nasa.gov'. Adding certificate verification is strongly advised. See: https://urllib3.readthedocs.io/en/1.26.x/advanced-usage.html#ssl-warnings\n",
      "  warnings.warn(\n",
      "c:\\Users\\cinfante\\OneDrive - NRCan RNCan\\Documents\\Greenup\\NASA-LPDAAC-Testing\\venv\\Lib\\site-packages\\urllib3\\connectionpool.py:1056: InsecureRequestWarning: Unverified HTTPS request is being made to host 'data.lpdaac.earthdatacloud.nasa.gov'. Adding certificate verification is strongly advised. See: https://urllib3.readthedocs.io/en/1.26.x/advanced-usage.html#ssl-warnings\n",
      "  warnings.warn(\n",
      "c:\\Users\\cinfante\\OneDrive - NRCan RNCan\\Documents\\Greenup\\NASA-LPDAAC-Testing\\venv\\Lib\\site-packages\\urllib3\\connectionpool.py:1056: InsecureRequestWarning: Unverified HTTPS request is being made to host 'd1nklfio7vscoe.cloudfront.net'. Adding certificate verification is strongly advised. See: https://urllib3.readthedocs.io/en/1.26.x/advanced-usage.html#ssl-warnings\n",
      "  warnings.warn(\n"
     ]
    },
    {
     "name": "stdout",
     "output_type": "stream",
     "text": [
      "{'type': 'Feature', 'id': 'VNP13A2.A2023185.h09v03.002.2023201112210', 'stac_version': '1.0.0', 'stac_extensions': [], 'collection': 'VNP13A2.v002', 'geometry': {'type': 'Polygon', 'coordinates': [[[-142.3641, 49.415], [-124.1121, 49.8103], [-161.119, 60.1621], [170.8904, 58.9203], [-142.3641, 49.415]]]}, 'bbox': [170.8904, 49.415, -124.1121, 60.422617], 'links': [{'rel': 'self', 'href': 'https://cmr.earthdata.nasa.gov/stac/LPCLOUD/collections/VNP13A2.v002/items/VNP13A2.A2023185.h09v03.002.2023201112210'}, {'rel': 'parent', 'href': 'https://cmr.earthdata.nasa.gov/stac/LPCLOUD/collections/VNP13A2.v002'}, {'rel': 'collection', 'href': 'https://cmr.earthdata.nasa.gov/stac/LPCLOUD/collections/VNP13A2.v002'}, {'rel': 'root', 'href': 'https://cmr.earthdata.nasa.gov/stac/'}, {'rel': 'provider', 'href': 'https://cmr.earthdata.nasa.gov/stac/LPCLOUD'}, {'rel': 'via', 'href': 'https://cmr.earthdata.nasa.gov/search/concepts/G2736272595-LPCLOUD.json'}, {'rel': 'via', 'href': 'https://cmr.earthdata.nasa.gov/search/concepts/G2736272595-LPCLOUD.umm_json'}], 'properties': {'datetime': '2023-07-04T00:00:00.000Z', 'start_datetime': '2023-07-04T00:00:00.000Z', 'end_datetime': '2023-07-19T23:59:59.000Z'}, 'assets': {'data': {'href': 'https://data.lpdaac.earthdatacloud.nasa.gov/lp-prod-protected/VNP13A2.002/VNP13A2.A2023185.h09v03.002.2023201112210/VNP13A2.A2023185.h09v03.002.2023201112210.h5', 'title': 'Download VNP13A2.A2023185.h09v03.002.2023201112210.h5'}, 'browse': {'href': 'https://data.lpdaac.earthdatacloud.nasa.gov/lp-prod-public/VNP13A2.002/VNP13A2.A2023185.h09v03.002.2023201112210/BROWSE.VNP13A2.A2023185.h09v03.002.2023201112210.1.jpg', 'type': 'image/jpeg', 'title': 'Download BROWSE.VNP13A2.A2023185.h09v03.002.2023201112210.1.jpg'}, 'opendap': {'href': 'https://opendap.earthdata.nasa.gov/collections/C2519127613-LPCLOUD/granules/VNP13A2.A2023185.h09v03.002.2023201112210', 'title': 'OPeNDAP request URL (GET DATA : OPENDAP DATA)'}, 'metadata': {'href': 'https://cmr.earthdata.nasa.gov/search/concepts/G2736272595-LPCLOUD.xml', 'type': 'application/xml'}}}\n"
     ]
    },
    {
     "name": "stderr",
     "output_type": "stream",
     "text": [
      "c:\\Users\\cinfante\\OneDrive - NRCan RNCan\\Documents\\Greenup\\NASA-LPDAAC-Testing\\venv\\Lib\\site-packages\\urllib3\\connectionpool.py:1056: InsecureRequestWarning: Unverified HTTPS request is being made to host 'data.lpdaac.earthdatacloud.nasa.gov'. Adding certificate verification is strongly advised. See: https://urllib3.readthedocs.io/en/1.26.x/advanced-usage.html#ssl-warnings\n",
      "  warnings.warn(\n",
      "c:\\Users\\cinfante\\OneDrive - NRCan RNCan\\Documents\\Greenup\\NASA-LPDAAC-Testing\\venv\\Lib\\site-packages\\urllib3\\connectionpool.py:1056: InsecureRequestWarning: Unverified HTTPS request is being made to host 'urs.earthdata.nasa.gov'. Adding certificate verification is strongly advised. See: https://urllib3.readthedocs.io/en/1.26.x/advanced-usage.html#ssl-warnings\n",
      "  warnings.warn(\n",
      "c:\\Users\\cinfante\\OneDrive - NRCan RNCan\\Documents\\Greenup\\NASA-LPDAAC-Testing\\venv\\Lib\\site-packages\\urllib3\\connectionpool.py:1056: InsecureRequestWarning: Unverified HTTPS request is being made to host 'data.lpdaac.earthdatacloud.nasa.gov'. Adding certificate verification is strongly advised. See: https://urllib3.readthedocs.io/en/1.26.x/advanced-usage.html#ssl-warnings\n",
      "  warnings.warn(\n",
      "c:\\Users\\cinfante\\OneDrive - NRCan RNCan\\Documents\\Greenup\\NASA-LPDAAC-Testing\\venv\\Lib\\site-packages\\urllib3\\connectionpool.py:1056: InsecureRequestWarning: Unverified HTTPS request is being made to host 'data.lpdaac.earthdatacloud.nasa.gov'. Adding certificate verification is strongly advised. See: https://urllib3.readthedocs.io/en/1.26.x/advanced-usage.html#ssl-warnings\n",
      "  warnings.warn(\n",
      "c:\\Users\\cinfante\\OneDrive - NRCan RNCan\\Documents\\Greenup\\NASA-LPDAAC-Testing\\venv\\Lib\\site-packages\\urllib3\\connectionpool.py:1056: InsecureRequestWarning: Unverified HTTPS request is being made to host 'd1nklfio7vscoe.cloudfront.net'. Adding certificate verification is strongly advised. See: https://urllib3.readthedocs.io/en/1.26.x/advanced-usage.html#ssl-warnings\n",
      "  warnings.warn(\n"
     ]
    },
    {
     "name": "stdout",
     "output_type": "stream",
     "text": [
      "{'type': 'Feature', 'id': 'VNP13A2.A2023185.h12v03.002.2023201105447', 'stac_version': '1.0.0', 'stac_extensions': [], 'collection': 'VNP13A2.v002', 'geometry': {'type': 'Polygon', 'coordinates': [[[-93.9225, 49.636], [-77.4575, 49.7711], [-100.1838, 60.1096], [-121.6906, 59.8511], [-93.9225, 49.636]]]}, 'bbox': [-121.6906, 49.636, -77.4575, 60.427858], 'links': [{'rel': 'self', 'href': 'https://cmr.earthdata.nasa.gov/stac/LPCLOUD/collections/VNP13A2.v002/items/VNP13A2.A2023185.h12v03.002.2023201105447'}, {'rel': 'parent', 'href': 'https://cmr.earthdata.nasa.gov/stac/LPCLOUD/collections/VNP13A2.v002'}, {'rel': 'collection', 'href': 'https://cmr.earthdata.nasa.gov/stac/LPCLOUD/collections/VNP13A2.v002'}, {'rel': 'root', 'href': 'https://cmr.earthdata.nasa.gov/stac/'}, {'rel': 'provider', 'href': 'https://cmr.earthdata.nasa.gov/stac/LPCLOUD'}, {'rel': 'via', 'href': 'https://cmr.earthdata.nasa.gov/search/concepts/G2736273082-LPCLOUD.json'}, {'rel': 'via', 'href': 'https://cmr.earthdata.nasa.gov/search/concepts/G2736273082-LPCLOUD.umm_json'}], 'properties': {'datetime': '2023-07-04T00:00:00.000Z', 'start_datetime': '2023-07-04T00:00:00.000Z', 'end_datetime': '2023-07-19T23:59:59.000Z'}, 'assets': {'data': {'href': 'https://data.lpdaac.earthdatacloud.nasa.gov/lp-prod-protected/VNP13A2.002/VNP13A2.A2023185.h12v03.002.2023201105447/VNP13A2.A2023185.h12v03.002.2023201105447.h5', 'title': 'Download VNP13A2.A2023185.h12v03.002.2023201105447.h5'}, 'browse': {'href': 'https://data.lpdaac.earthdatacloud.nasa.gov/lp-prod-public/VNP13A2.002/VNP13A2.A2023185.h12v03.002.2023201105447/BROWSE.VNP13A2.A2023185.h12v03.002.2023201105447.1.jpg', 'type': 'image/jpeg', 'title': 'Download BROWSE.VNP13A2.A2023185.h12v03.002.2023201105447.1.jpg'}, 'opendap': {'href': 'https://opendap.earthdata.nasa.gov/collections/C2519127613-LPCLOUD/granules/VNP13A2.A2023185.h12v03.002.2023201105447', 'title': 'OPeNDAP request URL (GET DATA : OPENDAP DATA)'}, 'metadata': {'href': 'https://cmr.earthdata.nasa.gov/search/concepts/G2736273082-LPCLOUD.xml', 'type': 'application/xml'}}}\n"
     ]
    },
    {
     "name": "stderr",
     "output_type": "stream",
     "text": [
      "c:\\Users\\cinfante\\OneDrive - NRCan RNCan\\Documents\\Greenup\\NASA-LPDAAC-Testing\\venv\\Lib\\site-packages\\urllib3\\connectionpool.py:1056: InsecureRequestWarning: Unverified HTTPS request is being made to host 'data.lpdaac.earthdatacloud.nasa.gov'. Adding certificate verification is strongly advised. See: https://urllib3.readthedocs.io/en/1.26.x/advanced-usage.html#ssl-warnings\n",
      "  warnings.warn(\n",
      "c:\\Users\\cinfante\\OneDrive - NRCan RNCan\\Documents\\Greenup\\NASA-LPDAAC-Testing\\venv\\Lib\\site-packages\\urllib3\\connectionpool.py:1056: InsecureRequestWarning: Unverified HTTPS request is being made to host 'urs.earthdata.nasa.gov'. Adding certificate verification is strongly advised. See: https://urllib3.readthedocs.io/en/1.26.x/advanced-usage.html#ssl-warnings\n",
      "  warnings.warn(\n",
      "c:\\Users\\cinfante\\OneDrive - NRCan RNCan\\Documents\\Greenup\\NASA-LPDAAC-Testing\\venv\\Lib\\site-packages\\urllib3\\connectionpool.py:1056: InsecureRequestWarning: Unverified HTTPS request is being made to host 'data.lpdaac.earthdatacloud.nasa.gov'. Adding certificate verification is strongly advised. See: https://urllib3.readthedocs.io/en/1.26.x/advanced-usage.html#ssl-warnings\n",
      "  warnings.warn(\n",
      "c:\\Users\\cinfante\\OneDrive - NRCan RNCan\\Documents\\Greenup\\NASA-LPDAAC-Testing\\venv\\Lib\\site-packages\\urllib3\\connectionpool.py:1056: InsecureRequestWarning: Unverified HTTPS request is being made to host 'data.lpdaac.earthdatacloud.nasa.gov'. Adding certificate verification is strongly advised. See: https://urllib3.readthedocs.io/en/1.26.x/advanced-usage.html#ssl-warnings\n",
      "  warnings.warn(\n",
      "c:\\Users\\cinfante\\OneDrive - NRCan RNCan\\Documents\\Greenup\\NASA-LPDAAC-Testing\\venv\\Lib\\site-packages\\urllib3\\connectionpool.py:1056: InsecureRequestWarning: Unverified HTTPS request is being made to host 'd1nklfio7vscoe.cloudfront.net'. Adding certificate verification is strongly advised. See: https://urllib3.readthedocs.io/en/1.26.x/advanced-usage.html#ssl-warnings\n",
      "  warnings.warn(\n"
     ]
    },
    {
     "name": "stdout",
     "output_type": "stream",
     "text": [
      "{'type': 'Feature', 'id': 'VNP13A2.A2023185.h13v03.002.2023201105456', 'stac_version': '1.0.0', 'stac_extensions': [], 'collection': 'VNP13A2.v002', 'geometry': {'type': 'Polygon', 'coordinates': [[[-77.991, 49.6787], [-61.9371, 49.7621], [-80.0801, 60.0927], [-100.8, 59.9328], [-77.991, 49.6787]]]}, 'bbox': [-100.8, 49.6787, -61.9371, 60.422771], 'links': [{'rel': 'self', 'href': 'https://cmr.earthdata.nasa.gov/stac/LPCLOUD/collections/VNP13A2.v002/items/VNP13A2.A2023185.h13v03.002.2023201105456'}, {'rel': 'parent', 'href': 'https://cmr.earthdata.nasa.gov/stac/LPCLOUD/collections/VNP13A2.v002'}, {'rel': 'collection', 'href': 'https://cmr.earthdata.nasa.gov/stac/LPCLOUD/collections/VNP13A2.v002'}, {'rel': 'root', 'href': 'https://cmr.earthdata.nasa.gov/stac/'}, {'rel': 'provider', 'href': 'https://cmr.earthdata.nasa.gov/stac/LPCLOUD'}, {'rel': 'via', 'href': 'https://cmr.earthdata.nasa.gov/search/concepts/G2736273114-LPCLOUD.json'}, {'rel': 'via', 'href': 'https://cmr.earthdata.nasa.gov/search/concepts/G2736273114-LPCLOUD.umm_json'}], 'properties': {'datetime': '2023-07-04T00:00:00.000Z', 'start_datetime': '2023-07-04T00:00:00.000Z', 'end_datetime': '2023-07-19T23:59:59.000Z'}, 'assets': {'data': {'href': 'https://data.lpdaac.earthdatacloud.nasa.gov/lp-prod-protected/VNP13A2.002/VNP13A2.A2023185.h13v03.002.2023201105456/VNP13A2.A2023185.h13v03.002.2023201105456.h5', 'title': 'Download VNP13A2.A2023185.h13v03.002.2023201105456.h5'}, 'browse': {'href': 'https://data.lpdaac.earthdatacloud.nasa.gov/lp-prod-public/VNP13A2.002/VNP13A2.A2023185.h13v03.002.2023201105456/BROWSE.VNP13A2.A2023185.h13v03.002.2023201105456.1.jpg', 'type': 'image/jpeg', 'title': 'Download BROWSE.VNP13A2.A2023185.h13v03.002.2023201105456.1.jpg'}, 'opendap': {'href': 'https://opendap.earthdata.nasa.gov/collections/C2519127613-LPCLOUD/granules/VNP13A2.A2023185.h13v03.002.2023201105456', 'title': 'OPeNDAP request URL (GET DATA : OPENDAP DATA)'}, 'metadata': {'href': 'https://cmr.earthdata.nasa.gov/search/concepts/G2736273114-LPCLOUD.xml', 'type': 'application/xml'}}}\n"
     ]
    },
    {
     "name": "stderr",
     "output_type": "stream",
     "text": [
      "c:\\Users\\cinfante\\OneDrive - NRCan RNCan\\Documents\\Greenup\\NASA-LPDAAC-Testing\\venv\\Lib\\site-packages\\urllib3\\connectionpool.py:1056: InsecureRequestWarning: Unverified HTTPS request is being made to host 'data.lpdaac.earthdatacloud.nasa.gov'. Adding certificate verification is strongly advised. See: https://urllib3.readthedocs.io/en/1.26.x/advanced-usage.html#ssl-warnings\n",
      "  warnings.warn(\n",
      "c:\\Users\\cinfante\\OneDrive - NRCan RNCan\\Documents\\Greenup\\NASA-LPDAAC-Testing\\venv\\Lib\\site-packages\\urllib3\\connectionpool.py:1056: InsecureRequestWarning: Unverified HTTPS request is being made to host 'urs.earthdata.nasa.gov'. Adding certificate verification is strongly advised. See: https://urllib3.readthedocs.io/en/1.26.x/advanced-usage.html#ssl-warnings\n",
      "  warnings.warn(\n",
      "c:\\Users\\cinfante\\OneDrive - NRCan RNCan\\Documents\\Greenup\\NASA-LPDAAC-Testing\\venv\\Lib\\site-packages\\urllib3\\connectionpool.py:1056: InsecureRequestWarning: Unverified HTTPS request is being made to host 'data.lpdaac.earthdatacloud.nasa.gov'. Adding certificate verification is strongly advised. See: https://urllib3.readthedocs.io/en/1.26.x/advanced-usage.html#ssl-warnings\n",
      "  warnings.warn(\n",
      "c:\\Users\\cinfante\\OneDrive - NRCan RNCan\\Documents\\Greenup\\NASA-LPDAAC-Testing\\venv\\Lib\\site-packages\\urllib3\\connectionpool.py:1056: InsecureRequestWarning: Unverified HTTPS request is being made to host 'data.lpdaac.earthdatacloud.nasa.gov'. Adding certificate verification is strongly advised. See: https://urllib3.readthedocs.io/en/1.26.x/advanced-usage.html#ssl-warnings\n",
      "  warnings.warn(\n",
      "c:\\Users\\cinfante\\OneDrive - NRCan RNCan\\Documents\\Greenup\\NASA-LPDAAC-Testing\\venv\\Lib\\site-packages\\urllib3\\connectionpool.py:1056: InsecureRequestWarning: Unverified HTTPS request is being made to host 'd1nklfio7vscoe.cloudfront.net'. Adding certificate verification is strongly advised. See: https://urllib3.readthedocs.io/en/1.26.x/advanced-usage.html#ssl-warnings\n",
      "  warnings.warn(\n"
     ]
    },
    {
     "name": "stdout",
     "output_type": "stream",
     "text": [
      "{'type': 'Feature', 'id': 'VNP13A2.A2023185.h11v03.002.2023201105408', 'stac_version': '1.0.0', 'stac_extensions': [], 'collection': 'VNP13A2.v002', 'geometry': {'type': 'Polygon', 'coordinates': [[[-109.9708, 49.5789], [-92.9934, 49.7821], [-120.3249, 60.1231], [-143.1316, 59.7053], [-109.9708, 49.5789]]]}, 'bbox': [-143.1316, 49.5789, -92.9934, 60.429876], 'links': [{'rel': 'self', 'href': 'https://cmr.earthdata.nasa.gov/stac/LPCLOUD/collections/VNP13A2.v002/items/VNP13A2.A2023185.h11v03.002.2023201105408'}, {'rel': 'parent', 'href': 'https://cmr.earthdata.nasa.gov/stac/LPCLOUD/collections/VNP13A2.v002'}, {'rel': 'collection', 'href': 'https://cmr.earthdata.nasa.gov/stac/LPCLOUD/collections/VNP13A2.v002'}, {'rel': 'root', 'href': 'https://cmr.earthdata.nasa.gov/stac/'}, {'rel': 'provider', 'href': 'https://cmr.earthdata.nasa.gov/stac/LPCLOUD'}, {'rel': 'via', 'href': 'https://cmr.earthdata.nasa.gov/search/concepts/G2736273708-LPCLOUD.json'}, {'rel': 'via', 'href': 'https://cmr.earthdata.nasa.gov/search/concepts/G2736273708-LPCLOUD.umm_json'}], 'properties': {'datetime': '2023-07-04T00:00:00.000Z', 'start_datetime': '2023-07-04T00:00:00.000Z', 'end_datetime': '2023-07-19T23:59:59.000Z'}, 'assets': {'data': {'href': 'https://data.lpdaac.earthdatacloud.nasa.gov/lp-prod-protected/VNP13A2.002/VNP13A2.A2023185.h11v03.002.2023201105408/VNP13A2.A2023185.h11v03.002.2023201105408.h5', 'title': 'Download VNP13A2.A2023185.h11v03.002.2023201105408.h5'}, 'browse': {'href': 'https://data.lpdaac.earthdatacloud.nasa.gov/lp-prod-public/VNP13A2.002/VNP13A2.A2023185.h11v03.002.2023201105408/BROWSE.VNP13A2.A2023185.h11v03.002.2023201105408.1.jpg', 'type': 'image/jpeg', 'title': 'Download BROWSE.VNP13A2.A2023185.h11v03.002.2023201105408.1.jpg'}, 'opendap': {'href': 'https://opendap.earthdata.nasa.gov/collections/C2519127613-LPCLOUD/granules/VNP13A2.A2023185.h11v03.002.2023201105408', 'title': 'OPeNDAP request URL (GET DATA : OPENDAP DATA)'}, 'metadata': {'href': 'https://cmr.earthdata.nasa.gov/search/concepts/G2736273708-LPCLOUD.xml', 'type': 'application/xml'}}}\n"
     ]
    },
    {
     "name": "stderr",
     "output_type": "stream",
     "text": [
      "c:\\Users\\cinfante\\OneDrive - NRCan RNCan\\Documents\\Greenup\\NASA-LPDAAC-Testing\\venv\\Lib\\site-packages\\urllib3\\connectionpool.py:1056: InsecureRequestWarning: Unverified HTTPS request is being made to host 'data.lpdaac.earthdatacloud.nasa.gov'. Adding certificate verification is strongly advised. See: https://urllib3.readthedocs.io/en/1.26.x/advanced-usage.html#ssl-warnings\n",
      "  warnings.warn(\n",
      "c:\\Users\\cinfante\\OneDrive - NRCan RNCan\\Documents\\Greenup\\NASA-LPDAAC-Testing\\venv\\Lib\\site-packages\\urllib3\\connectionpool.py:1056: InsecureRequestWarning: Unverified HTTPS request is being made to host 'urs.earthdata.nasa.gov'. Adding certificate verification is strongly advised. See: https://urllib3.readthedocs.io/en/1.26.x/advanced-usage.html#ssl-warnings\n",
      "  warnings.warn(\n",
      "c:\\Users\\cinfante\\OneDrive - NRCan RNCan\\Documents\\Greenup\\NASA-LPDAAC-Testing\\venv\\Lib\\site-packages\\urllib3\\connectionpool.py:1056: InsecureRequestWarning: Unverified HTTPS request is being made to host 'data.lpdaac.earthdatacloud.nasa.gov'. Adding certificate verification is strongly advised. See: https://urllib3.readthedocs.io/en/1.26.x/advanced-usage.html#ssl-warnings\n",
      "  warnings.warn(\n",
      "c:\\Users\\cinfante\\OneDrive - NRCan RNCan\\Documents\\Greenup\\NASA-LPDAAC-Testing\\venv\\Lib\\site-packages\\urllib3\\connectionpool.py:1056: InsecureRequestWarning: Unverified HTTPS request is being made to host 'data.lpdaac.earthdatacloud.nasa.gov'. Adding certificate verification is strongly advised. See: https://urllib3.readthedocs.io/en/1.26.x/advanced-usage.html#ssl-warnings\n",
      "  warnings.warn(\n",
      "c:\\Users\\cinfante\\OneDrive - NRCan RNCan\\Documents\\Greenup\\NASA-LPDAAC-Testing\\venv\\Lib\\site-packages\\urllib3\\connectionpool.py:1056: InsecureRequestWarning: Unverified HTTPS request is being made to host 'd1nklfio7vscoe.cloudfront.net'. Adding certificate verification is strongly advised. See: https://urllib3.readthedocs.io/en/1.26.x/advanced-usage.html#ssl-warnings\n",
      "  warnings.warn(\n"
     ]
    },
    {
     "name": "stdout",
     "output_type": "stream",
     "text": [
      "{'type': 'Feature', 'id': 'VNP13A2.A2023185.h10v02.002.2023201115854', 'stac_version': '1.0.0', 'stac_extensions': [], 'collection': 'VNP13A2.v002', 'geometry': {'type': 'Polygon', 'coordinates': [[[-174.4879, 57.5583], [-140.11, 59.6453], [-135.9269, 69.2114], [176.5451, 66.3568], [-174.4879, 57.5583]]]}, 'bbox': [176.5451, 57.5583, -135.9269, 69.826612], 'links': [{'rel': 'self', 'href': 'https://cmr.earthdata.nasa.gov/stac/LPCLOUD/collections/VNP13A2.v002/items/VNP13A2.A2023185.h10v02.002.2023201115854'}, {'rel': 'parent', 'href': 'https://cmr.earthdata.nasa.gov/stac/LPCLOUD/collections/VNP13A2.v002'}, {'rel': 'collection', 'href': 'https://cmr.earthdata.nasa.gov/stac/LPCLOUD/collections/VNP13A2.v002'}, {'rel': 'root', 'href': 'https://cmr.earthdata.nasa.gov/stac/'}, {'rel': 'provider', 'href': 'https://cmr.earthdata.nasa.gov/stac/LPCLOUD'}, {'rel': 'via', 'href': 'https://cmr.earthdata.nasa.gov/search/concepts/G2736293566-LPCLOUD.json'}, {'rel': 'via', 'href': 'https://cmr.earthdata.nasa.gov/search/concepts/G2736293566-LPCLOUD.umm_json'}], 'properties': {'datetime': '2023-07-04T00:00:00.000Z', 'start_datetime': '2023-07-04T00:00:00.000Z', 'end_datetime': '2023-07-19T23:59:59.000Z'}, 'assets': {'data': {'href': 'https://data.lpdaac.earthdatacloud.nasa.gov/lp-prod-protected/VNP13A2.002/VNP13A2.A2023185.h10v02.002.2023201115854/VNP13A2.A2023185.h10v02.002.2023201115854.h5', 'title': 'Download VNP13A2.A2023185.h10v02.002.2023201115854.h5'}, 'browse': {'href': 'https://data.lpdaac.earthdatacloud.nasa.gov/lp-prod-public/VNP13A2.002/VNP13A2.A2023185.h10v02.002.2023201115854/BROWSE.VNP13A2.A2023185.h10v02.002.2023201115854.1.jpg', 'type': 'image/jpeg', 'title': 'Download BROWSE.VNP13A2.A2023185.h10v02.002.2023201115854.1.jpg'}, 'opendap': {'href': 'https://opendap.earthdata.nasa.gov/collections/C2519127613-LPCLOUD/granules/VNP13A2.A2023185.h10v02.002.2023201115854', 'title': 'OPeNDAP request URL (GET DATA : OPENDAP DATA)'}, 'metadata': {'href': 'https://cmr.earthdata.nasa.gov/search/concepts/G2736293566-LPCLOUD.xml', 'type': 'application/xml'}}}\n"
     ]
    },
    {
     "name": "stderr",
     "output_type": "stream",
     "text": [
      "c:\\Users\\cinfante\\OneDrive - NRCan RNCan\\Documents\\Greenup\\NASA-LPDAAC-Testing\\venv\\Lib\\site-packages\\urllib3\\connectionpool.py:1056: InsecureRequestWarning: Unverified HTTPS request is being made to host 'data.lpdaac.earthdatacloud.nasa.gov'. Adding certificate verification is strongly advised. See: https://urllib3.readthedocs.io/en/1.26.x/advanced-usage.html#ssl-warnings\n",
      "  warnings.warn(\n",
      "c:\\Users\\cinfante\\OneDrive - NRCan RNCan\\Documents\\Greenup\\NASA-LPDAAC-Testing\\venv\\Lib\\site-packages\\urllib3\\connectionpool.py:1056: InsecureRequestWarning: Unverified HTTPS request is being made to host 'urs.earthdata.nasa.gov'. Adding certificate verification is strongly advised. See: https://urllib3.readthedocs.io/en/1.26.x/advanced-usage.html#ssl-warnings\n",
      "  warnings.warn(\n",
      "c:\\Users\\cinfante\\OneDrive - NRCan RNCan\\Documents\\Greenup\\NASA-LPDAAC-Testing\\venv\\Lib\\site-packages\\urllib3\\connectionpool.py:1056: InsecureRequestWarning: Unverified HTTPS request is being made to host 'data.lpdaac.earthdatacloud.nasa.gov'. Adding certificate verification is strongly advised. See: https://urllib3.readthedocs.io/en/1.26.x/advanced-usage.html#ssl-warnings\n",
      "  warnings.warn(\n",
      "c:\\Users\\cinfante\\OneDrive - NRCan RNCan\\Documents\\Greenup\\NASA-LPDAAC-Testing\\venv\\Lib\\site-packages\\urllib3\\connectionpool.py:1056: InsecureRequestWarning: Unverified HTTPS request is being made to host 'data.lpdaac.earthdatacloud.nasa.gov'. Adding certificate verification is strongly advised. See: https://urllib3.readthedocs.io/en/1.26.x/advanced-usage.html#ssl-warnings\n",
      "  warnings.warn(\n",
      "c:\\Users\\cinfante\\OneDrive - NRCan RNCan\\Documents\\Greenup\\NASA-LPDAAC-Testing\\venv\\Lib\\site-packages\\urllib3\\connectionpool.py:1056: InsecureRequestWarning: Unverified HTTPS request is being made to host 'd1nklfio7vscoe.cloudfront.net'. Adding certificate verification is strongly advised. See: https://urllib3.readthedocs.io/en/1.26.x/advanced-usage.html#ssl-warnings\n",
      "  warnings.warn(\n"
     ]
    },
    {
     "name": "stdout",
     "output_type": "stream",
     "text": [
      "{'type': 'Feature', 'id': 'VNP13A2.A2023185.h13v01.002.2023201114911', 'stac_version': '1.0.0', 'stac_extensions': [], 'collection': 'VNP13A2.v002', 'geometry': {'type': 'Polygon', 'coordinates': [[[-163.4318, 66.7496], [-117.3504, 69.4396], [-102.0255, 79.9986], [173.6217, 75.3388], [-163.4318, 66.7496]]]}, 'bbox': [173.6217, 66.7496, -102.0255, 81.320754], 'links': [{'rel': 'self', 'href': 'https://cmr.earthdata.nasa.gov/stac/LPCLOUD/collections/VNP13A2.v002/items/VNP13A2.A2023185.h13v01.002.2023201114911'}, {'rel': 'parent', 'href': 'https://cmr.earthdata.nasa.gov/stac/LPCLOUD/collections/VNP13A2.v002'}, {'rel': 'collection', 'href': 'https://cmr.earthdata.nasa.gov/stac/LPCLOUD/collections/VNP13A2.v002'}, {'rel': 'root', 'href': 'https://cmr.earthdata.nasa.gov/stac/'}, {'rel': 'provider', 'href': 'https://cmr.earthdata.nasa.gov/stac/LPCLOUD'}, {'rel': 'via', 'href': 'https://cmr.earthdata.nasa.gov/search/concepts/G2736297370-LPCLOUD.json'}, {'rel': 'via', 'href': 'https://cmr.earthdata.nasa.gov/search/concepts/G2736297370-LPCLOUD.umm_json'}], 'properties': {'datetime': '2023-07-04T00:00:00.000Z', 'start_datetime': '2023-07-04T00:00:00.000Z', 'end_datetime': '2023-07-19T23:59:59.000Z'}, 'assets': {'data': {'href': 'https://data.lpdaac.earthdatacloud.nasa.gov/lp-prod-protected/VNP13A2.002/VNP13A2.A2023185.h13v01.002.2023201114911/VNP13A2.A2023185.h13v01.002.2023201114911.h5', 'title': 'Download VNP13A2.A2023185.h13v01.002.2023201114911.h5'}, 'browse': {'href': 'https://data.lpdaac.earthdatacloud.nasa.gov/lp-prod-public/VNP13A2.002/VNP13A2.A2023185.h13v01.002.2023201114911/BROWSE.VNP13A2.A2023185.h13v01.002.2023201114911.1.jpg', 'type': 'image/jpeg', 'title': 'Download BROWSE.VNP13A2.A2023185.h13v01.002.2023201114911.1.jpg'}, 'opendap': {'href': 'https://opendap.earthdata.nasa.gov/collections/C2519127613-LPCLOUD/granules/VNP13A2.A2023185.h13v01.002.2023201114911', 'title': 'OPeNDAP request URL (GET DATA : OPENDAP DATA)'}, 'metadata': {'href': 'https://cmr.earthdata.nasa.gov/search/concepts/G2736297370-LPCLOUD.xml', 'type': 'application/xml'}}}\n"
     ]
    },
    {
     "name": "stderr",
     "output_type": "stream",
     "text": [
      "c:\\Users\\cinfante\\OneDrive - NRCan RNCan\\Documents\\Greenup\\NASA-LPDAAC-Testing\\venv\\Lib\\site-packages\\urllib3\\connectionpool.py:1056: InsecureRequestWarning: Unverified HTTPS request is being made to host 'data.lpdaac.earthdatacloud.nasa.gov'. Adding certificate verification is strongly advised. See: https://urllib3.readthedocs.io/en/1.26.x/advanced-usage.html#ssl-warnings\n",
      "  warnings.warn(\n",
      "c:\\Users\\cinfante\\OneDrive - NRCan RNCan\\Documents\\Greenup\\NASA-LPDAAC-Testing\\venv\\Lib\\site-packages\\urllib3\\connectionpool.py:1056: InsecureRequestWarning: Unverified HTTPS request is being made to host 'urs.earthdata.nasa.gov'. Adding certificate verification is strongly advised. See: https://urllib3.readthedocs.io/en/1.26.x/advanced-usage.html#ssl-warnings\n",
      "  warnings.warn(\n",
      "c:\\Users\\cinfante\\OneDrive - NRCan RNCan\\Documents\\Greenup\\NASA-LPDAAC-Testing\\venv\\Lib\\site-packages\\urllib3\\connectionpool.py:1056: InsecureRequestWarning: Unverified HTTPS request is being made to host 'data.lpdaac.earthdatacloud.nasa.gov'. Adding certificate verification is strongly advised. See: https://urllib3.readthedocs.io/en/1.26.x/advanced-usage.html#ssl-warnings\n",
      "  warnings.warn(\n",
      "c:\\Users\\cinfante\\OneDrive - NRCan RNCan\\Documents\\Greenup\\NASA-LPDAAC-Testing\\venv\\Lib\\site-packages\\urllib3\\connectionpool.py:1056: InsecureRequestWarning: Unverified HTTPS request is being made to host 'data.lpdaac.earthdatacloud.nasa.gov'. Adding certificate verification is strongly advised. See: https://urllib3.readthedocs.io/en/1.26.x/advanced-usage.html#ssl-warnings\n",
      "  warnings.warn(\n",
      "c:\\Users\\cinfante\\OneDrive - NRCan RNCan\\Documents\\Greenup\\NASA-LPDAAC-Testing\\venv\\Lib\\site-packages\\urllib3\\connectionpool.py:1056: InsecureRequestWarning: Unverified HTTPS request is being made to host 'd1nklfio7vscoe.cloudfront.net'. Adding certificate verification is strongly advised. See: https://urllib3.readthedocs.io/en/1.26.x/advanced-usage.html#ssl-warnings\n",
      "  warnings.warn(\n"
     ]
    },
    {
     "name": "stdout",
     "output_type": "stream",
     "text": [
      "{'type': 'Feature', 'id': 'VNP13A2.A2023185.h15v02.002.2023201113201', 'stac_version': '1.0.0', 'stac_extensions': [], 'collection': 'VNP13A2.v002', 'geometry': {'type': 'Polygon', 'coordinates': [[[-60.407, 59.5498], [-39.5675, 59.6202], [-58.5353, 70.0823], [-89.302, 69.8544], [-60.407, 59.5498]]]}, 'bbox': [-89.302, 59.5498, -39.5675, 70.636847], 'links': [{'rel': 'self', 'href': 'https://cmr.earthdata.nasa.gov/stac/LPCLOUD/collections/VNP13A2.v002/items/VNP13A2.A2023185.h15v02.002.2023201113201'}, {'rel': 'parent', 'href': 'https://cmr.earthdata.nasa.gov/stac/LPCLOUD/collections/VNP13A2.v002'}, {'rel': 'collection', 'href': 'https://cmr.earthdata.nasa.gov/stac/LPCLOUD/collections/VNP13A2.v002'}, {'rel': 'root', 'href': 'https://cmr.earthdata.nasa.gov/stac/'}, {'rel': 'provider', 'href': 'https://cmr.earthdata.nasa.gov/stac/LPCLOUD'}, {'rel': 'via', 'href': 'https://cmr.earthdata.nasa.gov/search/concepts/G2736298778-LPCLOUD.json'}, {'rel': 'via', 'href': 'https://cmr.earthdata.nasa.gov/search/concepts/G2736298778-LPCLOUD.umm_json'}], 'properties': {'datetime': '2023-07-04T00:00:00.000Z', 'start_datetime': '2023-07-04T00:00:00.000Z', 'end_datetime': '2023-07-19T23:59:59.000Z'}, 'assets': {'data': {'href': 'https://data.lpdaac.earthdatacloud.nasa.gov/lp-prod-protected/VNP13A2.002/VNP13A2.A2023185.h15v02.002.2023201113201/VNP13A2.A2023185.h15v02.002.2023201113201.h5', 'title': 'Download VNP13A2.A2023185.h15v02.002.2023201113201.h5'}, 'browse': {'href': 'https://data.lpdaac.earthdatacloud.nasa.gov/lp-prod-public/VNP13A2.002/VNP13A2.A2023185.h15v02.002.2023201113201/BROWSE.VNP13A2.A2023185.h15v02.002.2023201113201.1.jpg', 'type': 'image/jpeg', 'title': 'Download BROWSE.VNP13A2.A2023185.h15v02.002.2023201113201.1.jpg'}, 'opendap': {'href': 'https://opendap.earthdata.nasa.gov/collections/C2519127613-LPCLOUD/granules/VNP13A2.A2023185.h15v02.002.2023201113201', 'title': 'OPeNDAP request URL (GET DATA : OPENDAP DATA)'}, 'metadata': {'href': 'https://cmr.earthdata.nasa.gov/search/concepts/G2736298778-LPCLOUD.xml', 'type': 'application/xml'}}}\n"
     ]
    },
    {
     "name": "stderr",
     "output_type": "stream",
     "text": [
      "c:\\Users\\cinfante\\OneDrive - NRCan RNCan\\Documents\\Greenup\\NASA-LPDAAC-Testing\\venv\\Lib\\site-packages\\urllib3\\connectionpool.py:1056: InsecureRequestWarning: Unverified HTTPS request is being made to host 'data.lpdaac.earthdatacloud.nasa.gov'. Adding certificate verification is strongly advised. See: https://urllib3.readthedocs.io/en/1.26.x/advanced-usage.html#ssl-warnings\n",
      "  warnings.warn(\n",
      "c:\\Users\\cinfante\\OneDrive - NRCan RNCan\\Documents\\Greenup\\NASA-LPDAAC-Testing\\venv\\Lib\\site-packages\\urllib3\\connectionpool.py:1056: InsecureRequestWarning: Unverified HTTPS request is being made to host 'urs.earthdata.nasa.gov'. Adding certificate verification is strongly advised. See: https://urllib3.readthedocs.io/en/1.26.x/advanced-usage.html#ssl-warnings\n",
      "  warnings.warn(\n",
      "c:\\Users\\cinfante\\OneDrive - NRCan RNCan\\Documents\\Greenup\\NASA-LPDAAC-Testing\\venv\\Lib\\site-packages\\urllib3\\connectionpool.py:1056: InsecureRequestWarning: Unverified HTTPS request is being made to host 'data.lpdaac.earthdatacloud.nasa.gov'. Adding certificate verification is strongly advised. See: https://urllib3.readthedocs.io/en/1.26.x/advanced-usage.html#ssl-warnings\n",
      "  warnings.warn(\n",
      "c:\\Users\\cinfante\\OneDrive - NRCan RNCan\\Documents\\Greenup\\NASA-LPDAAC-Testing\\venv\\Lib\\site-packages\\urllib3\\connectionpool.py:1056: InsecureRequestWarning: Unverified HTTPS request is being made to host 'data.lpdaac.earthdatacloud.nasa.gov'. Adding certificate verification is strongly advised. See: https://urllib3.readthedocs.io/en/1.26.x/advanced-usage.html#ssl-warnings\n",
      "  warnings.warn(\n",
      "c:\\Users\\cinfante\\OneDrive - NRCan RNCan\\Documents\\Greenup\\NASA-LPDAAC-Testing\\venv\\Lib\\site-packages\\urllib3\\connectionpool.py:1056: InsecureRequestWarning: Unverified HTTPS request is being made to host 'd1nklfio7vscoe.cloudfront.net'. Adding certificate verification is strongly advised. See: https://urllib3.readthedocs.io/en/1.26.x/advanced-usage.html#ssl-warnings\n",
      "  warnings.warn(\n"
     ]
    },
    {
     "name": "stdout",
     "output_type": "stream",
     "text": [
      "{'type': 'Feature', 'id': 'VNP13A2.A2023185.h16v02.002.2023201115923', 'stac_version': '1.0.0', 'stac_extensions': [], 'collection': 'VNP13A2.v002', 'geometry': {'type': 'Polygon', 'coordinates': [[[-39.8727, 59.6087], [-19.7527, 59.6195], [-29.17, 70.0475], [-58.8, 69.9719], [-39.8727, 59.6087]]]}, 'bbox': [-58.8, 59.6087, -19.7527, 70.624586], 'links': [{'rel': 'self', 'href': 'https://cmr.earthdata.nasa.gov/stac/LPCLOUD/collections/VNP13A2.v002/items/VNP13A2.A2023185.h16v02.002.2023201115923'}, {'rel': 'parent', 'href': 'https://cmr.earthdata.nasa.gov/stac/LPCLOUD/collections/VNP13A2.v002'}, {'rel': 'collection', 'href': 'https://cmr.earthdata.nasa.gov/stac/LPCLOUD/collections/VNP13A2.v002'}, {'rel': 'root', 'href': 'https://cmr.earthdata.nasa.gov/stac/'}, {'rel': 'provider', 'href': 'https://cmr.earthdata.nasa.gov/stac/LPCLOUD'}, {'rel': 'via', 'href': 'https://cmr.earthdata.nasa.gov/search/concepts/G2736299008-LPCLOUD.json'}, {'rel': 'via', 'href': 'https://cmr.earthdata.nasa.gov/search/concepts/G2736299008-LPCLOUD.umm_json'}], 'properties': {'datetime': '2023-07-04T00:00:00.000Z', 'start_datetime': '2023-07-04T00:00:00.000Z', 'end_datetime': '2023-07-19T23:59:59.000Z'}, 'assets': {'data': {'href': 'https://data.lpdaac.earthdatacloud.nasa.gov/lp-prod-protected/VNP13A2.002/VNP13A2.A2023185.h16v02.002.2023201115923/VNP13A2.A2023185.h16v02.002.2023201115923.h5', 'title': 'Download VNP13A2.A2023185.h16v02.002.2023201115923.h5'}, 'browse': {'href': 'https://data.lpdaac.earthdatacloud.nasa.gov/lp-prod-public/VNP13A2.002/VNP13A2.A2023185.h16v02.002.2023201115923/BROWSE.VNP13A2.A2023185.h16v02.002.2023201115923.1.jpg', 'type': 'image/jpeg', 'title': 'Download BROWSE.VNP13A2.A2023185.h16v02.002.2023201115923.1.jpg'}, 'opendap': {'href': 'https://opendap.earthdata.nasa.gov/collections/C2519127613-LPCLOUD/granules/VNP13A2.A2023185.h16v02.002.2023201115923', 'title': 'OPeNDAP request URL (GET DATA : OPENDAP DATA)'}, 'metadata': {'href': 'https://cmr.earthdata.nasa.gov/search/concepts/G2736299008-LPCLOUD.xml', 'type': 'application/xml'}}}\n"
     ]
    },
    {
     "name": "stderr",
     "output_type": "stream",
     "text": [
      "c:\\Users\\cinfante\\OneDrive - NRCan RNCan\\Documents\\Greenup\\NASA-LPDAAC-Testing\\venv\\Lib\\site-packages\\urllib3\\connectionpool.py:1056: InsecureRequestWarning: Unverified HTTPS request is being made to host 'data.lpdaac.earthdatacloud.nasa.gov'. Adding certificate verification is strongly advised. See: https://urllib3.readthedocs.io/en/1.26.x/advanced-usage.html#ssl-warnings\n",
      "  warnings.warn(\n",
      "c:\\Users\\cinfante\\OneDrive - NRCan RNCan\\Documents\\Greenup\\NASA-LPDAAC-Testing\\venv\\Lib\\site-packages\\urllib3\\connectionpool.py:1056: InsecureRequestWarning: Unverified HTTPS request is being made to host 'urs.earthdata.nasa.gov'. Adding certificate verification is strongly advised. See: https://urllib3.readthedocs.io/en/1.26.x/advanced-usage.html#ssl-warnings\n",
      "  warnings.warn(\n",
      "c:\\Users\\cinfante\\OneDrive - NRCan RNCan\\Documents\\Greenup\\NASA-LPDAAC-Testing\\venv\\Lib\\site-packages\\urllib3\\connectionpool.py:1056: InsecureRequestWarning: Unverified HTTPS request is being made to host 'data.lpdaac.earthdatacloud.nasa.gov'. Adding certificate verification is strongly advised. See: https://urllib3.readthedocs.io/en/1.26.x/advanced-usage.html#ssl-warnings\n",
      "  warnings.warn(\n",
      "c:\\Users\\cinfante\\OneDrive - NRCan RNCan\\Documents\\Greenup\\NASA-LPDAAC-Testing\\venv\\Lib\\site-packages\\urllib3\\connectionpool.py:1056: InsecureRequestWarning: Unverified HTTPS request is being made to host 'data.lpdaac.earthdatacloud.nasa.gov'. Adding certificate verification is strongly advised. See: https://urllib3.readthedocs.io/en/1.26.x/advanced-usage.html#ssl-warnings\n",
      "  warnings.warn(\n",
      "c:\\Users\\cinfante\\OneDrive - NRCan RNCan\\Documents\\Greenup\\NASA-LPDAAC-Testing\\venv\\Lib\\site-packages\\urllib3\\connectionpool.py:1056: InsecureRequestWarning: Unverified HTTPS request is being made to host 'd1nklfio7vscoe.cloudfront.net'. Adding certificate verification is strongly advised. See: https://urllib3.readthedocs.io/en/1.26.x/advanced-usage.html#ssl-warnings\n",
      "  warnings.warn(\n"
     ]
    },
    {
     "name": "stdout",
     "output_type": "stream",
     "text": [
      "{'type': 'Feature', 'id': 'VNP13A2.A2023185.h13v02.002.2023201115845', 'stac_version': '1.0.0', 'stac_extensions': [], 'collection': 'VNP13A2.v002', 'geometry': {'type': 'Polygon', 'coordinates': [[[-102.7576, 59.278], [-79.3848, 59.6441], [-119.2338, 70.2421], [-157.4848, 68.5832], [-102.7576, 59.278]]]}, 'bbox': [-157.4848, 59.278, -79.3848, 70.634734], 'links': [{'rel': 'self', 'href': 'https://cmr.earthdata.nasa.gov/stac/LPCLOUD/collections/VNP13A2.v002/items/VNP13A2.A2023185.h13v02.002.2023201115845'}, {'rel': 'parent', 'href': 'https://cmr.earthdata.nasa.gov/stac/LPCLOUD/collections/VNP13A2.v002'}, {'rel': 'collection', 'href': 'https://cmr.earthdata.nasa.gov/stac/LPCLOUD/collections/VNP13A2.v002'}, {'rel': 'root', 'href': 'https://cmr.earthdata.nasa.gov/stac/'}, {'rel': 'provider', 'href': 'https://cmr.earthdata.nasa.gov/stac/LPCLOUD'}, {'rel': 'via', 'href': 'https://cmr.earthdata.nasa.gov/search/concepts/G2736300178-LPCLOUD.json'}, {'rel': 'via', 'href': 'https://cmr.earthdata.nasa.gov/search/concepts/G2736300178-LPCLOUD.umm_json'}], 'properties': {'datetime': '2023-07-04T00:00:00.000Z', 'start_datetime': '2023-07-04T00:00:00.000Z', 'end_datetime': '2023-07-19T23:59:59.000Z'}, 'assets': {'data': {'href': 'https://data.lpdaac.earthdatacloud.nasa.gov/lp-prod-protected/VNP13A2.002/VNP13A2.A2023185.h13v02.002.2023201115845/VNP13A2.A2023185.h13v02.002.2023201115845.h5', 'title': 'Download VNP13A2.A2023185.h13v02.002.2023201115845.h5'}, 'browse': {'href': 'https://data.lpdaac.earthdatacloud.nasa.gov/lp-prod-public/VNP13A2.002/VNP13A2.A2023185.h13v02.002.2023201115845/BROWSE.VNP13A2.A2023185.h13v02.002.2023201115845.1.jpg', 'type': 'image/jpeg', 'title': 'Download BROWSE.VNP13A2.A2023185.h13v02.002.2023201115845.1.jpg'}, 'opendap': {'href': 'https://opendap.earthdata.nasa.gov/collections/C2519127613-LPCLOUD/granules/VNP13A2.A2023185.h13v02.002.2023201115845', 'title': 'OPeNDAP request URL (GET DATA : OPENDAP DATA)'}, 'metadata': {'href': 'https://cmr.earthdata.nasa.gov/search/concepts/G2736300178-LPCLOUD.xml', 'type': 'application/xml'}}}\n"
     ]
    },
    {
     "name": "stderr",
     "output_type": "stream",
     "text": [
      "c:\\Users\\cinfante\\OneDrive - NRCan RNCan\\Documents\\Greenup\\NASA-LPDAAC-Testing\\venv\\Lib\\site-packages\\urllib3\\connectionpool.py:1056: InsecureRequestWarning: Unverified HTTPS request is being made to host 'data.lpdaac.earthdatacloud.nasa.gov'. Adding certificate verification is strongly advised. See: https://urllib3.readthedocs.io/en/1.26.x/advanced-usage.html#ssl-warnings\n",
      "  warnings.warn(\n",
      "c:\\Users\\cinfante\\OneDrive - NRCan RNCan\\Documents\\Greenup\\NASA-LPDAAC-Testing\\venv\\Lib\\site-packages\\urllib3\\connectionpool.py:1056: InsecureRequestWarning: Unverified HTTPS request is being made to host 'urs.earthdata.nasa.gov'. Adding certificate verification is strongly advised. See: https://urllib3.readthedocs.io/en/1.26.x/advanced-usage.html#ssl-warnings\n",
      "  warnings.warn(\n",
      "c:\\Users\\cinfante\\OneDrive - NRCan RNCan\\Documents\\Greenup\\NASA-LPDAAC-Testing\\venv\\Lib\\site-packages\\urllib3\\connectionpool.py:1056: InsecureRequestWarning: Unverified HTTPS request is being made to host 'data.lpdaac.earthdatacloud.nasa.gov'. Adding certificate verification is strongly advised. See: https://urllib3.readthedocs.io/en/1.26.x/advanced-usage.html#ssl-warnings\n",
      "  warnings.warn(\n",
      "c:\\Users\\cinfante\\OneDrive - NRCan RNCan\\Documents\\Greenup\\NASA-LPDAAC-Testing\\venv\\Lib\\site-packages\\urllib3\\connectionpool.py:1056: InsecureRequestWarning: Unverified HTTPS request is being made to host 'data.lpdaac.earthdatacloud.nasa.gov'. Adding certificate verification is strongly advised. See: https://urllib3.readthedocs.io/en/1.26.x/advanced-usage.html#ssl-warnings\n",
      "  warnings.warn(\n",
      "c:\\Users\\cinfante\\OneDrive - NRCan RNCan\\Documents\\Greenup\\NASA-LPDAAC-Testing\\venv\\Lib\\site-packages\\urllib3\\connectionpool.py:1056: InsecureRequestWarning: Unverified HTTPS request is being made to host 'd1nklfio7vscoe.cloudfront.net'. Adding certificate verification is strongly advised. See: https://urllib3.readthedocs.io/en/1.26.x/advanced-usage.html#ssl-warnings\n",
      "  warnings.warn(\n"
     ]
    },
    {
     "name": "stdout",
     "output_type": "stream",
     "text": [
      "{'type': 'Feature', 'id': 'VNP13A2.A2023185.h14v02.002.2023201114930', 'stac_version': '1.0.0', 'stac_extensions': [], 'collection': 'VNP13A2.v002', 'geometry': {'type': 'Polygon', 'coordinates': [[[-81.3929, 59.4421], [-59.4418, 59.628], [-88.0593, 70.1135], [-121.5588, 69.5302], [-81.3929, 59.4421]]]}, 'bbox': [-121.5588, 59.4421, -59.4418, 70.641182], 'links': [{'rel': 'self', 'href': 'https://cmr.earthdata.nasa.gov/stac/LPCLOUD/collections/VNP13A2.v002/items/VNP13A2.A2023185.h14v02.002.2023201114930'}, {'rel': 'parent', 'href': 'https://cmr.earthdata.nasa.gov/stac/LPCLOUD/collections/VNP13A2.v002'}, {'rel': 'collection', 'href': 'https://cmr.earthdata.nasa.gov/stac/LPCLOUD/collections/VNP13A2.v002'}, {'rel': 'root', 'href': 'https://cmr.earthdata.nasa.gov/stac/'}, {'rel': 'provider', 'href': 'https://cmr.earthdata.nasa.gov/stac/LPCLOUD'}, {'rel': 'via', 'href': 'https://cmr.earthdata.nasa.gov/search/concepts/G2736300194-LPCLOUD.json'}, {'rel': 'via', 'href': 'https://cmr.earthdata.nasa.gov/search/concepts/G2736300194-LPCLOUD.umm_json'}], 'properties': {'datetime': '2023-07-04T00:00:00.000Z', 'start_datetime': '2023-07-04T00:00:00.000Z', 'end_datetime': '2023-07-19T23:59:59.000Z'}, 'assets': {'data': {'href': 'https://data.lpdaac.earthdatacloud.nasa.gov/lp-prod-protected/VNP13A2.002/VNP13A2.A2023185.h14v02.002.2023201114930/VNP13A2.A2023185.h14v02.002.2023201114930.h5', 'title': 'Download VNP13A2.A2023185.h14v02.002.2023201114930.h5'}, 'browse': {'href': 'https://data.lpdaac.earthdatacloud.nasa.gov/lp-prod-public/VNP13A2.002/VNP13A2.A2023185.h14v02.002.2023201114930/BROWSE.VNP13A2.A2023185.h14v02.002.2023201114930.1.jpg', 'type': 'image/jpeg', 'title': 'Download BROWSE.VNP13A2.A2023185.h14v02.002.2023201114930.1.jpg'}, 'opendap': {'href': 'https://opendap.earthdata.nasa.gov/collections/C2519127613-LPCLOUD/granules/VNP13A2.A2023185.h14v02.002.2023201114930', 'title': 'OPeNDAP request URL (GET DATA : OPENDAP DATA)'}, 'metadata': {'href': 'https://cmr.earthdata.nasa.gov/search/concepts/G2736300194-LPCLOUD.xml', 'type': 'application/xml'}}}\n"
     ]
    },
    {
     "name": "stderr",
     "output_type": "stream",
     "text": [
      "c:\\Users\\cinfante\\OneDrive - NRCan RNCan\\Documents\\Greenup\\NASA-LPDAAC-Testing\\venv\\Lib\\site-packages\\urllib3\\connectionpool.py:1056: InsecureRequestWarning: Unverified HTTPS request is being made to host 'data.lpdaac.earthdatacloud.nasa.gov'. Adding certificate verification is strongly advised. See: https://urllib3.readthedocs.io/en/1.26.x/advanced-usage.html#ssl-warnings\n",
      "  warnings.warn(\n",
      "c:\\Users\\cinfante\\OneDrive - NRCan RNCan\\Documents\\Greenup\\NASA-LPDAAC-Testing\\venv\\Lib\\site-packages\\urllib3\\connectionpool.py:1056: InsecureRequestWarning: Unverified HTTPS request is being made to host 'urs.earthdata.nasa.gov'. Adding certificate verification is strongly advised. See: https://urllib3.readthedocs.io/en/1.26.x/advanced-usage.html#ssl-warnings\n",
      "  warnings.warn(\n",
      "c:\\Users\\cinfante\\OneDrive - NRCan RNCan\\Documents\\Greenup\\NASA-LPDAAC-Testing\\venv\\Lib\\site-packages\\urllib3\\connectionpool.py:1056: InsecureRequestWarning: Unverified HTTPS request is being made to host 'data.lpdaac.earthdatacloud.nasa.gov'. Adding certificate verification is strongly advised. See: https://urllib3.readthedocs.io/en/1.26.x/advanced-usage.html#ssl-warnings\n",
      "  warnings.warn(\n",
      "c:\\Users\\cinfante\\OneDrive - NRCan RNCan\\Documents\\Greenup\\NASA-LPDAAC-Testing\\venv\\Lib\\site-packages\\urllib3\\connectionpool.py:1056: InsecureRequestWarning: Unverified HTTPS request is being made to host 'data.lpdaac.earthdatacloud.nasa.gov'. Adding certificate verification is strongly advised. See: https://urllib3.readthedocs.io/en/1.26.x/advanced-usage.html#ssl-warnings\n",
      "  warnings.warn(\n",
      "c:\\Users\\cinfante\\OneDrive - NRCan RNCan\\Documents\\Greenup\\NASA-LPDAAC-Testing\\venv\\Lib\\site-packages\\urllib3\\connectionpool.py:1056: InsecureRequestWarning: Unverified HTTPS request is being made to host 'd1nklfio7vscoe.cloudfront.net'. Adding certificate verification is strongly advised. See: https://urllib3.readthedocs.io/en/1.26.x/advanced-usage.html#ssl-warnings\n",
      "  warnings.warn(\n"
     ]
    },
    {
     "name": "stdout",
     "output_type": "stream",
     "text": [
      "{'type': 'Feature', 'id': 'VNP13A2.A2023185.h12v02.002.2023201115841', 'stac_version': '1.0.0', 'stac_extensions': [], 'collection': 'VNP13A2.v002', 'geometry': {'type': 'Polygon', 'coordinates': [[[-124.4071, 59.0509], [-94.8654, 59.2608], [-114.543, 67.6076], [136.0702, 56.5412], [-124.4071, 59.0509]]]}, 'bbox': [136.0702, 56.5412, -94.8654, 73.855573], 'links': [{'rel': 'self', 'href': 'https://cmr.earthdata.nasa.gov/stac/LPCLOUD/collections/VNP13A2.v002/items/VNP13A2.A2023185.h12v02.002.2023201115841'}, {'rel': 'parent', 'href': 'https://cmr.earthdata.nasa.gov/stac/LPCLOUD/collections/VNP13A2.v002'}, {'rel': 'collection', 'href': 'https://cmr.earthdata.nasa.gov/stac/LPCLOUD/collections/VNP13A2.v002'}, {'rel': 'root', 'href': 'https://cmr.earthdata.nasa.gov/stac/'}, {'rel': 'provider', 'href': 'https://cmr.earthdata.nasa.gov/stac/LPCLOUD'}, {'rel': 'via', 'href': 'https://cmr.earthdata.nasa.gov/search/concepts/G2736303352-LPCLOUD.json'}, {'rel': 'via', 'href': 'https://cmr.earthdata.nasa.gov/search/concepts/G2736303352-LPCLOUD.umm_json'}], 'properties': {'datetime': '2023-07-04T00:00:00.000Z', 'start_datetime': '2023-07-04T00:00:00.000Z', 'end_datetime': '2023-07-19T23:59:59.000Z'}, 'assets': {'data': {'href': 'https://data.lpdaac.earthdatacloud.nasa.gov/lp-prod-protected/VNP13A2.002/VNP13A2.A2023185.h12v02.002.2023201115841/VNP13A2.A2023185.h12v02.002.2023201115841.h5', 'title': 'Download VNP13A2.A2023185.h12v02.002.2023201115841.h5'}, 'browse': {'href': 'https://data.lpdaac.earthdatacloud.nasa.gov/lp-prod-public/VNP13A2.002/VNP13A2.A2023185.h12v02.002.2023201115841/BROWSE.VNP13A2.A2023185.h12v02.002.2023201115841.1.jpg', 'type': 'image/jpeg', 'title': 'Download BROWSE.VNP13A2.A2023185.h12v02.002.2023201115841.1.jpg'}, 'opendap': {'href': 'https://opendap.earthdata.nasa.gov/collections/C2519127613-LPCLOUD/granules/VNP13A2.A2023185.h12v02.002.2023201115841', 'title': 'OPeNDAP request URL (GET DATA : OPENDAP DATA)'}, 'metadata': {'href': 'https://cmr.earthdata.nasa.gov/search/concepts/G2736303352-LPCLOUD.xml', 'type': 'application/xml'}}}\n"
     ]
    },
    {
     "name": "stderr",
     "output_type": "stream",
     "text": [
      "c:\\Users\\cinfante\\OneDrive - NRCan RNCan\\Documents\\Greenup\\NASA-LPDAAC-Testing\\venv\\Lib\\site-packages\\urllib3\\connectionpool.py:1056: InsecureRequestWarning: Unverified HTTPS request is being made to host 'data.lpdaac.earthdatacloud.nasa.gov'. Adding certificate verification is strongly advised. See: https://urllib3.readthedocs.io/en/1.26.x/advanced-usage.html#ssl-warnings\n",
      "  warnings.warn(\n",
      "c:\\Users\\cinfante\\OneDrive - NRCan RNCan\\Documents\\Greenup\\NASA-LPDAAC-Testing\\venv\\Lib\\site-packages\\urllib3\\connectionpool.py:1056: InsecureRequestWarning: Unverified HTTPS request is being made to host 'urs.earthdata.nasa.gov'. Adding certificate verification is strongly advised. See: https://urllib3.readthedocs.io/en/1.26.x/advanced-usage.html#ssl-warnings\n",
      "  warnings.warn(\n",
      "c:\\Users\\cinfante\\OneDrive - NRCan RNCan\\Documents\\Greenup\\NASA-LPDAAC-Testing\\venv\\Lib\\site-packages\\urllib3\\connectionpool.py:1056: InsecureRequestWarning: Unverified HTTPS request is being made to host 'data.lpdaac.earthdatacloud.nasa.gov'. Adding certificate verification is strongly advised. See: https://urllib3.readthedocs.io/en/1.26.x/advanced-usage.html#ssl-warnings\n",
      "  warnings.warn(\n",
      "c:\\Users\\cinfante\\OneDrive - NRCan RNCan\\Documents\\Greenup\\NASA-LPDAAC-Testing\\venv\\Lib\\site-packages\\urllib3\\connectionpool.py:1056: InsecureRequestWarning: Unverified HTTPS request is being made to host 'data.lpdaac.earthdatacloud.nasa.gov'. Adding certificate verification is strongly advised. See: https://urllib3.readthedocs.io/en/1.26.x/advanced-usage.html#ssl-warnings\n",
      "  warnings.warn(\n",
      "c:\\Users\\cinfante\\OneDrive - NRCan RNCan\\Documents\\Greenup\\NASA-LPDAAC-Testing\\venv\\Lib\\site-packages\\urllib3\\connectionpool.py:1056: InsecureRequestWarning: Unverified HTTPS request is being made to host 'd1nklfio7vscoe.cloudfront.net'. Adding certificate verification is strongly advised. See: https://urllib3.readthedocs.io/en/1.26.x/advanced-usage.html#ssl-warnings\n",
      "  warnings.warn(\n"
     ]
    },
    {
     "name": "stdout",
     "output_type": "stream",
     "text": [
      "{'type': 'Feature', 'id': 'VNP13A2.A2023185.h14v01.002.2023201115919', 'stac_version': '1.0.0', 'stac_extensions': [], 'collection': 'VNP13A2.v002', 'geometry': {'type': 'Polygon', 'coordinates': [[[-135.6045, 66.3449], [-88.1026, 69.463], [-38.4639, 84.5665], [177.0719, 77.2958], [-135.6045, 66.3449]]]}, 'bbox': [177.0719, 66.3449, -38.4639, 87.681667], 'links': [{'rel': 'self', 'href': 'https://cmr.earthdata.nasa.gov/stac/LPCLOUD/collections/VNP13A2.v002/items/VNP13A2.A2023185.h14v01.002.2023201115919'}, {'rel': 'parent', 'href': 'https://cmr.earthdata.nasa.gov/stac/LPCLOUD/collections/VNP13A2.v002'}, {'rel': 'collection', 'href': 'https://cmr.earthdata.nasa.gov/stac/LPCLOUD/collections/VNP13A2.v002'}, {'rel': 'root', 'href': 'https://cmr.earthdata.nasa.gov/stac/'}, {'rel': 'provider', 'href': 'https://cmr.earthdata.nasa.gov/stac/LPCLOUD'}, {'rel': 'via', 'href': 'https://cmr.earthdata.nasa.gov/search/concepts/G2736310467-LPCLOUD.json'}, {'rel': 'via', 'href': 'https://cmr.earthdata.nasa.gov/search/concepts/G2736310467-LPCLOUD.umm_json'}], 'properties': {'datetime': '2023-07-04T00:00:00.000Z', 'start_datetime': '2023-07-04T00:00:00.000Z', 'end_datetime': '2023-07-19T23:59:59.000Z'}, 'assets': {'data': {'href': 'https://data.lpdaac.earthdatacloud.nasa.gov/lp-prod-protected/VNP13A2.002/VNP13A2.A2023185.h14v01.002.2023201115919/VNP13A2.A2023185.h14v01.002.2023201115919.h5', 'title': 'Download VNP13A2.A2023185.h14v01.002.2023201115919.h5'}, 'browse': {'href': 'https://data.lpdaac.earthdatacloud.nasa.gov/lp-prod-public/VNP13A2.002/VNP13A2.A2023185.h14v01.002.2023201115919/BROWSE.VNP13A2.A2023185.h14v01.002.2023201115919.1.jpg', 'type': 'image/jpeg', 'title': 'Download BROWSE.VNP13A2.A2023185.h14v01.002.2023201115919.1.jpg'}, 'opendap': {'href': 'https://opendap.earthdata.nasa.gov/collections/C2519127613-LPCLOUD/granules/VNP13A2.A2023185.h14v01.002.2023201115919', 'title': 'OPeNDAP request URL (GET DATA : OPENDAP DATA)'}, 'metadata': {'href': 'https://cmr.earthdata.nasa.gov/search/concepts/G2736310467-LPCLOUD.xml', 'type': 'application/xml'}}}\n"
     ]
    },
    {
     "name": "stderr",
     "output_type": "stream",
     "text": [
      "c:\\Users\\cinfante\\OneDrive - NRCan RNCan\\Documents\\Greenup\\NASA-LPDAAC-Testing\\venv\\Lib\\site-packages\\urllib3\\connectionpool.py:1056: InsecureRequestWarning: Unverified HTTPS request is being made to host 'data.lpdaac.earthdatacloud.nasa.gov'. Adding certificate verification is strongly advised. See: https://urllib3.readthedocs.io/en/1.26.x/advanced-usage.html#ssl-warnings\n",
      "  warnings.warn(\n",
      "c:\\Users\\cinfante\\OneDrive - NRCan RNCan\\Documents\\Greenup\\NASA-LPDAAC-Testing\\venv\\Lib\\site-packages\\urllib3\\connectionpool.py:1056: InsecureRequestWarning: Unverified HTTPS request is being made to host 'urs.earthdata.nasa.gov'. Adding certificate verification is strongly advised. See: https://urllib3.readthedocs.io/en/1.26.x/advanced-usage.html#ssl-warnings\n",
      "  warnings.warn(\n",
      "c:\\Users\\cinfante\\OneDrive - NRCan RNCan\\Documents\\Greenup\\NASA-LPDAAC-Testing\\venv\\Lib\\site-packages\\urllib3\\connectionpool.py:1056: InsecureRequestWarning: Unverified HTTPS request is being made to host 'data.lpdaac.earthdatacloud.nasa.gov'. Adding certificate verification is strongly advised. See: https://urllib3.readthedocs.io/en/1.26.x/advanced-usage.html#ssl-warnings\n",
      "  warnings.warn(\n",
      "c:\\Users\\cinfante\\OneDrive - NRCan RNCan\\Documents\\Greenup\\NASA-LPDAAC-Testing\\venv\\Lib\\site-packages\\urllib3\\connectionpool.py:1056: InsecureRequestWarning: Unverified HTTPS request is being made to host 'data.lpdaac.earthdatacloud.nasa.gov'. Adding certificate verification is strongly advised. See: https://urllib3.readthedocs.io/en/1.26.x/advanced-usage.html#ssl-warnings\n",
      "  warnings.warn(\n",
      "c:\\Users\\cinfante\\OneDrive - NRCan RNCan\\Documents\\Greenup\\NASA-LPDAAC-Testing\\venv\\Lib\\site-packages\\urllib3\\connectionpool.py:1056: InsecureRequestWarning: Unverified HTTPS request is being made to host 'd1nklfio7vscoe.cloudfront.net'. Adding certificate verification is strongly advised. See: https://urllib3.readthedocs.io/en/1.26.x/advanced-usage.html#ssl-warnings\n",
      "  warnings.warn(\n"
     ]
    },
    {
     "name": "stdout",
     "output_type": "stream",
     "text": [
      "{'type': 'Feature', 'id': 'VNP13A2.A2023185.h23v02.002.2023201121038', 'stac_version': '1.0.0', 'stac_extensions': [], 'collection': 'VNP13A2.v002', 'geometry': {'type': 'Polygon', 'coordinates': [[[94.8565, 59.26], [124.454, 59.045], [-136.1477, 56.6146], [114.5678, 67.6165], [94.8565, 59.26]]]}, 'bbox': [94.8565, 56.6146, -136.1477, 73.855681], 'links': [{'rel': 'self', 'href': 'https://cmr.earthdata.nasa.gov/stac/LPCLOUD/collections/VNP13A2.v002/items/VNP13A2.A2023185.h23v02.002.2023201121038'}, {'rel': 'parent', 'href': 'https://cmr.earthdata.nasa.gov/stac/LPCLOUD/collections/VNP13A2.v002'}, {'rel': 'collection', 'href': 'https://cmr.earthdata.nasa.gov/stac/LPCLOUD/collections/VNP13A2.v002'}, {'rel': 'root', 'href': 'https://cmr.earthdata.nasa.gov/stac/'}, {'rel': 'provider', 'href': 'https://cmr.earthdata.nasa.gov/stac/LPCLOUD'}, {'rel': 'via', 'href': 'https://cmr.earthdata.nasa.gov/search/concepts/G2736319954-LPCLOUD.json'}, {'rel': 'via', 'href': 'https://cmr.earthdata.nasa.gov/search/concepts/G2736319954-LPCLOUD.umm_json'}], 'properties': {'datetime': '2023-07-04T00:00:00.000Z', 'start_datetime': '2023-07-04T00:00:00.000Z', 'end_datetime': '2023-07-19T23:59:59.000Z'}, 'assets': {'data': {'href': 'https://data.lpdaac.earthdatacloud.nasa.gov/lp-prod-protected/VNP13A2.002/VNP13A2.A2023185.h23v02.002.2023201121038/VNP13A2.A2023185.h23v02.002.2023201121038.h5', 'title': 'Download VNP13A2.A2023185.h23v02.002.2023201121038.h5'}, 'browse': {'href': 'https://data.lpdaac.earthdatacloud.nasa.gov/lp-prod-public/VNP13A2.002/VNP13A2.A2023185.h23v02.002.2023201121038/BROWSE.VNP13A2.A2023185.h23v02.002.2023201121038.1.jpg', 'type': 'image/jpeg', 'title': 'Download BROWSE.VNP13A2.A2023185.h23v02.002.2023201121038.1.jpg'}, 'opendap': {'href': 'https://opendap.earthdata.nasa.gov/collections/C2519127613-LPCLOUD/granules/VNP13A2.A2023185.h23v02.002.2023201121038', 'title': 'OPeNDAP request URL (GET DATA : OPENDAP DATA)'}, 'metadata': {'href': 'https://cmr.earthdata.nasa.gov/search/concepts/G2736319954-LPCLOUD.xml', 'type': 'application/xml'}}}\n"
     ]
    },
    {
     "name": "stderr",
     "output_type": "stream",
     "text": [
      "c:\\Users\\cinfante\\OneDrive - NRCan RNCan\\Documents\\Greenup\\NASA-LPDAAC-Testing\\venv\\Lib\\site-packages\\urllib3\\connectionpool.py:1056: InsecureRequestWarning: Unverified HTTPS request is being made to host 'data.lpdaac.earthdatacloud.nasa.gov'. Adding certificate verification is strongly advised. See: https://urllib3.readthedocs.io/en/1.26.x/advanced-usage.html#ssl-warnings\n",
      "  warnings.warn(\n",
      "c:\\Users\\cinfante\\OneDrive - NRCan RNCan\\Documents\\Greenup\\NASA-LPDAAC-Testing\\venv\\Lib\\site-packages\\urllib3\\connectionpool.py:1056: InsecureRequestWarning: Unverified HTTPS request is being made to host 'urs.earthdata.nasa.gov'. Adding certificate verification is strongly advised. See: https://urllib3.readthedocs.io/en/1.26.x/advanced-usage.html#ssl-warnings\n",
      "  warnings.warn(\n",
      "c:\\Users\\cinfante\\OneDrive - NRCan RNCan\\Documents\\Greenup\\NASA-LPDAAC-Testing\\venv\\Lib\\site-packages\\urllib3\\connectionpool.py:1056: InsecureRequestWarning: Unverified HTTPS request is being made to host 'data.lpdaac.earthdatacloud.nasa.gov'. Adding certificate verification is strongly advised. See: https://urllib3.readthedocs.io/en/1.26.x/advanced-usage.html#ssl-warnings\n",
      "  warnings.warn(\n",
      "c:\\Users\\cinfante\\OneDrive - NRCan RNCan\\Documents\\Greenup\\NASA-LPDAAC-Testing\\venv\\Lib\\site-packages\\urllib3\\connectionpool.py:1056: InsecureRequestWarning: Unverified HTTPS request is being made to host 'data.lpdaac.earthdatacloud.nasa.gov'. Adding certificate verification is strongly advised. See: https://urllib3.readthedocs.io/en/1.26.x/advanced-usage.html#ssl-warnings\n",
      "  warnings.warn(\n",
      "c:\\Users\\cinfante\\OneDrive - NRCan RNCan\\Documents\\Greenup\\NASA-LPDAAC-Testing\\venv\\Lib\\site-packages\\urllib3\\connectionpool.py:1056: InsecureRequestWarning: Unverified HTTPS request is being made to host 'd1nklfio7vscoe.cloudfront.net'. Adding certificate verification is strongly advised. See: https://urllib3.readthedocs.io/en/1.26.x/advanced-usage.html#ssl-warnings\n",
      "  warnings.warn(\n"
     ]
    },
    {
     "name": "stdout",
     "output_type": "stream",
     "text": [
      "{'type': 'Feature', 'id': 'VNP13A2.A2023185.h17v01.002.2023201122406', 'stac_version': '1.0.0', 'stac_extensions': [], 'collection': 'VNP13A2.v002', 'geometry': {'type': 'Polygon', 'coordinates': [[[-29.1844, 69.3805], [0.0201, 69.395], [0.1644, 80.0269], [-58.6471, 79.8968], [-29.1844, 69.3805]]]}, 'bbox': [-58.6471, 69.3805, 0.1644, 81.234548], 'links': [{'rel': 'self', 'href': 'https://cmr.earthdata.nasa.gov/stac/LPCLOUD/collections/VNP13A2.v002/items/VNP13A2.A2023185.h17v01.002.2023201122406'}, {'rel': 'parent', 'href': 'https://cmr.earthdata.nasa.gov/stac/LPCLOUD/collections/VNP13A2.v002'}, {'rel': 'collection', 'href': 'https://cmr.earthdata.nasa.gov/stac/LPCLOUD/collections/VNP13A2.v002'}, {'rel': 'root', 'href': 'https://cmr.earthdata.nasa.gov/stac/'}, {'rel': 'provider', 'href': 'https://cmr.earthdata.nasa.gov/stac/LPCLOUD'}, {'rel': 'via', 'href': 'https://cmr.earthdata.nasa.gov/search/concepts/G2736339538-LPCLOUD.json'}, {'rel': 'via', 'href': 'https://cmr.earthdata.nasa.gov/search/concepts/G2736339538-LPCLOUD.umm_json'}], 'properties': {'datetime': '2023-07-04T00:00:00.000Z', 'start_datetime': '2023-07-04T00:00:00.000Z', 'end_datetime': '2023-07-19T23:59:59.000Z'}, 'assets': {'data': {'href': 'https://data.lpdaac.earthdatacloud.nasa.gov/lp-prod-protected/VNP13A2.002/VNP13A2.A2023185.h17v01.002.2023201122406/VNP13A2.A2023185.h17v01.002.2023201122406.h5', 'title': 'Download VNP13A2.A2023185.h17v01.002.2023201122406.h5'}, 'browse': {'href': 'https://data.lpdaac.earthdatacloud.nasa.gov/lp-prod-public/VNP13A2.002/VNP13A2.A2023185.h17v01.002.2023201122406/BROWSE.VNP13A2.A2023185.h17v01.002.2023201122406.1.jpg', 'type': 'image/jpeg', 'title': 'Download BROWSE.VNP13A2.A2023185.h17v01.002.2023201122406.1.jpg'}, 'opendap': {'href': 'https://opendap.earthdata.nasa.gov/collections/C2519127613-LPCLOUD/granules/VNP13A2.A2023185.h17v01.002.2023201122406', 'title': 'OPeNDAP request URL (GET DATA : OPENDAP DATA)'}, 'metadata': {'href': 'https://cmr.earthdata.nasa.gov/search/concepts/G2736339538-LPCLOUD.xml', 'type': 'application/xml'}}}\n"
     ]
    },
    {
     "name": "stderr",
     "output_type": "stream",
     "text": [
      "c:\\Users\\cinfante\\OneDrive - NRCan RNCan\\Documents\\Greenup\\NASA-LPDAAC-Testing\\venv\\Lib\\site-packages\\urllib3\\connectionpool.py:1056: InsecureRequestWarning: Unverified HTTPS request is being made to host 'data.lpdaac.earthdatacloud.nasa.gov'. Adding certificate verification is strongly advised. See: https://urllib3.readthedocs.io/en/1.26.x/advanced-usage.html#ssl-warnings\n",
      "  warnings.warn(\n",
      "c:\\Users\\cinfante\\OneDrive - NRCan RNCan\\Documents\\Greenup\\NASA-LPDAAC-Testing\\venv\\Lib\\site-packages\\urllib3\\connectionpool.py:1056: InsecureRequestWarning: Unverified HTTPS request is being made to host 'urs.earthdata.nasa.gov'. Adding certificate verification is strongly advised. See: https://urllib3.readthedocs.io/en/1.26.x/advanced-usage.html#ssl-warnings\n",
      "  warnings.warn(\n",
      "c:\\Users\\cinfante\\OneDrive - NRCan RNCan\\Documents\\Greenup\\NASA-LPDAAC-Testing\\venv\\Lib\\site-packages\\urllib3\\connectionpool.py:1056: InsecureRequestWarning: Unverified HTTPS request is being made to host 'data.lpdaac.earthdatacloud.nasa.gov'. Adding certificate verification is strongly advised. See: https://urllib3.readthedocs.io/en/1.26.x/advanced-usage.html#ssl-warnings\n",
      "  warnings.warn(\n",
      "c:\\Users\\cinfante\\OneDrive - NRCan RNCan\\Documents\\Greenup\\NASA-LPDAAC-Testing\\venv\\Lib\\site-packages\\urllib3\\connectionpool.py:1056: InsecureRequestWarning: Unverified HTTPS request is being made to host 'data.lpdaac.earthdatacloud.nasa.gov'. Adding certificate verification is strongly advised. See: https://urllib3.readthedocs.io/en/1.26.x/advanced-usage.html#ssl-warnings\n",
      "  warnings.warn(\n",
      "c:\\Users\\cinfante\\OneDrive - NRCan RNCan\\Documents\\Greenup\\NASA-LPDAAC-Testing\\venv\\Lib\\site-packages\\urllib3\\connectionpool.py:1056: InsecureRequestWarning: Unverified HTTPS request is being made to host 'd1nklfio7vscoe.cloudfront.net'. Adding certificate verification is strongly advised. See: https://urllib3.readthedocs.io/en/1.26.x/advanced-usage.html#ssl-warnings\n",
      "  warnings.warn(\n"
     ]
    },
    {
     "name": "stdout",
     "output_type": "stream",
     "text": [
      "{'type': 'Feature', 'id': 'VNP13A2.A2023185.h16v01.002.2023201123309', 'stac_version': '1.0.0', 'stac_extensions': [], 'collection': 'VNP13A2.v002', 'geometry': {'type': 'Polygon', 'coordinates': [[[-61.2728, 69.0785], [-28.4517, 69.3522], [-58.0961, 80.1224], [-125.3371, 78.7407], [-61.2728, 69.0785]]]}, 'bbox': [-125.3371, 69.0785, -28.4517, 81.249844], 'links': [{'rel': 'self', 'href': 'https://cmr.earthdata.nasa.gov/stac/LPCLOUD/collections/VNP13A2.v002/items/VNP13A2.A2023185.h16v01.002.2023201123309'}, {'rel': 'parent', 'href': 'https://cmr.earthdata.nasa.gov/stac/LPCLOUD/collections/VNP13A2.v002'}, {'rel': 'collection', 'href': 'https://cmr.earthdata.nasa.gov/stac/LPCLOUD/collections/VNP13A2.v002'}, {'rel': 'root', 'href': 'https://cmr.earthdata.nasa.gov/stac/'}, {'rel': 'provider', 'href': 'https://cmr.earthdata.nasa.gov/stac/LPCLOUD'}, {'rel': 'via', 'href': 'https://cmr.earthdata.nasa.gov/search/concepts/G2736344311-LPCLOUD.json'}, {'rel': 'via', 'href': 'https://cmr.earthdata.nasa.gov/search/concepts/G2736344311-LPCLOUD.umm_json'}], 'properties': {'datetime': '2023-07-04T00:00:00.000Z', 'start_datetime': '2023-07-04T00:00:00.000Z', 'end_datetime': '2023-07-19T23:59:59.000Z'}, 'assets': {'data': {'href': 'https://data.lpdaac.earthdatacloud.nasa.gov/lp-prod-protected/VNP13A2.002/VNP13A2.A2023185.h16v01.002.2023201123309/VNP13A2.A2023185.h16v01.002.2023201123309.h5', 'title': 'Download VNP13A2.A2023185.h16v01.002.2023201123309.h5'}, 'browse': {'href': 'https://data.lpdaac.earthdatacloud.nasa.gov/lp-prod-public/VNP13A2.002/VNP13A2.A2023185.h16v01.002.2023201123309/BROWSE.VNP13A2.A2023185.h16v01.002.2023201123309.1.jpg', 'type': 'image/jpeg', 'title': 'Download BROWSE.VNP13A2.A2023185.h16v01.002.2023201123309.1.jpg'}, 'opendap': {'href': 'https://opendap.earthdata.nasa.gov/collections/C2519127613-LPCLOUD/granules/VNP13A2.A2023185.h16v01.002.2023201123309', 'title': 'OPeNDAP request URL (GET DATA : OPENDAP DATA)'}, 'metadata': {'href': 'https://cmr.earthdata.nasa.gov/search/concepts/G2736344311-LPCLOUD.xml', 'type': 'application/xml'}}}\n"
     ]
    },
    {
     "name": "stderr",
     "output_type": "stream",
     "text": [
      "c:\\Users\\cinfante\\OneDrive - NRCan RNCan\\Documents\\Greenup\\NASA-LPDAAC-Testing\\venv\\Lib\\site-packages\\urllib3\\connectionpool.py:1056: InsecureRequestWarning: Unverified HTTPS request is being made to host 'data.lpdaac.earthdatacloud.nasa.gov'. Adding certificate verification is strongly advised. See: https://urllib3.readthedocs.io/en/1.26.x/advanced-usage.html#ssl-warnings\n",
      "  warnings.warn(\n",
      "c:\\Users\\cinfante\\OneDrive - NRCan RNCan\\Documents\\Greenup\\NASA-LPDAAC-Testing\\venv\\Lib\\site-packages\\urllib3\\connectionpool.py:1056: InsecureRequestWarning: Unverified HTTPS request is being made to host 'urs.earthdata.nasa.gov'. Adding certificate verification is strongly advised. See: https://urllib3.readthedocs.io/en/1.26.x/advanced-usage.html#ssl-warnings\n",
      "  warnings.warn(\n",
      "c:\\Users\\cinfante\\OneDrive - NRCan RNCan\\Documents\\Greenup\\NASA-LPDAAC-Testing\\venv\\Lib\\site-packages\\urllib3\\connectionpool.py:1056: InsecureRequestWarning: Unverified HTTPS request is being made to host 'data.lpdaac.earthdatacloud.nasa.gov'. Adding certificate verification is strongly advised. See: https://urllib3.readthedocs.io/en/1.26.x/advanced-usage.html#ssl-warnings\n",
      "  warnings.warn(\n",
      "c:\\Users\\cinfante\\OneDrive - NRCan RNCan\\Documents\\Greenup\\NASA-LPDAAC-Testing\\venv\\Lib\\site-packages\\urllib3\\connectionpool.py:1056: InsecureRequestWarning: Unverified HTTPS request is being made to host 'data.lpdaac.earthdatacloud.nasa.gov'. Adding certificate verification is strongly advised. See: https://urllib3.readthedocs.io/en/1.26.x/advanced-usage.html#ssl-warnings\n",
      "  warnings.warn(\n",
      "c:\\Users\\cinfante\\OneDrive - NRCan RNCan\\Documents\\Greenup\\NASA-LPDAAC-Testing\\venv\\Lib\\site-packages\\urllib3\\connectionpool.py:1056: InsecureRequestWarning: Unverified HTTPS request is being made to host 'd1nklfio7vscoe.cloudfront.net'. Adding certificate verification is strongly advised. See: https://urllib3.readthedocs.io/en/1.26.x/advanced-usage.html#ssl-warnings\n",
      "  warnings.warn(\n"
     ]
    },
    {
     "name": "stdout",
     "output_type": "stream",
     "text": [
      "{'type': 'Feature', 'id': 'VNP13A2.A2023185.h15v01.002.2023201122420', 'stac_version': '1.0.0', 'stac_extensions': [], 'collection': 'VNP13A2.v002', 'geometry': {'type': 'Polygon', 'coordinates': [[[-95.5862, 68.3942], [-44.0549, 67.5384], [-63.9864, 79.5317], [128.8417, 39.5722], [-95.5862, 68.3942]]]}, 'bbox': [128.8417, 39.5722, -95.5862, 87.95591], 'links': [{'rel': 'self', 'href': 'https://cmr.earthdata.nasa.gov/stac/LPCLOUD/collections/VNP13A2.v002/items/VNP13A2.A2023185.h15v01.002.2023201122420'}, {'rel': 'parent', 'href': 'https://cmr.earthdata.nasa.gov/stac/LPCLOUD/collections/VNP13A2.v002'}, {'rel': 'collection', 'href': 'https://cmr.earthdata.nasa.gov/stac/LPCLOUD/collections/VNP13A2.v002'}, {'rel': 'root', 'href': 'https://cmr.earthdata.nasa.gov/stac/'}, {'rel': 'provider', 'href': 'https://cmr.earthdata.nasa.gov/stac/LPCLOUD'}, {'rel': 'via', 'href': 'https://cmr.earthdata.nasa.gov/search/concepts/G2736346761-LPCLOUD.json'}, {'rel': 'via', 'href': 'https://cmr.earthdata.nasa.gov/search/concepts/G2736346761-LPCLOUD.umm_json'}], 'properties': {'datetime': '2023-07-04T00:00:00.000Z', 'start_datetime': '2023-07-04T00:00:00.000Z', 'end_datetime': '2023-07-19T23:59:59.000Z'}, 'assets': {'data': {'href': 'https://data.lpdaac.earthdatacloud.nasa.gov/lp-prod-protected/VNP13A2.002/VNP13A2.A2023185.h15v01.002.2023201122420/VNP13A2.A2023185.h15v01.002.2023201122420.h5', 'title': 'Download VNP13A2.A2023185.h15v01.002.2023201122420.h5'}, 'browse': {'href': 'https://data.lpdaac.earthdatacloud.nasa.gov/lp-prod-public/VNP13A2.002/VNP13A2.A2023185.h15v01.002.2023201122420/BROWSE.VNP13A2.A2023185.h15v01.002.2023201122420.1.jpg', 'type': 'image/jpeg', 'title': 'Download BROWSE.VNP13A2.A2023185.h15v01.002.2023201122420.1.jpg'}, 'opendap': {'href': 'https://opendap.earthdata.nasa.gov/collections/C2519127613-LPCLOUD/granules/VNP13A2.A2023185.h15v01.002.2023201122420', 'title': 'OPeNDAP request URL (GET DATA : OPENDAP DATA)'}, 'metadata': {'href': 'https://cmr.earthdata.nasa.gov/search/concepts/G2736346761-LPCLOUD.xml', 'type': 'application/xml'}}}\n"
     ]
    },
    {
     "name": "stderr",
     "output_type": "stream",
     "text": [
      "c:\\Users\\cinfante\\OneDrive - NRCan RNCan\\Documents\\Greenup\\NASA-LPDAAC-Testing\\venv\\Lib\\site-packages\\urllib3\\connectionpool.py:1056: InsecureRequestWarning: Unverified HTTPS request is being made to host 'data.lpdaac.earthdatacloud.nasa.gov'. Adding certificate verification is strongly advised. See: https://urllib3.readthedocs.io/en/1.26.x/advanced-usage.html#ssl-warnings\n",
      "  warnings.warn(\n",
      "c:\\Users\\cinfante\\OneDrive - NRCan RNCan\\Documents\\Greenup\\NASA-LPDAAC-Testing\\venv\\Lib\\site-packages\\urllib3\\connectionpool.py:1056: InsecureRequestWarning: Unverified HTTPS request is being made to host 'urs.earthdata.nasa.gov'. Adding certificate verification is strongly advised. See: https://urllib3.readthedocs.io/en/1.26.x/advanced-usage.html#ssl-warnings\n",
      "  warnings.warn(\n",
      "c:\\Users\\cinfante\\OneDrive - NRCan RNCan\\Documents\\Greenup\\NASA-LPDAAC-Testing\\venv\\Lib\\site-packages\\urllib3\\connectionpool.py:1056: InsecureRequestWarning: Unverified HTTPS request is being made to host 'data.lpdaac.earthdatacloud.nasa.gov'. Adding certificate verification is strongly advised. See: https://urllib3.readthedocs.io/en/1.26.x/advanced-usage.html#ssl-warnings\n",
      "  warnings.warn(\n",
      "c:\\Users\\cinfante\\OneDrive - NRCan RNCan\\Documents\\Greenup\\NASA-LPDAAC-Testing\\venv\\Lib\\site-packages\\urllib3\\connectionpool.py:1056: InsecureRequestWarning: Unverified HTTPS request is being made to host 'data.lpdaac.earthdatacloud.nasa.gov'. Adding certificate verification is strongly advised. See: https://urllib3.readthedocs.io/en/1.26.x/advanced-usage.html#ssl-warnings\n",
      "  warnings.warn(\n",
      "c:\\Users\\cinfante\\OneDrive - NRCan RNCan\\Documents\\Greenup\\NASA-LPDAAC-Testing\\venv\\Lib\\site-packages\\urllib3\\connectionpool.py:1056: InsecureRequestWarning: Unverified HTTPS request is being made to host 'd1nklfio7vscoe.cloudfront.net'. Adding certificate verification is strongly advised. See: https://urllib3.readthedocs.io/en/1.26.x/advanced-usage.html#ssl-warnings\n",
      "  warnings.warn(\n"
     ]
    },
    {
     "name": "stdout",
     "output_type": "stream",
     "text": [
      "{'type': 'Feature', 'id': 'VNP13A2.A2023185.h20v01.002.2023201124919', 'stac_version': '1.0.0', 'stac_extensions': [], 'collection': 'VNP13A2.v002', 'geometry': {'type': 'Polygon', 'coordinates': [[[44.0559, 67.5387], [95.6578, 68.3835], [-128.8568, 39.828], [63.9875, 79.533], [44.0559, 67.5387]]]}, 'bbox': [44.0559, 39.828, 44.0559, 87.956014], 'links': [{'rel': 'self', 'href': 'https://cmr.earthdata.nasa.gov/stac/LPCLOUD/collections/VNP13A2.v002/items/VNP13A2.A2023185.h20v01.002.2023201124919'}, {'rel': 'parent', 'href': 'https://cmr.earthdata.nasa.gov/stac/LPCLOUD/collections/VNP13A2.v002'}, {'rel': 'collection', 'href': 'https://cmr.earthdata.nasa.gov/stac/LPCLOUD/collections/VNP13A2.v002'}, {'rel': 'root', 'href': 'https://cmr.earthdata.nasa.gov/stac/'}, {'rel': 'provider', 'href': 'https://cmr.earthdata.nasa.gov/stac/LPCLOUD'}, {'rel': 'via', 'href': 'https://cmr.earthdata.nasa.gov/search/concepts/G2736353410-LPCLOUD.json'}, {'rel': 'via', 'href': 'https://cmr.earthdata.nasa.gov/search/concepts/G2736353410-LPCLOUD.umm_json'}], 'properties': {'datetime': '2023-07-04T00:00:00.000Z', 'start_datetime': '2023-07-04T00:00:00.000Z', 'end_datetime': '2023-07-19T23:59:59.000Z'}, 'assets': {'data': {'href': 'https://data.lpdaac.earthdatacloud.nasa.gov/lp-prod-protected/VNP13A2.002/VNP13A2.A2023185.h20v01.002.2023201124919/VNP13A2.A2023185.h20v01.002.2023201124919.h5', 'title': 'Download VNP13A2.A2023185.h20v01.002.2023201124919.h5'}, 'browse': {'href': 'https://data.lpdaac.earthdatacloud.nasa.gov/lp-prod-public/VNP13A2.002/VNP13A2.A2023185.h20v01.002.2023201124919/BROWSE.VNP13A2.A2023185.h20v01.002.2023201124919.1.jpg', 'type': 'image/jpeg', 'title': 'Download BROWSE.VNP13A2.A2023185.h20v01.002.2023201124919.1.jpg'}, 'opendap': {'href': 'https://opendap.earthdata.nasa.gov/collections/C2519127613-LPCLOUD/granules/VNP13A2.A2023185.h20v01.002.2023201124919', 'title': 'OPeNDAP request URL (GET DATA : OPENDAP DATA)'}, 'metadata': {'href': 'https://cmr.earthdata.nasa.gov/search/concepts/G2736353410-LPCLOUD.xml', 'type': 'application/xml'}}}\n"
     ]
    },
    {
     "name": "stderr",
     "output_type": "stream",
     "text": [
      "c:\\Users\\cinfante\\OneDrive - NRCan RNCan\\Documents\\Greenup\\NASA-LPDAAC-Testing\\venv\\Lib\\site-packages\\urllib3\\connectionpool.py:1056: InsecureRequestWarning: Unverified HTTPS request is being made to host 'data.lpdaac.earthdatacloud.nasa.gov'. Adding certificate verification is strongly advised. See: https://urllib3.readthedocs.io/en/1.26.x/advanced-usage.html#ssl-warnings\n",
      "  warnings.warn(\n",
      "c:\\Users\\cinfante\\OneDrive - NRCan RNCan\\Documents\\Greenup\\NASA-LPDAAC-Testing\\venv\\Lib\\site-packages\\urllib3\\connectionpool.py:1056: InsecureRequestWarning: Unverified HTTPS request is being made to host 'urs.earthdata.nasa.gov'. Adding certificate verification is strongly advised. See: https://urllib3.readthedocs.io/en/1.26.x/advanced-usage.html#ssl-warnings\n",
      "  warnings.warn(\n",
      "c:\\Users\\cinfante\\OneDrive - NRCan RNCan\\Documents\\Greenup\\NASA-LPDAAC-Testing\\venv\\Lib\\site-packages\\urllib3\\connectionpool.py:1056: InsecureRequestWarning: Unverified HTTPS request is being made to host 'data.lpdaac.earthdatacloud.nasa.gov'. Adding certificate verification is strongly advised. See: https://urllib3.readthedocs.io/en/1.26.x/advanced-usage.html#ssl-warnings\n",
      "  warnings.warn(\n",
      "c:\\Users\\cinfante\\OneDrive - NRCan RNCan\\Documents\\Greenup\\NASA-LPDAAC-Testing\\venv\\Lib\\site-packages\\urllib3\\connectionpool.py:1056: InsecureRequestWarning: Unverified HTTPS request is being made to host 'data.lpdaac.earthdatacloud.nasa.gov'. Adding certificate verification is strongly advised. See: https://urllib3.readthedocs.io/en/1.26.x/advanced-usage.html#ssl-warnings\n",
      "  warnings.warn(\n",
      "c:\\Users\\cinfante\\OneDrive - NRCan RNCan\\Documents\\Greenup\\NASA-LPDAAC-Testing\\venv\\Lib\\site-packages\\urllib3\\connectionpool.py:1056: InsecureRequestWarning: Unverified HTTPS request is being made to host 'd1nklfio7vscoe.cloudfront.net'. Adding certificate verification is strongly advised. See: https://urllib3.readthedocs.io/en/1.26.x/advanced-usage.html#ssl-warnings\n",
      "  warnings.warn(\n"
     ]
    },
    {
     "name": "stdout",
     "output_type": "stream",
     "text": [
      "{'type': 'Feature', 'id': 'VNP13A2.A2023185.h11v02.002.2023201114934', 'stac_version': '1.0.0', 'stac_extensions': [], 'collection': 'VNP13A2.v002', 'geometry': {'type': 'Polygon', 'coordinates': [[[-161.9998, 55.5345], [-120.1018, 59.6807], [-109.9069, 75.5554], [176.2111, 68.4671], [-161.9998, 55.5345]]]}, 'bbox': [176.2111, 55.5345, -109.9069, 76.507725], 'links': [{'rel': 'self', 'href': 'https://cmr.earthdata.nasa.gov/stac/LPCLOUD/collections/VNP13A2.v002/items/VNP13A2.A2023185.h11v02.002.2023201114934'}, {'rel': 'parent', 'href': 'https://cmr.earthdata.nasa.gov/stac/LPCLOUD/collections/VNP13A2.v002'}, {'rel': 'collection', 'href': 'https://cmr.earthdata.nasa.gov/stac/LPCLOUD/collections/VNP13A2.v002'}, {'rel': 'root', 'href': 'https://cmr.earthdata.nasa.gov/stac/'}, {'rel': 'provider', 'href': 'https://cmr.earthdata.nasa.gov/stac/LPCLOUD'}, {'rel': 'via', 'href': 'https://cmr.earthdata.nasa.gov/search/concepts/G2736361237-LPCLOUD.json'}, {'rel': 'via', 'href': 'https://cmr.earthdata.nasa.gov/search/concepts/G2736361237-LPCLOUD.umm_json'}], 'properties': {'datetime': '2023-07-04T00:00:00.000Z', 'start_datetime': '2023-07-04T00:00:00.000Z', 'end_datetime': '2023-07-19T23:59:59.000Z'}, 'assets': {'data': {'href': 'https://data.lpdaac.earthdatacloud.nasa.gov/lp-prod-protected/VNP13A2.002/VNP13A2.A2023185.h11v02.002.2023201114934/VNP13A2.A2023185.h11v02.002.2023201114934.h5', 'title': 'Download VNP13A2.A2023185.h11v02.002.2023201114934.h5'}, 'browse': {'href': 'https://data.lpdaac.earthdatacloud.nasa.gov/lp-prod-public/VNP13A2.002/VNP13A2.A2023185.h11v02.002.2023201114934/BROWSE.VNP13A2.A2023185.h11v02.002.2023201114934.1.jpg', 'type': 'image/jpeg', 'title': 'Download BROWSE.VNP13A2.A2023185.h11v02.002.2023201114934.1.jpg'}, 'opendap': {'href': 'https://opendap.earthdata.nasa.gov/collections/C2519127613-LPCLOUD/granules/VNP13A2.A2023185.h11v02.002.2023201114934', 'title': 'OPeNDAP request URL (GET DATA : OPENDAP DATA)'}, 'metadata': {'href': 'https://cmr.earthdata.nasa.gov/search/concepts/G2736361237-LPCLOUD.xml', 'type': 'application/xml'}}}\n"
     ]
    },
    {
     "name": "stderr",
     "output_type": "stream",
     "text": [
      "c:\\Users\\cinfante\\OneDrive - NRCan RNCan\\Documents\\Greenup\\NASA-LPDAAC-Testing\\venv\\Lib\\site-packages\\urllib3\\connectionpool.py:1056: InsecureRequestWarning: Unverified HTTPS request is being made to host 'data.lpdaac.earthdatacloud.nasa.gov'. Adding certificate verification is strongly advised. See: https://urllib3.readthedocs.io/en/1.26.x/advanced-usage.html#ssl-warnings\n",
      "  warnings.warn(\n",
      "c:\\Users\\cinfante\\OneDrive - NRCan RNCan\\Documents\\Greenup\\NASA-LPDAAC-Testing\\venv\\Lib\\site-packages\\urllib3\\connectionpool.py:1056: InsecureRequestWarning: Unverified HTTPS request is being made to host 'urs.earthdata.nasa.gov'. Adding certificate verification is strongly advised. See: https://urllib3.readthedocs.io/en/1.26.x/advanced-usage.html#ssl-warnings\n",
      "  warnings.warn(\n",
      "c:\\Users\\cinfante\\OneDrive - NRCan RNCan\\Documents\\Greenup\\NASA-LPDAAC-Testing\\venv\\Lib\\site-packages\\urllib3\\connectionpool.py:1056: InsecureRequestWarning: Unverified HTTPS request is being made to host 'data.lpdaac.earthdatacloud.nasa.gov'. Adding certificate verification is strongly advised. See: https://urllib3.readthedocs.io/en/1.26.x/advanced-usage.html#ssl-warnings\n",
      "  warnings.warn(\n",
      "c:\\Users\\cinfante\\OneDrive - NRCan RNCan\\Documents\\Greenup\\NASA-LPDAAC-Testing\\venv\\Lib\\site-packages\\urllib3\\connectionpool.py:1056: InsecureRequestWarning: Unverified HTTPS request is being made to host 'data.lpdaac.earthdatacloud.nasa.gov'. Adding certificate verification is strongly advised. See: https://urllib3.readthedocs.io/en/1.26.x/advanced-usage.html#ssl-warnings\n",
      "  warnings.warn(\n",
      "c:\\Users\\cinfante\\OneDrive - NRCan RNCan\\Documents\\Greenup\\NASA-LPDAAC-Testing\\venv\\Lib\\site-packages\\urllib3\\connectionpool.py:1056: InsecureRequestWarning: Unverified HTTPS request is being made to host 'd1nklfio7vscoe.cloudfront.net'. Adding certificate verification is strongly advised. See: https://urllib3.readthedocs.io/en/1.26.x/advanced-usage.html#ssl-warnings\n",
      "  warnings.warn(\n"
     ]
    },
    {
     "name": "stdout",
     "output_type": "stream",
     "text": [
      "{'type': 'Feature', 'id': 'VNP13A2.A2023185.h08v04.002.2023201103423', 'stac_version': '1.0.0', 'stac_extensions': [], 'collection': 'VNP13A2.v002', 'geometry': {'type': 'Polygon', 'coordinates': [[[-131.0149, 39.7081], [-117.2848, 39.8699], [-140.2398, 50.1258], [-156.8405, 49.8983], [-131.0149, 39.7081]]]}, 'bbox': [-156.8405, 39.7081, -117.2848, 50.319858], 'links': [{'rel': 'self', 'href': 'https://cmr.earthdata.nasa.gov/stac/LPCLOUD/collections/VNP13A2.v002/items/VNP13A2.A2023185.h08v04.002.2023201103423'}, {'rel': 'parent', 'href': 'https://cmr.earthdata.nasa.gov/stac/LPCLOUD/collections/VNP13A2.v002'}, {'rel': 'collection', 'href': 'https://cmr.earthdata.nasa.gov/stac/LPCLOUD/collections/VNP13A2.v002'}, {'rel': 'root', 'href': 'https://cmr.earthdata.nasa.gov/stac/'}, {'rel': 'provider', 'href': 'https://cmr.earthdata.nasa.gov/stac/LPCLOUD'}, {'rel': 'via', 'href': 'https://cmr.earthdata.nasa.gov/search/concepts/G2736246121-LPCLOUD.json'}, {'rel': 'via', 'href': 'https://cmr.earthdata.nasa.gov/search/concepts/G2736246121-LPCLOUD.umm_json'}], 'properties': {'datetime': '2023-07-04T00:00:00.000Z', 'start_datetime': '2023-07-04T00:00:00.000Z', 'end_datetime': '2023-07-19T23:59:59.000Z'}, 'assets': {'data': {'href': 'https://data.lpdaac.earthdatacloud.nasa.gov/lp-prod-protected/VNP13A2.002/VNP13A2.A2023185.h08v04.002.2023201103423/VNP13A2.A2023185.h08v04.002.2023201103423.h5', 'title': 'Download VNP13A2.A2023185.h08v04.002.2023201103423.h5'}, 'browse': {'href': 'https://data.lpdaac.earthdatacloud.nasa.gov/lp-prod-public/VNP13A2.002/VNP13A2.A2023185.h08v04.002.2023201103423/BROWSE.VNP13A2.A2023185.h08v04.002.2023201103423.1.jpg', 'type': 'image/jpeg', 'title': 'Download BROWSE.VNP13A2.A2023185.h08v04.002.2023201103423.1.jpg'}, 'opendap': {'href': 'https://opendap.earthdata.nasa.gov/collections/C2519127613-LPCLOUD/granules/VNP13A2.A2023185.h08v04.002.2023201103423', 'title': 'OPeNDAP request URL (GET DATA : OPENDAP DATA)'}, 'metadata': {'href': 'https://cmr.earthdata.nasa.gov/search/concepts/G2736246121-LPCLOUD.xml', 'type': 'application/xml'}}}\n"
     ]
    },
    {
     "ename": "ValueError",
     "evalue": "could not broadcast input array from shape (1200,1200) into shape (0,1200)",
     "output_type": "error",
     "traceback": [
      "\u001b[1;31m---------------------------------------------------------------------------\u001b[0m",
      "\u001b[1;31mValueError\u001b[0m                                Traceback (most recent call last)",
      "Cell \u001b[1;32mIn[14], line 92\u001b[0m\n\u001b[0;32m     89\u001b[0m                 row_end \u001b[39m=\u001b[39m row_start \u001b[39m+\u001b[39m ndvi_dataset\u001b[39m.\u001b[39mshape[\u001b[39m0\u001b[39m]\n\u001b[0;32m     91\u001b[0m                 \u001b[39m# Place the NDVI data on the canvas\u001b[39;00m\n\u001b[1;32m---> 92\u001b[0m                 canvas[row_start:row_end, col_start:col_end] \u001b[39m=\u001b[39m ndvi_dataset\n\u001b[0;32m     94\u001b[0m \u001b[39m# Define the output GeoTIFF file name\u001b[39;00m\n\u001b[0;32m     95\u001b[0m output_tiff \u001b[39m=\u001b[39m \u001b[39m'\u001b[39m\u001b[39mmosaic_ndvi.tif\u001b[39m\u001b[39m'\u001b[39m\n",
      "\u001b[1;31mValueError\u001b[0m: could not broadcast input array from shape (1200,1200) into shape (0,1200)"
     ]
    }
   ],
   "source": [
    "# Perform a search\n",
    "lp_search = 'https://cmr.earthdata.nasa.gov/stac/LPCLOUD/search'\n",
    "\n",
    "params = {}\n",
    "\n",
    "# Set a limit\n",
    "lim = 100\n",
    "params['limit'] = lim  # Add in a limit parameter to retrieve 100 items at a time.\n",
    "\n",
    "# Set the bounding box\n",
    "field = gp.read_file('Field_Boundary.geojson')\n",
    "fieldShape = field['geometry'][0]\n",
    "bbox = '-141.00275,41.6751050889,-52.3231986987,83.6751'\n",
    "params['bbox'] = bbox\n",
    "\n",
    "# Choose your collection\n",
    "collection = \"VNP13A2.v002\"\n",
    "params[\"collections\"] = [collection]\n",
    "\n",
    "# Set the time\n",
    "date_time = \"2023-07-18T00:00:00Z/2023-08-18T23:59:59Z\"\n",
    "params['datetime'] = date_time\n",
    "\n",
    "# Initialize variables for spatial information and canvas\n",
    "geoInfo = None  # Initialize spatial information\n",
    "overall_extent = None  # Initialize overall spatial extent\n",
    "\n",
    "# Make the request\n",
    "vnp_items = requests.post(lp_search, json=params, verify=False).json()['features']\n",
    "print(len(vnp_items))\n",
    "\n",
    "username = 'infantej2'\n",
    "password = 'QWEqwe123!@#'\n",
    "\n",
    "for item_url in vnp_items:\n",
    "    with requests.Session() as session:\n",
    "        session.auth = (username, password)\n",
    "        response = session.get(item_url['assets']['data']['href'], verify=False)\n",
    "        print(item_url)\n",
    "\n",
    "        if response.status_code == 200:\n",
    "            with h5py.File(io.BytesIO(response.content), 'r') as hdf5_file:\n",
    "                all_h5_objs = []\n",
    "                hdf5_file.visit(all_h5_objs.append)\n",
    "                info = hdf5_file['HDFEOS INFORMATION']['StructMetadata.0'][()].split()\n",
    "                metadata_byte2str = [s.decode('utf-8') for s in info]\n",
    "                ulc = [i for i in metadata_byte2str if 'UpperLeftPointMtrs' in i]\n",
    "                ulcLon = float(ulc[0].replace('=', ',').replace('(', '') \\\n",
    "                        .replace(')', '').split(',')[1])\n",
    "                ulcLat = float(ulc[0].replace('=', ',').replace('(', '') \\\n",
    "                        .replace(')', '').split(',')[2])\n",
    "                geoInfo = (ulcLon, 0, ulcLat, 0)\n",
    "\n",
    "                # Extract NDVI dataset\n",
    "                ndvi_dataset = hdf5_file['HDFEOS/GRIDS/VIIRS_Grid_16Day_VI_1km/Data Fields/1 km 16 days NDVI'][:]\n",
    "\n",
    "                # Update overall spatial extent to cover all datasets\n",
    "                if overall_extent is None:\n",
    "                    overall_extent = geoInfo\n",
    "                else:\n",
    "                    # Update extent to include current dataset's extent\n",
    "                    overall_extent = (\n",
    "                        min(overall_extent[0], geoInfo[0]),\n",
    "                        min(overall_extent[1], geoInfo[1]),\n",
    "                        max(overall_extent[2], geoInfo[2]),\n",
    "                        max(overall_extent[3], geoInfo[3])\n",
    "                    )\n",
    "                print(overall_extent)\n",
    "\n",
    "# Create an empty canvas to hold the mosaic\n",
    "width = int((overall_extent[2] - overall_extent[0]) / 1000)  # Adjust the resolution if necessary\n",
    "height = int((overall_extent[3] - overall_extent[1]) / 1000)  # Adjust the resolution if necessary\n",
    "canvas = np.zeros((height, width), dtype=np.uint16)\n",
    "\n",
    "# Iterate through NDVI datasets and place them on the canvas\n",
    "for item_url in vnp_items:\n",
    "    with requests.Session() as session:\n",
    "        session.auth = (username, password)\n",
    "        response = session.get(item_url['assets']['data']['href'], verify=False)\n",
    "        print(item_url)\n",
    "\n",
    "        if response.status_code == 200:\n",
    "            with h5py.File(io.BytesIO(response.content), 'r') as hdf5_file:\n",
    "                # Adjust the following to place the NDVI dataset correctly on the canvas\n",
    "                # Determine the position on the canvas based on spatial info\n",
    "                col_start = int((geoInfo[0] - overall_extent[0]) / 1000)\n",
    "                col_end = col_start + ndvi_dataset.shape[1]\n",
    "                row_start = int((geoInfo[2] - overall_extent[1]) / 1000)\n",
    "                row_end = row_start + ndvi_dataset.shape[0]\n",
    "\n",
    "                # Place the NDVI data on the canvas\n",
    "                canvas[row_start:row_end, col_start:col_end] = ndvi_dataset\n",
    "\n",
    "output_tiff = 'mosaic_ndvi.tif'\n",
    "\n",
    "# Define the transformation (georeferencing) information\n",
    "transform = from_origin(overall_extent[0], overall_extent[3], 1000, 1000)  # Adjust the resolution if necessary\n",
    "\n",
    "# Define the CRS \n",
    "crs = 'EPSG:4326'  \n",
    "\n",
    "# Create the GeoTIFF file and write the combined NDVI data\n",
    "with rio.open(output_tiff, 'w', driver='GTiff', height=canvas.shape[0], width=canvas.shape[1], dtype=canvas.dtype, crs=crs, transform=transform) as dst:\n",
    "    dst.write(canvas, 1)  # Assuming a single-band GeoTIFF\n",
    "\n",
    "print(\"Mosaic GeoTIFF created:\", output_tiff)\n"
   ]
  },
  {
   "cell_type": "markdown",
   "id": "2e3e0a83",
   "metadata": {},
   "source": [
    "# Perform search and read data using satpy"
   ]
  },
  {
   "cell_type": "code",
   "execution_count": 16,
   "id": "8fbfa252",
   "metadata": {},
   "outputs": [
    {
     "name": "stdout",
     "output_type": "stream",
     "text": [
      "-141.00275,41.6751050889,-52.3231986987,83.6751\n"
     ]
    },
    {
     "name": "stderr",
     "output_type": "stream",
     "text": [
      "c:\\Users\\cinfante\\OneDrive - NRCan RNCan\\Documents\\Greenup\\NASA-LPDAAC-Testing\\venv\\Lib\\site-packages\\urllib3\\connectionpool.py:1056: InsecureRequestWarning: Unverified HTTPS request is being made to host 'cmr.earthdata.nasa.gov'. Adding certificate verification is strongly advised. See: https://urllib3.readthedocs.io/en/1.26.x/advanced-usage.html#ssl-warnings\n",
      "  warnings.warn(\n"
     ]
    },
    {
     "name": "stdout",
     "output_type": "stream",
     "text": [
      "29\n"
     ]
    },
    {
     "ename": "NameError",
     "evalue": "name 'Scene' is not defined",
     "output_type": "error",
     "traceback": [
      "\u001b[1;31m---------------------------------------------------------------------------\u001b[0m",
      "\u001b[1;31mNameError\u001b[0m                                 Traceback (most recent call last)",
      "Cell \u001b[1;32mIn[16], line 33\u001b[0m\n\u001b[0;32m     30\u001b[0m \u001b[39m# Define an empty list to store the dataset arrays\u001b[39;00m\n\u001b[0;32m     31\u001b[0m datasets \u001b[39m=\u001b[39m []\n\u001b[1;32m---> 33\u001b[0m scene \u001b[39m=\u001b[39m Scene()\n\u001b[0;32m     35\u001b[0m \u001b[39m# Iterate through vnp_items and read the datasets\u001b[39;00m\n\u001b[0;32m     36\u001b[0m \u001b[39mfor\u001b[39;00m i, item \u001b[39min\u001b[39;00m \u001b[39menumerate\u001b[39m(vnp_items):\n",
      "\u001b[1;31mNameError\u001b[0m: name 'Scene' is not defined"
     ]
    }
   ],
   "source": [
    "# Perform a search\n",
    "lp_search = 'https://cmr.earthdata.nasa.gov/stac/LPCLOUD/search'\n",
    "\n",
    "params = {}\n",
    "\n",
    "# Set a limit\n",
    "lim = 100\n",
    "params['limit'] = lim  # Add in a limit parameter to retrieve 100 items at a time.\n",
    "\n",
    "# Set the bounding box\n",
    "field = gp.read_file('Field_Boundary.geojson')\n",
    "fieldShape = field['geometry'][0]\n",
    "#bbox = f'{fieldShape.bounds[0]},{fieldShape.bounds[1]},{fieldShape.bounds[2]},{fieldShape.bounds[3]}'    # Defined from ROI bounds\n",
    "bbox = '-141.00275,41.6751050889,-52.3231986987,83.6751'\n",
    "print(bbox)\n",
    "params['bbox'] = bbox \n",
    "\n",
    "# Choose your collection\n",
    "collection = \"VNP13A2.v002\"\n",
    "params[\"collections\"] = [collection]\n",
    "\n",
    "# Set the time\n",
    "date_time = \"2023-07-18T00:00:00Z/2023-08-18T23:59:59Z\"\n",
    "params['datetime'] = date_time\n",
    "\n",
    "# Make the request\n",
    "vnp_items = r.post(lp_search, json=params, verify=False).json()['features']\n",
    "print(len(vnp_items))\n",
    "\n",
    "# Define an empty list to store the dataset arrays\n",
    "datasets = []\n",
    "\n",
    "scene = Scene()\n",
    "\n",
    "# Iterate through vnp_items and read the datasets\n",
    "for i, item in enumerate(vnp_items):\n",
    "    item_url = item['assets']['data']['href']\n",
    "    username = 'infantej2'\n",
    "    password = 'QWEqwe123!@#'\n",
    "\n",
    "    with requests.Session() as session:\n",
    "        session.auth = (username, password)\n",
    "        response = session.get(item_url, verify=False)\n",
    "        print(item_url)\n",
    "        \n",
    "        if response.status_code == 200:\n",
    "            \n",
    "            hdf5_data = hdf5_reader(response.content)\n",
    "            scene.add(hdf5_data)\n",
    "\n",
    "            print(f\"Processed item {i}\")\n",
    "        else:\n",
    "            print(f\"Authentication failed or the file is inaccessible for item {i}\")\n",
    "\n",
    "scene.show()\n",
    "        \n",
    "'''\n",
    "# Merge the DataArrays using rioxarray's merge\n",
    "merged_data_array = merge_arrays(datasets)\n",
    "\n",
    "# Define the output file\n",
    "output_file = \"mosaic_h5.tif\"\n",
    "\n",
    "# Write the merged dataset to the output file\n",
    "merged_data_array.rio.to_raster(output_file)\n",
    "'''\n",
    "print(\"Mosaic created successfully.\")"
   ]
  },
  {
   "cell_type": "markdown",
   "id": "70c0a3b0",
   "metadata": {},
   "source": [
    "# Perform search and read data using h5py and xarray"
   ]
  },
  {
   "cell_type": "code",
   "execution_count": 15,
   "id": "937d2be4",
   "metadata": {},
   "outputs": [
    {
     "name": "stdout",
     "output_type": "stream",
     "text": [
      "-141.00275,41.6751050889,-52.3231986987,83.6751\n"
     ]
    },
    {
     "name": "stderr",
     "output_type": "stream",
     "text": [
      "c:\\Users\\cinfante\\OneDrive - NRCan RNCan\\Documents\\Greenup\\NASA-LPDAAC-Testing\\venv\\Lib\\site-packages\\urllib3\\connectionpool.py:1056: InsecureRequestWarning: Unverified HTTPS request is being made to host 'cmr.earthdata.nasa.gov'. Adding certificate verification is strongly advised. See: https://urllib3.readthedocs.io/en/1.26.x/advanced-usage.html#ssl-warnings\n",
      "  warnings.warn(\n"
     ]
    },
    {
     "name": "stdout",
     "output_type": "stream",
     "text": [
      "29\n"
     ]
    },
    {
     "name": "stderr",
     "output_type": "stream",
     "text": [
      "c:\\Users\\cinfante\\OneDrive - NRCan RNCan\\Documents\\Greenup\\NASA-LPDAAC-Testing\\venv\\Lib\\site-packages\\urllib3\\connectionpool.py:1056: InsecureRequestWarning: Unverified HTTPS request is being made to host 'data.lpdaac.earthdatacloud.nasa.gov'. Adding certificate verification is strongly advised. See: https://urllib3.readthedocs.io/en/1.26.x/advanced-usage.html#ssl-warnings\n",
      "  warnings.warn(\n",
      "c:\\Users\\cinfante\\OneDrive - NRCan RNCan\\Documents\\Greenup\\NASA-LPDAAC-Testing\\venv\\Lib\\site-packages\\urllib3\\connectionpool.py:1056: InsecureRequestWarning: Unverified HTTPS request is being made to host 'urs.earthdata.nasa.gov'. Adding certificate verification is strongly advised. See: https://urllib3.readthedocs.io/en/1.26.x/advanced-usage.html#ssl-warnings\n",
      "  warnings.warn(\n",
      "c:\\Users\\cinfante\\OneDrive - NRCan RNCan\\Documents\\Greenup\\NASA-LPDAAC-Testing\\venv\\Lib\\site-packages\\urllib3\\connectionpool.py:1056: InsecureRequestWarning: Unverified HTTPS request is being made to host 'data.lpdaac.earthdatacloud.nasa.gov'. Adding certificate verification is strongly advised. See: https://urllib3.readthedocs.io/en/1.26.x/advanced-usage.html#ssl-warnings\n",
      "  warnings.warn(\n",
      "c:\\Users\\cinfante\\OneDrive - NRCan RNCan\\Documents\\Greenup\\NASA-LPDAAC-Testing\\venv\\Lib\\site-packages\\urllib3\\connectionpool.py:1056: InsecureRequestWarning: Unverified HTTPS request is being made to host 'data.lpdaac.earthdatacloud.nasa.gov'. Adding certificate verification is strongly advised. See: https://urllib3.readthedocs.io/en/1.26.x/advanced-usage.html#ssl-warnings\n",
      "  warnings.warn(\n",
      "c:\\Users\\cinfante\\OneDrive - NRCan RNCan\\Documents\\Greenup\\NASA-LPDAAC-Testing\\venv\\Lib\\site-packages\\urllib3\\connectionpool.py:1056: InsecureRequestWarning: Unverified HTTPS request is being made to host 'd1nklfio7vscoe.cloudfront.net'. Adding certificate verification is strongly advised. See: https://urllib3.readthedocs.io/en/1.26.x/advanced-usage.html#ssl-warnings\n",
      "  warnings.warn(\n"
     ]
    },
    {
     "name": "stdout",
     "output_type": "stream",
     "text": [
      "https://data.lpdaac.earthdatacloud.nasa.gov/lp-prod-protected/VNP13A2.002/VNP13A2.A2023185.h08v04.002.2023201103423/VNP13A2.A2023185.h08v04.002.2023201103423.h5\n",
      "[[-15000 -15000 -15000 ... -15000 -15000 -15000]\n",
      " [-15000 -15000 -15000 ... -15000 -15000 -15000]\n",
      " [-15000 -15000 -15000 ... -15000 -15000 -15000]\n",
      " ...\n",
      " [-15000 -15000 -15000 ...   2886   3018   2916]\n",
      " [-15000 -15000 -15000 ...   2996   2759   2552]\n",
      " [-15000 -15000 -15000 ...   3121   2678   2321]]\n",
      "<xarray.DataArray (y: 1200, x: 1200)>\n",
      "array([[-15000, -15000, -15000, ..., -15000, -15000, -15000],\n",
      "       [-15000, -15000, -15000, ..., -15000, -15000, -15000],\n",
      "       [-15000, -15000, -15000, ..., -15000, -15000, -15000],\n",
      "       ...,\n",
      "       [-15000, -15000, -15000, ...,   2886,   3018,   2916],\n",
      "       [-15000, -15000, -15000, ...,   2996,   2759,   2552],\n",
      "       [-15000, -15000, -15000, ...,   3121,   2678,   2321]], dtype=int16)\n",
      "Dimensions without coordinates: y, x\n",
      "Processed item 0\n"
     ]
    },
    {
     "name": "stderr",
     "output_type": "stream",
     "text": [
      "c:\\Users\\cinfante\\OneDrive - NRCan RNCan\\Documents\\Greenup\\NASA-LPDAAC-Testing\\venv\\Lib\\site-packages\\urllib3\\connectionpool.py:1056: InsecureRequestWarning: Unverified HTTPS request is being made to host 'data.lpdaac.earthdatacloud.nasa.gov'. Adding certificate verification is strongly advised. See: https://urllib3.readthedocs.io/en/1.26.x/advanced-usage.html#ssl-warnings\n",
      "  warnings.warn(\n",
      "c:\\Users\\cinfante\\OneDrive - NRCan RNCan\\Documents\\Greenup\\NASA-LPDAAC-Testing\\venv\\Lib\\site-packages\\urllib3\\connectionpool.py:1056: InsecureRequestWarning: Unverified HTTPS request is being made to host 'urs.earthdata.nasa.gov'. Adding certificate verification is strongly advised. See: https://urllib3.readthedocs.io/en/1.26.x/advanced-usage.html#ssl-warnings\n",
      "  warnings.warn(\n",
      "c:\\Users\\cinfante\\OneDrive - NRCan RNCan\\Documents\\Greenup\\NASA-LPDAAC-Testing\\venv\\Lib\\site-packages\\urllib3\\connectionpool.py:1056: InsecureRequestWarning: Unverified HTTPS request is being made to host 'data.lpdaac.earthdatacloud.nasa.gov'. Adding certificate verification is strongly advised. See: https://urllib3.readthedocs.io/en/1.26.x/advanced-usage.html#ssl-warnings\n",
      "  warnings.warn(\n",
      "c:\\Users\\cinfante\\OneDrive - NRCan RNCan\\Documents\\Greenup\\NASA-LPDAAC-Testing\\venv\\Lib\\site-packages\\urllib3\\connectionpool.py:1056: InsecureRequestWarning: Unverified HTTPS request is being made to host 'data.lpdaac.earthdatacloud.nasa.gov'. Adding certificate verification is strongly advised. See: https://urllib3.readthedocs.io/en/1.26.x/advanced-usage.html#ssl-warnings\n",
      "  warnings.warn(\n",
      "c:\\Users\\cinfante\\OneDrive - NRCan RNCan\\Documents\\Greenup\\NASA-LPDAAC-Testing\\venv\\Lib\\site-packages\\urllib3\\connectionpool.py:1056: InsecureRequestWarning: Unverified HTTPS request is being made to host 'd1nklfio7vscoe.cloudfront.net'. Adding certificate verification is strongly advised. See: https://urllib3.readthedocs.io/en/1.26.x/advanced-usage.html#ssl-warnings\n",
      "  warnings.warn(\n"
     ]
    },
    {
     "name": "stdout",
     "output_type": "stream",
     "text": [
      "https://data.lpdaac.earthdatacloud.nasa.gov/lp-prod-protected/VNP13A2.002/VNP13A2.A2023185.h11v04.002.2023201103404/VNP13A2.A2023185.h11v04.002.2023201103404.h5\n",
      "[[4234 5184 4670 ... 8619 8231 8131]\n",
      " [5070 5540 6434 ... 8523 8476 8629]\n",
      " [6994 7033 6020 ... 8279 8432 8490]\n",
      " ...\n",
      " [8613 8467 9008 ... 8245 8057 7746]\n",
      " [7868 8374 8954 ... 7109 7503 8355]\n",
      " [8521 8714 9033 ... 7940 8481 8601]]\n",
      "<xarray.DataArray (y: 1200, x: 1200)>\n",
      "array([[4234, 5184, 4670, ..., 8619, 8231, 8131],\n",
      "       [5070, 5540, 6434, ..., 8523, 8476, 8629],\n",
      "       [6994, 7033, 6020, ..., 8279, 8432, 8490],\n",
      "       ...,\n",
      "       [8613, 8467, 9008, ..., 8245, 8057, 7746],\n",
      "       [7868, 8374, 8954, ..., 7109, 7503, 8355],\n",
      "       [8521, 8714, 9033, ..., 7940, 8481, 8601]], dtype=int16)\n",
      "Dimensions without coordinates: y, x\n",
      "Processed item 1\n"
     ]
    },
    {
     "name": "stderr",
     "output_type": "stream",
     "text": [
      "c:\\Users\\cinfante\\OneDrive - NRCan RNCan\\Documents\\Greenup\\NASA-LPDAAC-Testing\\venv\\Lib\\site-packages\\urllib3\\connectionpool.py:1056: InsecureRequestWarning: Unverified HTTPS request is being made to host 'data.lpdaac.earthdatacloud.nasa.gov'. Adding certificate verification is strongly advised. See: https://urllib3.readthedocs.io/en/1.26.x/advanced-usage.html#ssl-warnings\n",
      "  warnings.warn(\n",
      "c:\\Users\\cinfante\\OneDrive - NRCan RNCan\\Documents\\Greenup\\NASA-LPDAAC-Testing\\venv\\Lib\\site-packages\\urllib3\\connectionpool.py:1056: InsecureRequestWarning: Unverified HTTPS request is being made to host 'urs.earthdata.nasa.gov'. Adding certificate verification is strongly advised. See: https://urllib3.readthedocs.io/en/1.26.x/advanced-usage.html#ssl-warnings\n",
      "  warnings.warn(\n",
      "c:\\Users\\cinfante\\OneDrive - NRCan RNCan\\Documents\\Greenup\\NASA-LPDAAC-Testing\\venv\\Lib\\site-packages\\urllib3\\connectionpool.py:1056: InsecureRequestWarning: Unverified HTTPS request is being made to host 'data.lpdaac.earthdatacloud.nasa.gov'. Adding certificate verification is strongly advised. See: https://urllib3.readthedocs.io/en/1.26.x/advanced-usage.html#ssl-warnings\n",
      "  warnings.warn(\n",
      "c:\\Users\\cinfante\\OneDrive - NRCan RNCan\\Documents\\Greenup\\NASA-LPDAAC-Testing\\venv\\Lib\\site-packages\\urllib3\\connectionpool.py:1056: InsecureRequestWarning: Unverified HTTPS request is being made to host 'data.lpdaac.earthdatacloud.nasa.gov'. Adding certificate verification is strongly advised. See: https://urllib3.readthedocs.io/en/1.26.x/advanced-usage.html#ssl-warnings\n",
      "  warnings.warn(\n",
      "c:\\Users\\cinfante\\OneDrive - NRCan RNCan\\Documents\\Greenup\\NASA-LPDAAC-Testing\\venv\\Lib\\site-packages\\urllib3\\connectionpool.py:1056: InsecureRequestWarning: Unverified HTTPS request is being made to host 'd1nklfio7vscoe.cloudfront.net'. Adding certificate verification is strongly advised. See: https://urllib3.readthedocs.io/en/1.26.x/advanced-usage.html#ssl-warnings\n",
      "  warnings.warn(\n"
     ]
    },
    {
     "name": "stdout",
     "output_type": "stream",
     "text": [
      "https://data.lpdaac.earthdatacloud.nasa.gov/lp-prod-protected/VNP13A2.002/VNP13A2.A2023185.h10v04.002.2023201103437/VNP13A2.A2023185.h10v04.002.2023201103437.h5\n",
      "[[8090 8635 8390 ... 3013 3435 3248]\n",
      " [8482 8178 8416 ... 3794 4140 4277]\n",
      " [8509 8546 8141 ... 4279 6116 7176]\n",
      " ...\n",
      " [4688 5044 3705 ... 8876 8731 8892]\n",
      " [5389 5207 6739 ... 8723 8992 8601]\n",
      " [5735 4853 3494 ... 8986 8366 8733]]\n",
      "<xarray.DataArray (y: 1200, x: 1200)>\n",
      "array([[8090, 8635, 8390, ..., 3013, 3435, 3248],\n",
      "       [8482, 8178, 8416, ..., 3794, 4140, 4277],\n",
      "       [8509, 8546, 8141, ..., 4279, 6116, 7176],\n",
      "       ...,\n",
      "       [4688, 5044, 3705, ..., 8876, 8731, 8892],\n",
      "       [5389, 5207, 6739, ..., 8723, 8992, 8601],\n",
      "       [5735, 4853, 3494, ..., 8986, 8366, 8733]], dtype=int16)\n",
      "Dimensions without coordinates: y, x\n",
      "Processed item 2\n"
     ]
    },
    {
     "name": "stderr",
     "output_type": "stream",
     "text": [
      "c:\\Users\\cinfante\\OneDrive - NRCan RNCan\\Documents\\Greenup\\NASA-LPDAAC-Testing\\venv\\Lib\\site-packages\\urllib3\\connectionpool.py:1056: InsecureRequestWarning: Unverified HTTPS request is being made to host 'data.lpdaac.earthdatacloud.nasa.gov'. Adding certificate verification is strongly advised. See: https://urllib3.readthedocs.io/en/1.26.x/advanced-usage.html#ssl-warnings\n",
      "  warnings.warn(\n",
      "c:\\Users\\cinfante\\OneDrive - NRCan RNCan\\Documents\\Greenup\\NASA-LPDAAC-Testing\\venv\\Lib\\site-packages\\urllib3\\connectionpool.py:1056: InsecureRequestWarning: Unverified HTTPS request is being made to host 'urs.earthdata.nasa.gov'. Adding certificate verification is strongly advised. See: https://urllib3.readthedocs.io/en/1.26.x/advanced-usage.html#ssl-warnings\n",
      "  warnings.warn(\n",
      "c:\\Users\\cinfante\\OneDrive - NRCan RNCan\\Documents\\Greenup\\NASA-LPDAAC-Testing\\venv\\Lib\\site-packages\\urllib3\\connectionpool.py:1056: InsecureRequestWarning: Unverified HTTPS request is being made to host 'data.lpdaac.earthdatacloud.nasa.gov'. Adding certificate verification is strongly advised. See: https://urllib3.readthedocs.io/en/1.26.x/advanced-usage.html#ssl-warnings\n",
      "  warnings.warn(\n",
      "c:\\Users\\cinfante\\OneDrive - NRCan RNCan\\Documents\\Greenup\\NASA-LPDAAC-Testing\\venv\\Lib\\site-packages\\urllib3\\connectionpool.py:1056: InsecureRequestWarning: Unverified HTTPS request is being made to host 'data.lpdaac.earthdatacloud.nasa.gov'. Adding certificate verification is strongly advised. See: https://urllib3.readthedocs.io/en/1.26.x/advanced-usage.html#ssl-warnings\n",
      "  warnings.warn(\n",
      "c:\\Users\\cinfante\\OneDrive - NRCan RNCan\\Documents\\Greenup\\NASA-LPDAAC-Testing\\venv\\Lib\\site-packages\\urllib3\\connectionpool.py:1056: InsecureRequestWarning: Unverified HTTPS request is being made to host 'd1nklfio7vscoe.cloudfront.net'. Adding certificate verification is strongly advised. See: https://urllib3.readthedocs.io/en/1.26.x/advanced-usage.html#ssl-warnings\n",
      "  warnings.warn(\n"
     ]
    },
    {
     "name": "stdout",
     "output_type": "stream",
     "text": [
      "https://data.lpdaac.earthdatacloud.nasa.gov/lp-prod-protected/VNP13A2.002/VNP13A2.A2023185.h13v04.002.2023201103448/VNP13A2.A2023185.h13v04.002.2023201103448.h5\n",
      "[[  7799   7530   7023 ... -15000 -15000 -15000]\n",
      " [  7388   6710   6736 ... -15000 -15000 -15000]\n",
      " [  6148   6162   6321 ... -15000 -15000 -15000]\n",
      " ...\n",
      " [-15000 -15000 -15000 ... -15000 -15000 -15000]\n",
      " [-15000 -15000 -15000 ... -15000 -15000 -15000]\n",
      " [-15000 -15000 -15000 ... -15000 -15000 -15000]]\n",
      "<xarray.DataArray (y: 1200, x: 1200)>\n",
      "array([[  7799,   7530,   7023, ..., -15000, -15000, -15000],\n",
      "       [  7388,   6710,   6736, ..., -15000, -15000, -15000],\n",
      "       [  6148,   6162,   6321, ..., -15000, -15000, -15000],\n",
      "       ...,\n",
      "       [-15000, -15000, -15000, ..., -15000, -15000, -15000],\n",
      "       [-15000, -15000, -15000, ..., -15000, -15000, -15000],\n",
      "       [-15000, -15000, -15000, ..., -15000, -15000, -15000]], dtype=int16)\n",
      "Dimensions without coordinates: y, x\n",
      "Processed item 3\n"
     ]
    },
    {
     "name": "stderr",
     "output_type": "stream",
     "text": [
      "c:\\Users\\cinfante\\OneDrive - NRCan RNCan\\Documents\\Greenup\\NASA-LPDAAC-Testing\\venv\\Lib\\site-packages\\urllib3\\connectionpool.py:1056: InsecureRequestWarning: Unverified HTTPS request is being made to host 'data.lpdaac.earthdatacloud.nasa.gov'. Adding certificate verification is strongly advised. See: https://urllib3.readthedocs.io/en/1.26.x/advanced-usage.html#ssl-warnings\n",
      "  warnings.warn(\n",
      "c:\\Users\\cinfante\\OneDrive - NRCan RNCan\\Documents\\Greenup\\NASA-LPDAAC-Testing\\venv\\Lib\\site-packages\\urllib3\\connectionpool.py:1056: InsecureRequestWarning: Unverified HTTPS request is being made to host 'urs.earthdata.nasa.gov'. Adding certificate verification is strongly advised. See: https://urllib3.readthedocs.io/en/1.26.x/advanced-usage.html#ssl-warnings\n",
      "  warnings.warn(\n",
      "c:\\Users\\cinfante\\OneDrive - NRCan RNCan\\Documents\\Greenup\\NASA-LPDAAC-Testing\\venv\\Lib\\site-packages\\urllib3\\connectionpool.py:1056: InsecureRequestWarning: Unverified HTTPS request is being made to host 'data.lpdaac.earthdatacloud.nasa.gov'. Adding certificate verification is strongly advised. See: https://urllib3.readthedocs.io/en/1.26.x/advanced-usage.html#ssl-warnings\n",
      "  warnings.warn(\n",
      "c:\\Users\\cinfante\\OneDrive - NRCan RNCan\\Documents\\Greenup\\NASA-LPDAAC-Testing\\venv\\Lib\\site-packages\\urllib3\\connectionpool.py:1056: InsecureRequestWarning: Unverified HTTPS request is being made to host 'data.lpdaac.earthdatacloud.nasa.gov'. Adding certificate verification is strongly advised. See: https://urllib3.readthedocs.io/en/1.26.x/advanced-usage.html#ssl-warnings\n",
      "  warnings.warn(\n",
      "c:\\Users\\cinfante\\OneDrive - NRCan RNCan\\Documents\\Greenup\\NASA-LPDAAC-Testing\\venv\\Lib\\site-packages\\urllib3\\connectionpool.py:1056: InsecureRequestWarning: Unverified HTTPS request is being made to host 'd1nklfio7vscoe.cloudfront.net'. Adding certificate verification is strongly advised. See: https://urllib3.readthedocs.io/en/1.26.x/advanced-usage.html#ssl-warnings\n",
      "  warnings.warn(\n"
     ]
    },
    {
     "name": "stdout",
     "output_type": "stream",
     "text": [
      "https://data.lpdaac.earthdatacloud.nasa.gov/lp-prod-protected/VNP13A2.002/VNP13A2.A2023185.h12v04.002.2023201103408/VNP13A2.A2023185.h12v04.002.2023201103408.h5\n",
      "[[  8325   8740   8042 ...   7566   7133   7450]\n",
      " [  8516   8640   8215 ...   7488   7431   7803]\n",
      " [  8688   8451   8649 ...   6927   6987   6193]\n",
      " ...\n",
      " [  7643   8878   8427 ... -15000 -15000 -15000]\n",
      " [  8762   8321   8623 ... -15000 -15000 -15000]\n",
      " [  8429   7920   8218 ... -15000 -15000 -15000]]\n",
      "<xarray.DataArray (y: 1200, x: 1200)>\n",
      "array([[  8325,   8740,   8042, ...,   7566,   7133,   7450],\n",
      "       [  8516,   8640,   8215, ...,   7488,   7431,   7803],\n",
      "       [  8688,   8451,   8649, ...,   6927,   6987,   6193],\n",
      "       ...,\n",
      "       [  7643,   8878,   8427, ..., -15000, -15000, -15000],\n",
      "       [  8762,   8321,   8623, ..., -15000, -15000, -15000],\n",
      "       [  8429,   7920,   8218, ..., -15000, -15000, -15000]], dtype=int16)\n",
      "Dimensions without coordinates: y, x\n",
      "Processed item 4\n"
     ]
    },
    {
     "name": "stderr",
     "output_type": "stream",
     "text": [
      "c:\\Users\\cinfante\\OneDrive - NRCan RNCan\\Documents\\Greenup\\NASA-LPDAAC-Testing\\venv\\Lib\\site-packages\\urllib3\\connectionpool.py:1056: InsecureRequestWarning: Unverified HTTPS request is being made to host 'data.lpdaac.earthdatacloud.nasa.gov'. Adding certificate verification is strongly advised. See: https://urllib3.readthedocs.io/en/1.26.x/advanced-usage.html#ssl-warnings\n",
      "  warnings.warn(\n",
      "c:\\Users\\cinfante\\OneDrive - NRCan RNCan\\Documents\\Greenup\\NASA-LPDAAC-Testing\\venv\\Lib\\site-packages\\urllib3\\connectionpool.py:1056: InsecureRequestWarning: Unverified HTTPS request is being made to host 'urs.earthdata.nasa.gov'. Adding certificate verification is strongly advised. See: https://urllib3.readthedocs.io/en/1.26.x/advanced-usage.html#ssl-warnings\n",
      "  warnings.warn(\n",
      "c:\\Users\\cinfante\\OneDrive - NRCan RNCan\\Documents\\Greenup\\NASA-LPDAAC-Testing\\venv\\Lib\\site-packages\\urllib3\\connectionpool.py:1056: InsecureRequestWarning: Unverified HTTPS request is being made to host 'data.lpdaac.earthdatacloud.nasa.gov'. Adding certificate verification is strongly advised. See: https://urllib3.readthedocs.io/en/1.26.x/advanced-usage.html#ssl-warnings\n",
      "  warnings.warn(\n",
      "c:\\Users\\cinfante\\OneDrive - NRCan RNCan\\Documents\\Greenup\\NASA-LPDAAC-Testing\\venv\\Lib\\site-packages\\urllib3\\connectionpool.py:1056: InsecureRequestWarning: Unverified HTTPS request is being made to host 'data.lpdaac.earthdatacloud.nasa.gov'. Adding certificate verification is strongly advised. See: https://urllib3.readthedocs.io/en/1.26.x/advanced-usage.html#ssl-warnings\n",
      "  warnings.warn(\n",
      "c:\\Users\\cinfante\\OneDrive - NRCan RNCan\\Documents\\Greenup\\NASA-LPDAAC-Testing\\venv\\Lib\\site-packages\\urllib3\\connectionpool.py:1056: InsecureRequestWarning: Unverified HTTPS request is being made to host 'd1nklfio7vscoe.cloudfront.net'. Adding certificate verification is strongly advised. See: https://urllib3.readthedocs.io/en/1.26.x/advanced-usage.html#ssl-warnings\n",
      "  warnings.warn(\n"
     ]
    },
    {
     "name": "stdout",
     "output_type": "stream",
     "text": [
      "https://data.lpdaac.earthdatacloud.nasa.gov/lp-prod-protected/VNP13A2.002/VNP13A2.A2023185.h09v04.002.2023201103403/VNP13A2.A2023185.h09v04.002.2023201103403.h5\n",
      "[[-15000 -15000 -15000 ...   3542   6516   7074]\n",
      " [-15000 -15000 -15000 ...   8019   8451   8365]\n",
      " [-15000 -15000 -15000 ...   7845   8053   8428]\n",
      " ...\n",
      " [  2824   2310   2598 ...   7395   6695   7073]\n",
      " [  2337   2304   2184 ...   5752   4596   5947]\n",
      " [  2183   2118   2131 ...   4455   6076   5893]]\n",
      "<xarray.DataArray (y: 1200, x: 1200)>\n",
      "array([[-15000, -15000, -15000, ...,   3542,   6516,   7074],\n",
      "       [-15000, -15000, -15000, ...,   8019,   8451,   8365],\n",
      "       [-15000, -15000, -15000, ...,   7845,   8053,   8428],\n",
      "       ...,\n",
      "       [  2824,   2310,   2598, ...,   7395,   6695,   7073],\n",
      "       [  2337,   2304,   2184, ...,   5752,   4596,   5947],\n",
      "       [  2183,   2118,   2131, ...,   4455,   6076,   5893]], dtype=int16)\n",
      "Dimensions without coordinates: y, x\n",
      "Processed item 5\n"
     ]
    },
    {
     "name": "stderr",
     "output_type": "stream",
     "text": [
      "c:\\Users\\cinfante\\OneDrive - NRCan RNCan\\Documents\\Greenup\\NASA-LPDAAC-Testing\\venv\\Lib\\site-packages\\urllib3\\connectionpool.py:1056: InsecureRequestWarning: Unverified HTTPS request is being made to host 'data.lpdaac.earthdatacloud.nasa.gov'. Adding certificate verification is strongly advised. See: https://urllib3.readthedocs.io/en/1.26.x/advanced-usage.html#ssl-warnings\n",
      "  warnings.warn(\n",
      "c:\\Users\\cinfante\\OneDrive - NRCan RNCan\\Documents\\Greenup\\NASA-LPDAAC-Testing\\venv\\Lib\\site-packages\\urllib3\\connectionpool.py:1056: InsecureRequestWarning: Unverified HTTPS request is being made to host 'urs.earthdata.nasa.gov'. Adding certificate verification is strongly advised. See: https://urllib3.readthedocs.io/en/1.26.x/advanced-usage.html#ssl-warnings\n",
      "  warnings.warn(\n",
      "c:\\Users\\cinfante\\OneDrive - NRCan RNCan\\Documents\\Greenup\\NASA-LPDAAC-Testing\\venv\\Lib\\site-packages\\urllib3\\connectionpool.py:1056: InsecureRequestWarning: Unverified HTTPS request is being made to host 'data.lpdaac.earthdatacloud.nasa.gov'. Adding certificate verification is strongly advised. See: https://urllib3.readthedocs.io/en/1.26.x/advanced-usage.html#ssl-warnings\n",
      "  warnings.warn(\n",
      "c:\\Users\\cinfante\\OneDrive - NRCan RNCan\\Documents\\Greenup\\NASA-LPDAAC-Testing\\venv\\Lib\\site-packages\\urllib3\\connectionpool.py:1056: InsecureRequestWarning: Unverified HTTPS request is being made to host 'data.lpdaac.earthdatacloud.nasa.gov'. Adding certificate verification is strongly advised. See: https://urllib3.readthedocs.io/en/1.26.x/advanced-usage.html#ssl-warnings\n",
      "  warnings.warn(\n",
      "c:\\Users\\cinfante\\OneDrive - NRCan RNCan\\Documents\\Greenup\\NASA-LPDAAC-Testing\\venv\\Lib\\site-packages\\urllib3\\connectionpool.py:1056: InsecureRequestWarning: Unverified HTTPS request is being made to host 'd1nklfio7vscoe.cloudfront.net'. Adding certificate verification is strongly advised. See: https://urllib3.readthedocs.io/en/1.26.x/advanced-usage.html#ssl-warnings\n",
      "  warnings.warn(\n"
     ]
    },
    {
     "name": "stdout",
     "output_type": "stream",
     "text": [
      "https://data.lpdaac.earthdatacloud.nasa.gov/lp-prod-protected/VNP13A2.002/VNP13A2.A2023185.h08v03.002.2023201105413/VNP13A2.A2023185.h08v03.002.2023201105413.h5\n",
      "[[-15000 -15000 -15000 ... -15000 -15000 -15000]\n",
      " [-15000 -15000 -15000 ... -15000 -15000 -15000]\n",
      " [-15000 -15000 -15000 ... -15000 -15000 -15000]\n",
      " ...\n",
      " [-15000 -15000 -15000 ... -15000 -15000 -15000]\n",
      " [-15000 -15000 -15000 ... -15000 -15000 -15000]\n",
      " [-15000 -15000 -15000 ... -15000 -15000 -15000]]\n",
      "<xarray.DataArray (y: 1200, x: 1200)>\n",
      "array([[-15000, -15000, -15000, ..., -15000, -15000, -15000],\n",
      "       [-15000, -15000, -15000, ..., -15000, -15000, -15000],\n",
      "       [-15000, -15000, -15000, ..., -15000, -15000, -15000],\n",
      "       ...,\n",
      "       [-15000, -15000, -15000, ..., -15000, -15000, -15000],\n",
      "       [-15000, -15000, -15000, ..., -15000, -15000, -15000],\n",
      "       [-15000, -15000, -15000, ..., -15000, -15000, -15000]], dtype=int16)\n",
      "Dimensions without coordinates: y, x\n",
      "Processed item 6\n"
     ]
    },
    {
     "name": "stderr",
     "output_type": "stream",
     "text": [
      "c:\\Users\\cinfante\\OneDrive - NRCan RNCan\\Documents\\Greenup\\NASA-LPDAAC-Testing\\venv\\Lib\\site-packages\\urllib3\\connectionpool.py:1056: InsecureRequestWarning: Unverified HTTPS request is being made to host 'data.lpdaac.earthdatacloud.nasa.gov'. Adding certificate verification is strongly advised. See: https://urllib3.readthedocs.io/en/1.26.x/advanced-usage.html#ssl-warnings\n",
      "  warnings.warn(\n",
      "c:\\Users\\cinfante\\OneDrive - NRCan RNCan\\Documents\\Greenup\\NASA-LPDAAC-Testing\\venv\\Lib\\site-packages\\urllib3\\connectionpool.py:1056: InsecureRequestWarning: Unverified HTTPS request is being made to host 'urs.earthdata.nasa.gov'. Adding certificate verification is strongly advised. See: https://urllib3.readthedocs.io/en/1.26.x/advanced-usage.html#ssl-warnings\n",
      "  warnings.warn(\n",
      "c:\\Users\\cinfante\\OneDrive - NRCan RNCan\\Documents\\Greenup\\NASA-LPDAAC-Testing\\venv\\Lib\\site-packages\\urllib3\\connectionpool.py:1056: InsecureRequestWarning: Unverified HTTPS request is being made to host 'data.lpdaac.earthdatacloud.nasa.gov'. Adding certificate verification is strongly advised. See: https://urllib3.readthedocs.io/en/1.26.x/advanced-usage.html#ssl-warnings\n",
      "  warnings.warn(\n",
      "c:\\Users\\cinfante\\OneDrive - NRCan RNCan\\Documents\\Greenup\\NASA-LPDAAC-Testing\\venv\\Lib\\site-packages\\urllib3\\connectionpool.py:1056: InsecureRequestWarning: Unverified HTTPS request is being made to host 'data.lpdaac.earthdatacloud.nasa.gov'. Adding certificate verification is strongly advised. See: https://urllib3.readthedocs.io/en/1.26.x/advanced-usage.html#ssl-warnings\n",
      "  warnings.warn(\n",
      "c:\\Users\\cinfante\\OneDrive - NRCan RNCan\\Documents\\Greenup\\NASA-LPDAAC-Testing\\venv\\Lib\\site-packages\\urllib3\\connectionpool.py:1056: InsecureRequestWarning: Unverified HTTPS request is being made to host 'd1nklfio7vscoe.cloudfront.net'. Adding certificate verification is strongly advised. See: https://urllib3.readthedocs.io/en/1.26.x/advanced-usage.html#ssl-warnings\n",
      "  warnings.warn(\n"
     ]
    },
    {
     "name": "stdout",
     "output_type": "stream",
     "text": [
      "https://data.lpdaac.earthdatacloud.nasa.gov/lp-prod-protected/VNP13A2.002/VNP13A2.A2023185.h14v04.002.2023201105437/VNP13A2.A2023185.h14v04.002.2023201105437.h5\n",
      "[[-15000 -15000 -15000 ... -15000 -15000 -15000]\n",
      " [-15000 -15000 -15000 ... -15000 -15000 -15000]\n",
      " [-15000 -15000 -15000 ... -15000 -15000 -15000]\n",
      " ...\n",
      " [-15000 -15000 -15000 ... -15000 -15000 -15000]\n",
      " [-15000 -15000 -15000 ... -15000 -15000 -15000]\n",
      " [-15000 -15000 -15000 ... -15000 -15000 -15000]]\n",
      "<xarray.DataArray (y: 1200, x: 1200)>\n",
      "array([[-15000, -15000, -15000, ..., -15000, -15000, -15000],\n",
      "       [-15000, -15000, -15000, ..., -15000, -15000, -15000],\n",
      "       [-15000, -15000, -15000, ..., -15000, -15000, -15000],\n",
      "       ...,\n",
      "       [-15000, -15000, -15000, ..., -15000, -15000, -15000],\n",
      "       [-15000, -15000, -15000, ..., -15000, -15000, -15000],\n",
      "       [-15000, -15000, -15000, ..., -15000, -15000, -15000]], dtype=int16)\n",
      "Dimensions without coordinates: y, x\n",
      "Processed item 7\n"
     ]
    },
    {
     "name": "stderr",
     "output_type": "stream",
     "text": [
      "c:\\Users\\cinfante\\OneDrive - NRCan RNCan\\Documents\\Greenup\\NASA-LPDAAC-Testing\\venv\\Lib\\site-packages\\urllib3\\connectionpool.py:1056: InsecureRequestWarning: Unverified HTTPS request is being made to host 'data.lpdaac.earthdatacloud.nasa.gov'. Adding certificate verification is strongly advised. See: https://urllib3.readthedocs.io/en/1.26.x/advanced-usage.html#ssl-warnings\n",
      "  warnings.warn(\n",
      "c:\\Users\\cinfante\\OneDrive - NRCan RNCan\\Documents\\Greenup\\NASA-LPDAAC-Testing\\venv\\Lib\\site-packages\\urllib3\\connectionpool.py:1056: InsecureRequestWarning: Unverified HTTPS request is being made to host 'urs.earthdata.nasa.gov'. Adding certificate verification is strongly advised. See: https://urllib3.readthedocs.io/en/1.26.x/advanced-usage.html#ssl-warnings\n",
      "  warnings.warn(\n",
      "c:\\Users\\cinfante\\OneDrive - NRCan RNCan\\Documents\\Greenup\\NASA-LPDAAC-Testing\\venv\\Lib\\site-packages\\urllib3\\connectionpool.py:1056: InsecureRequestWarning: Unverified HTTPS request is being made to host 'data.lpdaac.earthdatacloud.nasa.gov'. Adding certificate verification is strongly advised. See: https://urllib3.readthedocs.io/en/1.26.x/advanced-usage.html#ssl-warnings\n",
      "  warnings.warn(\n",
      "c:\\Users\\cinfante\\OneDrive - NRCan RNCan\\Documents\\Greenup\\NASA-LPDAAC-Testing\\venv\\Lib\\site-packages\\urllib3\\connectionpool.py:1056: InsecureRequestWarning: Unverified HTTPS request is being made to host 'data.lpdaac.earthdatacloud.nasa.gov'. Adding certificate verification is strongly advised. See: https://urllib3.readthedocs.io/en/1.26.x/advanced-usage.html#ssl-warnings\n",
      "  warnings.warn(\n",
      "c:\\Users\\cinfante\\OneDrive - NRCan RNCan\\Documents\\Greenup\\NASA-LPDAAC-Testing\\venv\\Lib\\site-packages\\urllib3\\connectionpool.py:1056: InsecureRequestWarning: Unverified HTTPS request is being made to host 'd1nklfio7vscoe.cloudfront.net'. Adding certificate verification is strongly advised. See: https://urllib3.readthedocs.io/en/1.26.x/advanced-usage.html#ssl-warnings\n",
      "  warnings.warn(\n"
     ]
    },
    {
     "name": "stdout",
     "output_type": "stream",
     "text": [
      "https://data.lpdaac.earthdatacloud.nasa.gov/lp-prod-protected/VNP13A2.002/VNP13A2.A2023185.h15v03.002.2023201105448/VNP13A2.A2023185.h15v03.002.2023201105448.h5\n",
      "[[-15000 -15000 -15000 ... -15000 -15000 -15000]\n",
      " [-15000 -15000 -15000 ... -15000 -15000 -15000]\n",
      " [-15000 -15000 -15000 ... -15000 -15000 -15000]\n",
      " ...\n",
      " [-15000 -15000 -15000 ... -15000 -15000 -15000]\n",
      " [-15000 -15000 -15000 ... -15000 -15000 -15000]\n",
      " [-15000 -15000 -15000 ... -15000 -15000 -15000]]\n",
      "<xarray.DataArray (y: 1200, x: 1200)>\n",
      "array([[-15000, -15000, -15000, ..., -15000, -15000, -15000],\n",
      "       [-15000, -15000, -15000, ..., -15000, -15000, -15000],\n",
      "       [-15000, -15000, -15000, ..., -15000, -15000, -15000],\n",
      "       ...,\n",
      "       [-15000, -15000, -15000, ..., -15000, -15000, -15000],\n",
      "       [-15000, -15000, -15000, ..., -15000, -15000, -15000],\n",
      "       [-15000, -15000, -15000, ..., -15000, -15000, -15000]], dtype=int16)\n",
      "Dimensions without coordinates: y, x\n",
      "Processed item 8\n"
     ]
    },
    {
     "name": "stderr",
     "output_type": "stream",
     "text": [
      "c:\\Users\\cinfante\\OneDrive - NRCan RNCan\\Documents\\Greenup\\NASA-LPDAAC-Testing\\venv\\Lib\\site-packages\\urllib3\\connectionpool.py:1056: InsecureRequestWarning: Unverified HTTPS request is being made to host 'data.lpdaac.earthdatacloud.nasa.gov'. Adding certificate verification is strongly advised. See: https://urllib3.readthedocs.io/en/1.26.x/advanced-usage.html#ssl-warnings\n",
      "  warnings.warn(\n",
      "c:\\Users\\cinfante\\OneDrive - NRCan RNCan\\Documents\\Greenup\\NASA-LPDAAC-Testing\\venv\\Lib\\site-packages\\urllib3\\connectionpool.py:1056: InsecureRequestWarning: Unverified HTTPS request is being made to host 'urs.earthdata.nasa.gov'. Adding certificate verification is strongly advised. See: https://urllib3.readthedocs.io/en/1.26.x/advanced-usage.html#ssl-warnings\n",
      "  warnings.warn(\n",
      "c:\\Users\\cinfante\\OneDrive - NRCan RNCan\\Documents\\Greenup\\NASA-LPDAAC-Testing\\venv\\Lib\\site-packages\\urllib3\\connectionpool.py:1056: InsecureRequestWarning: Unverified HTTPS request is being made to host 'data.lpdaac.earthdatacloud.nasa.gov'. Adding certificate verification is strongly advised. See: https://urllib3.readthedocs.io/en/1.26.x/advanced-usage.html#ssl-warnings\n",
      "  warnings.warn(\n",
      "c:\\Users\\cinfante\\OneDrive - NRCan RNCan\\Documents\\Greenup\\NASA-LPDAAC-Testing\\venv\\Lib\\site-packages\\urllib3\\connectionpool.py:1056: InsecureRequestWarning: Unverified HTTPS request is being made to host 'data.lpdaac.earthdatacloud.nasa.gov'. Adding certificate verification is strongly advised. See: https://urllib3.readthedocs.io/en/1.26.x/advanced-usage.html#ssl-warnings\n",
      "  warnings.warn(\n",
      "c:\\Users\\cinfante\\OneDrive - NRCan RNCan\\Documents\\Greenup\\NASA-LPDAAC-Testing\\venv\\Lib\\site-packages\\urllib3\\connectionpool.py:1056: InsecureRequestWarning: Unverified HTTPS request is being made to host 'd1nklfio7vscoe.cloudfront.net'. Adding certificate verification is strongly advised. See: https://urllib3.readthedocs.io/en/1.26.x/advanced-usage.html#ssl-warnings\n",
      "  warnings.warn(\n"
     ]
    },
    {
     "name": "stdout",
     "output_type": "stream",
     "text": [
      "https://data.lpdaac.earthdatacloud.nasa.gov/lp-prod-protected/VNP13A2.002/VNP13A2.A2023185.h14v03.002.2023201105451/VNP13A2.A2023185.h14v03.002.2023201105451.h5\n",
      "[[-15000 -15000 -15000 ... -15000 -15000 -15000]\n",
      " [-15000 -15000 -15000 ... -15000 -15000 -15000]\n",
      " [-15000 -15000 -15000 ... -15000 -15000 -15000]\n",
      " ...\n",
      " [-15000 -15000 -15000 ... -15000 -15000 -15000]\n",
      " [-15000 -15000 -15000 ... -15000 -15000 -15000]\n",
      " [-15000 -15000 -15000 ... -15000 -15000 -15000]]\n",
      "<xarray.DataArray (y: 1200, x: 1200)>\n",
      "array([[-15000, -15000, -15000, ..., -15000, -15000, -15000],\n",
      "       [-15000, -15000, -15000, ..., -15000, -15000, -15000],\n",
      "       [-15000, -15000, -15000, ..., -15000, -15000, -15000],\n",
      "       ...,\n",
      "       [-15000, -15000, -15000, ..., -15000, -15000, -15000],\n",
      "       [-15000, -15000, -15000, ..., -15000, -15000, -15000],\n",
      "       [-15000, -15000, -15000, ..., -15000, -15000, -15000]], dtype=int16)\n",
      "Dimensions without coordinates: y, x\n",
      "Processed item 9\n"
     ]
    },
    {
     "name": "stderr",
     "output_type": "stream",
     "text": [
      "c:\\Users\\cinfante\\OneDrive - NRCan RNCan\\Documents\\Greenup\\NASA-LPDAAC-Testing\\venv\\Lib\\site-packages\\urllib3\\connectionpool.py:1056: InsecureRequestWarning: Unverified HTTPS request is being made to host 'data.lpdaac.earthdatacloud.nasa.gov'. Adding certificate verification is strongly advised. See: https://urllib3.readthedocs.io/en/1.26.x/advanced-usage.html#ssl-warnings\n",
      "  warnings.warn(\n",
      "c:\\Users\\cinfante\\OneDrive - NRCan RNCan\\Documents\\Greenup\\NASA-LPDAAC-Testing\\venv\\Lib\\site-packages\\urllib3\\connectionpool.py:1056: InsecureRequestWarning: Unverified HTTPS request is being made to host 'urs.earthdata.nasa.gov'. Adding certificate verification is strongly advised. See: https://urllib3.readthedocs.io/en/1.26.x/advanced-usage.html#ssl-warnings\n",
      "  warnings.warn(\n",
      "c:\\Users\\cinfante\\OneDrive - NRCan RNCan\\Documents\\Greenup\\NASA-LPDAAC-Testing\\venv\\Lib\\site-packages\\urllib3\\connectionpool.py:1056: InsecureRequestWarning: Unverified HTTPS request is being made to host 'data.lpdaac.earthdatacloud.nasa.gov'. Adding certificate verification is strongly advised. See: https://urllib3.readthedocs.io/en/1.26.x/advanced-usage.html#ssl-warnings\n",
      "  warnings.warn(\n",
      "c:\\Users\\cinfante\\OneDrive - NRCan RNCan\\Documents\\Greenup\\NASA-LPDAAC-Testing\\venv\\Lib\\site-packages\\urllib3\\connectionpool.py:1056: InsecureRequestWarning: Unverified HTTPS request is being made to host 'data.lpdaac.earthdatacloud.nasa.gov'. Adding certificate verification is strongly advised. See: https://urllib3.readthedocs.io/en/1.26.x/advanced-usage.html#ssl-warnings\n",
      "  warnings.warn(\n",
      "c:\\Users\\cinfante\\OneDrive - NRCan RNCan\\Documents\\Greenup\\NASA-LPDAAC-Testing\\venv\\Lib\\site-packages\\urllib3\\connectionpool.py:1056: InsecureRequestWarning: Unverified HTTPS request is being made to host 'd1nklfio7vscoe.cloudfront.net'. Adding certificate verification is strongly advised. See: https://urllib3.readthedocs.io/en/1.26.x/advanced-usage.html#ssl-warnings\n",
      "  warnings.warn(\n"
     ]
    },
    {
     "name": "stdout",
     "output_type": "stream",
     "text": [
      "https://data.lpdaac.earthdatacloud.nasa.gov/lp-prod-protected/VNP13A2.002/VNP13A2.A2023185.h10v03.002.2023201111147/VNP13A2.A2023185.h10v03.002.2023201111147.h5\n",
      "[[6482 6881 6971 ... 3106 2400 1495]\n",
      " [3762 6381 6013 ... 1974  394 3539]\n",
      " [5649 5536 8079 ... 8791 8743 8206]\n",
      " ...\n",
      " [8173 8166 7707 ... 5429 2550 2899]\n",
      " [7808 7472 8046 ... 1941 2880 2110]\n",
      " [4805 7486 6943 ... 2264 2103 3331]]\n",
      "<xarray.DataArray (y: 1200, x: 1200)>\n",
      "array([[6482, 6881, 6971, ..., 3106, 2400, 1495],\n",
      "       [3762, 6381, 6013, ..., 1974,  394, 3539],\n",
      "       [5649, 5536, 8079, ..., 8791, 8743, 8206],\n",
      "       ...,\n",
      "       [8173, 8166, 7707, ..., 5429, 2550, 2899],\n",
      "       [7808, 7472, 8046, ..., 1941, 2880, 2110],\n",
      "       [4805, 7486, 6943, ..., 2264, 2103, 3331]], dtype=int16)\n",
      "Dimensions without coordinates: y, x\n",
      "Processed item 10\n"
     ]
    },
    {
     "name": "stderr",
     "output_type": "stream",
     "text": [
      "c:\\Users\\cinfante\\OneDrive - NRCan RNCan\\Documents\\Greenup\\NASA-LPDAAC-Testing\\venv\\Lib\\site-packages\\urllib3\\connectionpool.py:1056: InsecureRequestWarning: Unverified HTTPS request is being made to host 'data.lpdaac.earthdatacloud.nasa.gov'. Adding certificate verification is strongly advised. See: https://urllib3.readthedocs.io/en/1.26.x/advanced-usage.html#ssl-warnings\n",
      "  warnings.warn(\n",
      "c:\\Users\\cinfante\\OneDrive - NRCan RNCan\\Documents\\Greenup\\NASA-LPDAAC-Testing\\venv\\Lib\\site-packages\\urllib3\\connectionpool.py:1056: InsecureRequestWarning: Unverified HTTPS request is being made to host 'urs.earthdata.nasa.gov'. Adding certificate verification is strongly advised. See: https://urllib3.readthedocs.io/en/1.26.x/advanced-usage.html#ssl-warnings\n",
      "  warnings.warn(\n",
      "c:\\Users\\cinfante\\OneDrive - NRCan RNCan\\Documents\\Greenup\\NASA-LPDAAC-Testing\\venv\\Lib\\site-packages\\urllib3\\connectionpool.py:1056: InsecureRequestWarning: Unverified HTTPS request is being made to host 'data.lpdaac.earthdatacloud.nasa.gov'. Adding certificate verification is strongly advised. See: https://urllib3.readthedocs.io/en/1.26.x/advanced-usage.html#ssl-warnings\n",
      "  warnings.warn(\n",
      "c:\\Users\\cinfante\\OneDrive - NRCan RNCan\\Documents\\Greenup\\NASA-LPDAAC-Testing\\venv\\Lib\\site-packages\\urllib3\\connectionpool.py:1056: InsecureRequestWarning: Unverified HTTPS request is being made to host 'data.lpdaac.earthdatacloud.nasa.gov'. Adding certificate verification is strongly advised. See: https://urllib3.readthedocs.io/en/1.26.x/advanced-usage.html#ssl-warnings\n",
      "  warnings.warn(\n",
      "c:\\Users\\cinfante\\OneDrive - NRCan RNCan\\Documents\\Greenup\\NASA-LPDAAC-Testing\\venv\\Lib\\site-packages\\urllib3\\connectionpool.py:1056: InsecureRequestWarning: Unverified HTTPS request is being made to host 'd1nklfio7vscoe.cloudfront.net'. Adding certificate verification is strongly advised. See: https://urllib3.readthedocs.io/en/1.26.x/advanced-usage.html#ssl-warnings\n",
      "  warnings.warn(\n"
     ]
    },
    {
     "name": "stdout",
     "output_type": "stream",
     "text": [
      "https://data.lpdaac.earthdatacloud.nasa.gov/lp-prod-protected/VNP13A2.002/VNP13A2.A2023185.h09v03.002.2023201112210/VNP13A2.A2023185.h09v03.002.2023201112210.h5\n",
      "[[-15000 -15000 -15000 ...   6802   6921   6431]\n",
      " [-15000 -15000 -15000 ...   4693   6740   6428]\n",
      " [-15000 -15000 -15000 ...   1921   3074   3684]\n",
      " ...\n",
      " [-15000 -15000 -15000 ...   8120   6793   7263]\n",
      " [-15000 -15000 -15000 ...   7240   7455   7933]\n",
      " [-15000 -15000 -15000 ...   7830   7444   6832]]\n",
      "<xarray.DataArray (y: 1200, x: 1200)>\n",
      "array([[-15000, -15000, -15000, ...,   6802,   6921,   6431],\n",
      "       [-15000, -15000, -15000, ...,   4693,   6740,   6428],\n",
      "       [-15000, -15000, -15000, ...,   1921,   3074,   3684],\n",
      "       ...,\n",
      "       [-15000, -15000, -15000, ...,   8120,   6793,   7263],\n",
      "       [-15000, -15000, -15000, ...,   7240,   7455,   7933],\n",
      "       [-15000, -15000, -15000, ...,   7830,   7444,   6832]], dtype=int16)\n",
      "Dimensions without coordinates: y, x\n",
      "Processed item 11\n"
     ]
    },
    {
     "name": "stderr",
     "output_type": "stream",
     "text": [
      "c:\\Users\\cinfante\\OneDrive - NRCan RNCan\\Documents\\Greenup\\NASA-LPDAAC-Testing\\venv\\Lib\\site-packages\\urllib3\\connectionpool.py:1056: InsecureRequestWarning: Unverified HTTPS request is being made to host 'data.lpdaac.earthdatacloud.nasa.gov'. Adding certificate verification is strongly advised. See: https://urllib3.readthedocs.io/en/1.26.x/advanced-usage.html#ssl-warnings\n",
      "  warnings.warn(\n",
      "c:\\Users\\cinfante\\OneDrive - NRCan RNCan\\Documents\\Greenup\\NASA-LPDAAC-Testing\\venv\\Lib\\site-packages\\urllib3\\connectionpool.py:1056: InsecureRequestWarning: Unverified HTTPS request is being made to host 'urs.earthdata.nasa.gov'. Adding certificate verification is strongly advised. See: https://urllib3.readthedocs.io/en/1.26.x/advanced-usage.html#ssl-warnings\n",
      "  warnings.warn(\n",
      "c:\\Users\\cinfante\\OneDrive - NRCan RNCan\\Documents\\Greenup\\NASA-LPDAAC-Testing\\venv\\Lib\\site-packages\\urllib3\\connectionpool.py:1056: InsecureRequestWarning: Unverified HTTPS request is being made to host 'data.lpdaac.earthdatacloud.nasa.gov'. Adding certificate verification is strongly advised. See: https://urllib3.readthedocs.io/en/1.26.x/advanced-usage.html#ssl-warnings\n",
      "  warnings.warn(\n",
      "c:\\Users\\cinfante\\OneDrive - NRCan RNCan\\Documents\\Greenup\\NASA-LPDAAC-Testing\\venv\\Lib\\site-packages\\urllib3\\connectionpool.py:1056: InsecureRequestWarning: Unverified HTTPS request is being made to host 'data.lpdaac.earthdatacloud.nasa.gov'. Adding certificate verification is strongly advised. See: https://urllib3.readthedocs.io/en/1.26.x/advanced-usage.html#ssl-warnings\n",
      "  warnings.warn(\n",
      "c:\\Users\\cinfante\\OneDrive - NRCan RNCan\\Documents\\Greenup\\NASA-LPDAAC-Testing\\venv\\Lib\\site-packages\\urllib3\\connectionpool.py:1056: InsecureRequestWarning: Unverified HTTPS request is being made to host 'd1nklfio7vscoe.cloudfront.net'. Adding certificate verification is strongly advised. See: https://urllib3.readthedocs.io/en/1.26.x/advanced-usage.html#ssl-warnings\n",
      "  warnings.warn(\n"
     ]
    },
    {
     "name": "stdout",
     "output_type": "stream",
     "text": [
      "https://data.lpdaac.earthdatacloud.nasa.gov/lp-prod-protected/VNP13A2.002/VNP13A2.A2023185.h12v03.002.2023201105447/VNP13A2.A2023185.h12v03.002.2023201105447.h5\n",
      "[[ 2380  5075  1458 ...  5201  4840  2922]\n",
      " [ 2721   983   891 ...  -344 -1404  5859]\n",
      " [ 5171  4611  5332 ...  6675  6263  -927]\n",
      " ...\n",
      " [ 8536  8731  8736 ...  5031  5255  6924]\n",
      " [ 8721  8795  8320 ...  5080  4853  6361]\n",
      " [ 7702  8569  8447 ...  3736  2719  6247]]\n",
      "<xarray.DataArray (y: 1200, x: 1200)>\n",
      "array([[ 2380,  5075,  1458, ...,  5201,  4840,  2922],\n",
      "       [ 2721,   983,   891, ...,  -344, -1404,  5859],\n",
      "       [ 5171,  4611,  5332, ...,  6675,  6263,  -927],\n",
      "       ...,\n",
      "       [ 8536,  8731,  8736, ...,  5031,  5255,  6924],\n",
      "       [ 8721,  8795,  8320, ...,  5080,  4853,  6361],\n",
      "       [ 7702,  8569,  8447, ...,  3736,  2719,  6247]], dtype=int16)\n",
      "Dimensions without coordinates: y, x\n",
      "Processed item 12\n"
     ]
    },
    {
     "name": "stderr",
     "output_type": "stream",
     "text": [
      "c:\\Users\\cinfante\\OneDrive - NRCan RNCan\\Documents\\Greenup\\NASA-LPDAAC-Testing\\venv\\Lib\\site-packages\\urllib3\\connectionpool.py:1056: InsecureRequestWarning: Unverified HTTPS request is being made to host 'data.lpdaac.earthdatacloud.nasa.gov'. Adding certificate verification is strongly advised. See: https://urllib3.readthedocs.io/en/1.26.x/advanced-usage.html#ssl-warnings\n",
      "  warnings.warn(\n",
      "c:\\Users\\cinfante\\OneDrive - NRCan RNCan\\Documents\\Greenup\\NASA-LPDAAC-Testing\\venv\\Lib\\site-packages\\urllib3\\connectionpool.py:1056: InsecureRequestWarning: Unverified HTTPS request is being made to host 'urs.earthdata.nasa.gov'. Adding certificate verification is strongly advised. See: https://urllib3.readthedocs.io/en/1.26.x/advanced-usage.html#ssl-warnings\n",
      "  warnings.warn(\n",
      "c:\\Users\\cinfante\\OneDrive - NRCan RNCan\\Documents\\Greenup\\NASA-LPDAAC-Testing\\venv\\Lib\\site-packages\\urllib3\\connectionpool.py:1056: InsecureRequestWarning: Unverified HTTPS request is being made to host 'data.lpdaac.earthdatacloud.nasa.gov'. Adding certificate verification is strongly advised. See: https://urllib3.readthedocs.io/en/1.26.x/advanced-usage.html#ssl-warnings\n",
      "  warnings.warn(\n",
      "c:\\Users\\cinfante\\OneDrive - NRCan RNCan\\Documents\\Greenup\\NASA-LPDAAC-Testing\\venv\\Lib\\site-packages\\urllib3\\connectionpool.py:1056: InsecureRequestWarning: Unverified HTTPS request is being made to host 'data.lpdaac.earthdatacloud.nasa.gov'. Adding certificate verification is strongly advised. See: https://urllib3.readthedocs.io/en/1.26.x/advanced-usage.html#ssl-warnings\n",
      "  warnings.warn(\n",
      "c:\\Users\\cinfante\\OneDrive - NRCan RNCan\\Documents\\Greenup\\NASA-LPDAAC-Testing\\venv\\Lib\\site-packages\\urllib3\\connectionpool.py:1056: InsecureRequestWarning: Unverified HTTPS request is being made to host 'd1nklfio7vscoe.cloudfront.net'. Adding certificate verification is strongly advised. See: https://urllib3.readthedocs.io/en/1.26.x/advanced-usage.html#ssl-warnings\n",
      "  warnings.warn(\n"
     ]
    },
    {
     "name": "stdout",
     "output_type": "stream",
     "text": [
      "https://data.lpdaac.earthdatacloud.nasa.gov/lp-prod-protected/VNP13A2.002/VNP13A2.A2023185.h13v03.002.2023201105456/VNP13A2.A2023185.h13v03.002.2023201105456.h5\n",
      "[[-15000 -15000 -15000 ... -15000 -15000 -15000]\n",
      " [-15000 -15000  -1396 ... -15000 -15000 -15000]\n",
      " [  -909   -588   -695 ... -15000 -15000 -15000]\n",
      " ...\n",
      " [  6292   6435   7055 ... -15000 -15000 -15000]\n",
      " [  6330   6778   7924 ... -15000 -15000 -15000]\n",
      " [  7107   7694   6463 ... -15000 -15000 -15000]]\n",
      "<xarray.DataArray (y: 1200, x: 1200)>\n",
      "array([[-15000, -15000, -15000, ..., -15000, -15000, -15000],\n",
      "       [-15000, -15000,  -1396, ..., -15000, -15000, -15000],\n",
      "       [  -909,   -588,   -695, ..., -15000, -15000, -15000],\n",
      "       ...,\n",
      "       [  6292,   6435,   7055, ..., -15000, -15000, -15000],\n",
      "       [  6330,   6778,   7924, ..., -15000, -15000, -15000],\n",
      "       [  7107,   7694,   6463, ..., -15000, -15000, -15000]], dtype=int16)\n",
      "Dimensions without coordinates: y, x\n",
      "Processed item 13\n"
     ]
    },
    {
     "name": "stderr",
     "output_type": "stream",
     "text": [
      "c:\\Users\\cinfante\\OneDrive - NRCan RNCan\\Documents\\Greenup\\NASA-LPDAAC-Testing\\venv\\Lib\\site-packages\\urllib3\\connectionpool.py:1056: InsecureRequestWarning: Unverified HTTPS request is being made to host 'data.lpdaac.earthdatacloud.nasa.gov'. Adding certificate verification is strongly advised. See: https://urllib3.readthedocs.io/en/1.26.x/advanced-usage.html#ssl-warnings\n",
      "  warnings.warn(\n",
      "c:\\Users\\cinfante\\OneDrive - NRCan RNCan\\Documents\\Greenup\\NASA-LPDAAC-Testing\\venv\\Lib\\site-packages\\urllib3\\connectionpool.py:1056: InsecureRequestWarning: Unverified HTTPS request is being made to host 'urs.earthdata.nasa.gov'. Adding certificate verification is strongly advised. See: https://urllib3.readthedocs.io/en/1.26.x/advanced-usage.html#ssl-warnings\n",
      "  warnings.warn(\n",
      "c:\\Users\\cinfante\\OneDrive - NRCan RNCan\\Documents\\Greenup\\NASA-LPDAAC-Testing\\venv\\Lib\\site-packages\\urllib3\\connectionpool.py:1056: InsecureRequestWarning: Unverified HTTPS request is being made to host 'data.lpdaac.earthdatacloud.nasa.gov'. Adding certificate verification is strongly advised. See: https://urllib3.readthedocs.io/en/1.26.x/advanced-usage.html#ssl-warnings\n",
      "  warnings.warn(\n",
      "c:\\Users\\cinfante\\OneDrive - NRCan RNCan\\Documents\\Greenup\\NASA-LPDAAC-Testing\\venv\\Lib\\site-packages\\urllib3\\connectionpool.py:1056: InsecureRequestWarning: Unverified HTTPS request is being made to host 'data.lpdaac.earthdatacloud.nasa.gov'. Adding certificate verification is strongly advised. See: https://urllib3.readthedocs.io/en/1.26.x/advanced-usage.html#ssl-warnings\n",
      "  warnings.warn(\n",
      "c:\\Users\\cinfante\\OneDrive - NRCan RNCan\\Documents\\Greenup\\NASA-LPDAAC-Testing\\venv\\Lib\\site-packages\\urllib3\\connectionpool.py:1056: InsecureRequestWarning: Unverified HTTPS request is being made to host 'd1nklfio7vscoe.cloudfront.net'. Adding certificate verification is strongly advised. See: https://urllib3.readthedocs.io/en/1.26.x/advanced-usage.html#ssl-warnings\n",
      "  warnings.warn(\n"
     ]
    },
    {
     "name": "stdout",
     "output_type": "stream",
     "text": [
      "https://data.lpdaac.earthdatacloud.nasa.gov/lp-prod-protected/VNP13A2.002/VNP13A2.A2023185.h11v03.002.2023201105408/VNP13A2.A2023185.h11v03.002.2023201105408.h5\n",
      "[[3367 5039 7561 ... 6440 6190 2687]\n",
      " [4739 5828 4861 ... 6003  894 2252]\n",
      " [6757 6346 6570 ... 2201 2170 2110]\n",
      " ...\n",
      " [3014 3493 4157 ... 8357 8452 8542]\n",
      " [2936 3955 4054 ... 8233 8386 8680]\n",
      " [3447 3580 4247 ... 8516 7952 7606]]\n",
      "<xarray.DataArray (y: 1200, x: 1200)>\n",
      "array([[3367, 5039, 7561, ..., 6440, 6190, 2687],\n",
      "       [4739, 5828, 4861, ..., 6003,  894, 2252],\n",
      "       [6757, 6346, 6570, ..., 2201, 2170, 2110],\n",
      "       ...,\n",
      "       [3014, 3493, 4157, ..., 8357, 8452, 8542],\n",
      "       [2936, 3955, 4054, ..., 8233, 8386, 8680],\n",
      "       [3447, 3580, 4247, ..., 8516, 7952, 7606]], dtype=int16)\n",
      "Dimensions without coordinates: y, x\n",
      "Processed item 14\n"
     ]
    },
    {
     "name": "stderr",
     "output_type": "stream",
     "text": [
      "c:\\Users\\cinfante\\OneDrive - NRCan RNCan\\Documents\\Greenup\\NASA-LPDAAC-Testing\\venv\\Lib\\site-packages\\urllib3\\connectionpool.py:1056: InsecureRequestWarning: Unverified HTTPS request is being made to host 'data.lpdaac.earthdatacloud.nasa.gov'. Adding certificate verification is strongly advised. See: https://urllib3.readthedocs.io/en/1.26.x/advanced-usage.html#ssl-warnings\n",
      "  warnings.warn(\n",
      "c:\\Users\\cinfante\\OneDrive - NRCan RNCan\\Documents\\Greenup\\NASA-LPDAAC-Testing\\venv\\Lib\\site-packages\\urllib3\\connectionpool.py:1056: InsecureRequestWarning: Unverified HTTPS request is being made to host 'urs.earthdata.nasa.gov'. Adding certificate verification is strongly advised. See: https://urllib3.readthedocs.io/en/1.26.x/advanced-usage.html#ssl-warnings\n",
      "  warnings.warn(\n",
      "c:\\Users\\cinfante\\OneDrive - NRCan RNCan\\Documents\\Greenup\\NASA-LPDAAC-Testing\\venv\\Lib\\site-packages\\urllib3\\connectionpool.py:1056: InsecureRequestWarning: Unverified HTTPS request is being made to host 'data.lpdaac.earthdatacloud.nasa.gov'. Adding certificate verification is strongly advised. See: https://urllib3.readthedocs.io/en/1.26.x/advanced-usage.html#ssl-warnings\n",
      "  warnings.warn(\n",
      "c:\\Users\\cinfante\\OneDrive - NRCan RNCan\\Documents\\Greenup\\NASA-LPDAAC-Testing\\venv\\Lib\\site-packages\\urllib3\\connectionpool.py:1056: InsecureRequestWarning: Unverified HTTPS request is being made to host 'data.lpdaac.earthdatacloud.nasa.gov'. Adding certificate verification is strongly advised. See: https://urllib3.readthedocs.io/en/1.26.x/advanced-usage.html#ssl-warnings\n",
      "  warnings.warn(\n",
      "c:\\Users\\cinfante\\OneDrive - NRCan RNCan\\Documents\\Greenup\\NASA-LPDAAC-Testing\\venv\\Lib\\site-packages\\urllib3\\connectionpool.py:1056: InsecureRequestWarning: Unverified HTTPS request is being made to host 'd1nklfio7vscoe.cloudfront.net'. Adding certificate verification is strongly advised. See: https://urllib3.readthedocs.io/en/1.26.x/advanced-usage.html#ssl-warnings\n",
      "  warnings.warn(\n"
     ]
    },
    {
     "name": "stdout",
     "output_type": "stream",
     "text": [
      "https://data.lpdaac.earthdatacloud.nasa.gov/lp-prod-protected/VNP13A2.002/VNP13A2.A2023185.h10v02.002.2023201115854/VNP13A2.A2023185.h10v02.002.2023201115854.h5\n",
      "[[-15000 -15000 -15000 ... -15000 -15000 -15000]\n",
      " [-15000 -15000 -15000 ... -15000 -15000 -15000]\n",
      " [-15000 -15000 -15000 ... -15000 -15000 -15000]\n",
      " ...\n",
      " [  8038   7334   7245 ...   8250   6134   4048]\n",
      " [  6832   6742   6502 ...   7653    289   1988]\n",
      " [  6618   6208   6228 ...   5534   2024   1607]]\n",
      "<xarray.DataArray (y: 1200, x: 1200)>\n",
      "array([[-15000, -15000, -15000, ..., -15000, -15000, -15000],\n",
      "       [-15000, -15000, -15000, ..., -15000, -15000, -15000],\n",
      "       [-15000, -15000, -15000, ..., -15000, -15000, -15000],\n",
      "       ...,\n",
      "       [  8038,   7334,   7245, ...,   8250,   6134,   4048],\n",
      "       [  6832,   6742,   6502, ...,   7653,    289,   1988],\n",
      "       [  6618,   6208,   6228, ...,   5534,   2024,   1607]], dtype=int16)\n",
      "Dimensions without coordinates: y, x\n",
      "Processed item 15\n"
     ]
    },
    {
     "name": "stderr",
     "output_type": "stream",
     "text": [
      "c:\\Users\\cinfante\\OneDrive - NRCan RNCan\\Documents\\Greenup\\NASA-LPDAAC-Testing\\venv\\Lib\\site-packages\\urllib3\\connectionpool.py:1056: InsecureRequestWarning: Unverified HTTPS request is being made to host 'data.lpdaac.earthdatacloud.nasa.gov'. Adding certificate verification is strongly advised. See: https://urllib3.readthedocs.io/en/1.26.x/advanced-usage.html#ssl-warnings\n",
      "  warnings.warn(\n",
      "c:\\Users\\cinfante\\OneDrive - NRCan RNCan\\Documents\\Greenup\\NASA-LPDAAC-Testing\\venv\\Lib\\site-packages\\urllib3\\connectionpool.py:1056: InsecureRequestWarning: Unverified HTTPS request is being made to host 'urs.earthdata.nasa.gov'. Adding certificate verification is strongly advised. See: https://urllib3.readthedocs.io/en/1.26.x/advanced-usage.html#ssl-warnings\n",
      "  warnings.warn(\n",
      "c:\\Users\\cinfante\\OneDrive - NRCan RNCan\\Documents\\Greenup\\NASA-LPDAAC-Testing\\venv\\Lib\\site-packages\\urllib3\\connectionpool.py:1056: InsecureRequestWarning: Unverified HTTPS request is being made to host 'data.lpdaac.earthdatacloud.nasa.gov'. Adding certificate verification is strongly advised. See: https://urllib3.readthedocs.io/en/1.26.x/advanced-usage.html#ssl-warnings\n",
      "  warnings.warn(\n",
      "c:\\Users\\cinfante\\OneDrive - NRCan RNCan\\Documents\\Greenup\\NASA-LPDAAC-Testing\\venv\\Lib\\site-packages\\urllib3\\connectionpool.py:1056: InsecureRequestWarning: Unverified HTTPS request is being made to host 'data.lpdaac.earthdatacloud.nasa.gov'. Adding certificate verification is strongly advised. See: https://urllib3.readthedocs.io/en/1.26.x/advanced-usage.html#ssl-warnings\n",
      "  warnings.warn(\n",
      "c:\\Users\\cinfante\\OneDrive - NRCan RNCan\\Documents\\Greenup\\NASA-LPDAAC-Testing\\venv\\Lib\\site-packages\\urllib3\\connectionpool.py:1056: InsecureRequestWarning: Unverified HTTPS request is being made to host 'd1nklfio7vscoe.cloudfront.net'. Adding certificate verification is strongly advised. See: https://urllib3.readthedocs.io/en/1.26.x/advanced-usage.html#ssl-warnings\n",
      "  warnings.warn(\n"
     ]
    },
    {
     "name": "stdout",
     "output_type": "stream",
     "text": [
      "https://data.lpdaac.earthdatacloud.nasa.gov/lp-prod-protected/VNP13A2.002/VNP13A2.A2023185.h13v01.002.2023201114911/VNP13A2.A2023185.h13v01.002.2023201114911.h5\n",
      "[[-15000 -15000 -15000 ... -15000 -15000 -15000]\n",
      " [-15000 -15000 -15000 ... -15000 -15000 -15000]\n",
      " [-15000 -15000 -15000 ... -15000 -15000 -15000]\n",
      " ...\n",
      " [  5732   5660   5741 ...   2054   2252   2178]\n",
      " [  5652   5701   5414 ...   2744   2567   2174]\n",
      " [  5574   5361   3577 ...   2139   2390   1993]]\n",
      "<xarray.DataArray (y: 1200, x: 1200)>\n",
      "array([[-15000, -15000, -15000, ..., -15000, -15000, -15000],\n",
      "       [-15000, -15000, -15000, ..., -15000, -15000, -15000],\n",
      "       [-15000, -15000, -15000, ..., -15000, -15000, -15000],\n",
      "       ...,\n",
      "       [  5732,   5660,   5741, ...,   2054,   2252,   2178],\n",
      "       [  5652,   5701,   5414, ...,   2744,   2567,   2174],\n",
      "       [  5574,   5361,   3577, ...,   2139,   2390,   1993]], dtype=int16)\n",
      "Dimensions without coordinates: y, x\n",
      "Processed item 16\n"
     ]
    },
    {
     "name": "stderr",
     "output_type": "stream",
     "text": [
      "c:\\Users\\cinfante\\OneDrive - NRCan RNCan\\Documents\\Greenup\\NASA-LPDAAC-Testing\\venv\\Lib\\site-packages\\urllib3\\connectionpool.py:1056: InsecureRequestWarning: Unverified HTTPS request is being made to host 'data.lpdaac.earthdatacloud.nasa.gov'. Adding certificate verification is strongly advised. See: https://urllib3.readthedocs.io/en/1.26.x/advanced-usage.html#ssl-warnings\n",
      "  warnings.warn(\n",
      "c:\\Users\\cinfante\\OneDrive - NRCan RNCan\\Documents\\Greenup\\NASA-LPDAAC-Testing\\venv\\Lib\\site-packages\\urllib3\\connectionpool.py:1056: InsecureRequestWarning: Unverified HTTPS request is being made to host 'urs.earthdata.nasa.gov'. Adding certificate verification is strongly advised. See: https://urllib3.readthedocs.io/en/1.26.x/advanced-usage.html#ssl-warnings\n",
      "  warnings.warn(\n",
      "c:\\Users\\cinfante\\OneDrive - NRCan RNCan\\Documents\\Greenup\\NASA-LPDAAC-Testing\\venv\\Lib\\site-packages\\urllib3\\connectionpool.py:1056: InsecureRequestWarning: Unverified HTTPS request is being made to host 'data.lpdaac.earthdatacloud.nasa.gov'. Adding certificate verification is strongly advised. See: https://urllib3.readthedocs.io/en/1.26.x/advanced-usage.html#ssl-warnings\n",
      "  warnings.warn(\n",
      "c:\\Users\\cinfante\\OneDrive - NRCan RNCan\\Documents\\Greenup\\NASA-LPDAAC-Testing\\venv\\Lib\\site-packages\\urllib3\\connectionpool.py:1056: InsecureRequestWarning: Unverified HTTPS request is being made to host 'data.lpdaac.earthdatacloud.nasa.gov'. Adding certificate verification is strongly advised. See: https://urllib3.readthedocs.io/en/1.26.x/advanced-usage.html#ssl-warnings\n",
      "  warnings.warn(\n",
      "c:\\Users\\cinfante\\OneDrive - NRCan RNCan\\Documents\\Greenup\\NASA-LPDAAC-Testing\\venv\\Lib\\site-packages\\urllib3\\connectionpool.py:1056: InsecureRequestWarning: Unverified HTTPS request is being made to host 'd1nklfio7vscoe.cloudfront.net'. Adding certificate verification is strongly advised. See: https://urllib3.readthedocs.io/en/1.26.x/advanced-usage.html#ssl-warnings\n",
      "  warnings.warn(\n"
     ]
    },
    {
     "name": "stdout",
     "output_type": "stream",
     "text": [
      "https://data.lpdaac.earthdatacloud.nasa.gov/lp-prod-protected/VNP13A2.002/VNP13A2.A2023185.h15v02.002.2023201113201/VNP13A2.A2023185.h15v02.002.2023201113201.h5\n",
      "[[-15000 -15000 -15000 ... -15000 -15000 -15000]\n",
      " [-15000 -15000 -15000 ... -15000 -15000 -15000]\n",
      " [-15000 -15000 -15000 ... -15000 -15000 -15000]\n",
      " ...\n",
      " [-15000 -15000 -15000 ... -15000 -15000 -15000]\n",
      " [-15000 -15000 -15000 ... -15000 -15000 -15000]\n",
      " [-15000 -15000 -15000 ... -15000 -15000 -15000]]\n",
      "<xarray.DataArray (y: 1200, x: 1200)>\n",
      "array([[-15000, -15000, -15000, ..., -15000, -15000, -15000],\n",
      "       [-15000, -15000, -15000, ..., -15000, -15000, -15000],\n",
      "       [-15000, -15000, -15000, ..., -15000, -15000, -15000],\n",
      "       ...,\n",
      "       [-15000, -15000, -15000, ..., -15000, -15000, -15000],\n",
      "       [-15000, -15000, -15000, ..., -15000, -15000, -15000],\n",
      "       [-15000, -15000, -15000, ..., -15000, -15000, -15000]], dtype=int16)\n",
      "Dimensions without coordinates: y, x\n",
      "Processed item 17\n"
     ]
    },
    {
     "name": "stderr",
     "output_type": "stream",
     "text": [
      "c:\\Users\\cinfante\\OneDrive - NRCan RNCan\\Documents\\Greenup\\NASA-LPDAAC-Testing\\venv\\Lib\\site-packages\\urllib3\\connectionpool.py:1056: InsecureRequestWarning: Unverified HTTPS request is being made to host 'data.lpdaac.earthdatacloud.nasa.gov'. Adding certificate verification is strongly advised. See: https://urllib3.readthedocs.io/en/1.26.x/advanced-usage.html#ssl-warnings\n",
      "  warnings.warn(\n",
      "c:\\Users\\cinfante\\OneDrive - NRCan RNCan\\Documents\\Greenup\\NASA-LPDAAC-Testing\\venv\\Lib\\site-packages\\urllib3\\connectionpool.py:1056: InsecureRequestWarning: Unverified HTTPS request is being made to host 'urs.earthdata.nasa.gov'. Adding certificate verification is strongly advised. See: https://urllib3.readthedocs.io/en/1.26.x/advanced-usage.html#ssl-warnings\n",
      "  warnings.warn(\n",
      "c:\\Users\\cinfante\\OneDrive - NRCan RNCan\\Documents\\Greenup\\NASA-LPDAAC-Testing\\venv\\Lib\\site-packages\\urllib3\\connectionpool.py:1056: InsecureRequestWarning: Unverified HTTPS request is being made to host 'data.lpdaac.earthdatacloud.nasa.gov'. Adding certificate verification is strongly advised. See: https://urllib3.readthedocs.io/en/1.26.x/advanced-usage.html#ssl-warnings\n",
      "  warnings.warn(\n",
      "c:\\Users\\cinfante\\OneDrive - NRCan RNCan\\Documents\\Greenup\\NASA-LPDAAC-Testing\\venv\\Lib\\site-packages\\urllib3\\connectionpool.py:1056: InsecureRequestWarning: Unverified HTTPS request is being made to host 'data.lpdaac.earthdatacloud.nasa.gov'. Adding certificate verification is strongly advised. See: https://urllib3.readthedocs.io/en/1.26.x/advanced-usage.html#ssl-warnings\n",
      "  warnings.warn(\n",
      "c:\\Users\\cinfante\\OneDrive - NRCan RNCan\\Documents\\Greenup\\NASA-LPDAAC-Testing\\venv\\Lib\\site-packages\\urllib3\\connectionpool.py:1056: InsecureRequestWarning: Unverified HTTPS request is being made to host 'd1nklfio7vscoe.cloudfront.net'. Adding certificate verification is strongly advised. See: https://urllib3.readthedocs.io/en/1.26.x/advanced-usage.html#ssl-warnings\n",
      "  warnings.warn(\n"
     ]
    },
    {
     "name": "stdout",
     "output_type": "stream",
     "text": [
      "https://data.lpdaac.earthdatacloud.nasa.gov/lp-prod-protected/VNP13A2.002/VNP13A2.A2023185.h16v02.002.2023201115923/VNP13A2.A2023185.h16v02.002.2023201115923.h5\n",
      "[[-15000 -15000 -15000 ...   -502   -566   -295]\n",
      " [-15000 -15000 -15000 ...   -467   -700   -688]\n",
      " [-15000 -15000 -15000 ...   -360   -680   -598]\n",
      " ...\n",
      " [-15000 -15000 -15000 ... -15000 -15000 -15000]\n",
      " [-15000 -15000 -15000 ... -15000 -15000 -15000]\n",
      " [-15000 -15000 -15000 ... -15000 -15000 -15000]]\n",
      "<xarray.DataArray (y: 1200, x: 1200)>\n",
      "array([[-15000, -15000, -15000, ...,   -502,   -566,   -295],\n",
      "       [-15000, -15000, -15000, ...,   -467,   -700,   -688],\n",
      "       [-15000, -15000, -15000, ...,   -360,   -680,   -598],\n",
      "       ...,\n",
      "       [-15000, -15000, -15000, ..., -15000, -15000, -15000],\n",
      "       [-15000, -15000, -15000, ..., -15000, -15000, -15000],\n",
      "       [-15000, -15000, -15000, ..., -15000, -15000, -15000]], dtype=int16)\n",
      "Dimensions without coordinates: y, x\n",
      "Processed item 18\n"
     ]
    },
    {
     "name": "stderr",
     "output_type": "stream",
     "text": [
      "c:\\Users\\cinfante\\OneDrive - NRCan RNCan\\Documents\\Greenup\\NASA-LPDAAC-Testing\\venv\\Lib\\site-packages\\urllib3\\connectionpool.py:1056: InsecureRequestWarning: Unverified HTTPS request is being made to host 'data.lpdaac.earthdatacloud.nasa.gov'. Adding certificate verification is strongly advised. See: https://urllib3.readthedocs.io/en/1.26.x/advanced-usage.html#ssl-warnings\n",
      "  warnings.warn(\n",
      "c:\\Users\\cinfante\\OneDrive - NRCan RNCan\\Documents\\Greenup\\NASA-LPDAAC-Testing\\venv\\Lib\\site-packages\\urllib3\\connectionpool.py:1056: InsecureRequestWarning: Unverified HTTPS request is being made to host 'urs.earthdata.nasa.gov'. Adding certificate verification is strongly advised. See: https://urllib3.readthedocs.io/en/1.26.x/advanced-usage.html#ssl-warnings\n",
      "  warnings.warn(\n",
      "c:\\Users\\cinfante\\OneDrive - NRCan RNCan\\Documents\\Greenup\\NASA-LPDAAC-Testing\\venv\\Lib\\site-packages\\urllib3\\connectionpool.py:1056: InsecureRequestWarning: Unverified HTTPS request is being made to host 'data.lpdaac.earthdatacloud.nasa.gov'. Adding certificate verification is strongly advised. See: https://urllib3.readthedocs.io/en/1.26.x/advanced-usage.html#ssl-warnings\n",
      "  warnings.warn(\n",
      "c:\\Users\\cinfante\\OneDrive - NRCan RNCan\\Documents\\Greenup\\NASA-LPDAAC-Testing\\venv\\Lib\\site-packages\\urllib3\\connectionpool.py:1056: InsecureRequestWarning: Unverified HTTPS request is being made to host 'data.lpdaac.earthdatacloud.nasa.gov'. Adding certificate verification is strongly advised. See: https://urllib3.readthedocs.io/en/1.26.x/advanced-usage.html#ssl-warnings\n",
      "  warnings.warn(\n",
      "c:\\Users\\cinfante\\OneDrive - NRCan RNCan\\Documents\\Greenup\\NASA-LPDAAC-Testing\\venv\\Lib\\site-packages\\urllib3\\connectionpool.py:1056: InsecureRequestWarning: Unverified HTTPS request is being made to host 'd1nklfio7vscoe.cloudfront.net'. Adding certificate verification is strongly advised. See: https://urllib3.readthedocs.io/en/1.26.x/advanced-usage.html#ssl-warnings\n",
      "  warnings.warn(\n"
     ]
    },
    {
     "name": "stdout",
     "output_type": "stream",
     "text": [
      "https://data.lpdaac.earthdatacloud.nasa.gov/lp-prod-protected/VNP13A2.002/VNP13A2.A2023185.h13v02.002.2023201115845/VNP13A2.A2023185.h13v02.002.2023201115845.h5\n",
      "[[  2527   2028   2220 ...   2401   2215   1956]\n",
      " [  3077   4995   5871 ...   2117   2302   2267]\n",
      " [  5273   4562   6394 ...   2050   2076   2518]\n",
      " ...\n",
      " [  6260   5599   5152 ... -15000 -15000 -15000]\n",
      " [  6117   4900   4003 ... -15000 -15000 -15000]\n",
      " [  5536   1407   3333 ... -15000 -15000 -15000]]\n",
      "<xarray.DataArray (y: 1200, x: 1200)>\n",
      "array([[  2527,   2028,   2220, ...,   2401,   2215,   1956],\n",
      "       [  3077,   4995,   5871, ...,   2117,   2302,   2267],\n",
      "       [  5273,   4562,   6394, ...,   2050,   2076,   2518],\n",
      "       ...,\n",
      "       [  6260,   5599,   5152, ..., -15000, -15000, -15000],\n",
      "       [  6117,   4900,   4003, ..., -15000, -15000, -15000],\n",
      "       [  5536,   1407,   3333, ..., -15000, -15000, -15000]], dtype=int16)\n",
      "Dimensions without coordinates: y, x\n",
      "Processed item 19\n"
     ]
    },
    {
     "name": "stderr",
     "output_type": "stream",
     "text": [
      "c:\\Users\\cinfante\\OneDrive - NRCan RNCan\\Documents\\Greenup\\NASA-LPDAAC-Testing\\venv\\Lib\\site-packages\\urllib3\\connectionpool.py:1056: InsecureRequestWarning: Unverified HTTPS request is being made to host 'data.lpdaac.earthdatacloud.nasa.gov'. Adding certificate verification is strongly advised. See: https://urllib3.readthedocs.io/en/1.26.x/advanced-usage.html#ssl-warnings\n",
      "  warnings.warn(\n",
      "c:\\Users\\cinfante\\OneDrive - NRCan RNCan\\Documents\\Greenup\\NASA-LPDAAC-Testing\\venv\\Lib\\site-packages\\urllib3\\connectionpool.py:1056: InsecureRequestWarning: Unverified HTTPS request is being made to host 'urs.earthdata.nasa.gov'. Adding certificate verification is strongly advised. See: https://urllib3.readthedocs.io/en/1.26.x/advanced-usage.html#ssl-warnings\n",
      "  warnings.warn(\n",
      "c:\\Users\\cinfante\\OneDrive - NRCan RNCan\\Documents\\Greenup\\NASA-LPDAAC-Testing\\venv\\Lib\\site-packages\\urllib3\\connectionpool.py:1056: InsecureRequestWarning: Unverified HTTPS request is being made to host 'data.lpdaac.earthdatacloud.nasa.gov'. Adding certificate verification is strongly advised. See: https://urllib3.readthedocs.io/en/1.26.x/advanced-usage.html#ssl-warnings\n",
      "  warnings.warn(\n",
      "c:\\Users\\cinfante\\OneDrive - NRCan RNCan\\Documents\\Greenup\\NASA-LPDAAC-Testing\\venv\\Lib\\site-packages\\urllib3\\connectionpool.py:1056: InsecureRequestWarning: Unverified HTTPS request is being made to host 'data.lpdaac.earthdatacloud.nasa.gov'. Adding certificate verification is strongly advised. See: https://urllib3.readthedocs.io/en/1.26.x/advanced-usage.html#ssl-warnings\n",
      "  warnings.warn(\n",
      "c:\\Users\\cinfante\\OneDrive - NRCan RNCan\\Documents\\Greenup\\NASA-LPDAAC-Testing\\venv\\Lib\\site-packages\\urllib3\\connectionpool.py:1056: InsecureRequestWarning: Unverified HTTPS request is being made to host 'd1nklfio7vscoe.cloudfront.net'. Adding certificate verification is strongly advised. See: https://urllib3.readthedocs.io/en/1.26.x/advanced-usage.html#ssl-warnings\n",
      "  warnings.warn(\n"
     ]
    },
    {
     "name": "stdout",
     "output_type": "stream",
     "text": [
      "https://data.lpdaac.earthdatacloud.nasa.gov/lp-prod-protected/VNP13A2.002/VNP13A2.A2023185.h14v02.002.2023201114930/VNP13A2.A2023185.h14v02.002.2023201114930.h5\n",
      "[[  2064   2111   2417 ... -15000 -15000 -15000]\n",
      " [  2162   2332   2426 ... -15000 -15000 -15000]\n",
      " [  2336   2274   2409 ... -15000 -15000 -15000]\n",
      " ...\n",
      " [-15000 -15000 -15000 ... -15000 -15000 -15000]\n",
      " [-15000 -15000 -15000 ... -15000 -15000 -15000]\n",
      " [-15000 -15000 -15000 ... -15000 -15000 -15000]]\n",
      "<xarray.DataArray (y: 1200, x: 1200)>\n",
      "array([[  2064,   2111,   2417, ..., -15000, -15000, -15000],\n",
      "       [  2162,   2332,   2426, ..., -15000, -15000, -15000],\n",
      "       [  2336,   2274,   2409, ..., -15000, -15000, -15000],\n",
      "       ...,\n",
      "       [-15000, -15000, -15000, ..., -15000, -15000, -15000],\n",
      "       [-15000, -15000, -15000, ..., -15000, -15000, -15000],\n",
      "       [-15000, -15000, -15000, ..., -15000, -15000, -15000]], dtype=int16)\n",
      "Dimensions without coordinates: y, x\n",
      "Processed item 20\n"
     ]
    },
    {
     "name": "stderr",
     "output_type": "stream",
     "text": [
      "c:\\Users\\cinfante\\OneDrive - NRCan RNCan\\Documents\\Greenup\\NASA-LPDAAC-Testing\\venv\\Lib\\site-packages\\urllib3\\connectionpool.py:1056: InsecureRequestWarning: Unverified HTTPS request is being made to host 'data.lpdaac.earthdatacloud.nasa.gov'. Adding certificate verification is strongly advised. See: https://urllib3.readthedocs.io/en/1.26.x/advanced-usage.html#ssl-warnings\n",
      "  warnings.warn(\n",
      "c:\\Users\\cinfante\\OneDrive - NRCan RNCan\\Documents\\Greenup\\NASA-LPDAAC-Testing\\venv\\Lib\\site-packages\\urllib3\\connectionpool.py:1056: InsecureRequestWarning: Unverified HTTPS request is being made to host 'urs.earthdata.nasa.gov'. Adding certificate verification is strongly advised. See: https://urllib3.readthedocs.io/en/1.26.x/advanced-usage.html#ssl-warnings\n",
      "  warnings.warn(\n",
      "c:\\Users\\cinfante\\OneDrive - NRCan RNCan\\Documents\\Greenup\\NASA-LPDAAC-Testing\\venv\\Lib\\site-packages\\urllib3\\connectionpool.py:1056: InsecureRequestWarning: Unverified HTTPS request is being made to host 'data.lpdaac.earthdatacloud.nasa.gov'. Adding certificate verification is strongly advised. See: https://urllib3.readthedocs.io/en/1.26.x/advanced-usage.html#ssl-warnings\n",
      "  warnings.warn(\n",
      "c:\\Users\\cinfante\\OneDrive - NRCan RNCan\\Documents\\Greenup\\NASA-LPDAAC-Testing\\venv\\Lib\\site-packages\\urllib3\\connectionpool.py:1056: InsecureRequestWarning: Unverified HTTPS request is being made to host 'data.lpdaac.earthdatacloud.nasa.gov'. Adding certificate verification is strongly advised. See: https://urllib3.readthedocs.io/en/1.26.x/advanced-usage.html#ssl-warnings\n",
      "  warnings.warn(\n",
      "c:\\Users\\cinfante\\OneDrive - NRCan RNCan\\Documents\\Greenup\\NASA-LPDAAC-Testing\\venv\\Lib\\site-packages\\urllib3\\connectionpool.py:1056: InsecureRequestWarning: Unverified HTTPS request is being made to host 'd1nklfio7vscoe.cloudfront.net'. Adding certificate verification is strongly advised. See: https://urllib3.readthedocs.io/en/1.26.x/advanced-usage.html#ssl-warnings\n",
      "  warnings.warn(\n"
     ]
    },
    {
     "name": "stdout",
     "output_type": "stream",
     "text": [
      "https://data.lpdaac.earthdatacloud.nasa.gov/lp-prod-protected/VNP13A2.002/VNP13A2.A2023185.h12v02.002.2023201115841/VNP13A2.A2023185.h12v02.002.2023201115841.h5\n",
      "[[-15000 -15000 -15000 ...  -3047  -2344   2683]\n",
      " [-15000 -15000 -15000 ...   1689   2512   1956]\n",
      " [-15000 -15000 -15000 ...   6223   5370   4791]\n",
      " ...\n",
      " [  6743   6461   5722 ...   7145   6885   6640]\n",
      " [  6114   5602   5190 ...   6979   6529   6152]\n",
      " [  6020   5697   4992 ...   6641   6788   5289]]\n",
      "<xarray.DataArray (y: 1200, x: 1200)>\n",
      "array([[-15000, -15000, -15000, ...,  -3047,  -2344,   2683],\n",
      "       [-15000, -15000, -15000, ...,   1689,   2512,   1956],\n",
      "       [-15000, -15000, -15000, ...,   6223,   5370,   4791],\n",
      "       ...,\n",
      "       [  6743,   6461,   5722, ...,   7145,   6885,   6640],\n",
      "       [  6114,   5602,   5190, ...,   6979,   6529,   6152],\n",
      "       [  6020,   5697,   4992, ...,   6641,   6788,   5289]], dtype=int16)\n",
      "Dimensions without coordinates: y, x\n",
      "Processed item 21\n"
     ]
    },
    {
     "name": "stderr",
     "output_type": "stream",
     "text": [
      "c:\\Users\\cinfante\\OneDrive - NRCan RNCan\\Documents\\Greenup\\NASA-LPDAAC-Testing\\venv\\Lib\\site-packages\\urllib3\\connectionpool.py:1056: InsecureRequestWarning: Unverified HTTPS request is being made to host 'data.lpdaac.earthdatacloud.nasa.gov'. Adding certificate verification is strongly advised. See: https://urllib3.readthedocs.io/en/1.26.x/advanced-usage.html#ssl-warnings\n",
      "  warnings.warn(\n",
      "c:\\Users\\cinfante\\OneDrive - NRCan RNCan\\Documents\\Greenup\\NASA-LPDAAC-Testing\\venv\\Lib\\site-packages\\urllib3\\connectionpool.py:1056: InsecureRequestWarning: Unverified HTTPS request is being made to host 'urs.earthdata.nasa.gov'. Adding certificate verification is strongly advised. See: https://urllib3.readthedocs.io/en/1.26.x/advanced-usage.html#ssl-warnings\n",
      "  warnings.warn(\n",
      "c:\\Users\\cinfante\\OneDrive - NRCan RNCan\\Documents\\Greenup\\NASA-LPDAAC-Testing\\venv\\Lib\\site-packages\\urllib3\\connectionpool.py:1056: InsecureRequestWarning: Unverified HTTPS request is being made to host 'data.lpdaac.earthdatacloud.nasa.gov'. Adding certificate verification is strongly advised. See: https://urllib3.readthedocs.io/en/1.26.x/advanced-usage.html#ssl-warnings\n",
      "  warnings.warn(\n",
      "c:\\Users\\cinfante\\OneDrive - NRCan RNCan\\Documents\\Greenup\\NASA-LPDAAC-Testing\\venv\\Lib\\site-packages\\urllib3\\connectionpool.py:1056: InsecureRequestWarning: Unverified HTTPS request is being made to host 'data.lpdaac.earthdatacloud.nasa.gov'. Adding certificate verification is strongly advised. See: https://urllib3.readthedocs.io/en/1.26.x/advanced-usage.html#ssl-warnings\n",
      "  warnings.warn(\n",
      "c:\\Users\\cinfante\\OneDrive - NRCan RNCan\\Documents\\Greenup\\NASA-LPDAAC-Testing\\venv\\Lib\\site-packages\\urllib3\\connectionpool.py:1056: InsecureRequestWarning: Unverified HTTPS request is being made to host 'd1nklfio7vscoe.cloudfront.net'. Adding certificate verification is strongly advised. See: https://urllib3.readthedocs.io/en/1.26.x/advanced-usage.html#ssl-warnings\n",
      "  warnings.warn(\n"
     ]
    },
    {
     "name": "stdout",
     "output_type": "stream",
     "text": [
      "https://data.lpdaac.earthdatacloud.nasa.gov/lp-prod-protected/VNP13A2.002/VNP13A2.A2023185.h14v01.002.2023201115919/VNP13A2.A2023185.h14v01.002.2023201115919.h5\n",
      "[[-15000 -15000 -15000 ... -15000 -15000 -15000]\n",
      " [-15000 -15000 -15000 ... -15000 -15000 -15000]\n",
      " [-15000 -15000 -15000 ... -15000 -15000 -15000]\n",
      " ...\n",
      " [  2058   1976   1996 ... -15000 -15000 -15000]\n",
      " [  1915   1964   2050 ... -15000 -15000 -15000]\n",
      " [  1951   1992   2058 ... -15000 -15000 -15000]]\n",
      "<xarray.DataArray (y: 1200, x: 1200)>\n",
      "array([[-15000, -15000, -15000, ..., -15000, -15000, -15000],\n",
      "       [-15000, -15000, -15000, ..., -15000, -15000, -15000],\n",
      "       [-15000, -15000, -15000, ..., -15000, -15000, -15000],\n",
      "       ...,\n",
      "       [  2058,   1976,   1996, ..., -15000, -15000, -15000],\n",
      "       [  1915,   1964,   2050, ..., -15000, -15000, -15000],\n",
      "       [  1951,   1992,   2058, ..., -15000, -15000, -15000]], dtype=int16)\n",
      "Dimensions without coordinates: y, x\n",
      "Processed item 22\n"
     ]
    },
    {
     "name": "stderr",
     "output_type": "stream",
     "text": [
      "c:\\Users\\cinfante\\OneDrive - NRCan RNCan\\Documents\\Greenup\\NASA-LPDAAC-Testing\\venv\\Lib\\site-packages\\urllib3\\connectionpool.py:1056: InsecureRequestWarning: Unverified HTTPS request is being made to host 'data.lpdaac.earthdatacloud.nasa.gov'. Adding certificate verification is strongly advised. See: https://urllib3.readthedocs.io/en/1.26.x/advanced-usage.html#ssl-warnings\n",
      "  warnings.warn(\n",
      "c:\\Users\\cinfante\\OneDrive - NRCan RNCan\\Documents\\Greenup\\NASA-LPDAAC-Testing\\venv\\Lib\\site-packages\\urllib3\\connectionpool.py:1056: InsecureRequestWarning: Unverified HTTPS request is being made to host 'urs.earthdata.nasa.gov'. Adding certificate verification is strongly advised. See: https://urllib3.readthedocs.io/en/1.26.x/advanced-usage.html#ssl-warnings\n",
      "  warnings.warn(\n",
      "c:\\Users\\cinfante\\OneDrive - NRCan RNCan\\Documents\\Greenup\\NASA-LPDAAC-Testing\\venv\\Lib\\site-packages\\urllib3\\connectionpool.py:1056: InsecureRequestWarning: Unverified HTTPS request is being made to host 'data.lpdaac.earthdatacloud.nasa.gov'. Adding certificate verification is strongly advised. See: https://urllib3.readthedocs.io/en/1.26.x/advanced-usage.html#ssl-warnings\n",
      "  warnings.warn(\n"
     ]
    },
    {
     "name": "stdout",
     "output_type": "stream",
     "text": [
      "https://data.lpdaac.earthdatacloud.nasa.gov/lp-prod-protected/VNP13A2.002/VNP13A2.A2023185.h23v02.002.2023201121038/VNP13A2.A2023185.h23v02.002.2023201121038.h5\n",
      "Authentication failed or the file is inaccessible for item 23\n"
     ]
    },
    {
     "name": "stderr",
     "output_type": "stream",
     "text": [
      "c:\\Users\\cinfante\\OneDrive - NRCan RNCan\\Documents\\Greenup\\NASA-LPDAAC-Testing\\venv\\Lib\\site-packages\\urllib3\\connectionpool.py:1056: InsecureRequestWarning: Unverified HTTPS request is being made to host 'data.lpdaac.earthdatacloud.nasa.gov'. Adding certificate verification is strongly advised. See: https://urllib3.readthedocs.io/en/1.26.x/advanced-usage.html#ssl-warnings\n",
      "  warnings.warn(\n",
      "c:\\Users\\cinfante\\OneDrive - NRCan RNCan\\Documents\\Greenup\\NASA-LPDAAC-Testing\\venv\\Lib\\site-packages\\urllib3\\connectionpool.py:1056: InsecureRequestWarning: Unverified HTTPS request is being made to host 'urs.earthdata.nasa.gov'. Adding certificate verification is strongly advised. See: https://urllib3.readthedocs.io/en/1.26.x/advanced-usage.html#ssl-warnings\n",
      "  warnings.warn(\n",
      "c:\\Users\\cinfante\\OneDrive - NRCan RNCan\\Documents\\Greenup\\NASA-LPDAAC-Testing\\venv\\Lib\\site-packages\\urllib3\\connectionpool.py:1056: InsecureRequestWarning: Unverified HTTPS request is being made to host 'data.lpdaac.earthdatacloud.nasa.gov'. Adding certificate verification is strongly advised. See: https://urllib3.readthedocs.io/en/1.26.x/advanced-usage.html#ssl-warnings\n",
      "  warnings.warn(\n",
      "c:\\Users\\cinfante\\OneDrive - NRCan RNCan\\Documents\\Greenup\\NASA-LPDAAC-Testing\\venv\\Lib\\site-packages\\urllib3\\connectionpool.py:1056: InsecureRequestWarning: Unverified HTTPS request is being made to host 'data.lpdaac.earthdatacloud.nasa.gov'. Adding certificate verification is strongly advised. See: https://urllib3.readthedocs.io/en/1.26.x/advanced-usage.html#ssl-warnings\n",
      "  warnings.warn(\n",
      "c:\\Users\\cinfante\\OneDrive - NRCan RNCan\\Documents\\Greenup\\NASA-LPDAAC-Testing\\venv\\Lib\\site-packages\\urllib3\\connectionpool.py:1056: InsecureRequestWarning: Unverified HTTPS request is being made to host 'd1nklfio7vscoe.cloudfront.net'. Adding certificate verification is strongly advised. See: https://urllib3.readthedocs.io/en/1.26.x/advanced-usage.html#ssl-warnings\n",
      "  warnings.warn(\n"
     ]
    },
    {
     "name": "stdout",
     "output_type": "stream",
     "text": [
      "https://data.lpdaac.earthdatacloud.nasa.gov/lp-prod-protected/VNP13A2.002/VNP13A2.A2023185.h17v01.002.2023201122406/VNP13A2.A2023185.h17v01.002.2023201122406.h5\n",
      "[[  -846   -829   -839 ... -15000 -15000 -15000]\n",
      " [  -889   -867   -872 ... -15000 -15000 -15000]\n",
      " [  -834   -836   -845 ... -15000 -15000 -15000]\n",
      " ...\n",
      " [  -731   -470   -316 ... -15000 -15000 -15000]\n",
      " [  -202   -579   -753 ... -15000 -15000 -15000]\n",
      " [  -260   -740   -778 ... -15000 -15000 -15000]]\n",
      "<xarray.DataArray (y: 1200, x: 1200)>\n",
      "array([[  -846,   -829,   -839, ..., -15000, -15000, -15000],\n",
      "       [  -889,   -867,   -872, ..., -15000, -15000, -15000],\n",
      "       [  -834,   -836,   -845, ..., -15000, -15000, -15000],\n",
      "       ...,\n",
      "       [  -731,   -470,   -316, ..., -15000, -15000, -15000],\n",
      "       [  -202,   -579,   -753, ..., -15000, -15000, -15000],\n",
      "       [  -260,   -740,   -778, ..., -15000, -15000, -15000]], dtype=int16)\n",
      "Dimensions without coordinates: y, x\n",
      "Processed item 24\n"
     ]
    },
    {
     "name": "stderr",
     "output_type": "stream",
     "text": [
      "c:\\Users\\cinfante\\OneDrive - NRCan RNCan\\Documents\\Greenup\\NASA-LPDAAC-Testing\\venv\\Lib\\site-packages\\urllib3\\connectionpool.py:1056: InsecureRequestWarning: Unverified HTTPS request is being made to host 'data.lpdaac.earthdatacloud.nasa.gov'. Adding certificate verification is strongly advised. See: https://urllib3.readthedocs.io/en/1.26.x/advanced-usage.html#ssl-warnings\n",
      "  warnings.warn(\n",
      "c:\\Users\\cinfante\\OneDrive - NRCan RNCan\\Documents\\Greenup\\NASA-LPDAAC-Testing\\venv\\Lib\\site-packages\\urllib3\\connectionpool.py:1056: InsecureRequestWarning: Unverified HTTPS request is being made to host 'urs.earthdata.nasa.gov'. Adding certificate verification is strongly advised. See: https://urllib3.readthedocs.io/en/1.26.x/advanced-usage.html#ssl-warnings\n",
      "  warnings.warn(\n",
      "c:\\Users\\cinfante\\OneDrive - NRCan RNCan\\Documents\\Greenup\\NASA-LPDAAC-Testing\\venv\\Lib\\site-packages\\urllib3\\connectionpool.py:1056: InsecureRequestWarning: Unverified HTTPS request is being made to host 'data.lpdaac.earthdatacloud.nasa.gov'. Adding certificate verification is strongly advised. See: https://urllib3.readthedocs.io/en/1.26.x/advanced-usage.html#ssl-warnings\n",
      "  warnings.warn(\n",
      "c:\\Users\\cinfante\\OneDrive - NRCan RNCan\\Documents\\Greenup\\NASA-LPDAAC-Testing\\venv\\Lib\\site-packages\\urllib3\\connectionpool.py:1056: InsecureRequestWarning: Unverified HTTPS request is being made to host 'data.lpdaac.earthdatacloud.nasa.gov'. Adding certificate verification is strongly advised. See: https://urllib3.readthedocs.io/en/1.26.x/advanced-usage.html#ssl-warnings\n",
      "  warnings.warn(\n",
      "c:\\Users\\cinfante\\OneDrive - NRCan RNCan\\Documents\\Greenup\\NASA-LPDAAC-Testing\\venv\\Lib\\site-packages\\urllib3\\connectionpool.py:1056: InsecureRequestWarning: Unverified HTTPS request is being made to host 'd1nklfio7vscoe.cloudfront.net'. Adding certificate verification is strongly advised. See: https://urllib3.readthedocs.io/en/1.26.x/advanced-usage.html#ssl-warnings\n",
      "  warnings.warn(\n"
     ]
    },
    {
     "name": "stdout",
     "output_type": "stream",
     "text": [
      "https://data.lpdaac.earthdatacloud.nasa.gov/lp-prod-protected/VNP13A2.002/VNP13A2.A2023185.h16v01.002.2023201123309/VNP13A2.A2023185.h16v01.002.2023201123309.h5\n",
      "[[-15000 -15000 -15000 ...  -1039  -1018  -1113]\n",
      " [-15000 -15000 -15000 ...  -1044   -959  -1081]\n",
      " [-15000 -15000 -15000 ...   -976  -1178   -946]\n",
      " ...\n",
      " [-15000 -15000 -15000 ...   -525   -368   -495]\n",
      " [-15000 -15000 -15000 ...   -252   -539   -233]\n",
      " [-15000 -15000 -15000 ...   -624   -680   -253]]\n",
      "<xarray.DataArray (y: 1200, x: 1200)>\n",
      "array([[-15000, -15000, -15000, ...,  -1039,  -1018,  -1113],\n",
      "       [-15000, -15000, -15000, ...,  -1044,   -959,  -1081],\n",
      "       [-15000, -15000, -15000, ...,   -976,  -1178,   -946],\n",
      "       ...,\n",
      "       [-15000, -15000, -15000, ...,   -525,   -368,   -495],\n",
      "       [-15000, -15000, -15000, ...,   -252,   -539,   -233],\n",
      "       [-15000, -15000, -15000, ...,   -624,   -680,   -253]], dtype=int16)\n",
      "Dimensions without coordinates: y, x\n",
      "Processed item 25\n"
     ]
    },
    {
     "name": "stderr",
     "output_type": "stream",
     "text": [
      "c:\\Users\\cinfante\\OneDrive - NRCan RNCan\\Documents\\Greenup\\NASA-LPDAAC-Testing\\venv\\Lib\\site-packages\\urllib3\\connectionpool.py:1056: InsecureRequestWarning: Unverified HTTPS request is being made to host 'data.lpdaac.earthdatacloud.nasa.gov'. Adding certificate verification is strongly advised. See: https://urllib3.readthedocs.io/en/1.26.x/advanced-usage.html#ssl-warnings\n",
      "  warnings.warn(\n",
      "c:\\Users\\cinfante\\OneDrive - NRCan RNCan\\Documents\\Greenup\\NASA-LPDAAC-Testing\\venv\\Lib\\site-packages\\urllib3\\connectionpool.py:1056: InsecureRequestWarning: Unverified HTTPS request is being made to host 'urs.earthdata.nasa.gov'. Adding certificate verification is strongly advised. See: https://urllib3.readthedocs.io/en/1.26.x/advanced-usage.html#ssl-warnings\n",
      "  warnings.warn(\n",
      "c:\\Users\\cinfante\\OneDrive - NRCan RNCan\\Documents\\Greenup\\NASA-LPDAAC-Testing\\venv\\Lib\\site-packages\\urllib3\\connectionpool.py:1056: InsecureRequestWarning: Unverified HTTPS request is being made to host 'data.lpdaac.earthdatacloud.nasa.gov'. Adding certificate verification is strongly advised. See: https://urllib3.readthedocs.io/en/1.26.x/advanced-usage.html#ssl-warnings\n",
      "  warnings.warn(\n",
      "c:\\Users\\cinfante\\OneDrive - NRCan RNCan\\Documents\\Greenup\\NASA-LPDAAC-Testing\\venv\\Lib\\site-packages\\urllib3\\connectionpool.py:1056: InsecureRequestWarning: Unverified HTTPS request is being made to host 'data.lpdaac.earthdatacloud.nasa.gov'. Adding certificate verification is strongly advised. See: https://urllib3.readthedocs.io/en/1.26.x/advanced-usage.html#ssl-warnings\n",
      "  warnings.warn(\n",
      "c:\\Users\\cinfante\\OneDrive - NRCan RNCan\\Documents\\Greenup\\NASA-LPDAAC-Testing\\venv\\Lib\\site-packages\\urllib3\\connectionpool.py:1056: InsecureRequestWarning: Unverified HTTPS request is being made to host 'd1nklfio7vscoe.cloudfront.net'. Adding certificate verification is strongly advised. See: https://urllib3.readthedocs.io/en/1.26.x/advanced-usage.html#ssl-warnings\n",
      "  warnings.warn(\n"
     ]
    },
    {
     "name": "stdout",
     "output_type": "stream",
     "text": [
      "https://data.lpdaac.earthdatacloud.nasa.gov/lp-prod-protected/VNP13A2.002/VNP13A2.A2023185.h15v01.002.2023201122420/VNP13A2.A2023185.h15v01.002.2023201122420.h5\n",
      "[[-15000 -15000 -15000 ... -15000 -15000 -15000]\n",
      " [-15000 -15000 -15000 ... -15000 -15000 -15000]\n",
      " [-15000 -15000 -15000 ... -15000 -15000 -15000]\n",
      " ...\n",
      " [-15000 -15000 -15000 ... -15000 -15000 -15000]\n",
      " [-15000 -15000 -15000 ... -15000 -15000 -15000]\n",
      " [-15000 -15000 -15000 ... -15000 -15000 -15000]]\n",
      "<xarray.DataArray (y: 1200, x: 1200)>\n",
      "array([[-15000, -15000, -15000, ..., -15000, -15000, -15000],\n",
      "       [-15000, -15000, -15000, ..., -15000, -15000, -15000],\n",
      "       [-15000, -15000, -15000, ..., -15000, -15000, -15000],\n",
      "       ...,\n",
      "       [-15000, -15000, -15000, ..., -15000, -15000, -15000],\n",
      "       [-15000, -15000, -15000, ..., -15000, -15000, -15000],\n",
      "       [-15000, -15000, -15000, ..., -15000, -15000, -15000]], dtype=int16)\n",
      "Dimensions without coordinates: y, x\n",
      "Processed item 26\n"
     ]
    },
    {
     "name": "stderr",
     "output_type": "stream",
     "text": [
      "c:\\Users\\cinfante\\OneDrive - NRCan RNCan\\Documents\\Greenup\\NASA-LPDAAC-Testing\\venv\\Lib\\site-packages\\urllib3\\connectionpool.py:1056: InsecureRequestWarning: Unverified HTTPS request is being made to host 'data.lpdaac.earthdatacloud.nasa.gov'. Adding certificate verification is strongly advised. See: https://urllib3.readthedocs.io/en/1.26.x/advanced-usage.html#ssl-warnings\n",
      "  warnings.warn(\n",
      "c:\\Users\\cinfante\\OneDrive - NRCan RNCan\\Documents\\Greenup\\NASA-LPDAAC-Testing\\venv\\Lib\\site-packages\\urllib3\\connectionpool.py:1056: InsecureRequestWarning: Unverified HTTPS request is being made to host 'urs.earthdata.nasa.gov'. Adding certificate verification is strongly advised. See: https://urllib3.readthedocs.io/en/1.26.x/advanced-usage.html#ssl-warnings\n",
      "  warnings.warn(\n",
      "c:\\Users\\cinfante\\OneDrive - NRCan RNCan\\Documents\\Greenup\\NASA-LPDAAC-Testing\\venv\\Lib\\site-packages\\urllib3\\connectionpool.py:1056: InsecureRequestWarning: Unverified HTTPS request is being made to host 'data.lpdaac.earthdatacloud.nasa.gov'. Adding certificate verification is strongly advised. See: https://urllib3.readthedocs.io/en/1.26.x/advanced-usage.html#ssl-warnings\n",
      "  warnings.warn(\n",
      "c:\\Users\\cinfante\\OneDrive - NRCan RNCan\\Documents\\Greenup\\NASA-LPDAAC-Testing\\venv\\Lib\\site-packages\\urllib3\\connectionpool.py:1056: InsecureRequestWarning: Unverified HTTPS request is being made to host 'data.lpdaac.earthdatacloud.nasa.gov'. Adding certificate verification is strongly advised. See: https://urllib3.readthedocs.io/en/1.26.x/advanced-usage.html#ssl-warnings\n",
      "  warnings.warn(\n",
      "c:\\Users\\cinfante\\OneDrive - NRCan RNCan\\Documents\\Greenup\\NASA-LPDAAC-Testing\\venv\\Lib\\site-packages\\urllib3\\connectionpool.py:1056: InsecureRequestWarning: Unverified HTTPS request is being made to host 'd1nklfio7vscoe.cloudfront.net'. Adding certificate verification is strongly advised. See: https://urllib3.readthedocs.io/en/1.26.x/advanced-usage.html#ssl-warnings\n",
      "  warnings.warn(\n"
     ]
    },
    {
     "name": "stdout",
     "output_type": "stream",
     "text": [
      "https://data.lpdaac.earthdatacloud.nasa.gov/lp-prod-protected/VNP13A2.002/VNP13A2.A2023185.h20v01.002.2023201124919/VNP13A2.A2023185.h20v01.002.2023201124919.h5\n",
      "[[-15000 -15000 -15000 ... -15000 -15000 -15000]\n",
      " [-15000 -15000 -15000 ... -15000 -15000 -15000]\n",
      " [-15000 -15000 -15000 ... -15000 -15000 -15000]\n",
      " ...\n",
      " [-15000 -15000 -15000 ... -15000 -15000 -15000]\n",
      " [-15000 -15000 -15000 ... -15000 -15000 -15000]\n",
      " [-15000 -15000 -15000 ... -15000 -15000 -15000]]\n",
      "<xarray.DataArray (y: 1200, x: 1200)>\n",
      "array([[-15000, -15000, -15000, ..., -15000, -15000, -15000],\n",
      "       [-15000, -15000, -15000, ..., -15000, -15000, -15000],\n",
      "       [-15000, -15000, -15000, ..., -15000, -15000, -15000],\n",
      "       ...,\n",
      "       [-15000, -15000, -15000, ..., -15000, -15000, -15000],\n",
      "       [-15000, -15000, -15000, ..., -15000, -15000, -15000],\n",
      "       [-15000, -15000, -15000, ..., -15000, -15000, -15000]], dtype=int16)\n",
      "Dimensions without coordinates: y, x\n",
      "Processed item 27\n"
     ]
    },
    {
     "name": "stderr",
     "output_type": "stream",
     "text": [
      "c:\\Users\\cinfante\\OneDrive - NRCan RNCan\\Documents\\Greenup\\NASA-LPDAAC-Testing\\venv\\Lib\\site-packages\\urllib3\\connectionpool.py:1056: InsecureRequestWarning: Unverified HTTPS request is being made to host 'data.lpdaac.earthdatacloud.nasa.gov'. Adding certificate verification is strongly advised. See: https://urllib3.readthedocs.io/en/1.26.x/advanced-usage.html#ssl-warnings\n",
      "  warnings.warn(\n",
      "c:\\Users\\cinfante\\OneDrive - NRCan RNCan\\Documents\\Greenup\\NASA-LPDAAC-Testing\\venv\\Lib\\site-packages\\urllib3\\connectionpool.py:1056: InsecureRequestWarning: Unverified HTTPS request is being made to host 'urs.earthdata.nasa.gov'. Adding certificate verification is strongly advised. See: https://urllib3.readthedocs.io/en/1.26.x/advanced-usage.html#ssl-warnings\n",
      "  warnings.warn(\n",
      "c:\\Users\\cinfante\\OneDrive - NRCan RNCan\\Documents\\Greenup\\NASA-LPDAAC-Testing\\venv\\Lib\\site-packages\\urllib3\\connectionpool.py:1056: InsecureRequestWarning: Unverified HTTPS request is being made to host 'data.lpdaac.earthdatacloud.nasa.gov'. Adding certificate verification is strongly advised. See: https://urllib3.readthedocs.io/en/1.26.x/advanced-usage.html#ssl-warnings\n",
      "  warnings.warn(\n",
      "c:\\Users\\cinfante\\OneDrive - NRCan RNCan\\Documents\\Greenup\\NASA-LPDAAC-Testing\\venv\\Lib\\site-packages\\urllib3\\connectionpool.py:1056: InsecureRequestWarning: Unverified HTTPS request is being made to host 'data.lpdaac.earthdatacloud.nasa.gov'. Adding certificate verification is strongly advised. See: https://urllib3.readthedocs.io/en/1.26.x/advanced-usage.html#ssl-warnings\n",
      "  warnings.warn(\n",
      "c:\\Users\\cinfante\\OneDrive - NRCan RNCan\\Documents\\Greenup\\NASA-LPDAAC-Testing\\venv\\Lib\\site-packages\\urllib3\\connectionpool.py:1056: InsecureRequestWarning: Unverified HTTPS request is being made to host 'd1nklfio7vscoe.cloudfront.net'. Adding certificate verification is strongly advised. See: https://urllib3.readthedocs.io/en/1.26.x/advanced-usage.html#ssl-warnings\n",
      "  warnings.warn(\n"
     ]
    },
    {
     "name": "stdout",
     "output_type": "stream",
     "text": [
      "https://data.lpdaac.earthdatacloud.nasa.gov/lp-prod-protected/VNP13A2.002/VNP13A2.A2023185.h11v02.002.2023201114934/VNP13A2.A2023185.h11v02.002.2023201114934.h5\n",
      "[[-15000 -15000 -15000 ... -15000 -15000 -15000]\n",
      " [-15000 -15000 -15000 ... -15000 -15000 -15000]\n",
      " [-15000 -15000 -15000 ... -15000 -15000 -15000]\n",
      " ...\n",
      " [  3993   2320   1225 ...   6449   1600   1750]\n",
      " [  2026   5086    798 ...   6305   6458   6333]\n",
      " [  2380   1372    868 ...   6075   6073   5961]]\n",
      "<xarray.DataArray (y: 1200, x: 1200)>\n",
      "array([[-15000, -15000, -15000, ..., -15000, -15000, -15000],\n",
      "       [-15000, -15000, -15000, ..., -15000, -15000, -15000],\n",
      "       [-15000, -15000, -15000, ..., -15000, -15000, -15000],\n",
      "       ...,\n",
      "       [  3993,   2320,   1225, ...,   6449,   1600,   1750],\n",
      "       [  2026,   5086,    798, ...,   6305,   6458,   6333],\n",
      "       [  2380,   1372,    868, ...,   6075,   6073,   5961]], dtype=int16)\n",
      "Dimensions without coordinates: y, x\n",
      "Processed item 28\n",
      "Mosaic created successfully.\n"
     ]
    }
   ],
   "source": [
    "# Perform a search\n",
    "lp_search = 'https://cmr.earthdata.nasa.gov/stac/LPCLOUD/search'\n",
    "\n",
    "params = {}\n",
    "\n",
    "# Set a limit\n",
    "lim = 100\n",
    "params['limit'] = lim  # Add in a limit parameter to retrieve 100 items at a time.\n",
    "\n",
    "# Set the bounding box\n",
    "field = gp.read_file('Field_Boundary.geojson')\n",
    "fieldShape = field['geometry'][0]\n",
    "#bbox = f'{fieldShape.bounds[0]},{fieldShape.bounds[1]},{fieldShape.bounds[2]},{fieldShape.bounds[3]}'    # Defined from ROI bounds\n",
    "bbox = '-141.00275,41.6751050889,-52.3231986987,83.6751'\n",
    "print(bbox)\n",
    "params['bbox'] = bbox \n",
    "\n",
    "# Choose your collection\n",
    "collection = \"VNP13A2.v002\"\n",
    "params[\"collections\"] = [collection]\n",
    "\n",
    "# Set the time\n",
    "date_time = \"2023-07-18T00:00:00Z/2023-08-18T23:59:59Z\"\n",
    "params['datetime'] = date_time\n",
    "\n",
    "# Make the request\n",
    "vnp_items = r.post(lp_search, json=params, verify=False).json()['features']\n",
    "print(len(vnp_items))\n",
    "\n",
    "# Define an empty list to store the dataset arrays\n",
    "datasets = []\n",
    "\n",
    "# Iterate through vnp_items and read the datasets\n",
    "for i, item in enumerate(vnp_items):\n",
    "    item_url = item['assets']['data']['href']\n",
    "    username = 'infantej2'\n",
    "    password = 'QWEqwe123!@#'\n",
    "\n",
    "    with requests.Session() as session:\n",
    "        session.auth = (username, password)\n",
    "        response = session.get(item_url, verify=False)\n",
    "        print(item_url)\n",
    "        \n",
    "        if response.status_code == 200:\n",
    "            # Open the HDF5 file from the response content\n",
    "            with h5py.File(io.BytesIO(response.content), 'r') as hdf5_file:\n",
    "                dataset = hdf5_file['HDFEOS/GRIDS/VIIRS_Grid_16Day_VI_1km/Data Fields/1 km 16 days NDVI'][:]\n",
    "\n",
    "                # Convert the dataset to an xarray DataArray\n",
    "                data_array = xr.DataArray(dataset, dims=(\"y\", \"x\"))\n",
    "                print(dataset)\n",
    "                print(data_array)\n",
    "\n",
    "                # Append the DataArray to list\n",
    "                datasets.append(data_array)\n",
    "\n",
    "            print(f\"Processed item {i}\")\n",
    "        else:\n",
    "            print(f\"Authentication failed or the file is inaccessible for item {i}\")\n",
    "        \n",
    "'''\n",
    "# Merge the DataArrays using rioxarray's merge\n",
    "merged_data_array = merge_arrays(datasets)\n",
    "\n",
    "# Define the output file\n",
    "output_file = \"mosaic_h5.tif\"\n",
    "\n",
    "# Write the merged dataset to the output file\n",
    "merged_data_array.rio.to_raster(output_file)\n",
    "'''\n",
    "print(\"Mosaic created successfully.\")"
   ]
  },
  {
   "cell_type": "code",
   "execution_count": null,
   "id": "a1c484ca",
   "metadata": {},
   "outputs": [],
   "source": [
    "# Subset by Band\n",
    "\n",
    "v = vnp_items[20]\n",
    "\n",
    "evi_band_links = []\n",
    "\n",
    "# Define which HLS product is being accessed\n",
    "if v['assets']['browse']['href'].split('/')[4] == 'VNP13A2.v002':\n",
    "    evi_bands = ['B8A', 'B04', 'B02', 'Fmask'] # NIR RED BLUE Quality for S30\n",
    "else:\n",
    "    evi_bands = ['B05', 'B04', 'B02', 'Fmask'] # NIR RED BLUE Quality for L30\n",
    "\n",
    "# Subset the assets in the item down to only the desired bands\n",
    "for a in v['assets']: \n",
    "    if any(b == a for b in evi_bands):\n",
    "        evi_band_links.append(v['assets'][a]['href'])\n",
    "for e in evi_band_links: print(e)\n",
    "\n",
    "image = io.imread(v['assets']['browse']['href'])  # Load jpg browse image into memory\n",
    "\n",
    "# Basic plot of the image\n",
    "plt.figure(figsize=(10,10))              \n",
    "plt.imshow(image)\n",
    "plt.show()\n",
    "\n",
    "del image # Remove the browse image"
   ]
  },
  {
   "cell_type": "code",
   "execution_count": null,
   "id": "e347f39a",
   "metadata": {},
   "outputs": [],
   "source": [
    "# Use vsicurl to load the data directly into memory (be patient, may take a few seconds)\n",
    "for e in evi_band_links:\n",
    "    print(e)\n",
    "    if e.rsplit('.', 2)[-2] == evi_bands[0]:      # NIR index\n",
    "        nir = rio.open(e)\n",
    "    elif e.rsplit('.', 2)[-2] == evi_bands[1]:    # red index\n",
    "        red = rio.open(e)\n",
    "    elif e.rsplit('.', 2)[-2] == evi_bands[2]:    # blue index\n",
    "        blue = rio.open(e)\n",
    "    elif e.rsplit('.', 2)[-2] == evi_bands[3]:    # Fmask index\n",
    "        fmask = rio.open(e)\n",
    "print(\"The COGs have been loaded into memory!\")"
   ]
  },
  {
   "cell_type": "code",
   "execution_count": null,
   "id": "0dfd4bf1",
   "metadata": {},
   "outputs": [],
   "source": [
    "geo_CRS = Proj('+proj=longlat +datum=WGS84 +no_defs', preserve_units=True)  # Source coordinate system of the ROI\n",
    "utm = pyproj.Proj(nir.crs)                                                  # Destination coordinate system\n",
    "project = pyproj.Transformer.from_proj(geo_CRS, utm)                        # Set up the transformation\n",
    "fsUTM = transform(project.transform, fieldShape)                            # Apply reprojection"
   ]
  }
 ],
 "metadata": {
  "kernelspec": {
   "display_name": "Python 3 (ipykernel)",
   "language": "python",
   "name": "python3"
  },
  "language_info": {
   "codemirror_mode": {
    "name": "ipython",
    "version": 3
   },
   "file_extension": ".py",
   "mimetype": "text/x-python",
   "name": "python",
   "nbconvert_exporter": "python",
   "pygments_lexer": "ipython3",
   "version": "3.11.3"
  }
 },
 "nbformat": 4,
 "nbformat_minor": 5
}
