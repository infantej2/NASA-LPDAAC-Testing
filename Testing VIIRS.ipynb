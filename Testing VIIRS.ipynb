{
 "cells": [
  {
   "cell_type": "code",
   "execution_count": 1,
   "id": "ea3eff27",
   "metadata": {},
   "outputs": [
    {
     "data": {
      "application/javascript": "(function(root) {\n  function now() {\n    return new Date();\n  }\n\n  var force = true;\n  var py_version = '3.2.1'.replace('rc', '-rc.').replace('.dev', '-dev.');\n  var is_dev = py_version.indexOf(\"+\") !== -1 || py_version.indexOf(\"-\") !== -1;\n  var reloading = false;\n  var Bokeh = root.Bokeh;\n  var bokeh_loaded = Bokeh != null && (Bokeh.version === py_version || (Bokeh.versions !== undefined && Bokeh.versions.has(py_version)));\n\n  if (typeof (root._bokeh_timeout) === \"undefined\" || force) {\n    root._bokeh_timeout = Date.now() + 5000;\n    root._bokeh_failed_load = false;\n  }\n\n  function run_callbacks() {\n    try {\n      root._bokeh_onload_callbacks.forEach(function(callback) {\n        if (callback != null)\n          callback();\n      });\n    } finally {\n      delete root._bokeh_onload_callbacks;\n    }\n    console.debug(\"Bokeh: all callbacks have finished\");\n  }\n\n  function load_libs(css_urls, js_urls, js_modules, js_exports, callback) {\n    if (css_urls == null) css_urls = [];\n    if (js_urls == null) js_urls = [];\n    if (js_modules == null) js_modules = [];\n    if (js_exports == null) js_exports = {};\n\n    root._bokeh_onload_callbacks.push(callback);\n\n    if (root._bokeh_is_loading > 0) {\n      console.debug(\"Bokeh: BokehJS is being loaded, scheduling callback at\", now());\n      return null;\n    }\n    if (js_urls.length === 0 && js_modules.length === 0 && Object.keys(js_exports).length === 0) {\n      run_callbacks();\n      return null;\n    }\n    if (!reloading) {\n      console.debug(\"Bokeh: BokehJS not loaded, scheduling load and callback at\", now());\n    }\n\n    function on_load() {\n      root._bokeh_is_loading--;\n      if (root._bokeh_is_loading === 0) {\n        console.debug(\"Bokeh: all BokehJS libraries/stylesheets loaded\");\n        run_callbacks()\n      }\n    }\n    window._bokeh_on_load = on_load\n\n    function on_error() {\n      console.error(\"failed to load \" + url);\n    }\n\n    var skip = [];\n    if (window.requirejs) {\n      window.requirejs.config({'packages': {}, 'paths': {'jspanel': 'https://cdn.jsdelivr.net/npm/jspanel4@4.12.0/dist/jspanel', 'jspanel-modal': 'https://cdn.jsdelivr.net/npm/jspanel4@4.12.0/dist/extensions/modal/jspanel.modal', 'jspanel-tooltip': 'https://cdn.jsdelivr.net/npm/jspanel4@4.12.0/dist/extensions/tooltip/jspanel.tooltip', 'jspanel-hint': 'https://cdn.jsdelivr.net/npm/jspanel4@4.12.0/dist/extensions/hint/jspanel.hint', 'jspanel-layout': 'https://cdn.jsdelivr.net/npm/jspanel4@4.12.0/dist/extensions/layout/jspanel.layout', 'jspanel-contextmenu': 'https://cdn.jsdelivr.net/npm/jspanel4@4.12.0/dist/extensions/contextmenu/jspanel.contextmenu', 'jspanel-dock': 'https://cdn.jsdelivr.net/npm/jspanel4@4.12.0/dist/extensions/dock/jspanel.dock', 'gridstack': 'https://cdn.jsdelivr.net/npm/gridstack@7.2.3/dist/gridstack-all', 'notyf': 'https://cdn.jsdelivr.net/npm/notyf@3/notyf.min'}, 'shim': {'jspanel': {'exports': 'jsPanel'}, 'gridstack': {'exports': 'GridStack'}}});\n      require([\"jspanel\"], function(jsPanel) {\n\twindow.jsPanel = jsPanel\n\ton_load()\n      })\n      require([\"jspanel-modal\"], function() {\n\ton_load()\n      })\n      require([\"jspanel-tooltip\"], function() {\n\ton_load()\n      })\n      require([\"jspanel-hint\"], function() {\n\ton_load()\n      })\n      require([\"jspanel-layout\"], function() {\n\ton_load()\n      })\n      require([\"jspanel-contextmenu\"], function() {\n\ton_load()\n      })\n      require([\"jspanel-dock\"], function() {\n\ton_load()\n      })\n      require([\"gridstack\"], function(GridStack) {\n\twindow.GridStack = GridStack\n\ton_load()\n      })\n      require([\"notyf\"], function() {\n\ton_load()\n      })\n      root._bokeh_is_loading = css_urls.length + 9;\n    } else {\n      root._bokeh_is_loading = css_urls.length + js_urls.length + js_modules.length + Object.keys(js_exports).length;\n    }\n\n    var existing_stylesheets = []\n    var links = document.getElementsByTagName('link')\n    for (var i = 0; i < links.length; i++) {\n      var link = links[i]\n      if (link.href != null) {\n\texisting_stylesheets.push(link.href)\n      }\n    }\n    for (var i = 0; i < css_urls.length; i++) {\n      var url = css_urls[i];\n      if (existing_stylesheets.indexOf(url) !== -1) {\n\ton_load()\n\tcontinue;\n      }\n      const element = document.createElement(\"link\");\n      element.onload = on_load;\n      element.onerror = on_error;\n      element.rel = \"stylesheet\";\n      element.type = \"text/css\";\n      element.href = url;\n      console.debug(\"Bokeh: injecting link tag for BokehJS stylesheet: \", url);\n      document.body.appendChild(element);\n    }    if (((window['jsPanel'] !== undefined) && (!(window['jsPanel'] instanceof HTMLElement))) || window.requirejs) {\n      var urls = ['https://cdn.holoviz.org/panel/1.2.1/dist/bundled/floatpanel/jspanel4@4.12.0/dist/jspanel.js', 'https://cdn.holoviz.org/panel/1.2.1/dist/bundled/floatpanel/jspanel4@4.12.0/dist/extensions/modal/jspanel.modal.js', 'https://cdn.holoviz.org/panel/1.2.1/dist/bundled/floatpanel/jspanel4@4.12.0/dist/extensions/tooltip/jspanel.tooltip.js', 'https://cdn.holoviz.org/panel/1.2.1/dist/bundled/floatpanel/jspanel4@4.12.0/dist/extensions/hint/jspanel.hint.js', 'https://cdn.holoviz.org/panel/1.2.1/dist/bundled/floatpanel/jspanel4@4.12.0/dist/extensions/layout/jspanel.layout.js', 'https://cdn.holoviz.org/panel/1.2.1/dist/bundled/floatpanel/jspanel4@4.12.0/dist/extensions/contextmenu/jspanel.contextmenu.js', 'https://cdn.holoviz.org/panel/1.2.1/dist/bundled/floatpanel/jspanel4@4.12.0/dist/extensions/dock/jspanel.dock.js'];\n      for (var i = 0; i < urls.length; i++) {\n        skip.push(urls[i])\n      }\n    }    if (((window['GridStack'] !== undefined) && (!(window['GridStack'] instanceof HTMLElement))) || window.requirejs) {\n      var urls = ['https://cdn.holoviz.org/panel/1.2.1/dist/bundled/gridstack/gridstack@7.2.3/dist/gridstack-all.js'];\n      for (var i = 0; i < urls.length; i++) {\n        skip.push(urls[i])\n      }\n    }    if (((window['Notyf'] !== undefined) && (!(window['Notyf'] instanceof HTMLElement))) || window.requirejs) {\n      var urls = ['https://cdn.holoviz.org/panel/1.2.1/dist/bundled/notificationarea/notyf@3/notyf.min.js'];\n      for (var i = 0; i < urls.length; i++) {\n        skip.push(urls[i])\n      }\n    }    var existing_scripts = []\n    var scripts = document.getElementsByTagName('script')\n    for (var i = 0; i < scripts.length; i++) {\n      var script = scripts[i]\n      if (script.src != null) {\n\texisting_scripts.push(script.src)\n      }\n    }\n    for (var i = 0; i < js_urls.length; i++) {\n      var url = js_urls[i];\n      if (skip.indexOf(url) !== -1 || existing_scripts.indexOf(url) !== -1) {\n\tif (!window.requirejs) {\n\t  on_load();\n\t}\n\tcontinue;\n      }\n      var element = document.createElement('script');\n      element.onload = on_load;\n      element.onerror = on_error;\n      element.async = false;\n      element.src = url;\n      console.debug(\"Bokeh: injecting script tag for BokehJS library: \", url);\n      document.head.appendChild(element);\n    }\n    for (var i = 0; i < js_modules.length; i++) {\n      var url = js_modules[i];\n      if (skip.indexOf(url) !== -1 || existing_scripts.indexOf(url) !== -1) {\n\tif (!window.requirejs) {\n\t  on_load();\n\t}\n\tcontinue;\n      }\n      var element = document.createElement('script');\n      element.onload = on_load;\n      element.onerror = on_error;\n      element.async = false;\n      element.src = url;\n      element.type = \"module\";\n      console.debug(\"Bokeh: injecting script tag for BokehJS library: \", url);\n      document.head.appendChild(element);\n    }\n    for (const name in js_exports) {\n      var url = js_exports[name];\n      if (skip.indexOf(url) >= 0 || root[name] != null) {\n\tif (!window.requirejs) {\n\t  on_load();\n\t}\n\tcontinue;\n      }\n      var element = document.createElement('script');\n      element.onerror = on_error;\n      element.async = false;\n      element.type = \"module\";\n      console.debug(\"Bokeh: injecting script tag for BokehJS library: \", url);\n      element.textContent = `\n      import ${name} from \"${url}\"\n      window.${name} = ${name}\n      window._bokeh_on_load()\n      `\n      document.head.appendChild(element);\n    }\n    if (!js_urls.length && !js_modules.length) {\n      on_load()\n    }\n  };\n\n  function inject_raw_css(css) {\n    const element = document.createElement(\"style\");\n    element.appendChild(document.createTextNode(css));\n    document.body.appendChild(element);\n  }\n\n  var js_urls = [\"https://cdn.bokeh.org/bokeh/release/bokeh-3.2.1.min.js\", \"https://cdn.bokeh.org/bokeh/release/bokeh-gl-3.2.1.min.js\", \"https://cdn.bokeh.org/bokeh/release/bokeh-widgets-3.2.1.min.js\", \"https://cdn.bokeh.org/bokeh/release/bokeh-tables-3.2.1.min.js\", \"https://cdn.holoviz.org/panel/1.2.1/dist/panel.min.js\"];\n  var js_modules = [];\n  var js_exports = {};\n  var css_urls = [];\n  var inline_js = [    function(Bokeh) {\n      Bokeh.set_log_level(\"info\");\n    },\nfunction(Bokeh) {} // ensure no trailing comma for IE\n  ];\n\n  function run_inline_js() {\n    if ((root.Bokeh !== undefined) || (force === true)) {\n      for (var i = 0; i < inline_js.length; i++) {\n        inline_js[i].call(root, root.Bokeh);\n      }\n      // Cache old bokeh versions\n      if (Bokeh != undefined && !reloading) {\n\tvar NewBokeh = root.Bokeh;\n\tif (Bokeh.versions === undefined) {\n\t  Bokeh.versions = new Map();\n\t}\n\tif (NewBokeh.version !== Bokeh.version) {\n\t  Bokeh.versions.set(NewBokeh.version, NewBokeh)\n\t}\n\troot.Bokeh = Bokeh;\n      }} else if (Date.now() < root._bokeh_timeout) {\n      setTimeout(run_inline_js, 100);\n    } else if (!root._bokeh_failed_load) {\n      console.log(\"Bokeh: BokehJS failed to load within specified timeout.\");\n      root._bokeh_failed_load = true;\n    }\n    root._bokeh_is_initializing = false\n  }\n\n  function load_or_wait() {\n    // Implement a backoff loop that tries to ensure we do not load multiple\n    // versions of Bokeh and its dependencies at the same time.\n    // In recent versions we use the root._bokeh_is_initializing flag\n    // to determine whether there is an ongoing attempt to initialize\n    // bokeh, however for backward compatibility we also try to ensure\n    // that we do not start loading a newer (Panel>=1.0 and Bokeh>3) version\n    // before older versions are fully initialized.\n    if (root._bokeh_is_initializing && Date.now() > root._bokeh_timeout) {\n      root._bokeh_is_initializing = false;\n      root._bokeh_onload_callbacks = undefined;\n      console.log(\"Bokeh: BokehJS was loaded multiple times but one version failed to initialize.\");\n      load_or_wait();\n    } else if (root._bokeh_is_initializing || (typeof root._bokeh_is_initializing === \"undefined\" && root._bokeh_onload_callbacks !== undefined)) {\n      setTimeout(load_or_wait, 100);\n    } else {\n      Bokeh = root.Bokeh;\n      bokeh_loaded = Bokeh != null && (Bokeh.version === py_version || (Bokeh.versions !== undefined && Bokeh.versions.has(py_version)));\n      root._bokeh_is_initializing = true\n      root._bokeh_onload_callbacks = []\n      if (!reloading && (!bokeh_loaded || is_dev)) {\n\troot.Bokeh = undefined;\n      }\n      load_libs(css_urls, js_urls, js_modules, js_exports, function() {\n\tconsole.debug(\"Bokeh: BokehJS plotting callback run at\", now());\n\trun_inline_js();\n      });\n    }\n  }\n  // Give older versions of the autoload script a head-start to ensure\n  // they initialize before we start loading newer version.\n  setTimeout(load_or_wait, 100)\n}(window));",
      "application/vnd.holoviews_load.v0+json": ""
     },
     "metadata": {},
     "output_type": "display_data"
    },
    {
     "data": {
      "application/javascript": "\nif ((window.PyViz === undefined) || (window.PyViz instanceof HTMLElement)) {\n  window.PyViz = {comms: {}, comm_status:{}, kernels:{}, receivers: {}, plot_index: []}\n}\n\n\n    function JupyterCommManager() {\n    }\n\n    JupyterCommManager.prototype.register_target = function(plot_id, comm_id, msg_handler) {\n      if (window.comm_manager || ((window.Jupyter !== undefined) && (Jupyter.notebook.kernel != null))) {\n        var comm_manager = window.comm_manager || Jupyter.notebook.kernel.comm_manager;\n        comm_manager.register_target(comm_id, function(comm) {\n          comm.on_msg(msg_handler);\n        });\n      } else if ((plot_id in window.PyViz.kernels) && (window.PyViz.kernels[plot_id])) {\n        window.PyViz.kernels[plot_id].registerCommTarget(comm_id, function(comm) {\n          comm.onMsg = msg_handler;\n        });\n      } else if (typeof google != 'undefined' && google.colab.kernel != null) {\n        google.colab.kernel.comms.registerTarget(comm_id, (comm) => {\n          var messages = comm.messages[Symbol.asyncIterator]();\n          function processIteratorResult(result) {\n            var message = result.value;\n            console.log(message)\n            var content = {data: message.data, comm_id};\n            var buffers = []\n            for (var buffer of message.buffers || []) {\n              buffers.push(new DataView(buffer))\n            }\n            var metadata = message.metadata || {};\n            var msg = {content, buffers, metadata}\n            msg_handler(msg);\n            return messages.next().then(processIteratorResult);\n          }\n          return messages.next().then(processIteratorResult);\n        })\n      }\n    }\n\n    JupyterCommManager.prototype.get_client_comm = function(plot_id, comm_id, msg_handler) {\n      if (comm_id in window.PyViz.comms) {\n        return window.PyViz.comms[comm_id];\n      } else if (window.comm_manager || ((window.Jupyter !== undefined) && (Jupyter.notebook.kernel != null))) {\n        var comm_manager = window.comm_manager || Jupyter.notebook.kernel.comm_manager;\n        var comm = comm_manager.new_comm(comm_id, {}, {}, {}, comm_id);\n        if (msg_handler) {\n          comm.on_msg(msg_handler);\n        }\n      } else if ((plot_id in window.PyViz.kernels) && (window.PyViz.kernels[plot_id])) {\n        var comm = window.PyViz.kernels[plot_id].connectToComm(comm_id);\n        comm.open();\n        if (msg_handler) {\n          comm.onMsg = msg_handler;\n        }\n      } else if (typeof google != 'undefined' && google.colab.kernel != null) {\n        var comm_promise = google.colab.kernel.comms.open(comm_id)\n        comm_promise.then((comm) => {\n          window.PyViz.comms[comm_id] = comm;\n          if (msg_handler) {\n            var messages = comm.messages[Symbol.asyncIterator]();\n            function processIteratorResult(result) {\n              var message = result.value;\n              var content = {data: message.data};\n              var metadata = message.metadata || {comm_id};\n              var msg = {content, metadata}\n              msg_handler(msg);\n              return messages.next().then(processIteratorResult);\n            }\n            return messages.next().then(processIteratorResult);\n          }\n        }) \n        var sendClosure = (data, metadata, buffers, disposeOnDone) => {\n          return comm_promise.then((comm) => {\n            comm.send(data, metadata, buffers, disposeOnDone);\n          });\n        };\n        var comm = {\n          send: sendClosure\n        };\n      }\n      window.PyViz.comms[comm_id] = comm;\n      return comm;\n    }\n    window.PyViz.comm_manager = new JupyterCommManager();\n    \n\n\nvar JS_MIME_TYPE = 'application/javascript';\nvar HTML_MIME_TYPE = 'text/html';\nvar EXEC_MIME_TYPE = 'application/vnd.holoviews_exec.v0+json';\nvar CLASS_NAME = 'output';\n\n/**\n * Render data to the DOM node\n */\nfunction render(props, node) {\n  var div = document.createElement(\"div\");\n  var script = document.createElement(\"script\");\n  node.appendChild(div);\n  node.appendChild(script);\n}\n\n/**\n * Handle when a new output is added\n */\nfunction handle_add_output(event, handle) {\n  var output_area = handle.output_area;\n  var output = handle.output;\n  if ((output.data == undefined) || (!output.data.hasOwnProperty(EXEC_MIME_TYPE))) {\n    return\n  }\n  var id = output.metadata[EXEC_MIME_TYPE][\"id\"];\n  var toinsert = output_area.element.find(\".\" + CLASS_NAME.split(' ')[0]);\n  if (id !== undefined) {\n    var nchildren = toinsert.length;\n    var html_node = toinsert[nchildren-1].children[0];\n    html_node.innerHTML = output.data[HTML_MIME_TYPE];\n    var scripts = [];\n    var nodelist = html_node.querySelectorAll(\"script\");\n    for (var i in nodelist) {\n      if (nodelist.hasOwnProperty(i)) {\n        scripts.push(nodelist[i])\n      }\n    }\n\n    scripts.forEach( function (oldScript) {\n      var newScript = document.createElement(\"script\");\n      var attrs = [];\n      var nodemap = oldScript.attributes;\n      for (var j in nodemap) {\n        if (nodemap.hasOwnProperty(j)) {\n          attrs.push(nodemap[j])\n        }\n      }\n      attrs.forEach(function(attr) { newScript.setAttribute(attr.name, attr.value) });\n      newScript.appendChild(document.createTextNode(oldScript.innerHTML));\n      oldScript.parentNode.replaceChild(newScript, oldScript);\n    });\n    if (JS_MIME_TYPE in output.data) {\n      toinsert[nchildren-1].children[1].textContent = output.data[JS_MIME_TYPE];\n    }\n    output_area._hv_plot_id = id;\n    if ((window.Bokeh !== undefined) && (id in Bokeh.index)) {\n      window.PyViz.plot_index[id] = Bokeh.index[id];\n    } else {\n      window.PyViz.plot_index[id] = null;\n    }\n  } else if (output.metadata[EXEC_MIME_TYPE][\"server_id\"] !== undefined) {\n    var bk_div = document.createElement(\"div\");\n    bk_div.innerHTML = output.data[HTML_MIME_TYPE];\n    var script_attrs = bk_div.children[0].attributes;\n    for (var i = 0; i < script_attrs.length; i++) {\n      toinsert[toinsert.length - 1].childNodes[1].setAttribute(script_attrs[i].name, script_attrs[i].value);\n    }\n    // store reference to server id on output_area\n    output_area._bokeh_server_id = output.metadata[EXEC_MIME_TYPE][\"server_id\"];\n  }\n}\n\n/**\n * Handle when an output is cleared or removed\n */\nfunction handle_clear_output(event, handle) {\n  var id = handle.cell.output_area._hv_plot_id;\n  var server_id = handle.cell.output_area._bokeh_server_id;\n  if (((id === undefined) || !(id in PyViz.plot_index)) && (server_id !== undefined)) { return; }\n  var comm = window.PyViz.comm_manager.get_client_comm(\"hv-extension-comm\", \"hv-extension-comm\", function () {});\n  if (server_id !== null) {\n    comm.send({event_type: 'server_delete', 'id': server_id});\n    return;\n  } else if (comm !== null) {\n    comm.send({event_type: 'delete', 'id': id});\n  }\n  delete PyViz.plot_index[id];\n  if ((window.Bokeh !== undefined) & (id in window.Bokeh.index)) {\n    var doc = window.Bokeh.index[id].model.document\n    doc.clear();\n    const i = window.Bokeh.documents.indexOf(doc);\n    if (i > -1) {\n      window.Bokeh.documents.splice(i, 1);\n    }\n  }\n}\n\n/**\n * Handle kernel restart event\n */\nfunction handle_kernel_cleanup(event, handle) {\n  delete PyViz.comms[\"hv-extension-comm\"];\n  window.PyViz.plot_index = {}\n}\n\n/**\n * Handle update_display_data messages\n */\nfunction handle_update_output(event, handle) {\n  handle_clear_output(event, {cell: {output_area: handle.output_area}})\n  handle_add_output(event, handle)\n}\n\nfunction register_renderer(events, OutputArea) {\n  function append_mime(data, metadata, element) {\n    // create a DOM node to render to\n    var toinsert = this.create_output_subarea(\n    metadata,\n    CLASS_NAME,\n    EXEC_MIME_TYPE\n    );\n    this.keyboard_manager.register_events(toinsert);\n    // Render to node\n    var props = {data: data, metadata: metadata[EXEC_MIME_TYPE]};\n    render(props, toinsert[0]);\n    element.append(toinsert);\n    return toinsert\n  }\n\n  events.on('output_added.OutputArea', handle_add_output);\n  events.on('output_updated.OutputArea', handle_update_output);\n  events.on('clear_output.CodeCell', handle_clear_output);\n  events.on('delete.Cell', handle_clear_output);\n  events.on('kernel_ready.Kernel', handle_kernel_cleanup);\n\n  OutputArea.prototype.register_mime_type(EXEC_MIME_TYPE, append_mime, {\n    safe: true,\n    index: 0\n  });\n}\n\nif (window.Jupyter !== undefined) {\n  try {\n    var events = require('base/js/events');\n    var OutputArea = require('notebook/js/outputarea').OutputArea;\n    if (OutputArea.prototype.mime_types().indexOf(EXEC_MIME_TYPE) == -1) {\n      register_renderer(events, OutputArea);\n    }\n  } catch(err) {\n  }\n}\n",
      "application/vnd.holoviews_load.v0+json": ""
     },
     "metadata": {},
     "output_type": "display_data"
    },
    {
     "data": {
      "text/html": [
       "<style>*[data-root-id],\n",
       "*[data-root-id] > * {\n",
       "  box-sizing: border-box;\n",
       "  font-family: var(--jp-ui-font-family);\n",
       "  font-size: var(--jp-ui-font-size1);\n",
       "  color: var(--vscode-editor-foreground, var(--jp-ui-font-color1));\n",
       "}\n",
       "\n",
       "/* Override VSCode background color */\n",
       ".cell-output-ipywidget-background:has(\n",
       "    > .cell-output-ipywidget-background > .lm-Widget > *[data-root-id]\n",
       "  ),\n",
       ".cell-output-ipywidget-background:has(> .lm-Widget > *[data-root-id]) {\n",
       "  background-color: transparent !important;\n",
       "}\n",
       "</style>"
      ]
     },
     "metadata": {},
     "output_type": "display_data"
    }
   ],
   "source": [
    "import os\n",
    "from datetime import datetime\n",
    "import requests as r\n",
    "import numpy as np\n",
    "import pandas as pd\n",
    "import geopandas as gp\n",
    "import io\n",
    "import matplotlib.pyplot as plt\n",
    "#from osgeo import gdal\n",
    "import rasterio as rio\n",
    "from rasterio.mask import mask\n",
    "from rasterio.enums import Resampling\n",
    "from rasterio.shutil import copy\n",
    "from rasterio.transform import from_origin\n",
    "import pyproj\n",
    "from pyproj import Proj\n",
    "from shapely.ops import transform\n",
    "import xarray as xr\n",
    "#import geoviews as gv\n",
    "from cartopy import crs\n",
    "import hvplot.xarray\n",
    "import holoviews as hv\n",
    "import boto3\n",
    "from rasterio.session import AWSSession\n",
    "import rioxarray as rxr\n",
    "from rioxarray.merge import merge_arrays\n",
    "import requests\n",
    "import h5py\n",
    "from satpy import Scene\n",
    "#from satpy.readers import hdf5_reader"
   ]
  },
  {
   "cell_type": "code",
   "execution_count": 2,
   "id": "13730405",
   "metadata": {},
   "outputs": [],
   "source": [
    "# AUTHENTICATION CONFIGURATION\n",
    "from netrc import netrc\n",
    "from subprocess import Popen, DEVNULL, STDOUT\n",
    "from getpass import getpass\n",
    "from sys import platform\n",
    "\n",
    "urs = 'urs.earthdata.nasa.gov'    # Earthdata URL to call for authentication\n",
    "prompts = ['Enter NASA Earthdata Login Username \\n(or create an account at urs.earthdata.nasa.gov): ',\n",
    "           'Enter NASA Earthdata Login Password: ']\n",
    "\n",
    "# Determine if netrc file exists, and if it includes NASA Earthdata Login Credentials\n",
    "if 'win' in platform:\n",
    "    nrc = '_netrc'\n",
    "else:\n",
    "    nrc = '.netrc'\n",
    "try:\n",
    "    netrcDir = os.path.expanduser(f\"~/{nrc}\")\n",
    "    netrc(netrcDir).authenticators(urs)[0]\n",
    "    del netrcDir\n",
    "\n",
    "# If not, create a netrc file and prompt user for NASA Earthdata Login Username/Password\n",
    "except FileNotFoundError:\n",
    "    homeDir = os.path.expanduser(\"~\")\n",
    "\n",
    "    # Windows OS won't read the netrc unless this is set\n",
    "    Popen(f'setx HOME {homeDir}', shell=True, stdout=DEVNULL);\n",
    "\n",
    "    if nrc == '.netrc':\n",
    "        Popen(f'touch {homeDir + os.sep}{nrc} | chmod og-rw {homeDir + os.sep}{nrc}', shell=True, stdout=DEVNULL, stderr=STDOUT);\n",
    "\n",
    "    # Unable to use touch/chmod on Windows OS\n",
    "    Popen(f'echo machine {urs} >> {homeDir + os.sep}{nrc}', shell=True)\n",
    "    Popen(f'echo login {getpass(prompt=prompts[0])} >> {homeDir + os.sep}{nrc}', shell=True)\n",
    "    Popen(f'echo password {getpass(prompt=prompts[1])} >> {homeDir + os.sep}{nrc}', shell=True)\n",
    "    del homeDir\n",
    "\n",
    "# Determine OS and edit netrc file if it exists but is not set up for NASA Earthdata Login\n",
    "except TypeError:\n",
    "    homeDir = os.path.expanduser(\"~\")\n",
    "    Popen(f'echo machine {urs} >> {homeDir + os.sep}{nrc}', shell=True)\n",
    "    Popen(f'echo login {getpass(prompt=prompts[0])} >> {homeDir + os.sep}{nrc}', shell=True)\n",
    "    Popen(f'echo password {getpass(prompt=prompts[1])} >> {homeDir + os.sep}{nrc}', shell=True)\n",
    "    del homeDir\n",
    "del urs, prompts"
   ]
  },
  {
   "cell_type": "code",
   "execution_count": 3,
   "id": "fe8586e2",
   "metadata": {},
   "outputs": [
    {
     "name": "stderr",
     "output_type": "stream",
     "text": [
      "c:\\Users\\cinfante\\OneDrive - NRCan RNCan\\Documents\\Greenup\\NASA-LPDAAC-Testing\\venv\\Lib\\site-packages\\urllib3\\connectionpool.py:1056: InsecureRequestWarning: Unverified HTTPS request is being made to host 'cmr.earthdata.nasa.gov'. Adding certificate verification is strongly advised. See: https://urllib3.readthedocs.io/en/1.26.x/advanced-usage.html#ssl-warnings\n",
      "  warnings.warn(\n"
     ]
    },
    {
     "name": "stdout",
     "output_type": "stream",
     "text": [
      "https://cmr.earthdata.nasa.gov/stac/LPCLOUD/collections/VNP13A2.v002/items/?page=11286\n"
     ]
    },
    {
     "name": "stderr",
     "output_type": "stream",
     "text": [
      "c:\\Users\\cinfante\\OneDrive - NRCan RNCan\\Documents\\Greenup\\NASA-LPDAAC-Testing\\venv\\Lib\\site-packages\\urllib3\\connectionpool.py:1056: InsecureRequestWarning: Unverified HTTPS request is being made to host 'cmr.earthdata.nasa.gov'. Adding certificate verification is strongly advised. See: https://urllib3.readthedocs.io/en/1.26.x/advanced-usage.html#ssl-warnings\n",
      "  warnings.warn(\n"
     ]
    },
    {
     "name": "stdout",
     "output_type": "stream",
     "text": [
      "https://data.lpdaac.earthdatacloud.nasa.gov/lp-prod-public/VNP13A2.002/VNP13A2.A2023201.h08v05.002.2023242143159/BROWSE.VNP13A2.A2023201.h08v05.002.2023242143159.1.jpg\n",
      "https://data.lpdaac.earthdatacloud.nasa.gov/lp-prod-public/VNP13A2.002/VNP13A2.A2023201.h21v04.002.2023242143639/BROWSE.VNP13A2.A2023201.h21v04.002.2023242143639.1.jpg\n",
      "https://data.lpdaac.earthdatacloud.nasa.gov/lp-prod-public/VNP13A2.002/VNP13A2.A2023201.h30v12.002.2023242143950/BROWSE.VNP13A2.A2023201.h30v12.002.2023242143950.1.jpg\n"
     ]
    }
   ],
   "source": [
    "# Find last page\n",
    "base_url = 'https://cmr.earthdata.nasa.gov/stac/LPCLOUD/collections/VNP13A2.v002/items/'\n",
    "collections_response = r.get(base_url, verify=False).json()\n",
    "total_items = collections_response['numberMatched']\n",
    "items_returned = collections_response['numberReturned']\n",
    "last_page = total_items // items_returned\n",
    "if total_items % items_returned != 0:\n",
    "    last_page += 1\n",
    "last_page_url = base_url + f\"?page={last_page}\"\n",
    "print(last_page_url)\n",
    "# https://cmr.earthdata.nasa.gov/stac/LPCLOUD/collections/VNP13A2.v002/items/?page=11229\n",
    "last_response = r.get(last_page_url, verify=False).json()\n",
    "\n",
    "for i in last_response['features']:\n",
    "    print(i['assets']['browse']['href'])"
   ]
  },
  {
   "cell_type": "markdown",
   "id": "92df90ca",
   "metadata": {},
   "source": [
    "# Testing logic from code that Justin showed"
   ]
  },
  {
   "cell_type": "code",
   "execution_count": 8,
   "id": "877cb69a",
   "metadata": {},
   "outputs": [
    {
     "name": "stderr",
     "output_type": "stream",
     "text": [
      "c:\\Users\\cinfante\\OneDrive - NRCan RNCan\\Documents\\Greenup\\NASA-LPDAAC-Testing\\venv\\Lib\\site-packages\\urllib3\\connectionpool.py:1056: InsecureRequestWarning: Unverified HTTPS request is being made to host 'cmr.earthdata.nasa.gov'. Adding certificate verification is strongly advised. See: https://urllib3.readthedocs.io/en/1.26.x/advanced-usage.html#ssl-warnings\n",
      "  warnings.warn(\n"
     ]
    },
    {
     "name": "stdout",
     "output_type": "stream",
     "text": [
      "29\n"
     ]
    },
    {
     "name": "stderr",
     "output_type": "stream",
     "text": [
      "c:\\Users\\cinfante\\OneDrive - NRCan RNCan\\Documents\\Greenup\\NASA-LPDAAC-Testing\\venv\\Lib\\site-packages\\urllib3\\connectionpool.py:1056: InsecureRequestWarning: Unverified HTTPS request is being made to host 'data.lpdaac.earthdatacloud.nasa.gov'. Adding certificate verification is strongly advised. See: https://urllib3.readthedocs.io/en/1.26.x/advanced-usage.html#ssl-warnings\n",
      "  warnings.warn(\n",
      "c:\\Users\\cinfante\\OneDrive - NRCan RNCan\\Documents\\Greenup\\NASA-LPDAAC-Testing\\venv\\Lib\\site-packages\\urllib3\\connectionpool.py:1056: InsecureRequestWarning: Unverified HTTPS request is being made to host 'urs.earthdata.nasa.gov'. Adding certificate verification is strongly advised. See: https://urllib3.readthedocs.io/en/1.26.x/advanced-usage.html#ssl-warnings\n",
      "  warnings.warn(\n",
      "c:\\Users\\cinfante\\OneDrive - NRCan RNCan\\Documents\\Greenup\\NASA-LPDAAC-Testing\\venv\\Lib\\site-packages\\urllib3\\connectionpool.py:1056: InsecureRequestWarning: Unverified HTTPS request is being made to host 'data.lpdaac.earthdatacloud.nasa.gov'. Adding certificate verification is strongly advised. See: https://urllib3.readthedocs.io/en/1.26.x/advanced-usage.html#ssl-warnings\n",
      "  warnings.warn(\n",
      "c:\\Users\\cinfante\\OneDrive - NRCan RNCan\\Documents\\Greenup\\NASA-LPDAAC-Testing\\venv\\Lib\\site-packages\\urllib3\\connectionpool.py:1056: InsecureRequestWarning: Unverified HTTPS request is being made to host 'data.lpdaac.earthdatacloud.nasa.gov'. Adding certificate verification is strongly advised. See: https://urllib3.readthedocs.io/en/1.26.x/advanced-usage.html#ssl-warnings\n",
      "  warnings.warn(\n",
      "c:\\Users\\cinfante\\OneDrive - NRCan RNCan\\Documents\\Greenup\\NASA-LPDAAC-Testing\\venv\\Lib\\site-packages\\urllib3\\connectionpool.py:1056: InsecureRequestWarning: Unverified HTTPS request is being made to host 'd1nklfio7vscoe.cloudfront.net'. Adding certificate verification is strongly advised. See: https://urllib3.readthedocs.io/en/1.26.x/advanced-usage.html#ssl-warnings\n",
      "  warnings.warn(\n"
     ]
    },
    {
     "name": "stdout",
     "output_type": "stream",
     "text": [
      "{'type': 'Feature', 'id': 'VNP13A2.A2023201.h14v04.002.2023242143456', 'stac_version': '1.0.0', 'stac_extensions': [], 'collection': 'VNP13A2.v002', 'geometry': {'type': 'Polygon', 'coordinates': [[[-52.1199, 39.7994], [-38.9707, 39.828], [-46.5357, 50.0429], [-62.229, 50], [-52.1199, 39.7994]]]}, 'bbox': [-62.229, 39.7994, -38.9707, 50.287031], 'links': [{'rel': 'self', 'href': 'https://cmr.earthdata.nasa.gov/stac/LPCLOUD/collections/VNP13A2.v002/items/VNP13A2.A2023201.h14v04.002.2023242143456'}, {'rel': 'parent', 'href': 'https://cmr.earthdata.nasa.gov/stac/LPCLOUD/collections/VNP13A2.v002'}, {'rel': 'collection', 'href': 'https://cmr.earthdata.nasa.gov/stac/LPCLOUD/collections/VNP13A2.v002'}, {'rel': 'root', 'href': 'https://cmr.earthdata.nasa.gov/stac/'}, {'rel': 'provider', 'href': 'https://cmr.earthdata.nasa.gov/stac/LPCLOUD'}, {'rel': 'via', 'href': 'https://cmr.earthdata.nasa.gov/search/concepts/G2758988346-LPCLOUD.json'}, {'rel': 'via', 'href': 'https://cmr.earthdata.nasa.gov/search/concepts/G2758988346-LPCLOUD.umm_json'}], 'properties': {'datetime': '2023-07-20T00:00:00.000Z', 'start_datetime': '2023-07-20T00:00:00.000Z', 'end_datetime': '2023-08-04T23:59:59.000Z'}, 'assets': {'data': {'href': 'https://data.lpdaac.earthdatacloud.nasa.gov/lp-prod-protected/VNP13A2.002/VNP13A2.A2023201.h14v04.002.2023242143456/VNP13A2.A2023201.h14v04.002.2023242143456.h5', 'title': 'Download VNP13A2.A2023201.h14v04.002.2023242143456.h5'}, 'browse': {'href': 'https://data.lpdaac.earthdatacloud.nasa.gov/lp-prod-public/VNP13A2.002/VNP13A2.A2023201.h14v04.002.2023242143456/BROWSE.VNP13A2.A2023201.h14v04.002.2023242143456.1.jpg', 'type': 'image/jpeg', 'title': 'Download BROWSE.VNP13A2.A2023201.h14v04.002.2023242143456.1.jpg'}, 'opendap': {'href': 'https://opendap.earthdata.nasa.gov/collections/C2519127613-LPCLOUD/granules/VNP13A2.A2023201.h14v04.002.2023242143456', 'title': 'OPeNDAP request URL (GET DATA : OPENDAP DATA)'}, 'metadata': {'href': 'https://cmr.earthdata.nasa.gov/search/concepts/G2758988346-LPCLOUD.xml', 'type': 'application/xml'}}}\n",
      "Metadata: ['GROUP=SwathStructure', 'END_GROUP=SwathStructure', 'GROUP=GridStructure', 'GROUP=GRID_1', 'GridName=\"VIIRS_Grid_16Day_VI_1km\"', 'XDim=1200', 'YDim=1200', 'UpperLeftPointMtrs=(-4447802.078667,5559752.598333)', 'LowerRightMtrs=(-3335851.559000,4447802.078667)', 'Projection=HE5_GCTP_SNSOID', 'ProjParams=(6371007.181000,0,0,0,0,0,0,0,0,0,0,0,0)', 'SphereCode=-1', 'GROUP=Dimension', 'OBJECT=Dimension_1', 'DimensionName=\"dimofone\"', 'Size=1', 'END_OBJECT=Dimension_1', 'END_GROUP=Dimension', 'GROUP=DataField', 'OBJECT=DataField_1', 'DataFieldName=\"1', 'km', '16', 'days', 'NDVI\"', 'DataType=H5T_NATIVE_SHORT', 'DimList=(\"YDim\",\"XDim\")', 'MaxdimList=(\"YDim\",\"XDim\")', 'CompressionType=HE5_HDFE_COMP_DEFLATE', 'DeflateLevel=5', 'END_OBJECT=DataField_1', 'OBJECT=DataField_2', 'DataFieldName=\"1', 'km', '16', 'days', 'EVI\"', 'DataType=H5T_NATIVE_SHORT', 'DimList=(\"YDim\",\"XDim\")', 'MaxdimList=(\"YDim\",\"XDim\")', 'CompressionType=HE5_HDFE_COMP_DEFLATE', 'DeflateLevel=5', 'END_OBJECT=DataField_2', 'OBJECT=DataField_3', 'DataFieldName=\"1', 'km', '16', 'days', 'EVI2\"', 'DataType=H5T_NATIVE_SHORT', 'DimList=(\"YDim\",\"XDim\")', 'MaxdimList=(\"YDim\",\"XDim\")', 'CompressionType=HE5_HDFE_COMP_DEFLATE', 'DeflateLevel=5', 'END_OBJECT=DataField_3', 'OBJECT=DataField_4', 'DataFieldName=\"1', 'km', '16', 'days', 'VI', 'Quality\"', 'DataType=H5T_NATIVE_USHORT', 'DimList=(\"YDim\",\"XDim\")', 'MaxdimList=(\"YDim\",\"XDim\")', 'CompressionType=HE5_HDFE_COMP_DEFLATE', 'DeflateLevel=5', 'END_OBJECT=DataField_4', 'OBJECT=DataField_5', 'DataFieldName=\"1', 'km', '16', 'days', 'red', 'reflectance\"', 'DataType=H5T_NATIVE_SHORT', 'DimList=(\"YDim\",\"XDim\")', 'MaxdimList=(\"YDim\",\"XDim\")', 'CompressionType=HE5_HDFE_COMP_DEFLATE', 'DeflateLevel=5', 'END_OBJECT=DataField_5', 'OBJECT=DataField_6', 'DataFieldName=\"1', 'km', '16', 'days', 'NIR', 'reflectance\"', 'DataType=H5T_NATIVE_SHORT', 'DimList=(\"YDim\",\"XDim\")', 'MaxdimList=(\"YDim\",\"XDim\")', 'CompressionType=HE5_HDFE_COMP_DEFLATE', 'DeflateLevel=5', 'END_OBJECT=DataField_6', 'OBJECT=DataField_7', 'DataFieldName=\"1', 'km', '16', 'days', 'blue', 'reflectance\"', 'DataType=H5T_NATIVE_SHORT', 'DimList=(\"YDim\",\"XDim\")', 'MaxdimList=(\"YDim\",\"XDim\")', 'CompressionType=HE5_HDFE_COMP_DEFLATE', 'DeflateLevel=5', 'END_OBJECT=DataField_7', 'OBJECT=DataField_8', 'DataFieldName=\"1', 'km', '16', 'days', 'green', 'reflectance\"', 'DataType=H5T_NATIVE_SHORT', 'DimList=(\"YDim\",\"XDim\")', 'MaxdimList=(\"YDim\",\"XDim\")', 'CompressionType=HE5_HDFE_COMP_DEFLATE', 'DeflateLevel=5', 'END_OBJECT=DataField_8', 'OBJECT=DataField_9', 'DataFieldName=\"1', 'km', '16', 'days', 'SWIR1', 'reflectance\"', 'DataType=H5T_NATIVE_SHORT', 'DimList=(\"YDim\",\"XDim\")', 'MaxdimList=(\"YDim\",\"XDim\")', 'CompressionType=HE5_HDFE_COMP_DEFLATE', 'DeflateLevel=5', 'END_OBJECT=DataField_9', 'OBJECT=DataField_10', 'DataFieldName=\"1', 'km', '16', 'days', 'SWIR2', 'reflectance\"', 'DataType=H5T_NATIVE_SHORT', 'DimList=(\"YDim\",\"XDim\")', 'MaxdimList=(\"YDim\",\"XDim\")', 'CompressionType=HE5_HDFE_COMP_DEFLATE', 'DeflateLevel=5', 'END_OBJECT=DataField_10', 'OBJECT=DataField_11', 'DataFieldName=\"1', 'km', '16', 'days', 'SWIR3', 'reflectance\"', 'DataType=H5T_NATIVE_SHORT', 'DimList=(\"YDim\",\"XDim\")', 'MaxdimList=(\"YDim\",\"XDim\")', 'CompressionType=HE5_HDFE_COMP_DEFLATE', 'DeflateLevel=5', 'END_OBJECT=DataField_11', 'OBJECT=DataField_12', 'DataFieldName=\"1', 'km', '16', 'days', 'view', 'zenith', 'angle\"', 'DataType=H5T_NATIVE_SHORT', 'DimList=(\"YDim\",\"XDim\")', 'MaxdimList=(\"YDim\",\"XDim\")', 'CompressionType=HE5_HDFE_COMP_DEFLATE', 'DeflateLevel=5', 'END_OBJECT=DataField_12', 'OBJECT=DataField_13', 'DataFieldName=\"1', 'km', '16', 'days', 'sun', 'zenith', 'angle\"', 'DataType=H5T_NATIVE_SHORT', 'DimList=(\"YDim\",\"XDim\")', 'MaxdimList=(\"YDim\",\"XDim\")', 'CompressionType=HE5_HDFE_COMP_DEFLATE', 'DeflateLevel=5', 'END_OBJECT=DataField_13', 'OBJECT=DataField_14', 'DataFieldName=\"1', 'km', '16', 'days', 'relative', 'azimuth', 'angle\"', 'DataType=H5T_NATIVE_SHORT', 'DimList=(\"YDim\",\"XDim\")', 'MaxdimList=(\"YDim\",\"XDim\")', 'CompressionType=HE5_HDFE_COMP_DEFLATE', 'DeflateLevel=5', 'END_OBJECT=DataField_14', 'OBJECT=DataField_15', 'DataFieldName=\"1', 'km', '16', 'days', 'composite', 'day', 'of', 'the', 'year\"', 'DataType=H5T_NATIVE_SHORT', 'DimList=(\"YDim\",\"XDim\")', 'MaxdimList=(\"YDim\",\"XDim\")', 'CompressionType=HE5_HDFE_COMP_DEFLATE', 'DeflateLevel=5', 'END_OBJECT=DataField_15', 'OBJECT=DataField_16', 'DataFieldName=\"1', 'km', '16', 'days', 'pixel', 'reliability\"', 'DataType=H5T_NATIVE_SCHAR', 'DimList=(\"YDim\",\"XDim\")', 'MaxdimList=(\"YDim\",\"XDim\")', 'CompressionType=HE5_HDFE_COMP_DEFLATE', 'DeflateLevel=5', 'END_OBJECT=DataField_16', 'OBJECT=DataField_17', 'DataFieldName=\"Projection\"', 'DataType=H5T_NATIVE_INT', 'DimList=(\"dimofone\")', 'MaxdimList=(\"dimofone\")', 'END_OBJECT=DataField_17', 'END_GROUP=DataField', 'GROUP=MergedFields', 'END_GROUP=MergedFields', 'END_GROUP=GRID_1', 'END_GROUP=GridStructure', 'GROUP=PointStructure', 'END_GROUP=PointStructure', 'GROUP=ZaStructure', 'END_GROUP=ZaStructure', 'END']\n",
      "Geoinfo: (-4447802.078667, 0, 5559752.598333, 0)\n",
      "Overall extent: (-4447802.078667, 0, 5559752.598333, 0)\n"
     ]
    },
    {
     "name": "stderr",
     "output_type": "stream",
     "text": [
      "c:\\Users\\cinfante\\OneDrive - NRCan RNCan\\Documents\\Greenup\\NASA-LPDAAC-Testing\\venv\\Lib\\site-packages\\urllib3\\connectionpool.py:1056: InsecureRequestWarning: Unverified HTTPS request is being made to host 'data.lpdaac.earthdatacloud.nasa.gov'. Adding certificate verification is strongly advised. See: https://urllib3.readthedocs.io/en/1.26.x/advanced-usage.html#ssl-warnings\n",
      "  warnings.warn(\n",
      "c:\\Users\\cinfante\\OneDrive - NRCan RNCan\\Documents\\Greenup\\NASA-LPDAAC-Testing\\venv\\Lib\\site-packages\\urllib3\\connectionpool.py:1056: InsecureRequestWarning: Unverified HTTPS request is being made to host 'urs.earthdata.nasa.gov'. Adding certificate verification is strongly advised. See: https://urllib3.readthedocs.io/en/1.26.x/advanced-usage.html#ssl-warnings\n",
      "  warnings.warn(\n",
      "c:\\Users\\cinfante\\OneDrive - NRCan RNCan\\Documents\\Greenup\\NASA-LPDAAC-Testing\\venv\\Lib\\site-packages\\urllib3\\connectionpool.py:1056: InsecureRequestWarning: Unverified HTTPS request is being made to host 'data.lpdaac.earthdatacloud.nasa.gov'. Adding certificate verification is strongly advised. See: https://urllib3.readthedocs.io/en/1.26.x/advanced-usage.html#ssl-warnings\n",
      "  warnings.warn(\n",
      "c:\\Users\\cinfante\\OneDrive - NRCan RNCan\\Documents\\Greenup\\NASA-LPDAAC-Testing\\venv\\Lib\\site-packages\\urllib3\\connectionpool.py:1056: InsecureRequestWarning: Unverified HTTPS request is being made to host 'data.lpdaac.earthdatacloud.nasa.gov'. Adding certificate verification is strongly advised. See: https://urllib3.readthedocs.io/en/1.26.x/advanced-usage.html#ssl-warnings\n",
      "  warnings.warn(\n",
      "c:\\Users\\cinfante\\OneDrive - NRCan RNCan\\Documents\\Greenup\\NASA-LPDAAC-Testing\\venv\\Lib\\site-packages\\urllib3\\connectionpool.py:1056: InsecureRequestWarning: Unverified HTTPS request is being made to host 'd1nklfio7vscoe.cloudfront.net'. Adding certificate verification is strongly advised. See: https://urllib3.readthedocs.io/en/1.26.x/advanced-usage.html#ssl-warnings\n",
      "  warnings.warn(\n"
     ]
    },
    {
     "name": "stdout",
     "output_type": "stream",
     "text": [
      "{'type': 'Feature', 'id': 'VNP13A2.A2023201.h09v03.002.2023242143219', 'stac_version': '1.0.0', 'stac_extensions': [], 'collection': 'VNP13A2.v002', 'geometry': {'type': 'Polygon', 'coordinates': [[[-142.3641, 49.415], [-124.1121, 49.8103], [-161.119, 60.1621], [170.8904, 58.9203], [-142.3641, 49.415]]]}, 'bbox': [170.8904, 49.415, -124.1121, 60.422617], 'links': [{'rel': 'self', 'href': 'https://cmr.earthdata.nasa.gov/stac/LPCLOUD/collections/VNP13A2.v002/items/VNP13A2.A2023201.h09v03.002.2023242143219'}, {'rel': 'parent', 'href': 'https://cmr.earthdata.nasa.gov/stac/LPCLOUD/collections/VNP13A2.v002'}, {'rel': 'collection', 'href': 'https://cmr.earthdata.nasa.gov/stac/LPCLOUD/collections/VNP13A2.v002'}, {'rel': 'root', 'href': 'https://cmr.earthdata.nasa.gov/stac/'}, {'rel': 'provider', 'href': 'https://cmr.earthdata.nasa.gov/stac/LPCLOUD'}, {'rel': 'via', 'href': 'https://cmr.earthdata.nasa.gov/search/concepts/G2758988355-LPCLOUD.json'}, {'rel': 'via', 'href': 'https://cmr.earthdata.nasa.gov/search/concepts/G2758988355-LPCLOUD.umm_json'}], 'properties': {'datetime': '2023-07-20T00:00:00.000Z', 'start_datetime': '2023-07-20T00:00:00.000Z', 'end_datetime': '2023-08-04T23:59:59.000Z'}, 'assets': {'data': {'href': 'https://data.lpdaac.earthdatacloud.nasa.gov/lp-prod-protected/VNP13A2.002/VNP13A2.A2023201.h09v03.002.2023242143219/VNP13A2.A2023201.h09v03.002.2023242143219.h5', 'title': 'Download VNP13A2.A2023201.h09v03.002.2023242143219.h5'}, 'browse': {'href': 'https://data.lpdaac.earthdatacloud.nasa.gov/lp-prod-public/VNP13A2.002/VNP13A2.A2023201.h09v03.002.2023242143219/BROWSE.VNP13A2.A2023201.h09v03.002.2023242143219.1.jpg', 'type': 'image/jpeg', 'title': 'Download BROWSE.VNP13A2.A2023201.h09v03.002.2023242143219.1.jpg'}, 'opendap': {'href': 'https://opendap.earthdata.nasa.gov/collections/C2519127613-LPCLOUD/granules/VNP13A2.A2023201.h09v03.002.2023242143219', 'title': 'OPeNDAP request URL (GET DATA : OPENDAP DATA)'}, 'metadata': {'href': 'https://cmr.earthdata.nasa.gov/search/concepts/G2758988355-LPCLOUD.xml', 'type': 'application/xml'}}}\n",
      "Metadata: ['GROUP=SwathStructure', 'END_GROUP=SwathStructure', 'GROUP=GridStructure', 'GROUP=GRID_1', 'GridName=\"VIIRS_Grid_16Day_VI_1km\"', 'XDim=1200', 'YDim=1200', 'UpperLeftPointMtrs=(-10007554.677000,6671703.118000)', 'LowerRightMtrs=(-8895604.157333,5559752.598333)', 'Projection=HE5_GCTP_SNSOID', 'ProjParams=(6371007.181000,0,0,0,0,0,0,0,0,0,0,0,0)', 'SphereCode=-1', 'GROUP=Dimension', 'OBJECT=Dimension_1', 'DimensionName=\"dimofone\"', 'Size=1', 'END_OBJECT=Dimension_1', 'END_GROUP=Dimension', 'GROUP=DataField', 'OBJECT=DataField_1', 'DataFieldName=\"1', 'km', '16', 'days', 'NDVI\"', 'DataType=H5T_NATIVE_SHORT', 'DimList=(\"YDim\",\"XDim\")', 'MaxdimList=(\"YDim\",\"XDim\")', 'CompressionType=HE5_HDFE_COMP_DEFLATE', 'DeflateLevel=5', 'END_OBJECT=DataField_1', 'OBJECT=DataField_2', 'DataFieldName=\"1', 'km', '16', 'days', 'EVI\"', 'DataType=H5T_NATIVE_SHORT', 'DimList=(\"YDim\",\"XDim\")', 'MaxdimList=(\"YDim\",\"XDim\")', 'CompressionType=HE5_HDFE_COMP_DEFLATE', 'DeflateLevel=5', 'END_OBJECT=DataField_2', 'OBJECT=DataField_3', 'DataFieldName=\"1', 'km', '16', 'days', 'EVI2\"', 'DataType=H5T_NATIVE_SHORT', 'DimList=(\"YDim\",\"XDim\")', 'MaxdimList=(\"YDim\",\"XDim\")', 'CompressionType=HE5_HDFE_COMP_DEFLATE', 'DeflateLevel=5', 'END_OBJECT=DataField_3', 'OBJECT=DataField_4', 'DataFieldName=\"1', 'km', '16', 'days', 'VI', 'Quality\"', 'DataType=H5T_NATIVE_USHORT', 'DimList=(\"YDim\",\"XDim\")', 'MaxdimList=(\"YDim\",\"XDim\")', 'CompressionType=HE5_HDFE_COMP_DEFLATE', 'DeflateLevel=5', 'END_OBJECT=DataField_4', 'OBJECT=DataField_5', 'DataFieldName=\"1', 'km', '16', 'days', 'red', 'reflectance\"', 'DataType=H5T_NATIVE_SHORT', 'DimList=(\"YDim\",\"XDim\")', 'MaxdimList=(\"YDim\",\"XDim\")', 'CompressionType=HE5_HDFE_COMP_DEFLATE', 'DeflateLevel=5', 'END_OBJECT=DataField_5', 'OBJECT=DataField_6', 'DataFieldName=\"1', 'km', '16', 'days', 'NIR', 'reflectance\"', 'DataType=H5T_NATIVE_SHORT', 'DimList=(\"YDim\",\"XDim\")', 'MaxdimList=(\"YDim\",\"XDim\")', 'CompressionType=HE5_HDFE_COMP_DEFLATE', 'DeflateLevel=5', 'END_OBJECT=DataField_6', 'OBJECT=DataField_7', 'DataFieldName=\"1', 'km', '16', 'days', 'blue', 'reflectance\"', 'DataType=H5T_NATIVE_SHORT', 'DimList=(\"YDim\",\"XDim\")', 'MaxdimList=(\"YDim\",\"XDim\")', 'CompressionType=HE5_HDFE_COMP_DEFLATE', 'DeflateLevel=5', 'END_OBJECT=DataField_7', 'OBJECT=DataField_8', 'DataFieldName=\"1', 'km', '16', 'days', 'green', 'reflectance\"', 'DataType=H5T_NATIVE_SHORT', 'DimList=(\"YDim\",\"XDim\")', 'MaxdimList=(\"YDim\",\"XDim\")', 'CompressionType=HE5_HDFE_COMP_DEFLATE', 'DeflateLevel=5', 'END_OBJECT=DataField_8', 'OBJECT=DataField_9', 'DataFieldName=\"1', 'km', '16', 'days', 'SWIR1', 'reflectance\"', 'DataType=H5T_NATIVE_SHORT', 'DimList=(\"YDim\",\"XDim\")', 'MaxdimList=(\"YDim\",\"XDim\")', 'CompressionType=HE5_HDFE_COMP_DEFLATE', 'DeflateLevel=5', 'END_OBJECT=DataField_9', 'OBJECT=DataField_10', 'DataFieldName=\"1', 'km', '16', 'days', 'SWIR2', 'reflectance\"', 'DataType=H5T_NATIVE_SHORT', 'DimList=(\"YDim\",\"XDim\")', 'MaxdimList=(\"YDim\",\"XDim\")', 'CompressionType=HE5_HDFE_COMP_DEFLATE', 'DeflateLevel=5', 'END_OBJECT=DataField_10', 'OBJECT=DataField_11', 'DataFieldName=\"1', 'km', '16', 'days', 'SWIR3', 'reflectance\"', 'DataType=H5T_NATIVE_SHORT', 'DimList=(\"YDim\",\"XDim\")', 'MaxdimList=(\"YDim\",\"XDim\")', 'CompressionType=HE5_HDFE_COMP_DEFLATE', 'DeflateLevel=5', 'END_OBJECT=DataField_11', 'OBJECT=DataField_12', 'DataFieldName=\"1', 'km', '16', 'days', 'view', 'zenith', 'angle\"', 'DataType=H5T_NATIVE_SHORT', 'DimList=(\"YDim\",\"XDim\")', 'MaxdimList=(\"YDim\",\"XDim\")', 'CompressionType=HE5_HDFE_COMP_DEFLATE', 'DeflateLevel=5', 'END_OBJECT=DataField_12', 'OBJECT=DataField_13', 'DataFieldName=\"1', 'km', '16', 'days', 'sun', 'zenith', 'angle\"', 'DataType=H5T_NATIVE_SHORT', 'DimList=(\"YDim\",\"XDim\")', 'MaxdimList=(\"YDim\",\"XDim\")', 'CompressionType=HE5_HDFE_COMP_DEFLATE', 'DeflateLevel=5', 'END_OBJECT=DataField_13', 'OBJECT=DataField_14', 'DataFieldName=\"1', 'km', '16', 'days', 'relative', 'azimuth', 'angle\"', 'DataType=H5T_NATIVE_SHORT', 'DimList=(\"YDim\",\"XDim\")', 'MaxdimList=(\"YDim\",\"XDim\")', 'CompressionType=HE5_HDFE_COMP_DEFLATE', 'DeflateLevel=5', 'END_OBJECT=DataField_14', 'OBJECT=DataField_15', 'DataFieldName=\"1', 'km', '16', 'days', 'composite', 'day', 'of', 'the', 'year\"', 'DataType=H5T_NATIVE_SHORT', 'DimList=(\"YDim\",\"XDim\")', 'MaxdimList=(\"YDim\",\"XDim\")', 'CompressionType=HE5_HDFE_COMP_DEFLATE', 'DeflateLevel=5', 'END_OBJECT=DataField_15', 'OBJECT=DataField_16', 'DataFieldName=\"1', 'km', '16', 'days', 'pixel', 'reliability\"', 'DataType=H5T_NATIVE_SCHAR', 'DimList=(\"YDim\",\"XDim\")', 'MaxdimList=(\"YDim\",\"XDim\")', 'CompressionType=HE5_HDFE_COMP_DEFLATE', 'DeflateLevel=5', 'END_OBJECT=DataField_16', 'OBJECT=DataField_17', 'DataFieldName=\"Projection\"', 'DataType=H5T_NATIVE_INT', 'DimList=(\"dimofone\")', 'MaxdimList=(\"dimofone\")', 'END_OBJECT=DataField_17', 'END_GROUP=DataField', 'GROUP=MergedFields', 'END_GROUP=MergedFields', 'END_GROUP=GRID_1', 'END_GROUP=GridStructure', 'GROUP=PointStructure', 'END_GROUP=PointStructure', 'GROUP=ZaStructure', 'END_GROUP=ZaStructure', 'END']\n",
      "Geoinfo: (-10007554.677, 0, 6671703.118, 0)\n",
      "Overall extent: (-10007554.677, 0, 6671703.118, 0)\n"
     ]
    },
    {
     "name": "stderr",
     "output_type": "stream",
     "text": [
      "c:\\Users\\cinfante\\OneDrive - NRCan RNCan\\Documents\\Greenup\\NASA-LPDAAC-Testing\\venv\\Lib\\site-packages\\urllib3\\connectionpool.py:1056: InsecureRequestWarning: Unverified HTTPS request is being made to host 'data.lpdaac.earthdatacloud.nasa.gov'. Adding certificate verification is strongly advised. See: https://urllib3.readthedocs.io/en/1.26.x/advanced-usage.html#ssl-warnings\n",
      "  warnings.warn(\n",
      "c:\\Users\\cinfante\\OneDrive - NRCan RNCan\\Documents\\Greenup\\NASA-LPDAAC-Testing\\venv\\Lib\\site-packages\\urllib3\\connectionpool.py:1056: InsecureRequestWarning: Unverified HTTPS request is being made to host 'urs.earthdata.nasa.gov'. Adding certificate verification is strongly advised. See: https://urllib3.readthedocs.io/en/1.26.x/advanced-usage.html#ssl-warnings\n",
      "  warnings.warn(\n",
      "c:\\Users\\cinfante\\OneDrive - NRCan RNCan\\Documents\\Greenup\\NASA-LPDAAC-Testing\\venv\\Lib\\site-packages\\urllib3\\connectionpool.py:1056: InsecureRequestWarning: Unverified HTTPS request is being made to host 'data.lpdaac.earthdatacloud.nasa.gov'. Adding certificate verification is strongly advised. See: https://urllib3.readthedocs.io/en/1.26.x/advanced-usage.html#ssl-warnings\n",
      "  warnings.warn(\n",
      "c:\\Users\\cinfante\\OneDrive - NRCan RNCan\\Documents\\Greenup\\NASA-LPDAAC-Testing\\venv\\Lib\\site-packages\\urllib3\\connectionpool.py:1056: InsecureRequestWarning: Unverified HTTPS request is being made to host 'data.lpdaac.earthdatacloud.nasa.gov'. Adding certificate verification is strongly advised. See: https://urllib3.readthedocs.io/en/1.26.x/advanced-usage.html#ssl-warnings\n",
      "  warnings.warn(\n",
      "c:\\Users\\cinfante\\OneDrive - NRCan RNCan\\Documents\\Greenup\\NASA-LPDAAC-Testing\\venv\\Lib\\site-packages\\urllib3\\connectionpool.py:1056: InsecureRequestWarning: Unverified HTTPS request is being made to host 'd1nklfio7vscoe.cloudfront.net'. Adding certificate verification is strongly advised. See: https://urllib3.readthedocs.io/en/1.26.x/advanced-usage.html#ssl-warnings\n",
      "  warnings.warn(\n"
     ]
    },
    {
     "name": "stdout",
     "output_type": "stream",
     "text": [
      "{'type': 'Feature', 'id': 'VNP13A2.A2023201.h08v04.002.2023242143158', 'stac_version': '1.0.0', 'stac_extensions': [], 'collection': 'VNP13A2.v002', 'geometry': {'type': 'Polygon', 'coordinates': [[[-131.0149, 39.7081], [-117.2848, 39.8699], [-140.2398, 50.1258], [-156.8405, 49.8983], [-131.0149, 39.7081]]]}, 'bbox': [-156.8405, 39.7081, -117.2848, 50.319858], 'links': [{'rel': 'self', 'href': 'https://cmr.earthdata.nasa.gov/stac/LPCLOUD/collections/VNP13A2.v002/items/VNP13A2.A2023201.h08v04.002.2023242143158'}, {'rel': 'parent', 'href': 'https://cmr.earthdata.nasa.gov/stac/LPCLOUD/collections/VNP13A2.v002'}, {'rel': 'collection', 'href': 'https://cmr.earthdata.nasa.gov/stac/LPCLOUD/collections/VNP13A2.v002'}, {'rel': 'root', 'href': 'https://cmr.earthdata.nasa.gov/stac/'}, {'rel': 'provider', 'href': 'https://cmr.earthdata.nasa.gov/stac/LPCLOUD'}, {'rel': 'via', 'href': 'https://cmr.earthdata.nasa.gov/search/concepts/G2758988363-LPCLOUD.json'}, {'rel': 'via', 'href': 'https://cmr.earthdata.nasa.gov/search/concepts/G2758988363-LPCLOUD.umm_json'}], 'properties': {'datetime': '2023-07-20T00:00:00.000Z', 'start_datetime': '2023-07-20T00:00:00.000Z', 'end_datetime': '2023-08-04T23:59:59.000Z'}, 'assets': {'data': {'href': 'https://data.lpdaac.earthdatacloud.nasa.gov/lp-prod-protected/VNP13A2.002/VNP13A2.A2023201.h08v04.002.2023242143158/VNP13A2.A2023201.h08v04.002.2023242143158.h5', 'title': 'Download VNP13A2.A2023201.h08v04.002.2023242143158.h5'}, 'browse': {'href': 'https://data.lpdaac.earthdatacloud.nasa.gov/lp-prod-public/VNP13A2.002/VNP13A2.A2023201.h08v04.002.2023242143158/BROWSE.VNP13A2.A2023201.h08v04.002.2023242143158.1.jpg', 'type': 'image/jpeg', 'title': 'Download BROWSE.VNP13A2.A2023201.h08v04.002.2023242143158.1.jpg'}, 'opendap': {'href': 'https://opendap.earthdata.nasa.gov/collections/C2519127613-LPCLOUD/granules/VNP13A2.A2023201.h08v04.002.2023242143158', 'title': 'OPeNDAP request URL (GET DATA : OPENDAP DATA)'}, 'metadata': {'href': 'https://cmr.earthdata.nasa.gov/search/concepts/G2758988363-LPCLOUD.xml', 'type': 'application/xml'}}}\n",
      "Metadata: ['GROUP=SwathStructure', 'END_GROUP=SwathStructure', 'GROUP=GridStructure', 'GROUP=GRID_1', 'GridName=\"VIIRS_Grid_16Day_VI_1km\"', 'XDim=1200', 'YDim=1200', 'UpperLeftPointMtrs=(-11119505.196667,5559752.598333)', 'LowerRightMtrs=(-10007554.677000,4447802.078667)', 'Projection=HE5_GCTP_SNSOID', 'ProjParams=(6371007.181000,0,0,0,0,0,0,0,0,0,0,0,0)', 'SphereCode=-1', 'GROUP=Dimension', 'OBJECT=Dimension_1', 'DimensionName=\"dimofone\"', 'Size=1', 'END_OBJECT=Dimension_1', 'END_GROUP=Dimension', 'GROUP=DataField', 'OBJECT=DataField_1', 'DataFieldName=\"1', 'km', '16', 'days', 'NDVI\"', 'DataType=H5T_NATIVE_SHORT', 'DimList=(\"YDim\",\"XDim\")', 'MaxdimList=(\"YDim\",\"XDim\")', 'CompressionType=HE5_HDFE_COMP_DEFLATE', 'DeflateLevel=5', 'END_OBJECT=DataField_1', 'OBJECT=DataField_2', 'DataFieldName=\"1', 'km', '16', 'days', 'EVI\"', 'DataType=H5T_NATIVE_SHORT', 'DimList=(\"YDim\",\"XDim\")', 'MaxdimList=(\"YDim\",\"XDim\")', 'CompressionType=HE5_HDFE_COMP_DEFLATE', 'DeflateLevel=5', 'END_OBJECT=DataField_2', 'OBJECT=DataField_3', 'DataFieldName=\"1', 'km', '16', 'days', 'EVI2\"', 'DataType=H5T_NATIVE_SHORT', 'DimList=(\"YDim\",\"XDim\")', 'MaxdimList=(\"YDim\",\"XDim\")', 'CompressionType=HE5_HDFE_COMP_DEFLATE', 'DeflateLevel=5', 'END_OBJECT=DataField_3', 'OBJECT=DataField_4', 'DataFieldName=\"1', 'km', '16', 'days', 'VI', 'Quality\"', 'DataType=H5T_NATIVE_USHORT', 'DimList=(\"YDim\",\"XDim\")', 'MaxdimList=(\"YDim\",\"XDim\")', 'CompressionType=HE5_HDFE_COMP_DEFLATE', 'DeflateLevel=5', 'END_OBJECT=DataField_4', 'OBJECT=DataField_5', 'DataFieldName=\"1', 'km', '16', 'days', 'red', 'reflectance\"', 'DataType=H5T_NATIVE_SHORT', 'DimList=(\"YDim\",\"XDim\")', 'MaxdimList=(\"YDim\",\"XDim\")', 'CompressionType=HE5_HDFE_COMP_DEFLATE', 'DeflateLevel=5', 'END_OBJECT=DataField_5', 'OBJECT=DataField_6', 'DataFieldName=\"1', 'km', '16', 'days', 'NIR', 'reflectance\"', 'DataType=H5T_NATIVE_SHORT', 'DimList=(\"YDim\",\"XDim\")', 'MaxdimList=(\"YDim\",\"XDim\")', 'CompressionType=HE5_HDFE_COMP_DEFLATE', 'DeflateLevel=5', 'END_OBJECT=DataField_6', 'OBJECT=DataField_7', 'DataFieldName=\"1', 'km', '16', 'days', 'blue', 'reflectance\"', 'DataType=H5T_NATIVE_SHORT', 'DimList=(\"YDim\",\"XDim\")', 'MaxdimList=(\"YDim\",\"XDim\")', 'CompressionType=HE5_HDFE_COMP_DEFLATE', 'DeflateLevel=5', 'END_OBJECT=DataField_7', 'OBJECT=DataField_8', 'DataFieldName=\"1', 'km', '16', 'days', 'green', 'reflectance\"', 'DataType=H5T_NATIVE_SHORT', 'DimList=(\"YDim\",\"XDim\")', 'MaxdimList=(\"YDim\",\"XDim\")', 'CompressionType=HE5_HDFE_COMP_DEFLATE', 'DeflateLevel=5', 'END_OBJECT=DataField_8', 'OBJECT=DataField_9', 'DataFieldName=\"1', 'km', '16', 'days', 'SWIR1', 'reflectance\"', 'DataType=H5T_NATIVE_SHORT', 'DimList=(\"YDim\",\"XDim\")', 'MaxdimList=(\"YDim\",\"XDim\")', 'CompressionType=HE5_HDFE_COMP_DEFLATE', 'DeflateLevel=5', 'END_OBJECT=DataField_9', 'OBJECT=DataField_10', 'DataFieldName=\"1', 'km', '16', 'days', 'SWIR2', 'reflectance\"', 'DataType=H5T_NATIVE_SHORT', 'DimList=(\"YDim\",\"XDim\")', 'MaxdimList=(\"YDim\",\"XDim\")', 'CompressionType=HE5_HDFE_COMP_DEFLATE', 'DeflateLevel=5', 'END_OBJECT=DataField_10', 'OBJECT=DataField_11', 'DataFieldName=\"1', 'km', '16', 'days', 'SWIR3', 'reflectance\"', 'DataType=H5T_NATIVE_SHORT', 'DimList=(\"YDim\",\"XDim\")', 'MaxdimList=(\"YDim\",\"XDim\")', 'CompressionType=HE5_HDFE_COMP_DEFLATE', 'DeflateLevel=5', 'END_OBJECT=DataField_11', 'OBJECT=DataField_12', 'DataFieldName=\"1', 'km', '16', 'days', 'view', 'zenith', 'angle\"', 'DataType=H5T_NATIVE_SHORT', 'DimList=(\"YDim\",\"XDim\")', 'MaxdimList=(\"YDim\",\"XDim\")', 'CompressionType=HE5_HDFE_COMP_DEFLATE', 'DeflateLevel=5', 'END_OBJECT=DataField_12', 'OBJECT=DataField_13', 'DataFieldName=\"1', 'km', '16', 'days', 'sun', 'zenith', 'angle\"', 'DataType=H5T_NATIVE_SHORT', 'DimList=(\"YDim\",\"XDim\")', 'MaxdimList=(\"YDim\",\"XDim\")', 'CompressionType=HE5_HDFE_COMP_DEFLATE', 'DeflateLevel=5', 'END_OBJECT=DataField_13', 'OBJECT=DataField_14', 'DataFieldName=\"1', 'km', '16', 'days', 'relative', 'azimuth', 'angle\"', 'DataType=H5T_NATIVE_SHORT', 'DimList=(\"YDim\",\"XDim\")', 'MaxdimList=(\"YDim\",\"XDim\")', 'CompressionType=HE5_HDFE_COMP_DEFLATE', 'DeflateLevel=5', 'END_OBJECT=DataField_14', 'OBJECT=DataField_15', 'DataFieldName=\"1', 'km', '16', 'days', 'composite', 'day', 'of', 'the', 'year\"', 'DataType=H5T_NATIVE_SHORT', 'DimList=(\"YDim\",\"XDim\")', 'MaxdimList=(\"YDim\",\"XDim\")', 'CompressionType=HE5_HDFE_COMP_DEFLATE', 'DeflateLevel=5', 'END_OBJECT=DataField_15', 'OBJECT=DataField_16', 'DataFieldName=\"1', 'km', '16', 'days', 'pixel', 'reliability\"', 'DataType=H5T_NATIVE_SCHAR', 'DimList=(\"YDim\",\"XDim\")', 'MaxdimList=(\"YDim\",\"XDim\")', 'CompressionType=HE5_HDFE_COMP_DEFLATE', 'DeflateLevel=5', 'END_OBJECT=DataField_16', 'OBJECT=DataField_17', 'DataFieldName=\"Projection\"', 'DataType=H5T_NATIVE_INT', 'DimList=(\"dimofone\")', 'MaxdimList=(\"dimofone\")', 'END_OBJECT=DataField_17', 'END_GROUP=DataField', 'GROUP=MergedFields', 'END_GROUP=MergedFields', 'END_GROUP=GRID_1', 'END_GROUP=GridStructure', 'GROUP=PointStructure', 'END_GROUP=PointStructure', 'GROUP=ZaStructure', 'END_GROUP=ZaStructure', 'END']\n",
      "Geoinfo: (-11119505.196667, 0, 5559752.598333, 0)\n",
      "Overall extent: (-11119505.196667, 0, 6671703.118, 0)\n"
     ]
    },
    {
     "name": "stderr",
     "output_type": "stream",
     "text": [
      "c:\\Users\\cinfante\\OneDrive - NRCan RNCan\\Documents\\Greenup\\NASA-LPDAAC-Testing\\venv\\Lib\\site-packages\\urllib3\\connectionpool.py:1056: InsecureRequestWarning: Unverified HTTPS request is being made to host 'data.lpdaac.earthdatacloud.nasa.gov'. Adding certificate verification is strongly advised. See: https://urllib3.readthedocs.io/en/1.26.x/advanced-usage.html#ssl-warnings\n",
      "  warnings.warn(\n",
      "c:\\Users\\cinfante\\OneDrive - NRCan RNCan\\Documents\\Greenup\\NASA-LPDAAC-Testing\\venv\\Lib\\site-packages\\urllib3\\connectionpool.py:1056: InsecureRequestWarning: Unverified HTTPS request is being made to host 'urs.earthdata.nasa.gov'. Adding certificate verification is strongly advised. See: https://urllib3.readthedocs.io/en/1.26.x/advanced-usage.html#ssl-warnings\n",
      "  warnings.warn(\n",
      "c:\\Users\\cinfante\\OneDrive - NRCan RNCan\\Documents\\Greenup\\NASA-LPDAAC-Testing\\venv\\Lib\\site-packages\\urllib3\\connectionpool.py:1056: InsecureRequestWarning: Unverified HTTPS request is being made to host 'data.lpdaac.earthdatacloud.nasa.gov'. Adding certificate verification is strongly advised. See: https://urllib3.readthedocs.io/en/1.26.x/advanced-usage.html#ssl-warnings\n",
      "  warnings.warn(\n",
      "c:\\Users\\cinfante\\OneDrive - NRCan RNCan\\Documents\\Greenup\\NASA-LPDAAC-Testing\\venv\\Lib\\site-packages\\urllib3\\connectionpool.py:1056: InsecureRequestWarning: Unverified HTTPS request is being made to host 'data.lpdaac.earthdatacloud.nasa.gov'. Adding certificate verification is strongly advised. See: https://urllib3.readthedocs.io/en/1.26.x/advanced-usage.html#ssl-warnings\n",
      "  warnings.warn(\n",
      "c:\\Users\\cinfante\\OneDrive - NRCan RNCan\\Documents\\Greenup\\NASA-LPDAAC-Testing\\venv\\Lib\\site-packages\\urllib3\\connectionpool.py:1056: InsecureRequestWarning: Unverified HTTPS request is being made to host 'd1nklfio7vscoe.cloudfront.net'. Adding certificate verification is strongly advised. See: https://urllib3.readthedocs.io/en/1.26.x/advanced-usage.html#ssl-warnings\n",
      "  warnings.warn(\n"
     ]
    },
    {
     "name": "stdout",
     "output_type": "stream",
     "text": [
      "{'type': 'Feature', 'id': 'VNP13A2.A2023201.h08v03.002.2023242143158', 'stac_version': '1.0.0', 'stac_extensions': [], 'collection': 'VNP13A2.v002', 'geometry': {'type': 'Polygon', 'coordinates': [[[-173.5174, 46.8804], [-140.0527, 49.782], [-136.7871, 63.1801], [177.1722, 59.213], [-173.5174, 46.8804]]]}, 'bbox': [177.1722, 46.8804, -136.7871, 63.695463], 'links': [{'rel': 'self', 'href': 'https://cmr.earthdata.nasa.gov/stac/LPCLOUD/collections/VNP13A2.v002/items/VNP13A2.A2023201.h08v03.002.2023242143158'}, {'rel': 'parent', 'href': 'https://cmr.earthdata.nasa.gov/stac/LPCLOUD/collections/VNP13A2.v002'}, {'rel': 'collection', 'href': 'https://cmr.earthdata.nasa.gov/stac/LPCLOUD/collections/VNP13A2.v002'}, {'rel': 'root', 'href': 'https://cmr.earthdata.nasa.gov/stac/'}, {'rel': 'provider', 'href': 'https://cmr.earthdata.nasa.gov/stac/LPCLOUD'}, {'rel': 'via', 'href': 'https://cmr.earthdata.nasa.gov/search/concepts/G2758988383-LPCLOUD.json'}, {'rel': 'via', 'href': 'https://cmr.earthdata.nasa.gov/search/concepts/G2758988383-LPCLOUD.umm_json'}], 'properties': {'datetime': '2023-07-20T00:00:00.000Z', 'start_datetime': '2023-07-20T00:00:00.000Z', 'end_datetime': '2023-08-04T23:59:59.000Z'}, 'assets': {'data': {'href': 'https://data.lpdaac.earthdatacloud.nasa.gov/lp-prod-protected/VNP13A2.002/VNP13A2.A2023201.h08v03.002.2023242143158/VNP13A2.A2023201.h08v03.002.2023242143158.h5', 'title': 'Download VNP13A2.A2023201.h08v03.002.2023242143158.h5'}, 'browse': {'href': 'https://data.lpdaac.earthdatacloud.nasa.gov/lp-prod-public/VNP13A2.002/VNP13A2.A2023201.h08v03.002.2023242143158/BROWSE.VNP13A2.A2023201.h08v03.002.2023242143158.1.jpg', 'type': 'image/jpeg', 'title': 'Download BROWSE.VNP13A2.A2023201.h08v03.002.2023242143158.1.jpg'}, 'opendap': {'href': 'https://opendap.earthdata.nasa.gov/collections/C2519127613-LPCLOUD/granules/VNP13A2.A2023201.h08v03.002.2023242143158', 'title': 'OPeNDAP request URL (GET DATA : OPENDAP DATA)'}, 'metadata': {'href': 'https://cmr.earthdata.nasa.gov/search/concepts/G2758988383-LPCLOUD.xml', 'type': 'application/xml'}}}\n",
      "Metadata: ['GROUP=SwathStructure', 'END_GROUP=SwathStructure', 'GROUP=GridStructure', 'GROUP=GRID_1', 'GridName=\"VIIRS_Grid_16Day_VI_1km\"', 'XDim=1200', 'YDim=1200', 'UpperLeftPointMtrs=(-11119505.196667,6671703.118000)', 'LowerRightMtrs=(-10007554.677000,5559752.598333)', 'Projection=HE5_GCTP_SNSOID', 'ProjParams=(6371007.181000,0,0,0,0,0,0,0,0,0,0,0,0)', 'SphereCode=-1', 'GROUP=Dimension', 'OBJECT=Dimension_1', 'DimensionName=\"dimofone\"', 'Size=1', 'END_OBJECT=Dimension_1', 'END_GROUP=Dimension', 'GROUP=DataField', 'OBJECT=DataField_1', 'DataFieldName=\"1', 'km', '16', 'days', 'NDVI\"', 'DataType=H5T_NATIVE_SHORT', 'DimList=(\"YDim\",\"XDim\")', 'MaxdimList=(\"YDim\",\"XDim\")', 'CompressionType=HE5_HDFE_COMP_DEFLATE', 'DeflateLevel=5', 'END_OBJECT=DataField_1', 'OBJECT=DataField_2', 'DataFieldName=\"1', 'km', '16', 'days', 'EVI\"', 'DataType=H5T_NATIVE_SHORT', 'DimList=(\"YDim\",\"XDim\")', 'MaxdimList=(\"YDim\",\"XDim\")', 'CompressionType=HE5_HDFE_COMP_DEFLATE', 'DeflateLevel=5', 'END_OBJECT=DataField_2', 'OBJECT=DataField_3', 'DataFieldName=\"1', 'km', '16', 'days', 'EVI2\"', 'DataType=H5T_NATIVE_SHORT', 'DimList=(\"YDim\",\"XDim\")', 'MaxdimList=(\"YDim\",\"XDim\")', 'CompressionType=HE5_HDFE_COMP_DEFLATE', 'DeflateLevel=5', 'END_OBJECT=DataField_3', 'OBJECT=DataField_4', 'DataFieldName=\"1', 'km', '16', 'days', 'VI', 'Quality\"', 'DataType=H5T_NATIVE_USHORT', 'DimList=(\"YDim\",\"XDim\")', 'MaxdimList=(\"YDim\",\"XDim\")', 'CompressionType=HE5_HDFE_COMP_DEFLATE', 'DeflateLevel=5', 'END_OBJECT=DataField_4', 'OBJECT=DataField_5', 'DataFieldName=\"1', 'km', '16', 'days', 'red', 'reflectance\"', 'DataType=H5T_NATIVE_SHORT', 'DimList=(\"YDim\",\"XDim\")', 'MaxdimList=(\"YDim\",\"XDim\")', 'CompressionType=HE5_HDFE_COMP_DEFLATE', 'DeflateLevel=5', 'END_OBJECT=DataField_5', 'OBJECT=DataField_6', 'DataFieldName=\"1', 'km', '16', 'days', 'NIR', 'reflectance\"', 'DataType=H5T_NATIVE_SHORT', 'DimList=(\"YDim\",\"XDim\")', 'MaxdimList=(\"YDim\",\"XDim\")', 'CompressionType=HE5_HDFE_COMP_DEFLATE', 'DeflateLevel=5', 'END_OBJECT=DataField_6', 'OBJECT=DataField_7', 'DataFieldName=\"1', 'km', '16', 'days', 'blue', 'reflectance\"', 'DataType=H5T_NATIVE_SHORT', 'DimList=(\"YDim\",\"XDim\")', 'MaxdimList=(\"YDim\",\"XDim\")', 'CompressionType=HE5_HDFE_COMP_DEFLATE', 'DeflateLevel=5', 'END_OBJECT=DataField_7', 'OBJECT=DataField_8', 'DataFieldName=\"1', 'km', '16', 'days', 'green', 'reflectance\"', 'DataType=H5T_NATIVE_SHORT', 'DimList=(\"YDim\",\"XDim\")', 'MaxdimList=(\"YDim\",\"XDim\")', 'CompressionType=HE5_HDFE_COMP_DEFLATE', 'DeflateLevel=5', 'END_OBJECT=DataField_8', 'OBJECT=DataField_9', 'DataFieldName=\"1', 'km', '16', 'days', 'SWIR1', 'reflectance\"', 'DataType=H5T_NATIVE_SHORT', 'DimList=(\"YDim\",\"XDim\")', 'MaxdimList=(\"YDim\",\"XDim\")', 'CompressionType=HE5_HDFE_COMP_DEFLATE', 'DeflateLevel=5', 'END_OBJECT=DataField_9', 'OBJECT=DataField_10', 'DataFieldName=\"1', 'km', '16', 'days', 'SWIR2', 'reflectance\"', 'DataType=H5T_NATIVE_SHORT', 'DimList=(\"YDim\",\"XDim\")', 'MaxdimList=(\"YDim\",\"XDim\")', 'CompressionType=HE5_HDFE_COMP_DEFLATE', 'DeflateLevel=5', 'END_OBJECT=DataField_10', 'OBJECT=DataField_11', 'DataFieldName=\"1', 'km', '16', 'days', 'SWIR3', 'reflectance\"', 'DataType=H5T_NATIVE_SHORT', 'DimList=(\"YDim\",\"XDim\")', 'MaxdimList=(\"YDim\",\"XDim\")', 'CompressionType=HE5_HDFE_COMP_DEFLATE', 'DeflateLevel=5', 'END_OBJECT=DataField_11', 'OBJECT=DataField_12', 'DataFieldName=\"1', 'km', '16', 'days', 'view', 'zenith', 'angle\"', 'DataType=H5T_NATIVE_SHORT', 'DimList=(\"YDim\",\"XDim\")', 'MaxdimList=(\"YDim\",\"XDim\")', 'CompressionType=HE5_HDFE_COMP_DEFLATE', 'DeflateLevel=5', 'END_OBJECT=DataField_12', 'OBJECT=DataField_13', 'DataFieldName=\"1', 'km', '16', 'days', 'sun', 'zenith', 'angle\"', 'DataType=H5T_NATIVE_SHORT', 'DimList=(\"YDim\",\"XDim\")', 'MaxdimList=(\"YDim\",\"XDim\")', 'CompressionType=HE5_HDFE_COMP_DEFLATE', 'DeflateLevel=5', 'END_OBJECT=DataField_13', 'OBJECT=DataField_14', 'DataFieldName=\"1', 'km', '16', 'days', 'relative', 'azimuth', 'angle\"', 'DataType=H5T_NATIVE_SHORT', 'DimList=(\"YDim\",\"XDim\")', 'MaxdimList=(\"YDim\",\"XDim\")', 'CompressionType=HE5_HDFE_COMP_DEFLATE', 'DeflateLevel=5', 'END_OBJECT=DataField_14', 'OBJECT=DataField_15', 'DataFieldName=\"1', 'km', '16', 'days', 'composite', 'day', 'of', 'the', 'year\"', 'DataType=H5T_NATIVE_SHORT', 'DimList=(\"YDim\",\"XDim\")', 'MaxdimList=(\"YDim\",\"XDim\")', 'CompressionType=HE5_HDFE_COMP_DEFLATE', 'DeflateLevel=5', 'END_OBJECT=DataField_15', 'OBJECT=DataField_16', 'DataFieldName=\"1', 'km', '16', 'days', 'pixel', 'reliability\"', 'DataType=H5T_NATIVE_SCHAR', 'DimList=(\"YDim\",\"XDim\")', 'MaxdimList=(\"YDim\",\"XDim\")', 'CompressionType=HE5_HDFE_COMP_DEFLATE', 'DeflateLevel=5', 'END_OBJECT=DataField_16', 'OBJECT=DataField_17', 'DataFieldName=\"Projection\"', 'DataType=H5T_NATIVE_INT', 'DimList=(\"dimofone\")', 'MaxdimList=(\"dimofone\")', 'END_OBJECT=DataField_17', 'END_GROUP=DataField', 'GROUP=MergedFields', 'END_GROUP=MergedFields', 'END_GROUP=GRID_1', 'END_GROUP=GridStructure', 'GROUP=PointStructure', 'END_GROUP=PointStructure', 'GROUP=ZaStructure', 'END_GROUP=ZaStructure', 'END']\n",
      "Geoinfo: (-11119505.196667, 0, 6671703.118, 0)\n",
      "Overall extent: (-11119505.196667, 0, 6671703.118, 0)\n"
     ]
    },
    {
     "name": "stderr",
     "output_type": "stream",
     "text": [
      "c:\\Users\\cinfante\\OneDrive - NRCan RNCan\\Documents\\Greenup\\NASA-LPDAAC-Testing\\venv\\Lib\\site-packages\\urllib3\\connectionpool.py:1056: InsecureRequestWarning: Unverified HTTPS request is being made to host 'data.lpdaac.earthdatacloud.nasa.gov'. Adding certificate verification is strongly advised. See: https://urllib3.readthedocs.io/en/1.26.x/advanced-usage.html#ssl-warnings\n",
      "  warnings.warn(\n",
      "c:\\Users\\cinfante\\OneDrive - NRCan RNCan\\Documents\\Greenup\\NASA-LPDAAC-Testing\\venv\\Lib\\site-packages\\urllib3\\connectionpool.py:1056: InsecureRequestWarning: Unverified HTTPS request is being made to host 'urs.earthdata.nasa.gov'. Adding certificate verification is strongly advised. See: https://urllib3.readthedocs.io/en/1.26.x/advanced-usage.html#ssl-warnings\n",
      "  warnings.warn(\n",
      "c:\\Users\\cinfante\\OneDrive - NRCan RNCan\\Documents\\Greenup\\NASA-LPDAAC-Testing\\venv\\Lib\\site-packages\\urllib3\\connectionpool.py:1056: InsecureRequestWarning: Unverified HTTPS request is being made to host 'data.lpdaac.earthdatacloud.nasa.gov'. Adding certificate verification is strongly advised. See: https://urllib3.readthedocs.io/en/1.26.x/advanced-usage.html#ssl-warnings\n",
      "  warnings.warn(\n",
      "c:\\Users\\cinfante\\OneDrive - NRCan RNCan\\Documents\\Greenup\\NASA-LPDAAC-Testing\\venv\\Lib\\site-packages\\urllib3\\connectionpool.py:1056: InsecureRequestWarning: Unverified HTTPS request is being made to host 'data.lpdaac.earthdatacloud.nasa.gov'. Adding certificate verification is strongly advised. See: https://urllib3.readthedocs.io/en/1.26.x/advanced-usage.html#ssl-warnings\n",
      "  warnings.warn(\n",
      "c:\\Users\\cinfante\\OneDrive - NRCan RNCan\\Documents\\Greenup\\NASA-LPDAAC-Testing\\venv\\Lib\\site-packages\\urllib3\\connectionpool.py:1056: InsecureRequestWarning: Unverified HTTPS request is being made to host 'd1nklfio7vscoe.cloudfront.net'. Adding certificate verification is strongly advised. See: https://urllib3.readthedocs.io/en/1.26.x/advanced-usage.html#ssl-warnings\n",
      "  warnings.warn(\n"
     ]
    },
    {
     "name": "stdout",
     "output_type": "stream",
     "text": [
      "{'type': 'Feature', 'id': 'VNP13A2.A2023201.h13v04.002.2023242143430', 'stac_version': '1.0.0', 'stac_extensions': [], 'collection': 'VNP13A2.v002', 'geometry': {'type': 'Polygon', 'coordinates': [[[-65.15, 39.7937], [-52.0094, 39.8337], [-62.1191, 50.0582], [-77.7862, 50], [-65.15, 39.7937]]]}, 'bbox': [-77.7862, 39.7937, -52.0094, 50.294153], 'links': [{'rel': 'self', 'href': 'https://cmr.earthdata.nasa.gov/stac/LPCLOUD/collections/VNP13A2.v002/items/VNP13A2.A2023201.h13v04.002.2023242143430'}, {'rel': 'parent', 'href': 'https://cmr.earthdata.nasa.gov/stac/LPCLOUD/collections/VNP13A2.v002'}, {'rel': 'collection', 'href': 'https://cmr.earthdata.nasa.gov/stac/LPCLOUD/collections/VNP13A2.v002'}, {'rel': 'root', 'href': 'https://cmr.earthdata.nasa.gov/stac/'}, {'rel': 'provider', 'href': 'https://cmr.earthdata.nasa.gov/stac/LPCLOUD'}, {'rel': 'via', 'href': 'https://cmr.earthdata.nasa.gov/search/concepts/G2758988482-LPCLOUD.json'}, {'rel': 'via', 'href': 'https://cmr.earthdata.nasa.gov/search/concepts/G2758988482-LPCLOUD.umm_json'}], 'properties': {'datetime': '2023-07-20T00:00:00.000Z', 'start_datetime': '2023-07-20T00:00:00.000Z', 'end_datetime': '2023-08-04T23:59:59.000Z'}, 'assets': {'data': {'href': 'https://data.lpdaac.earthdatacloud.nasa.gov/lp-prod-protected/VNP13A2.002/VNP13A2.A2023201.h13v04.002.2023242143430/VNP13A2.A2023201.h13v04.002.2023242143430.h5', 'title': 'Download VNP13A2.A2023201.h13v04.002.2023242143430.h5'}, 'browse': {'href': 'https://data.lpdaac.earthdatacloud.nasa.gov/lp-prod-public/VNP13A2.002/VNP13A2.A2023201.h13v04.002.2023242143430/BROWSE.VNP13A2.A2023201.h13v04.002.2023242143430.1.jpg', 'type': 'image/jpeg', 'title': 'Download BROWSE.VNP13A2.A2023201.h13v04.002.2023242143430.1.jpg'}, 'opendap': {'href': 'https://opendap.earthdata.nasa.gov/collections/C2519127613-LPCLOUD/granules/VNP13A2.A2023201.h13v04.002.2023242143430', 'title': 'OPeNDAP request URL (GET DATA : OPENDAP DATA)'}, 'metadata': {'href': 'https://cmr.earthdata.nasa.gov/search/concepts/G2758988482-LPCLOUD.xml', 'type': 'application/xml'}}}\n",
      "Metadata: ['GROUP=SwathStructure', 'END_GROUP=SwathStructure', 'GROUP=GridStructure', 'GROUP=GRID_1', 'GridName=\"VIIRS_Grid_16Day_VI_1km\"', 'XDim=1200', 'YDim=1200', 'UpperLeftPointMtrs=(-5559752.598333,5559752.598333)', 'LowerRightMtrs=(-4447802.078667,4447802.078667)', 'Projection=HE5_GCTP_SNSOID', 'ProjParams=(6371007.181000,0,0,0,0,0,0,0,0,0,0,0,0)', 'SphereCode=-1', 'GROUP=Dimension', 'OBJECT=Dimension_1', 'DimensionName=\"dimofone\"', 'Size=1', 'END_OBJECT=Dimension_1', 'END_GROUP=Dimension', 'GROUP=DataField', 'OBJECT=DataField_1', 'DataFieldName=\"1', 'km', '16', 'days', 'NDVI\"', 'DataType=H5T_NATIVE_SHORT', 'DimList=(\"YDim\",\"XDim\")', 'MaxdimList=(\"YDim\",\"XDim\")', 'CompressionType=HE5_HDFE_COMP_DEFLATE', 'DeflateLevel=5', 'END_OBJECT=DataField_1', 'OBJECT=DataField_2', 'DataFieldName=\"1', 'km', '16', 'days', 'EVI\"', 'DataType=H5T_NATIVE_SHORT', 'DimList=(\"YDim\",\"XDim\")', 'MaxdimList=(\"YDim\",\"XDim\")', 'CompressionType=HE5_HDFE_COMP_DEFLATE', 'DeflateLevel=5', 'END_OBJECT=DataField_2', 'OBJECT=DataField_3', 'DataFieldName=\"1', 'km', '16', 'days', 'EVI2\"', 'DataType=H5T_NATIVE_SHORT', 'DimList=(\"YDim\",\"XDim\")', 'MaxdimList=(\"YDim\",\"XDim\")', 'CompressionType=HE5_HDFE_COMP_DEFLATE', 'DeflateLevel=5', 'END_OBJECT=DataField_3', 'OBJECT=DataField_4', 'DataFieldName=\"1', 'km', '16', 'days', 'VI', 'Quality\"', 'DataType=H5T_NATIVE_USHORT', 'DimList=(\"YDim\",\"XDim\")', 'MaxdimList=(\"YDim\",\"XDim\")', 'CompressionType=HE5_HDFE_COMP_DEFLATE', 'DeflateLevel=5', 'END_OBJECT=DataField_4', 'OBJECT=DataField_5', 'DataFieldName=\"1', 'km', '16', 'days', 'red', 'reflectance\"', 'DataType=H5T_NATIVE_SHORT', 'DimList=(\"YDim\",\"XDim\")', 'MaxdimList=(\"YDim\",\"XDim\")', 'CompressionType=HE5_HDFE_COMP_DEFLATE', 'DeflateLevel=5', 'END_OBJECT=DataField_5', 'OBJECT=DataField_6', 'DataFieldName=\"1', 'km', '16', 'days', 'NIR', 'reflectance\"', 'DataType=H5T_NATIVE_SHORT', 'DimList=(\"YDim\",\"XDim\")', 'MaxdimList=(\"YDim\",\"XDim\")', 'CompressionType=HE5_HDFE_COMP_DEFLATE', 'DeflateLevel=5', 'END_OBJECT=DataField_6', 'OBJECT=DataField_7', 'DataFieldName=\"1', 'km', '16', 'days', 'blue', 'reflectance\"', 'DataType=H5T_NATIVE_SHORT', 'DimList=(\"YDim\",\"XDim\")', 'MaxdimList=(\"YDim\",\"XDim\")', 'CompressionType=HE5_HDFE_COMP_DEFLATE', 'DeflateLevel=5', 'END_OBJECT=DataField_7', 'OBJECT=DataField_8', 'DataFieldName=\"1', 'km', '16', 'days', 'green', 'reflectance\"', 'DataType=H5T_NATIVE_SHORT', 'DimList=(\"YDim\",\"XDim\")', 'MaxdimList=(\"YDim\",\"XDim\")', 'CompressionType=HE5_HDFE_COMP_DEFLATE', 'DeflateLevel=5', 'END_OBJECT=DataField_8', 'OBJECT=DataField_9', 'DataFieldName=\"1', 'km', '16', 'days', 'SWIR1', 'reflectance\"', 'DataType=H5T_NATIVE_SHORT', 'DimList=(\"YDim\",\"XDim\")', 'MaxdimList=(\"YDim\",\"XDim\")', 'CompressionType=HE5_HDFE_COMP_DEFLATE', 'DeflateLevel=5', 'END_OBJECT=DataField_9', 'OBJECT=DataField_10', 'DataFieldName=\"1', 'km', '16', 'days', 'SWIR2', 'reflectance\"', 'DataType=H5T_NATIVE_SHORT', 'DimList=(\"YDim\",\"XDim\")', 'MaxdimList=(\"YDim\",\"XDim\")', 'CompressionType=HE5_HDFE_COMP_DEFLATE', 'DeflateLevel=5', 'END_OBJECT=DataField_10', 'OBJECT=DataField_11', 'DataFieldName=\"1', 'km', '16', 'days', 'SWIR3', 'reflectance\"', 'DataType=H5T_NATIVE_SHORT', 'DimList=(\"YDim\",\"XDim\")', 'MaxdimList=(\"YDim\",\"XDim\")', 'CompressionType=HE5_HDFE_COMP_DEFLATE', 'DeflateLevel=5', 'END_OBJECT=DataField_11', 'OBJECT=DataField_12', 'DataFieldName=\"1', 'km', '16', 'days', 'view', 'zenith', 'angle\"', 'DataType=H5T_NATIVE_SHORT', 'DimList=(\"YDim\",\"XDim\")', 'MaxdimList=(\"YDim\",\"XDim\")', 'CompressionType=HE5_HDFE_COMP_DEFLATE', 'DeflateLevel=5', 'END_OBJECT=DataField_12', 'OBJECT=DataField_13', 'DataFieldName=\"1', 'km', '16', 'days', 'sun', 'zenith', 'angle\"', 'DataType=H5T_NATIVE_SHORT', 'DimList=(\"YDim\",\"XDim\")', 'MaxdimList=(\"YDim\",\"XDim\")', 'CompressionType=HE5_HDFE_COMP_DEFLATE', 'DeflateLevel=5', 'END_OBJECT=DataField_13', 'OBJECT=DataField_14', 'DataFieldName=\"1', 'km', '16', 'days', 'relative', 'azimuth', 'angle\"', 'DataType=H5T_NATIVE_SHORT', 'DimList=(\"YDim\",\"XDim\")', 'MaxdimList=(\"YDim\",\"XDim\")', 'CompressionType=HE5_HDFE_COMP_DEFLATE', 'DeflateLevel=5', 'END_OBJECT=DataField_14', 'OBJECT=DataField_15', 'DataFieldName=\"1', 'km', '16', 'days', 'composite', 'day', 'of', 'the', 'year\"', 'DataType=H5T_NATIVE_SHORT', 'DimList=(\"YDim\",\"XDim\")', 'MaxdimList=(\"YDim\",\"XDim\")', 'CompressionType=HE5_HDFE_COMP_DEFLATE', 'DeflateLevel=5', 'END_OBJECT=DataField_15', 'OBJECT=DataField_16', 'DataFieldName=\"1', 'km', '16', 'days', 'pixel', 'reliability\"', 'DataType=H5T_NATIVE_SCHAR', 'DimList=(\"YDim\",\"XDim\")', 'MaxdimList=(\"YDim\",\"XDim\")', 'CompressionType=HE5_HDFE_COMP_DEFLATE', 'DeflateLevel=5', 'END_OBJECT=DataField_16', 'OBJECT=DataField_17', 'DataFieldName=\"Projection\"', 'DataType=H5T_NATIVE_INT', 'DimList=(\"dimofone\")', 'MaxdimList=(\"dimofone\")', 'END_OBJECT=DataField_17', 'END_GROUP=DataField', 'GROUP=MergedFields', 'END_GROUP=MergedFields', 'END_GROUP=GRID_1', 'END_GROUP=GridStructure', 'GROUP=PointStructure', 'END_GROUP=PointStructure', 'GROUP=ZaStructure', 'END_GROUP=ZaStructure', 'END']\n",
      "Geoinfo: (-5559752.598333, 0, 5559752.598333, 0)\n",
      "Overall extent: (-11119505.196667, 0, 6671703.118, 0)\n"
     ]
    },
    {
     "name": "stderr",
     "output_type": "stream",
     "text": [
      "c:\\Users\\cinfante\\OneDrive - NRCan RNCan\\Documents\\Greenup\\NASA-LPDAAC-Testing\\venv\\Lib\\site-packages\\urllib3\\connectionpool.py:1056: InsecureRequestWarning: Unverified HTTPS request is being made to host 'data.lpdaac.earthdatacloud.nasa.gov'. Adding certificate verification is strongly advised. See: https://urllib3.readthedocs.io/en/1.26.x/advanced-usage.html#ssl-warnings\n",
      "  warnings.warn(\n",
      "c:\\Users\\cinfante\\OneDrive - NRCan RNCan\\Documents\\Greenup\\NASA-LPDAAC-Testing\\venv\\Lib\\site-packages\\urllib3\\connectionpool.py:1056: InsecureRequestWarning: Unverified HTTPS request is being made to host 'urs.earthdata.nasa.gov'. Adding certificate verification is strongly advised. See: https://urllib3.readthedocs.io/en/1.26.x/advanced-usage.html#ssl-warnings\n",
      "  warnings.warn(\n",
      "c:\\Users\\cinfante\\OneDrive - NRCan RNCan\\Documents\\Greenup\\NASA-LPDAAC-Testing\\venv\\Lib\\site-packages\\urllib3\\connectionpool.py:1056: InsecureRequestWarning: Unverified HTTPS request is being made to host 'data.lpdaac.earthdatacloud.nasa.gov'. Adding certificate verification is strongly advised. See: https://urllib3.readthedocs.io/en/1.26.x/advanced-usage.html#ssl-warnings\n",
      "  warnings.warn(\n",
      "c:\\Users\\cinfante\\OneDrive - NRCan RNCan\\Documents\\Greenup\\NASA-LPDAAC-Testing\\venv\\Lib\\site-packages\\urllib3\\connectionpool.py:1056: InsecureRequestWarning: Unverified HTTPS request is being made to host 'data.lpdaac.earthdatacloud.nasa.gov'. Adding certificate verification is strongly advised. See: https://urllib3.readthedocs.io/en/1.26.x/advanced-usage.html#ssl-warnings\n",
      "  warnings.warn(\n",
      "c:\\Users\\cinfante\\OneDrive - NRCan RNCan\\Documents\\Greenup\\NASA-LPDAAC-Testing\\venv\\Lib\\site-packages\\urllib3\\connectionpool.py:1056: InsecureRequestWarning: Unverified HTTPS request is being made to host 'd1nklfio7vscoe.cloudfront.net'. Adding certificate verification is strongly advised. See: https://urllib3.readthedocs.io/en/1.26.x/advanced-usage.html#ssl-warnings\n",
      "  warnings.warn(\n"
     ]
    },
    {
     "name": "stdout",
     "output_type": "stream",
     "text": [
      "{'type': 'Feature', 'id': 'VNP13A2.A2023201.h12v04.002.2023242143404', 'stac_version': '1.0.0', 'stac_extensions': [], 'collection': 'VNP13A2.v002', 'geometry': {'type': 'Polygon', 'coordinates': [[[-78.2083, 39.7858], [-65.0781, 39.8411], [-77.7506, 50.0754], [-93.3822, 49.9972], [-78.2083, 39.7858]]]}, 'bbox': [-93.3822, 39.7858, -65.0781, 50.3008], 'links': [{'rel': 'self', 'href': 'https://cmr.earthdata.nasa.gov/stac/LPCLOUD/collections/VNP13A2.v002/items/VNP13A2.A2023201.h12v04.002.2023242143404'}, {'rel': 'parent', 'href': 'https://cmr.earthdata.nasa.gov/stac/LPCLOUD/collections/VNP13A2.v002'}, {'rel': 'collection', 'href': 'https://cmr.earthdata.nasa.gov/stac/LPCLOUD/collections/VNP13A2.v002'}, {'rel': 'root', 'href': 'https://cmr.earthdata.nasa.gov/stac/'}, {'rel': 'provider', 'href': 'https://cmr.earthdata.nasa.gov/stac/LPCLOUD'}, {'rel': 'via', 'href': 'https://cmr.earthdata.nasa.gov/search/concepts/G2758988565-LPCLOUD.json'}, {'rel': 'via', 'href': 'https://cmr.earthdata.nasa.gov/search/concepts/G2758988565-LPCLOUD.umm_json'}], 'properties': {'datetime': '2023-07-20T00:00:00.000Z', 'start_datetime': '2023-07-20T00:00:00.000Z', 'end_datetime': '2023-08-04T23:59:59.000Z'}, 'assets': {'data': {'href': 'https://data.lpdaac.earthdatacloud.nasa.gov/lp-prod-protected/VNP13A2.002/VNP13A2.A2023201.h12v04.002.2023242143404/VNP13A2.A2023201.h12v04.002.2023242143404.h5', 'title': 'Download VNP13A2.A2023201.h12v04.002.2023242143404.h5'}, 'browse': {'href': 'https://data.lpdaac.earthdatacloud.nasa.gov/lp-prod-public/VNP13A2.002/VNP13A2.A2023201.h12v04.002.2023242143404/BROWSE.VNP13A2.A2023201.h12v04.002.2023242143404.1.jpg', 'type': 'image/jpeg', 'title': 'Download BROWSE.VNP13A2.A2023201.h12v04.002.2023242143404.1.jpg'}, 'opendap': {'href': 'https://opendap.earthdata.nasa.gov/collections/C2519127613-LPCLOUD/granules/VNP13A2.A2023201.h12v04.002.2023242143404', 'title': 'OPeNDAP request URL (GET DATA : OPENDAP DATA)'}, 'metadata': {'href': 'https://cmr.earthdata.nasa.gov/search/concepts/G2758988565-LPCLOUD.xml', 'type': 'application/xml'}}}\n",
      "Metadata: ['GROUP=SwathStructure', 'END_GROUP=SwathStructure', 'GROUP=GridStructure', 'GROUP=GRID_1', 'GridName=\"VIIRS_Grid_16Day_VI_1km\"', 'XDim=1200', 'YDim=1200', 'UpperLeftPointMtrs=(-6671703.118000,5559752.598333)', 'LowerRightMtrs=(-5559752.598333,4447802.078667)', 'Projection=HE5_GCTP_SNSOID', 'ProjParams=(6371007.181000,0,0,0,0,0,0,0,0,0,0,0,0)', 'SphereCode=-1', 'GROUP=Dimension', 'OBJECT=Dimension_1', 'DimensionName=\"dimofone\"', 'Size=1', 'END_OBJECT=Dimension_1', 'END_GROUP=Dimension', 'GROUP=DataField', 'OBJECT=DataField_1', 'DataFieldName=\"1', 'km', '16', 'days', 'NDVI\"', 'DataType=H5T_NATIVE_SHORT', 'DimList=(\"YDim\",\"XDim\")', 'MaxdimList=(\"YDim\",\"XDim\")', 'CompressionType=HE5_HDFE_COMP_DEFLATE', 'DeflateLevel=5', 'END_OBJECT=DataField_1', 'OBJECT=DataField_2', 'DataFieldName=\"1', 'km', '16', 'days', 'EVI\"', 'DataType=H5T_NATIVE_SHORT', 'DimList=(\"YDim\",\"XDim\")', 'MaxdimList=(\"YDim\",\"XDim\")', 'CompressionType=HE5_HDFE_COMP_DEFLATE', 'DeflateLevel=5', 'END_OBJECT=DataField_2', 'OBJECT=DataField_3', 'DataFieldName=\"1', 'km', '16', 'days', 'EVI2\"', 'DataType=H5T_NATIVE_SHORT', 'DimList=(\"YDim\",\"XDim\")', 'MaxdimList=(\"YDim\",\"XDim\")', 'CompressionType=HE5_HDFE_COMP_DEFLATE', 'DeflateLevel=5', 'END_OBJECT=DataField_3', 'OBJECT=DataField_4', 'DataFieldName=\"1', 'km', '16', 'days', 'VI', 'Quality\"', 'DataType=H5T_NATIVE_USHORT', 'DimList=(\"YDim\",\"XDim\")', 'MaxdimList=(\"YDim\",\"XDim\")', 'CompressionType=HE5_HDFE_COMP_DEFLATE', 'DeflateLevel=5', 'END_OBJECT=DataField_4', 'OBJECT=DataField_5', 'DataFieldName=\"1', 'km', '16', 'days', 'red', 'reflectance\"', 'DataType=H5T_NATIVE_SHORT', 'DimList=(\"YDim\",\"XDim\")', 'MaxdimList=(\"YDim\",\"XDim\")', 'CompressionType=HE5_HDFE_COMP_DEFLATE', 'DeflateLevel=5', 'END_OBJECT=DataField_5', 'OBJECT=DataField_6', 'DataFieldName=\"1', 'km', '16', 'days', 'NIR', 'reflectance\"', 'DataType=H5T_NATIVE_SHORT', 'DimList=(\"YDim\",\"XDim\")', 'MaxdimList=(\"YDim\",\"XDim\")', 'CompressionType=HE5_HDFE_COMP_DEFLATE', 'DeflateLevel=5', 'END_OBJECT=DataField_6', 'OBJECT=DataField_7', 'DataFieldName=\"1', 'km', '16', 'days', 'blue', 'reflectance\"', 'DataType=H5T_NATIVE_SHORT', 'DimList=(\"YDim\",\"XDim\")', 'MaxdimList=(\"YDim\",\"XDim\")', 'CompressionType=HE5_HDFE_COMP_DEFLATE', 'DeflateLevel=5', 'END_OBJECT=DataField_7', 'OBJECT=DataField_8', 'DataFieldName=\"1', 'km', '16', 'days', 'green', 'reflectance\"', 'DataType=H5T_NATIVE_SHORT', 'DimList=(\"YDim\",\"XDim\")', 'MaxdimList=(\"YDim\",\"XDim\")', 'CompressionType=HE5_HDFE_COMP_DEFLATE', 'DeflateLevel=5', 'END_OBJECT=DataField_8', 'OBJECT=DataField_9', 'DataFieldName=\"1', 'km', '16', 'days', 'SWIR1', 'reflectance\"', 'DataType=H5T_NATIVE_SHORT', 'DimList=(\"YDim\",\"XDim\")', 'MaxdimList=(\"YDim\",\"XDim\")', 'CompressionType=HE5_HDFE_COMP_DEFLATE', 'DeflateLevel=5', 'END_OBJECT=DataField_9', 'OBJECT=DataField_10', 'DataFieldName=\"1', 'km', '16', 'days', 'SWIR2', 'reflectance\"', 'DataType=H5T_NATIVE_SHORT', 'DimList=(\"YDim\",\"XDim\")', 'MaxdimList=(\"YDim\",\"XDim\")', 'CompressionType=HE5_HDFE_COMP_DEFLATE', 'DeflateLevel=5', 'END_OBJECT=DataField_10', 'OBJECT=DataField_11', 'DataFieldName=\"1', 'km', '16', 'days', 'SWIR3', 'reflectance\"', 'DataType=H5T_NATIVE_SHORT', 'DimList=(\"YDim\",\"XDim\")', 'MaxdimList=(\"YDim\",\"XDim\")', 'CompressionType=HE5_HDFE_COMP_DEFLATE', 'DeflateLevel=5', 'END_OBJECT=DataField_11', 'OBJECT=DataField_12', 'DataFieldName=\"1', 'km', '16', 'days', 'view', 'zenith', 'angle\"', 'DataType=H5T_NATIVE_SHORT', 'DimList=(\"YDim\",\"XDim\")', 'MaxdimList=(\"YDim\",\"XDim\")', 'CompressionType=HE5_HDFE_COMP_DEFLATE', 'DeflateLevel=5', 'END_OBJECT=DataField_12', 'OBJECT=DataField_13', 'DataFieldName=\"1', 'km', '16', 'days', 'sun', 'zenith', 'angle\"', 'DataType=H5T_NATIVE_SHORT', 'DimList=(\"YDim\",\"XDim\")', 'MaxdimList=(\"YDim\",\"XDim\")', 'CompressionType=HE5_HDFE_COMP_DEFLATE', 'DeflateLevel=5', 'END_OBJECT=DataField_13', 'OBJECT=DataField_14', 'DataFieldName=\"1', 'km', '16', 'days', 'relative', 'azimuth', 'angle\"', 'DataType=H5T_NATIVE_SHORT', 'DimList=(\"YDim\",\"XDim\")', 'MaxdimList=(\"YDim\",\"XDim\")', 'CompressionType=HE5_HDFE_COMP_DEFLATE', 'DeflateLevel=5', 'END_OBJECT=DataField_14', 'OBJECT=DataField_15', 'DataFieldName=\"1', 'km', '16', 'days', 'composite', 'day', 'of', 'the', 'year\"', 'DataType=H5T_NATIVE_SHORT', 'DimList=(\"YDim\",\"XDim\")', 'MaxdimList=(\"YDim\",\"XDim\")', 'CompressionType=HE5_HDFE_COMP_DEFLATE', 'DeflateLevel=5', 'END_OBJECT=DataField_15', 'OBJECT=DataField_16', 'DataFieldName=\"1', 'km', '16', 'days', 'pixel', 'reliability\"', 'DataType=H5T_NATIVE_SCHAR', 'DimList=(\"YDim\",\"XDim\")', 'MaxdimList=(\"YDim\",\"XDim\")', 'CompressionType=HE5_HDFE_COMP_DEFLATE', 'DeflateLevel=5', 'END_OBJECT=DataField_16', 'OBJECT=DataField_17', 'DataFieldName=\"Projection\"', 'DataType=H5T_NATIVE_INT', 'DimList=(\"dimofone\")', 'MaxdimList=(\"dimofone\")', 'END_OBJECT=DataField_17', 'END_GROUP=DataField', 'GROUP=MergedFields', 'END_GROUP=MergedFields', 'END_GROUP=GRID_1', 'END_GROUP=GridStructure', 'GROUP=PointStructure', 'END_GROUP=PointStructure', 'GROUP=ZaStructure', 'END_GROUP=ZaStructure', 'END']\n",
      "Geoinfo: (-6671703.118, 0, 5559752.598333, 0)\n",
      "Overall extent: (-11119505.196667, 0, 6671703.118, 0)\n"
     ]
    },
    {
     "name": "stderr",
     "output_type": "stream",
     "text": [
      "c:\\Users\\cinfante\\OneDrive - NRCan RNCan\\Documents\\Greenup\\NASA-LPDAAC-Testing\\venv\\Lib\\site-packages\\urllib3\\connectionpool.py:1056: InsecureRequestWarning: Unverified HTTPS request is being made to host 'data.lpdaac.earthdatacloud.nasa.gov'. Adding certificate verification is strongly advised. See: https://urllib3.readthedocs.io/en/1.26.x/advanced-usage.html#ssl-warnings\n",
      "  warnings.warn(\n",
      "c:\\Users\\cinfante\\OneDrive - NRCan RNCan\\Documents\\Greenup\\NASA-LPDAAC-Testing\\venv\\Lib\\site-packages\\urllib3\\connectionpool.py:1056: InsecureRequestWarning: Unverified HTTPS request is being made to host 'urs.earthdata.nasa.gov'. Adding certificate verification is strongly advised. See: https://urllib3.readthedocs.io/en/1.26.x/advanced-usage.html#ssl-warnings\n",
      "  warnings.warn(\n",
      "c:\\Users\\cinfante\\OneDrive - NRCan RNCan\\Documents\\Greenup\\NASA-LPDAAC-Testing\\venv\\Lib\\site-packages\\urllib3\\connectionpool.py:1056: InsecureRequestWarning: Unverified HTTPS request is being made to host 'data.lpdaac.earthdatacloud.nasa.gov'. Adding certificate verification is strongly advised. See: https://urllib3.readthedocs.io/en/1.26.x/advanced-usage.html#ssl-warnings\n",
      "  warnings.warn(\n",
      "c:\\Users\\cinfante\\OneDrive - NRCan RNCan\\Documents\\Greenup\\NASA-LPDAAC-Testing\\venv\\Lib\\site-packages\\urllib3\\connectionpool.py:1056: InsecureRequestWarning: Unverified HTTPS request is being made to host 'data.lpdaac.earthdatacloud.nasa.gov'. Adding certificate verification is strongly advised. See: https://urllib3.readthedocs.io/en/1.26.x/advanced-usage.html#ssl-warnings\n",
      "  warnings.warn(\n",
      "c:\\Users\\cinfante\\OneDrive - NRCan RNCan\\Documents\\Greenup\\NASA-LPDAAC-Testing\\venv\\Lib\\site-packages\\urllib3\\connectionpool.py:1056: InsecureRequestWarning: Unverified HTTPS request is being made to host 'd1nklfio7vscoe.cloudfront.net'. Adding certificate verification is strongly advised. See: https://urllib3.readthedocs.io/en/1.26.x/advanced-usage.html#ssl-warnings\n",
      "  warnings.warn(\n"
     ]
    },
    {
     "name": "stdout",
     "output_type": "stream",
     "text": [
      "{'type': 'Feature', 'id': 'VNP13A2.A2023201.h10v04.002.2023242143247', 'stac_version': '1.0.0', 'stac_extensions': [], 'collection': 'VNP13A2.v002', 'geometry': {'type': 'Polygon', 'coordinates': [[[-104.5202, 39.7557], [-91.191, 39.8554], [-109.0021, 50.1047], [-124.8854, 49.9677], [-104.5202, 39.7557]]]}, 'bbox': [-124.8854, 39.7557, -91.191, 50.312155], 'links': [{'rel': 'self', 'href': 'https://cmr.earthdata.nasa.gov/stac/LPCLOUD/collections/VNP13A2.v002/items/VNP13A2.A2023201.h10v04.002.2023242143247'}, {'rel': 'parent', 'href': 'https://cmr.earthdata.nasa.gov/stac/LPCLOUD/collections/VNP13A2.v002'}, {'rel': 'collection', 'href': 'https://cmr.earthdata.nasa.gov/stac/LPCLOUD/collections/VNP13A2.v002'}, {'rel': 'root', 'href': 'https://cmr.earthdata.nasa.gov/stac/'}, {'rel': 'provider', 'href': 'https://cmr.earthdata.nasa.gov/stac/LPCLOUD'}, {'rel': 'via', 'href': 'https://cmr.earthdata.nasa.gov/search/concepts/G2758988690-LPCLOUD.json'}, {'rel': 'via', 'href': 'https://cmr.earthdata.nasa.gov/search/concepts/G2758988690-LPCLOUD.umm_json'}], 'properties': {'datetime': '2023-07-20T00:00:00.000Z', 'start_datetime': '2023-07-20T00:00:00.000Z', 'end_datetime': '2023-08-04T23:59:59.000Z'}, 'assets': {'data': {'href': 'https://data.lpdaac.earthdatacloud.nasa.gov/lp-prod-protected/VNP13A2.002/VNP13A2.A2023201.h10v04.002.2023242143247/VNP13A2.A2023201.h10v04.002.2023242143247.h5', 'title': 'Download VNP13A2.A2023201.h10v04.002.2023242143247.h5'}, 'browse': {'href': 'https://data.lpdaac.earthdatacloud.nasa.gov/lp-prod-public/VNP13A2.002/VNP13A2.A2023201.h10v04.002.2023242143247/BROWSE.VNP13A2.A2023201.h10v04.002.2023242143247.1.jpg', 'type': 'image/jpeg', 'title': 'Download BROWSE.VNP13A2.A2023201.h10v04.002.2023242143247.1.jpg'}, 'opendap': {'href': 'https://opendap.earthdata.nasa.gov/collections/C2519127613-LPCLOUD/granules/VNP13A2.A2023201.h10v04.002.2023242143247', 'title': 'OPeNDAP request URL (GET DATA : OPENDAP DATA)'}, 'metadata': {'href': 'https://cmr.earthdata.nasa.gov/search/concepts/G2758988690-LPCLOUD.xml', 'type': 'application/xml'}}}\n",
      "Metadata: ['GROUP=SwathStructure', 'END_GROUP=SwathStructure', 'GROUP=GridStructure', 'GROUP=GRID_1', 'GridName=\"VIIRS_Grid_16Day_VI_1km\"', 'XDim=1200', 'YDim=1200', 'UpperLeftPointMtrs=(-8895604.157333,5559752.598333)', 'LowerRightMtrs=(-7783653.637667,4447802.078667)', 'Projection=HE5_GCTP_SNSOID', 'ProjParams=(6371007.181000,0,0,0,0,0,0,0,0,0,0,0,0)', 'SphereCode=-1', 'GROUP=Dimension', 'OBJECT=Dimension_1', 'DimensionName=\"dimofone\"', 'Size=1', 'END_OBJECT=Dimension_1', 'END_GROUP=Dimension', 'GROUP=DataField', 'OBJECT=DataField_1', 'DataFieldName=\"1', 'km', '16', 'days', 'NDVI\"', 'DataType=H5T_NATIVE_SHORT', 'DimList=(\"YDim\",\"XDim\")', 'MaxdimList=(\"YDim\",\"XDim\")', 'CompressionType=HE5_HDFE_COMP_DEFLATE', 'DeflateLevel=5', 'END_OBJECT=DataField_1', 'OBJECT=DataField_2', 'DataFieldName=\"1', 'km', '16', 'days', 'EVI\"', 'DataType=H5T_NATIVE_SHORT', 'DimList=(\"YDim\",\"XDim\")', 'MaxdimList=(\"YDim\",\"XDim\")', 'CompressionType=HE5_HDFE_COMP_DEFLATE', 'DeflateLevel=5', 'END_OBJECT=DataField_2', 'OBJECT=DataField_3', 'DataFieldName=\"1', 'km', '16', 'days', 'EVI2\"', 'DataType=H5T_NATIVE_SHORT', 'DimList=(\"YDim\",\"XDim\")', 'MaxdimList=(\"YDim\",\"XDim\")', 'CompressionType=HE5_HDFE_COMP_DEFLATE', 'DeflateLevel=5', 'END_OBJECT=DataField_3', 'OBJECT=DataField_4', 'DataFieldName=\"1', 'km', '16', 'days', 'VI', 'Quality\"', 'DataType=H5T_NATIVE_USHORT', 'DimList=(\"YDim\",\"XDim\")', 'MaxdimList=(\"YDim\",\"XDim\")', 'CompressionType=HE5_HDFE_COMP_DEFLATE', 'DeflateLevel=5', 'END_OBJECT=DataField_4', 'OBJECT=DataField_5', 'DataFieldName=\"1', 'km', '16', 'days', 'red', 'reflectance\"', 'DataType=H5T_NATIVE_SHORT', 'DimList=(\"YDim\",\"XDim\")', 'MaxdimList=(\"YDim\",\"XDim\")', 'CompressionType=HE5_HDFE_COMP_DEFLATE', 'DeflateLevel=5', 'END_OBJECT=DataField_5', 'OBJECT=DataField_6', 'DataFieldName=\"1', 'km', '16', 'days', 'NIR', 'reflectance\"', 'DataType=H5T_NATIVE_SHORT', 'DimList=(\"YDim\",\"XDim\")', 'MaxdimList=(\"YDim\",\"XDim\")', 'CompressionType=HE5_HDFE_COMP_DEFLATE', 'DeflateLevel=5', 'END_OBJECT=DataField_6', 'OBJECT=DataField_7', 'DataFieldName=\"1', 'km', '16', 'days', 'blue', 'reflectance\"', 'DataType=H5T_NATIVE_SHORT', 'DimList=(\"YDim\",\"XDim\")', 'MaxdimList=(\"YDim\",\"XDim\")', 'CompressionType=HE5_HDFE_COMP_DEFLATE', 'DeflateLevel=5', 'END_OBJECT=DataField_7', 'OBJECT=DataField_8', 'DataFieldName=\"1', 'km', '16', 'days', 'green', 'reflectance\"', 'DataType=H5T_NATIVE_SHORT', 'DimList=(\"YDim\",\"XDim\")', 'MaxdimList=(\"YDim\",\"XDim\")', 'CompressionType=HE5_HDFE_COMP_DEFLATE', 'DeflateLevel=5', 'END_OBJECT=DataField_8', 'OBJECT=DataField_9', 'DataFieldName=\"1', 'km', '16', 'days', 'SWIR1', 'reflectance\"', 'DataType=H5T_NATIVE_SHORT', 'DimList=(\"YDim\",\"XDim\")', 'MaxdimList=(\"YDim\",\"XDim\")', 'CompressionType=HE5_HDFE_COMP_DEFLATE', 'DeflateLevel=5', 'END_OBJECT=DataField_9', 'OBJECT=DataField_10', 'DataFieldName=\"1', 'km', '16', 'days', 'SWIR2', 'reflectance\"', 'DataType=H5T_NATIVE_SHORT', 'DimList=(\"YDim\",\"XDim\")', 'MaxdimList=(\"YDim\",\"XDim\")', 'CompressionType=HE5_HDFE_COMP_DEFLATE', 'DeflateLevel=5', 'END_OBJECT=DataField_10', 'OBJECT=DataField_11', 'DataFieldName=\"1', 'km', '16', 'days', 'SWIR3', 'reflectance\"', 'DataType=H5T_NATIVE_SHORT', 'DimList=(\"YDim\",\"XDim\")', 'MaxdimList=(\"YDim\",\"XDim\")', 'CompressionType=HE5_HDFE_COMP_DEFLATE', 'DeflateLevel=5', 'END_OBJECT=DataField_11', 'OBJECT=DataField_12', 'DataFieldName=\"1', 'km', '16', 'days', 'view', 'zenith', 'angle\"', 'DataType=H5T_NATIVE_SHORT', 'DimList=(\"YDim\",\"XDim\")', 'MaxdimList=(\"YDim\",\"XDim\")', 'CompressionType=HE5_HDFE_COMP_DEFLATE', 'DeflateLevel=5', 'END_OBJECT=DataField_12', 'OBJECT=DataField_13', 'DataFieldName=\"1', 'km', '16', 'days', 'sun', 'zenith', 'angle\"', 'DataType=H5T_NATIVE_SHORT', 'DimList=(\"YDim\",\"XDim\")', 'MaxdimList=(\"YDim\",\"XDim\")', 'CompressionType=HE5_HDFE_COMP_DEFLATE', 'DeflateLevel=5', 'END_OBJECT=DataField_13', 'OBJECT=DataField_14', 'DataFieldName=\"1', 'km', '16', 'days', 'relative', 'azimuth', 'angle\"', 'DataType=H5T_NATIVE_SHORT', 'DimList=(\"YDim\",\"XDim\")', 'MaxdimList=(\"YDim\",\"XDim\")', 'CompressionType=HE5_HDFE_COMP_DEFLATE', 'DeflateLevel=5', 'END_OBJECT=DataField_14', 'OBJECT=DataField_15', 'DataFieldName=\"1', 'km', '16', 'days', 'composite', 'day', 'of', 'the', 'year\"', 'DataType=H5T_NATIVE_SHORT', 'DimList=(\"YDim\",\"XDim\")', 'MaxdimList=(\"YDim\",\"XDim\")', 'CompressionType=HE5_HDFE_COMP_DEFLATE', 'DeflateLevel=5', 'END_OBJECT=DataField_15', 'OBJECT=DataField_16', 'DataFieldName=\"1', 'km', '16', 'days', 'pixel', 'reliability\"', 'DataType=H5T_NATIVE_SCHAR', 'DimList=(\"YDim\",\"XDim\")', 'MaxdimList=(\"YDim\",\"XDim\")', 'CompressionType=HE5_HDFE_COMP_DEFLATE', 'DeflateLevel=5', 'END_OBJECT=DataField_16', 'OBJECT=DataField_17', 'DataFieldName=\"Projection\"', 'DataType=H5T_NATIVE_INT', 'DimList=(\"dimofone\")', 'MaxdimList=(\"dimofone\")', 'END_OBJECT=DataField_17', 'END_GROUP=DataField', 'GROUP=MergedFields', 'END_GROUP=MergedFields', 'END_GROUP=GRID_1', 'END_GROUP=GridStructure', 'GROUP=PointStructure', 'END_GROUP=PointStructure', 'GROUP=ZaStructure', 'END_GROUP=ZaStructure', 'END']\n",
      "Geoinfo: (-8895604.157333, 0, 5559752.598333, 0)\n",
      "Overall extent: (-11119505.196667, 0, 6671703.118, 0)\n"
     ]
    },
    {
     "name": "stderr",
     "output_type": "stream",
     "text": [
      "c:\\Users\\cinfante\\OneDrive - NRCan RNCan\\Documents\\Greenup\\NASA-LPDAAC-Testing\\venv\\Lib\\site-packages\\urllib3\\connectionpool.py:1056: InsecureRequestWarning: Unverified HTTPS request is being made to host 'data.lpdaac.earthdatacloud.nasa.gov'. Adding certificate verification is strongly advised. See: https://urllib3.readthedocs.io/en/1.26.x/advanced-usage.html#ssl-warnings\n",
      "  warnings.warn(\n",
      "c:\\Users\\cinfante\\OneDrive - NRCan RNCan\\Documents\\Greenup\\NASA-LPDAAC-Testing\\venv\\Lib\\site-packages\\urllib3\\connectionpool.py:1056: InsecureRequestWarning: Unverified HTTPS request is being made to host 'urs.earthdata.nasa.gov'. Adding certificate verification is strongly advised. See: https://urllib3.readthedocs.io/en/1.26.x/advanced-usage.html#ssl-warnings\n",
      "  warnings.warn(\n",
      "c:\\Users\\cinfante\\OneDrive - NRCan RNCan\\Documents\\Greenup\\NASA-LPDAAC-Testing\\venv\\Lib\\site-packages\\urllib3\\connectionpool.py:1056: InsecureRequestWarning: Unverified HTTPS request is being made to host 'data.lpdaac.earthdatacloud.nasa.gov'. Adding certificate verification is strongly advised. See: https://urllib3.readthedocs.io/en/1.26.x/advanced-usage.html#ssl-warnings\n",
      "  warnings.warn(\n",
      "c:\\Users\\cinfante\\OneDrive - NRCan RNCan\\Documents\\Greenup\\NASA-LPDAAC-Testing\\venv\\Lib\\site-packages\\urllib3\\connectionpool.py:1056: InsecureRequestWarning: Unverified HTTPS request is being made to host 'data.lpdaac.earthdatacloud.nasa.gov'. Adding certificate verification is strongly advised. See: https://urllib3.readthedocs.io/en/1.26.x/advanced-usage.html#ssl-warnings\n",
      "  warnings.warn(\n",
      "c:\\Users\\cinfante\\OneDrive - NRCan RNCan\\Documents\\Greenup\\NASA-LPDAAC-Testing\\venv\\Lib\\site-packages\\urllib3\\connectionpool.py:1056: InsecureRequestWarning: Unverified HTTPS request is being made to host 'd1nklfio7vscoe.cloudfront.net'. Adding certificate verification is strongly advised. See: https://urllib3.readthedocs.io/en/1.26.x/advanced-usage.html#ssl-warnings\n",
      "  warnings.warn(\n"
     ]
    },
    {
     "name": "stdout",
     "output_type": "stream",
     "text": [
      "{'type': 'Feature', 'id': 'VNP13A2.A2023201.h13v02.002.2023242143423', 'stac_version': '1.0.0', 'stac_extensions': [], 'collection': 'VNP13A2.v002', 'geometry': {'type': 'Polygon', 'coordinates': [[[-102.7576, 59.278], [-79.3848, 59.6441], [-119.2338, 70.2421], [-157.4848, 68.5832], [-102.7576, 59.278]]]}, 'bbox': [-157.4848, 59.278, -79.3848, 70.634734], 'links': [{'rel': 'self', 'href': 'https://cmr.earthdata.nasa.gov/stac/LPCLOUD/collections/VNP13A2.v002/items/VNP13A2.A2023201.h13v02.002.2023242143423'}, {'rel': 'parent', 'href': 'https://cmr.earthdata.nasa.gov/stac/LPCLOUD/collections/VNP13A2.v002'}, {'rel': 'collection', 'href': 'https://cmr.earthdata.nasa.gov/stac/LPCLOUD/collections/VNP13A2.v002'}, {'rel': 'root', 'href': 'https://cmr.earthdata.nasa.gov/stac/'}, {'rel': 'provider', 'href': 'https://cmr.earthdata.nasa.gov/stac/LPCLOUD'}, {'rel': 'via', 'href': 'https://cmr.earthdata.nasa.gov/search/concepts/G2758989510-LPCLOUD.json'}, {'rel': 'via', 'href': 'https://cmr.earthdata.nasa.gov/search/concepts/G2758989510-LPCLOUD.umm_json'}], 'properties': {'datetime': '2023-07-20T00:00:00.000Z', 'start_datetime': '2023-07-20T00:00:00.000Z', 'end_datetime': '2023-08-04T23:59:59.000Z'}, 'assets': {'data': {'href': 'https://data.lpdaac.earthdatacloud.nasa.gov/lp-prod-protected/VNP13A2.002/VNP13A2.A2023201.h13v02.002.2023242143423/VNP13A2.A2023201.h13v02.002.2023242143423.h5', 'title': 'Download VNP13A2.A2023201.h13v02.002.2023242143423.h5'}, 'browse': {'href': 'https://data.lpdaac.earthdatacloud.nasa.gov/lp-prod-public/VNP13A2.002/VNP13A2.A2023201.h13v02.002.2023242143423/BROWSE.VNP13A2.A2023201.h13v02.002.2023242143423.1.jpg', 'type': 'image/jpeg', 'title': 'Download BROWSE.VNP13A2.A2023201.h13v02.002.2023242143423.1.jpg'}, 'opendap': {'href': 'https://opendap.earthdata.nasa.gov/collections/C2519127613-LPCLOUD/granules/VNP13A2.A2023201.h13v02.002.2023242143423', 'title': 'OPeNDAP request URL (GET DATA : OPENDAP DATA)'}, 'metadata': {'href': 'https://cmr.earthdata.nasa.gov/search/concepts/G2758989510-LPCLOUD.xml', 'type': 'application/xml'}}}\n",
      "Metadata: ['GROUP=SwathStructure', 'END_GROUP=SwathStructure', 'GROUP=GridStructure', 'GROUP=GRID_1', 'GridName=\"VIIRS_Grid_16Day_VI_1km\"', 'XDim=1200', 'YDim=1200', 'UpperLeftPointMtrs=(-5559752.598333,7783653.637667)', 'LowerRightMtrs=(-4447802.078667,6671703.118000)', 'Projection=HE5_GCTP_SNSOID', 'ProjParams=(6371007.181000,0,0,0,0,0,0,0,0,0,0,0,0)', 'SphereCode=-1', 'GROUP=Dimension', 'OBJECT=Dimension_1', 'DimensionName=\"dimofone\"', 'Size=1', 'END_OBJECT=Dimension_1', 'END_GROUP=Dimension', 'GROUP=DataField', 'OBJECT=DataField_1', 'DataFieldName=\"1', 'km', '16', 'days', 'NDVI\"', 'DataType=H5T_NATIVE_SHORT', 'DimList=(\"YDim\",\"XDim\")', 'MaxdimList=(\"YDim\",\"XDim\")', 'CompressionType=HE5_HDFE_COMP_DEFLATE', 'DeflateLevel=5', 'END_OBJECT=DataField_1', 'OBJECT=DataField_2', 'DataFieldName=\"1', 'km', '16', 'days', 'EVI\"', 'DataType=H5T_NATIVE_SHORT', 'DimList=(\"YDim\",\"XDim\")', 'MaxdimList=(\"YDim\",\"XDim\")', 'CompressionType=HE5_HDFE_COMP_DEFLATE', 'DeflateLevel=5', 'END_OBJECT=DataField_2', 'OBJECT=DataField_3', 'DataFieldName=\"1', 'km', '16', 'days', 'EVI2\"', 'DataType=H5T_NATIVE_SHORT', 'DimList=(\"YDim\",\"XDim\")', 'MaxdimList=(\"YDim\",\"XDim\")', 'CompressionType=HE5_HDFE_COMP_DEFLATE', 'DeflateLevel=5', 'END_OBJECT=DataField_3', 'OBJECT=DataField_4', 'DataFieldName=\"1', 'km', '16', 'days', 'VI', 'Quality\"', 'DataType=H5T_NATIVE_USHORT', 'DimList=(\"YDim\",\"XDim\")', 'MaxdimList=(\"YDim\",\"XDim\")', 'CompressionType=HE5_HDFE_COMP_DEFLATE', 'DeflateLevel=5', 'END_OBJECT=DataField_4', 'OBJECT=DataField_5', 'DataFieldName=\"1', 'km', '16', 'days', 'red', 'reflectance\"', 'DataType=H5T_NATIVE_SHORT', 'DimList=(\"YDim\",\"XDim\")', 'MaxdimList=(\"YDim\",\"XDim\")', 'CompressionType=HE5_HDFE_COMP_DEFLATE', 'DeflateLevel=5', 'END_OBJECT=DataField_5', 'OBJECT=DataField_6', 'DataFieldName=\"1', 'km', '16', 'days', 'NIR', 'reflectance\"', 'DataType=H5T_NATIVE_SHORT', 'DimList=(\"YDim\",\"XDim\")', 'MaxdimList=(\"YDim\",\"XDim\")', 'CompressionType=HE5_HDFE_COMP_DEFLATE', 'DeflateLevel=5', 'END_OBJECT=DataField_6', 'OBJECT=DataField_7', 'DataFieldName=\"1', 'km', '16', 'days', 'blue', 'reflectance\"', 'DataType=H5T_NATIVE_SHORT', 'DimList=(\"YDim\",\"XDim\")', 'MaxdimList=(\"YDim\",\"XDim\")', 'CompressionType=HE5_HDFE_COMP_DEFLATE', 'DeflateLevel=5', 'END_OBJECT=DataField_7', 'OBJECT=DataField_8', 'DataFieldName=\"1', 'km', '16', 'days', 'green', 'reflectance\"', 'DataType=H5T_NATIVE_SHORT', 'DimList=(\"YDim\",\"XDim\")', 'MaxdimList=(\"YDim\",\"XDim\")', 'CompressionType=HE5_HDFE_COMP_DEFLATE', 'DeflateLevel=5', 'END_OBJECT=DataField_8', 'OBJECT=DataField_9', 'DataFieldName=\"1', 'km', '16', 'days', 'SWIR1', 'reflectance\"', 'DataType=H5T_NATIVE_SHORT', 'DimList=(\"YDim\",\"XDim\")', 'MaxdimList=(\"YDim\",\"XDim\")', 'CompressionType=HE5_HDFE_COMP_DEFLATE', 'DeflateLevel=5', 'END_OBJECT=DataField_9', 'OBJECT=DataField_10', 'DataFieldName=\"1', 'km', '16', 'days', 'SWIR2', 'reflectance\"', 'DataType=H5T_NATIVE_SHORT', 'DimList=(\"YDim\",\"XDim\")', 'MaxdimList=(\"YDim\",\"XDim\")', 'CompressionType=HE5_HDFE_COMP_DEFLATE', 'DeflateLevel=5', 'END_OBJECT=DataField_10', 'OBJECT=DataField_11', 'DataFieldName=\"1', 'km', '16', 'days', 'SWIR3', 'reflectance\"', 'DataType=H5T_NATIVE_SHORT', 'DimList=(\"YDim\",\"XDim\")', 'MaxdimList=(\"YDim\",\"XDim\")', 'CompressionType=HE5_HDFE_COMP_DEFLATE', 'DeflateLevel=5', 'END_OBJECT=DataField_11', 'OBJECT=DataField_12', 'DataFieldName=\"1', 'km', '16', 'days', 'view', 'zenith', 'angle\"', 'DataType=H5T_NATIVE_SHORT', 'DimList=(\"YDim\",\"XDim\")', 'MaxdimList=(\"YDim\",\"XDim\")', 'CompressionType=HE5_HDFE_COMP_DEFLATE', 'DeflateLevel=5', 'END_OBJECT=DataField_12', 'OBJECT=DataField_13', 'DataFieldName=\"1', 'km', '16', 'days', 'sun', 'zenith', 'angle\"', 'DataType=H5T_NATIVE_SHORT', 'DimList=(\"YDim\",\"XDim\")', 'MaxdimList=(\"YDim\",\"XDim\")', 'CompressionType=HE5_HDFE_COMP_DEFLATE', 'DeflateLevel=5', 'END_OBJECT=DataField_13', 'OBJECT=DataField_14', 'DataFieldName=\"1', 'km', '16', 'days', 'relative', 'azimuth', 'angle\"', 'DataType=H5T_NATIVE_SHORT', 'DimList=(\"YDim\",\"XDim\")', 'MaxdimList=(\"YDim\",\"XDim\")', 'CompressionType=HE5_HDFE_COMP_DEFLATE', 'DeflateLevel=5', 'END_OBJECT=DataField_14', 'OBJECT=DataField_15', 'DataFieldName=\"1', 'km', '16', 'days', 'composite', 'day', 'of', 'the', 'year\"', 'DataType=H5T_NATIVE_SHORT', 'DimList=(\"YDim\",\"XDim\")', 'MaxdimList=(\"YDim\",\"XDim\")', 'CompressionType=HE5_HDFE_COMP_DEFLATE', 'DeflateLevel=5', 'END_OBJECT=DataField_15', 'OBJECT=DataField_16', 'DataFieldName=\"1', 'km', '16', 'days', 'pixel', 'reliability\"', 'DataType=H5T_NATIVE_SCHAR', 'DimList=(\"YDim\",\"XDim\")', 'MaxdimList=(\"YDim\",\"XDim\")', 'CompressionType=HE5_HDFE_COMP_DEFLATE', 'DeflateLevel=5', 'END_OBJECT=DataField_16', 'OBJECT=DataField_17', 'DataFieldName=\"Projection\"', 'DataType=H5T_NATIVE_INT', 'DimList=(\"dimofone\")', 'MaxdimList=(\"dimofone\")', 'END_OBJECT=DataField_17', 'END_GROUP=DataField', 'GROUP=MergedFields', 'END_GROUP=MergedFields', 'END_GROUP=GRID_1', 'END_GROUP=GridStructure', 'GROUP=PointStructure', 'END_GROUP=PointStructure', 'GROUP=ZaStructure', 'END_GROUP=ZaStructure', 'END']\n",
      "Geoinfo: (-5559752.598333, 0, 7783653.637667, 0)\n",
      "Overall extent: (-11119505.196667, 0, 7783653.637667, 0)\n"
     ]
    },
    {
     "name": "stderr",
     "output_type": "stream",
     "text": [
      "c:\\Users\\cinfante\\OneDrive - NRCan RNCan\\Documents\\Greenup\\NASA-LPDAAC-Testing\\venv\\Lib\\site-packages\\urllib3\\connectionpool.py:1056: InsecureRequestWarning: Unverified HTTPS request is being made to host 'data.lpdaac.earthdatacloud.nasa.gov'. Adding certificate verification is strongly advised. See: https://urllib3.readthedocs.io/en/1.26.x/advanced-usage.html#ssl-warnings\n",
      "  warnings.warn(\n",
      "c:\\Users\\cinfante\\OneDrive - NRCan RNCan\\Documents\\Greenup\\NASA-LPDAAC-Testing\\venv\\Lib\\site-packages\\urllib3\\connectionpool.py:1056: InsecureRequestWarning: Unverified HTTPS request is being made to host 'urs.earthdata.nasa.gov'. Adding certificate verification is strongly advised. See: https://urllib3.readthedocs.io/en/1.26.x/advanced-usage.html#ssl-warnings\n",
      "  warnings.warn(\n",
      "c:\\Users\\cinfante\\OneDrive - NRCan RNCan\\Documents\\Greenup\\NASA-LPDAAC-Testing\\venv\\Lib\\site-packages\\urllib3\\connectionpool.py:1056: InsecureRequestWarning: Unverified HTTPS request is being made to host 'data.lpdaac.earthdatacloud.nasa.gov'. Adding certificate verification is strongly advised. See: https://urllib3.readthedocs.io/en/1.26.x/advanced-usage.html#ssl-warnings\n",
      "  warnings.warn(\n",
      "c:\\Users\\cinfante\\OneDrive - NRCan RNCan\\Documents\\Greenup\\NASA-LPDAAC-Testing\\venv\\Lib\\site-packages\\urllib3\\connectionpool.py:1056: InsecureRequestWarning: Unverified HTTPS request is being made to host 'data.lpdaac.earthdatacloud.nasa.gov'. Adding certificate verification is strongly advised. See: https://urllib3.readthedocs.io/en/1.26.x/advanced-usage.html#ssl-warnings\n",
      "  warnings.warn(\n",
      "c:\\Users\\cinfante\\OneDrive - NRCan RNCan\\Documents\\Greenup\\NASA-LPDAAC-Testing\\venv\\Lib\\site-packages\\urllib3\\connectionpool.py:1056: InsecureRequestWarning: Unverified HTTPS request is being made to host 'd1nklfio7vscoe.cloudfront.net'. Adding certificate verification is strongly advised. See: https://urllib3.readthedocs.io/en/1.26.x/advanced-usage.html#ssl-warnings\n",
      "  warnings.warn(\n"
     ]
    },
    {
     "name": "stdout",
     "output_type": "stream",
     "text": [
      "{'type': 'Feature', 'id': 'VNP13A2.A2023201.h17v01.002.2023242143536', 'stac_version': '1.0.0', 'stac_extensions': [], 'collection': 'VNP13A2.v002', 'geometry': {'type': 'Polygon', 'coordinates': [[[-29.1844, 69.3805], [0.0201, 69.395], [0.1644, 80.0269], [-58.6471, 79.8968], [-29.1844, 69.3805]]]}, 'bbox': [-58.6471, 69.3805, 0.1644, 81.234548], 'links': [{'rel': 'self', 'href': 'https://cmr.earthdata.nasa.gov/stac/LPCLOUD/collections/VNP13A2.v002/items/VNP13A2.A2023201.h17v01.002.2023242143536'}, {'rel': 'parent', 'href': 'https://cmr.earthdata.nasa.gov/stac/LPCLOUD/collections/VNP13A2.v002'}, {'rel': 'collection', 'href': 'https://cmr.earthdata.nasa.gov/stac/LPCLOUD/collections/VNP13A2.v002'}, {'rel': 'root', 'href': 'https://cmr.earthdata.nasa.gov/stac/'}, {'rel': 'provider', 'href': 'https://cmr.earthdata.nasa.gov/stac/LPCLOUD'}, {'rel': 'via', 'href': 'https://cmr.earthdata.nasa.gov/search/concepts/G2758989526-LPCLOUD.json'}, {'rel': 'via', 'href': 'https://cmr.earthdata.nasa.gov/search/concepts/G2758989526-LPCLOUD.umm_json'}], 'properties': {'datetime': '2023-07-20T00:00:00.000Z', 'start_datetime': '2023-07-20T00:00:00.000Z', 'end_datetime': '2023-08-04T23:59:59.000Z'}, 'assets': {'data': {'href': 'https://data.lpdaac.earthdatacloud.nasa.gov/lp-prod-protected/VNP13A2.002/VNP13A2.A2023201.h17v01.002.2023242143536/VNP13A2.A2023201.h17v01.002.2023242143536.h5', 'title': 'Download VNP13A2.A2023201.h17v01.002.2023242143536.h5'}, 'browse': {'href': 'https://data.lpdaac.earthdatacloud.nasa.gov/lp-prod-public/VNP13A2.002/VNP13A2.A2023201.h17v01.002.2023242143536/BROWSE.VNP13A2.A2023201.h17v01.002.2023242143536.1.jpg', 'type': 'image/jpeg', 'title': 'Download BROWSE.VNP13A2.A2023201.h17v01.002.2023242143536.1.jpg'}, 'opendap': {'href': 'https://opendap.earthdata.nasa.gov/collections/C2519127613-LPCLOUD/granules/VNP13A2.A2023201.h17v01.002.2023242143536', 'title': 'OPeNDAP request URL (GET DATA : OPENDAP DATA)'}, 'metadata': {'href': 'https://cmr.earthdata.nasa.gov/search/concepts/G2758989526-LPCLOUD.xml', 'type': 'application/xml'}}}\n",
      "Metadata: ['GROUP=SwathStructure', 'END_GROUP=SwathStructure', 'GROUP=GridStructure', 'GROUP=GRID_1', 'GridName=\"VIIRS_Grid_16Day_VI_1km\"', 'XDim=1200', 'YDim=1200', 'UpperLeftPointMtrs=(-1111950.519667,8895604.157333)', 'LowerRightMtrs=(0.000000,7783653.637667)', 'Projection=HE5_GCTP_SNSOID', 'ProjParams=(6371007.181000,0,0,0,0,0,0,0,0,0,0,0,0)', 'SphereCode=-1', 'GROUP=Dimension', 'OBJECT=Dimension_1', 'DimensionName=\"dimofone\"', 'Size=1', 'END_OBJECT=Dimension_1', 'END_GROUP=Dimension', 'GROUP=DataField', 'OBJECT=DataField_1', 'DataFieldName=\"1', 'km', '16', 'days', 'NDVI\"', 'DataType=H5T_NATIVE_SHORT', 'DimList=(\"YDim\",\"XDim\")', 'MaxdimList=(\"YDim\",\"XDim\")', 'CompressionType=HE5_HDFE_COMP_DEFLATE', 'DeflateLevel=5', 'END_OBJECT=DataField_1', 'OBJECT=DataField_2', 'DataFieldName=\"1', 'km', '16', 'days', 'EVI\"', 'DataType=H5T_NATIVE_SHORT', 'DimList=(\"YDim\",\"XDim\")', 'MaxdimList=(\"YDim\",\"XDim\")', 'CompressionType=HE5_HDFE_COMP_DEFLATE', 'DeflateLevel=5', 'END_OBJECT=DataField_2', 'OBJECT=DataField_3', 'DataFieldName=\"1', 'km', '16', 'days', 'EVI2\"', 'DataType=H5T_NATIVE_SHORT', 'DimList=(\"YDim\",\"XDim\")', 'MaxdimList=(\"YDim\",\"XDim\")', 'CompressionType=HE5_HDFE_COMP_DEFLATE', 'DeflateLevel=5', 'END_OBJECT=DataField_3', 'OBJECT=DataField_4', 'DataFieldName=\"1', 'km', '16', 'days', 'VI', 'Quality\"', 'DataType=H5T_NATIVE_USHORT', 'DimList=(\"YDim\",\"XDim\")', 'MaxdimList=(\"YDim\",\"XDim\")', 'CompressionType=HE5_HDFE_COMP_DEFLATE', 'DeflateLevel=5', 'END_OBJECT=DataField_4', 'OBJECT=DataField_5', 'DataFieldName=\"1', 'km', '16', 'days', 'red', 'reflectance\"', 'DataType=H5T_NATIVE_SHORT', 'DimList=(\"YDim\",\"XDim\")', 'MaxdimList=(\"YDim\",\"XDim\")', 'CompressionType=HE5_HDFE_COMP_DEFLATE', 'DeflateLevel=5', 'END_OBJECT=DataField_5', 'OBJECT=DataField_6', 'DataFieldName=\"1', 'km', '16', 'days', 'NIR', 'reflectance\"', 'DataType=H5T_NATIVE_SHORT', 'DimList=(\"YDim\",\"XDim\")', 'MaxdimList=(\"YDim\",\"XDim\")', 'CompressionType=HE5_HDFE_COMP_DEFLATE', 'DeflateLevel=5', 'END_OBJECT=DataField_6', 'OBJECT=DataField_7', 'DataFieldName=\"1', 'km', '16', 'days', 'blue', 'reflectance\"', 'DataType=H5T_NATIVE_SHORT', 'DimList=(\"YDim\",\"XDim\")', 'MaxdimList=(\"YDim\",\"XDim\")', 'CompressionType=HE5_HDFE_COMP_DEFLATE', 'DeflateLevel=5', 'END_OBJECT=DataField_7', 'OBJECT=DataField_8', 'DataFieldName=\"1', 'km', '16', 'days', 'green', 'reflectance\"', 'DataType=H5T_NATIVE_SHORT', 'DimList=(\"YDim\",\"XDim\")', 'MaxdimList=(\"YDim\",\"XDim\")', 'CompressionType=HE5_HDFE_COMP_DEFLATE', 'DeflateLevel=5', 'END_OBJECT=DataField_8', 'OBJECT=DataField_9', 'DataFieldName=\"1', 'km', '16', 'days', 'SWIR1', 'reflectance\"', 'DataType=H5T_NATIVE_SHORT', 'DimList=(\"YDim\",\"XDim\")', 'MaxdimList=(\"YDim\",\"XDim\")', 'CompressionType=HE5_HDFE_COMP_DEFLATE', 'DeflateLevel=5', 'END_OBJECT=DataField_9', 'OBJECT=DataField_10', 'DataFieldName=\"1', 'km', '16', 'days', 'SWIR2', 'reflectance\"', 'DataType=H5T_NATIVE_SHORT', 'DimList=(\"YDim\",\"XDim\")', 'MaxdimList=(\"YDim\",\"XDim\")', 'CompressionType=HE5_HDFE_COMP_DEFLATE', 'DeflateLevel=5', 'END_OBJECT=DataField_10', 'OBJECT=DataField_11', 'DataFieldName=\"1', 'km', '16', 'days', 'SWIR3', 'reflectance\"', 'DataType=H5T_NATIVE_SHORT', 'DimList=(\"YDim\",\"XDim\")', 'MaxdimList=(\"YDim\",\"XDim\")', 'CompressionType=HE5_HDFE_COMP_DEFLATE', 'DeflateLevel=5', 'END_OBJECT=DataField_11', 'OBJECT=DataField_12', 'DataFieldName=\"1', 'km', '16', 'days', 'view', 'zenith', 'angle\"', 'DataType=H5T_NATIVE_SHORT', 'DimList=(\"YDim\",\"XDim\")', 'MaxdimList=(\"YDim\",\"XDim\")', 'CompressionType=HE5_HDFE_COMP_DEFLATE', 'DeflateLevel=5', 'END_OBJECT=DataField_12', 'OBJECT=DataField_13', 'DataFieldName=\"1', 'km', '16', 'days', 'sun', 'zenith', 'angle\"', 'DataType=H5T_NATIVE_SHORT', 'DimList=(\"YDim\",\"XDim\")', 'MaxdimList=(\"YDim\",\"XDim\")', 'CompressionType=HE5_HDFE_COMP_DEFLATE', 'DeflateLevel=5', 'END_OBJECT=DataField_13', 'OBJECT=DataField_14', 'DataFieldName=\"1', 'km', '16', 'days', 'relative', 'azimuth', 'angle\"', 'DataType=H5T_NATIVE_SHORT', 'DimList=(\"YDim\",\"XDim\")', 'MaxdimList=(\"YDim\",\"XDim\")', 'CompressionType=HE5_HDFE_COMP_DEFLATE', 'DeflateLevel=5', 'END_OBJECT=DataField_14', 'OBJECT=DataField_15', 'DataFieldName=\"1', 'km', '16', 'days', 'composite', 'day', 'of', 'the', 'year\"', 'DataType=H5T_NATIVE_SHORT', 'DimList=(\"YDim\",\"XDim\")', 'MaxdimList=(\"YDim\",\"XDim\")', 'CompressionType=HE5_HDFE_COMP_DEFLATE', 'DeflateLevel=5', 'END_OBJECT=DataField_15', 'OBJECT=DataField_16', 'DataFieldName=\"1', 'km', '16', 'days', 'pixel', 'reliability\"', 'DataType=H5T_NATIVE_SCHAR', 'DimList=(\"YDim\",\"XDim\")', 'MaxdimList=(\"YDim\",\"XDim\")', 'CompressionType=HE5_HDFE_COMP_DEFLATE', 'DeflateLevel=5', 'END_OBJECT=DataField_16', 'OBJECT=DataField_17', 'DataFieldName=\"Projection\"', 'DataType=H5T_NATIVE_INT', 'DimList=(\"dimofone\")', 'MaxdimList=(\"dimofone\")', 'END_OBJECT=DataField_17', 'END_GROUP=DataField', 'GROUP=MergedFields', 'END_GROUP=MergedFields', 'END_GROUP=GRID_1', 'END_GROUP=GridStructure', 'GROUP=PointStructure', 'END_GROUP=PointStructure', 'GROUP=ZaStructure', 'END_GROUP=ZaStructure', 'END']\n",
      "Geoinfo: (-1111950.519667, 0, 8895604.157333, 0)\n",
      "Overall extent: (-11119505.196667, 0, 8895604.157333, 0)\n"
     ]
    },
    {
     "name": "stderr",
     "output_type": "stream",
     "text": [
      "c:\\Users\\cinfante\\OneDrive - NRCan RNCan\\Documents\\Greenup\\NASA-LPDAAC-Testing\\venv\\Lib\\site-packages\\urllib3\\connectionpool.py:1056: InsecureRequestWarning: Unverified HTTPS request is being made to host 'data.lpdaac.earthdatacloud.nasa.gov'. Adding certificate verification is strongly advised. See: https://urllib3.readthedocs.io/en/1.26.x/advanced-usage.html#ssl-warnings\n",
      "  warnings.warn(\n",
      "c:\\Users\\cinfante\\OneDrive - NRCan RNCan\\Documents\\Greenup\\NASA-LPDAAC-Testing\\venv\\Lib\\site-packages\\urllib3\\connectionpool.py:1056: InsecureRequestWarning: Unverified HTTPS request is being made to host 'urs.earthdata.nasa.gov'. Adding certificate verification is strongly advised. See: https://urllib3.readthedocs.io/en/1.26.x/advanced-usage.html#ssl-warnings\n",
      "  warnings.warn(\n",
      "c:\\Users\\cinfante\\OneDrive - NRCan RNCan\\Documents\\Greenup\\NASA-LPDAAC-Testing\\venv\\Lib\\site-packages\\urllib3\\connectionpool.py:1056: InsecureRequestWarning: Unverified HTTPS request is being made to host 'data.lpdaac.earthdatacloud.nasa.gov'. Adding certificate verification is strongly advised. See: https://urllib3.readthedocs.io/en/1.26.x/advanced-usage.html#ssl-warnings\n",
      "  warnings.warn(\n",
      "c:\\Users\\cinfante\\OneDrive - NRCan RNCan\\Documents\\Greenup\\NASA-LPDAAC-Testing\\venv\\Lib\\site-packages\\urllib3\\connectionpool.py:1056: InsecureRequestWarning: Unverified HTTPS request is being made to host 'data.lpdaac.earthdatacloud.nasa.gov'. Adding certificate verification is strongly advised. See: https://urllib3.readthedocs.io/en/1.26.x/advanced-usage.html#ssl-warnings\n",
      "  warnings.warn(\n",
      "c:\\Users\\cinfante\\OneDrive - NRCan RNCan\\Documents\\Greenup\\NASA-LPDAAC-Testing\\venv\\Lib\\site-packages\\urllib3\\connectionpool.py:1056: InsecureRequestWarning: Unverified HTTPS request is being made to host 'd1nklfio7vscoe.cloudfront.net'. Adding certificate verification is strongly advised. See: https://urllib3.readthedocs.io/en/1.26.x/advanced-usage.html#ssl-warnings\n",
      "  warnings.warn(\n"
     ]
    },
    {
     "name": "stdout",
     "output_type": "stream",
     "text": [
      "{'type': 'Feature', 'id': 'VNP13A2.A2023201.h12v02.002.2023242143402', 'stac_version': '1.0.0', 'stac_extensions': [], 'collection': 'VNP13A2.v002', 'geometry': {'type': 'Polygon', 'coordinates': [[[-124.4071, 59.0509], [-94.8654, 59.2608], [-114.543, 67.6076], [136.0702, 56.5412], [-124.4071, 59.0509]]]}, 'bbox': [136.0702, 56.5412, -94.8654, 73.855573], 'links': [{'rel': 'self', 'href': 'https://cmr.earthdata.nasa.gov/stac/LPCLOUD/collections/VNP13A2.v002/items/VNP13A2.A2023201.h12v02.002.2023242143402'}, {'rel': 'parent', 'href': 'https://cmr.earthdata.nasa.gov/stac/LPCLOUD/collections/VNP13A2.v002'}, {'rel': 'collection', 'href': 'https://cmr.earthdata.nasa.gov/stac/LPCLOUD/collections/VNP13A2.v002'}, {'rel': 'root', 'href': 'https://cmr.earthdata.nasa.gov/stac/'}, {'rel': 'provider', 'href': 'https://cmr.earthdata.nasa.gov/stac/LPCLOUD'}, {'rel': 'via', 'href': 'https://cmr.earthdata.nasa.gov/search/concepts/G2758989534-LPCLOUD.json'}, {'rel': 'via', 'href': 'https://cmr.earthdata.nasa.gov/search/concepts/G2758989534-LPCLOUD.umm_json'}], 'properties': {'datetime': '2023-07-20T00:00:00.000Z', 'start_datetime': '2023-07-20T00:00:00.000Z', 'end_datetime': '2023-08-04T23:59:59.000Z'}, 'assets': {'data': {'href': 'https://data.lpdaac.earthdatacloud.nasa.gov/lp-prod-protected/VNP13A2.002/VNP13A2.A2023201.h12v02.002.2023242143402/VNP13A2.A2023201.h12v02.002.2023242143402.h5', 'title': 'Download VNP13A2.A2023201.h12v02.002.2023242143402.h5'}, 'browse': {'href': 'https://data.lpdaac.earthdatacloud.nasa.gov/lp-prod-public/VNP13A2.002/VNP13A2.A2023201.h12v02.002.2023242143402/BROWSE.VNP13A2.A2023201.h12v02.002.2023242143402.1.jpg', 'type': 'image/jpeg', 'title': 'Download BROWSE.VNP13A2.A2023201.h12v02.002.2023242143402.1.jpg'}, 'opendap': {'href': 'https://opendap.earthdata.nasa.gov/collections/C2519127613-LPCLOUD/granules/VNP13A2.A2023201.h12v02.002.2023242143402', 'title': 'OPeNDAP request URL (GET DATA : OPENDAP DATA)'}, 'metadata': {'href': 'https://cmr.earthdata.nasa.gov/search/concepts/G2758989534-LPCLOUD.xml', 'type': 'application/xml'}}}\n",
      "Metadata: ['GROUP=SwathStructure', 'END_GROUP=SwathStructure', 'GROUP=GridStructure', 'GROUP=GRID_1', 'GridName=\"VIIRS_Grid_16Day_VI_1km\"', 'XDim=1200', 'YDim=1200', 'UpperLeftPointMtrs=(-6671703.118000,7783653.637667)', 'LowerRightMtrs=(-5559752.598333,6671703.118000)', 'Projection=HE5_GCTP_SNSOID', 'ProjParams=(6371007.181000,0,0,0,0,0,0,0,0,0,0,0,0)', 'SphereCode=-1', 'GROUP=Dimension', 'OBJECT=Dimension_1', 'DimensionName=\"dimofone\"', 'Size=1', 'END_OBJECT=Dimension_1', 'END_GROUP=Dimension', 'GROUP=DataField', 'OBJECT=DataField_1', 'DataFieldName=\"1', 'km', '16', 'days', 'NDVI\"', 'DataType=H5T_NATIVE_SHORT', 'DimList=(\"YDim\",\"XDim\")', 'MaxdimList=(\"YDim\",\"XDim\")', 'CompressionType=HE5_HDFE_COMP_DEFLATE', 'DeflateLevel=5', 'END_OBJECT=DataField_1', 'OBJECT=DataField_2', 'DataFieldName=\"1', 'km', '16', 'days', 'EVI\"', 'DataType=H5T_NATIVE_SHORT', 'DimList=(\"YDim\",\"XDim\")', 'MaxdimList=(\"YDim\",\"XDim\")', 'CompressionType=HE5_HDFE_COMP_DEFLATE', 'DeflateLevel=5', 'END_OBJECT=DataField_2', 'OBJECT=DataField_3', 'DataFieldName=\"1', 'km', '16', 'days', 'EVI2\"', 'DataType=H5T_NATIVE_SHORT', 'DimList=(\"YDim\",\"XDim\")', 'MaxdimList=(\"YDim\",\"XDim\")', 'CompressionType=HE5_HDFE_COMP_DEFLATE', 'DeflateLevel=5', 'END_OBJECT=DataField_3', 'OBJECT=DataField_4', 'DataFieldName=\"1', 'km', '16', 'days', 'VI', 'Quality\"', 'DataType=H5T_NATIVE_USHORT', 'DimList=(\"YDim\",\"XDim\")', 'MaxdimList=(\"YDim\",\"XDim\")', 'CompressionType=HE5_HDFE_COMP_DEFLATE', 'DeflateLevel=5', 'END_OBJECT=DataField_4', 'OBJECT=DataField_5', 'DataFieldName=\"1', 'km', '16', 'days', 'red', 'reflectance\"', 'DataType=H5T_NATIVE_SHORT', 'DimList=(\"YDim\",\"XDim\")', 'MaxdimList=(\"YDim\",\"XDim\")', 'CompressionType=HE5_HDFE_COMP_DEFLATE', 'DeflateLevel=5', 'END_OBJECT=DataField_5', 'OBJECT=DataField_6', 'DataFieldName=\"1', 'km', '16', 'days', 'NIR', 'reflectance\"', 'DataType=H5T_NATIVE_SHORT', 'DimList=(\"YDim\",\"XDim\")', 'MaxdimList=(\"YDim\",\"XDim\")', 'CompressionType=HE5_HDFE_COMP_DEFLATE', 'DeflateLevel=5', 'END_OBJECT=DataField_6', 'OBJECT=DataField_7', 'DataFieldName=\"1', 'km', '16', 'days', 'blue', 'reflectance\"', 'DataType=H5T_NATIVE_SHORT', 'DimList=(\"YDim\",\"XDim\")', 'MaxdimList=(\"YDim\",\"XDim\")', 'CompressionType=HE5_HDFE_COMP_DEFLATE', 'DeflateLevel=5', 'END_OBJECT=DataField_7', 'OBJECT=DataField_8', 'DataFieldName=\"1', 'km', '16', 'days', 'green', 'reflectance\"', 'DataType=H5T_NATIVE_SHORT', 'DimList=(\"YDim\",\"XDim\")', 'MaxdimList=(\"YDim\",\"XDim\")', 'CompressionType=HE5_HDFE_COMP_DEFLATE', 'DeflateLevel=5', 'END_OBJECT=DataField_8', 'OBJECT=DataField_9', 'DataFieldName=\"1', 'km', '16', 'days', 'SWIR1', 'reflectance\"', 'DataType=H5T_NATIVE_SHORT', 'DimList=(\"YDim\",\"XDim\")', 'MaxdimList=(\"YDim\",\"XDim\")', 'CompressionType=HE5_HDFE_COMP_DEFLATE', 'DeflateLevel=5', 'END_OBJECT=DataField_9', 'OBJECT=DataField_10', 'DataFieldName=\"1', 'km', '16', 'days', 'SWIR2', 'reflectance\"', 'DataType=H5T_NATIVE_SHORT', 'DimList=(\"YDim\",\"XDim\")', 'MaxdimList=(\"YDim\",\"XDim\")', 'CompressionType=HE5_HDFE_COMP_DEFLATE', 'DeflateLevel=5', 'END_OBJECT=DataField_10', 'OBJECT=DataField_11', 'DataFieldName=\"1', 'km', '16', 'days', 'SWIR3', 'reflectance\"', 'DataType=H5T_NATIVE_SHORT', 'DimList=(\"YDim\",\"XDim\")', 'MaxdimList=(\"YDim\",\"XDim\")', 'CompressionType=HE5_HDFE_COMP_DEFLATE', 'DeflateLevel=5', 'END_OBJECT=DataField_11', 'OBJECT=DataField_12', 'DataFieldName=\"1', 'km', '16', 'days', 'view', 'zenith', 'angle\"', 'DataType=H5T_NATIVE_SHORT', 'DimList=(\"YDim\",\"XDim\")', 'MaxdimList=(\"YDim\",\"XDim\")', 'CompressionType=HE5_HDFE_COMP_DEFLATE', 'DeflateLevel=5', 'END_OBJECT=DataField_12', 'OBJECT=DataField_13', 'DataFieldName=\"1', 'km', '16', 'days', 'sun', 'zenith', 'angle\"', 'DataType=H5T_NATIVE_SHORT', 'DimList=(\"YDim\",\"XDim\")', 'MaxdimList=(\"YDim\",\"XDim\")', 'CompressionType=HE5_HDFE_COMP_DEFLATE', 'DeflateLevel=5', 'END_OBJECT=DataField_13', 'OBJECT=DataField_14', 'DataFieldName=\"1', 'km', '16', 'days', 'relative', 'azimuth', 'angle\"', 'DataType=H5T_NATIVE_SHORT', 'DimList=(\"YDim\",\"XDim\")', 'MaxdimList=(\"YDim\",\"XDim\")', 'CompressionType=HE5_HDFE_COMP_DEFLATE', 'DeflateLevel=5', 'END_OBJECT=DataField_14', 'OBJECT=DataField_15', 'DataFieldName=\"1', 'km', '16', 'days', 'composite', 'day', 'of', 'the', 'year\"', 'DataType=H5T_NATIVE_SHORT', 'DimList=(\"YDim\",\"XDim\")', 'MaxdimList=(\"YDim\",\"XDim\")', 'CompressionType=HE5_HDFE_COMP_DEFLATE', 'DeflateLevel=5', 'END_OBJECT=DataField_15', 'OBJECT=DataField_16', 'DataFieldName=\"1', 'km', '16', 'days', 'pixel', 'reliability\"', 'DataType=H5T_NATIVE_SCHAR', 'DimList=(\"YDim\",\"XDim\")', 'MaxdimList=(\"YDim\",\"XDim\")', 'CompressionType=HE5_HDFE_COMP_DEFLATE', 'DeflateLevel=5', 'END_OBJECT=DataField_16', 'OBJECT=DataField_17', 'DataFieldName=\"Projection\"', 'DataType=H5T_NATIVE_INT', 'DimList=(\"dimofone\")', 'MaxdimList=(\"dimofone\")', 'END_OBJECT=DataField_17', 'END_GROUP=DataField', 'GROUP=MergedFields', 'END_GROUP=MergedFields', 'END_GROUP=GRID_1', 'END_GROUP=GridStructure', 'GROUP=PointStructure', 'END_GROUP=PointStructure', 'GROUP=ZaStructure', 'END_GROUP=ZaStructure', 'END']\n",
      "Geoinfo: (-6671703.118, 0, 7783653.637667, 0)\n",
      "Overall extent: (-11119505.196667, 0, 8895604.157333, 0)\n"
     ]
    },
    {
     "name": "stderr",
     "output_type": "stream",
     "text": [
      "c:\\Users\\cinfante\\OneDrive - NRCan RNCan\\Documents\\Greenup\\NASA-LPDAAC-Testing\\venv\\Lib\\site-packages\\urllib3\\connectionpool.py:1056: InsecureRequestWarning: Unverified HTTPS request is being made to host 'data.lpdaac.earthdatacloud.nasa.gov'. Adding certificate verification is strongly advised. See: https://urllib3.readthedocs.io/en/1.26.x/advanced-usage.html#ssl-warnings\n",
      "  warnings.warn(\n",
      "c:\\Users\\cinfante\\OneDrive - NRCan RNCan\\Documents\\Greenup\\NASA-LPDAAC-Testing\\venv\\Lib\\site-packages\\urllib3\\connectionpool.py:1056: InsecureRequestWarning: Unverified HTTPS request is being made to host 'urs.earthdata.nasa.gov'. Adding certificate verification is strongly advised. See: https://urllib3.readthedocs.io/en/1.26.x/advanced-usage.html#ssl-warnings\n",
      "  warnings.warn(\n",
      "c:\\Users\\cinfante\\OneDrive - NRCan RNCan\\Documents\\Greenup\\NASA-LPDAAC-Testing\\venv\\Lib\\site-packages\\urllib3\\connectionpool.py:1056: InsecureRequestWarning: Unverified HTTPS request is being made to host 'data.lpdaac.earthdatacloud.nasa.gov'. Adding certificate verification is strongly advised. See: https://urllib3.readthedocs.io/en/1.26.x/advanced-usage.html#ssl-warnings\n",
      "  warnings.warn(\n",
      "c:\\Users\\cinfante\\OneDrive - NRCan RNCan\\Documents\\Greenup\\NASA-LPDAAC-Testing\\venv\\Lib\\site-packages\\urllib3\\connectionpool.py:1056: InsecureRequestWarning: Unverified HTTPS request is being made to host 'data.lpdaac.earthdatacloud.nasa.gov'. Adding certificate verification is strongly advised. See: https://urllib3.readthedocs.io/en/1.26.x/advanced-usage.html#ssl-warnings\n",
      "  warnings.warn(\n",
      "c:\\Users\\cinfante\\OneDrive - NRCan RNCan\\Documents\\Greenup\\NASA-LPDAAC-Testing\\venv\\Lib\\site-packages\\urllib3\\connectionpool.py:1056: InsecureRequestWarning: Unverified HTTPS request is being made to host 'd1nklfio7vscoe.cloudfront.net'. Adding certificate verification is strongly advised. See: https://urllib3.readthedocs.io/en/1.26.x/advanced-usage.html#ssl-warnings\n",
      "  warnings.warn(\n"
     ]
    },
    {
     "ename": "KeyboardInterrupt",
     "evalue": "",
     "output_type": "error",
     "traceback": [
      "\u001b[1;31m---------------------------------------------------------------------------\u001b[0m",
      "\u001b[1;31mKeyboardInterrupt\u001b[0m                         Traceback (most recent call last)",
      "Cell \u001b[1;32mIn[8], line 38\u001b[0m\n\u001b[0;32m     36\u001b[0m \u001b[39mwith\u001b[39;00m requests\u001b[39m.\u001b[39mSession() \u001b[39mas\u001b[39;00m session:\n\u001b[0;32m     37\u001b[0m     session\u001b[39m.\u001b[39mauth \u001b[39m=\u001b[39m (username, password)\n\u001b[1;32m---> 38\u001b[0m     response \u001b[39m=\u001b[39m session\u001b[39m.\u001b[39;49mget(item_url[\u001b[39m'\u001b[39;49m\u001b[39massets\u001b[39;49m\u001b[39m'\u001b[39;49m][\u001b[39m'\u001b[39;49m\u001b[39mdata\u001b[39;49m\u001b[39m'\u001b[39;49m][\u001b[39m'\u001b[39;49m\u001b[39mhref\u001b[39;49m\u001b[39m'\u001b[39;49m], verify\u001b[39m=\u001b[39;49m\u001b[39mFalse\u001b[39;49;00m)\n\u001b[0;32m     39\u001b[0m     \u001b[39mprint\u001b[39m(item_url)\n\u001b[0;32m     41\u001b[0m     \u001b[39mif\u001b[39;00m response\u001b[39m.\u001b[39mstatus_code \u001b[39m==\u001b[39m \u001b[39m200\u001b[39m:\n",
      "File \u001b[1;32mc:\\Users\\cinfante\\OneDrive - NRCan RNCan\\Documents\\Greenup\\NASA-LPDAAC-Testing\\venv\\Lib\\site-packages\\requests\\sessions.py:602\u001b[0m, in \u001b[0;36mSession.get\u001b[1;34m(self, url, **kwargs)\u001b[0m\n\u001b[0;32m    594\u001b[0m \u001b[39m\u001b[39m\u001b[39mr\u001b[39m\u001b[39m\"\"\"Sends a GET request. Returns :class:`Response` object.\u001b[39;00m\n\u001b[0;32m    595\u001b[0m \n\u001b[0;32m    596\u001b[0m \u001b[39m:param url: URL for the new :class:`Request` object.\u001b[39;00m\n\u001b[0;32m    597\u001b[0m \u001b[39m:param \\*\\*kwargs: Optional arguments that ``request`` takes.\u001b[39;00m\n\u001b[0;32m    598\u001b[0m \u001b[39m:rtype: requests.Response\u001b[39;00m\n\u001b[0;32m    599\u001b[0m \u001b[39m\"\"\"\u001b[39;00m\n\u001b[0;32m    601\u001b[0m kwargs\u001b[39m.\u001b[39msetdefault(\u001b[39m\"\u001b[39m\u001b[39mallow_redirects\u001b[39m\u001b[39m\"\u001b[39m, \u001b[39mTrue\u001b[39;00m)\n\u001b[1;32m--> 602\u001b[0m \u001b[39mreturn\u001b[39;00m \u001b[39mself\u001b[39;49m\u001b[39m.\u001b[39;49mrequest(\u001b[39m\"\u001b[39;49m\u001b[39mGET\u001b[39;49m\u001b[39m\"\u001b[39;49m, url, \u001b[39m*\u001b[39;49m\u001b[39m*\u001b[39;49mkwargs)\n",
      "File \u001b[1;32mc:\\Users\\cinfante\\OneDrive - NRCan RNCan\\Documents\\Greenup\\NASA-LPDAAC-Testing\\venv\\Lib\\site-packages\\requests\\sessions.py:589\u001b[0m, in \u001b[0;36mSession.request\u001b[1;34m(self, method, url, params, data, headers, cookies, files, auth, timeout, allow_redirects, proxies, hooks, stream, verify, cert, json)\u001b[0m\n\u001b[0;32m    584\u001b[0m send_kwargs \u001b[39m=\u001b[39m {\n\u001b[0;32m    585\u001b[0m     \u001b[39m\"\u001b[39m\u001b[39mtimeout\u001b[39m\u001b[39m\"\u001b[39m: timeout,\n\u001b[0;32m    586\u001b[0m     \u001b[39m\"\u001b[39m\u001b[39mallow_redirects\u001b[39m\u001b[39m\"\u001b[39m: allow_redirects,\n\u001b[0;32m    587\u001b[0m }\n\u001b[0;32m    588\u001b[0m send_kwargs\u001b[39m.\u001b[39mupdate(settings)\n\u001b[1;32m--> 589\u001b[0m resp \u001b[39m=\u001b[39m \u001b[39mself\u001b[39;49m\u001b[39m.\u001b[39;49msend(prep, \u001b[39m*\u001b[39;49m\u001b[39m*\u001b[39;49msend_kwargs)\n\u001b[0;32m    591\u001b[0m \u001b[39mreturn\u001b[39;00m resp\n",
      "File \u001b[1;32mc:\\Users\\cinfante\\OneDrive - NRCan RNCan\\Documents\\Greenup\\NASA-LPDAAC-Testing\\venv\\Lib\\site-packages\\requests\\sessions.py:725\u001b[0m, in \u001b[0;36mSession.send\u001b[1;34m(self, request, **kwargs)\u001b[0m\n\u001b[0;32m    722\u001b[0m \u001b[39mif\u001b[39;00m allow_redirects:\n\u001b[0;32m    723\u001b[0m     \u001b[39m# Redirect resolving generator.\u001b[39;00m\n\u001b[0;32m    724\u001b[0m     gen \u001b[39m=\u001b[39m \u001b[39mself\u001b[39m\u001b[39m.\u001b[39mresolve_redirects(r, request, \u001b[39m*\u001b[39m\u001b[39m*\u001b[39mkwargs)\n\u001b[1;32m--> 725\u001b[0m     history \u001b[39m=\u001b[39m [resp \u001b[39mfor\u001b[39;49;00m resp \u001b[39min\u001b[39;49;00m gen]\n\u001b[0;32m    726\u001b[0m \u001b[39melse\u001b[39;00m:\n\u001b[0;32m    727\u001b[0m     history \u001b[39m=\u001b[39m []\n",
      "File \u001b[1;32mc:\\Users\\cinfante\\OneDrive - NRCan RNCan\\Documents\\Greenup\\NASA-LPDAAC-Testing\\venv\\Lib\\site-packages\\requests\\sessions.py:725\u001b[0m, in \u001b[0;36m<listcomp>\u001b[1;34m(.0)\u001b[0m\n\u001b[0;32m    722\u001b[0m \u001b[39mif\u001b[39;00m allow_redirects:\n\u001b[0;32m    723\u001b[0m     \u001b[39m# Redirect resolving generator.\u001b[39;00m\n\u001b[0;32m    724\u001b[0m     gen \u001b[39m=\u001b[39m \u001b[39mself\u001b[39m\u001b[39m.\u001b[39mresolve_redirects(r, request, \u001b[39m*\u001b[39m\u001b[39m*\u001b[39mkwargs)\n\u001b[1;32m--> 725\u001b[0m     history \u001b[39m=\u001b[39m [resp \u001b[39mfor\u001b[39;00m resp \u001b[39min\u001b[39;00m gen]\n\u001b[0;32m    726\u001b[0m \u001b[39melse\u001b[39;00m:\n\u001b[0;32m    727\u001b[0m     history \u001b[39m=\u001b[39m []\n",
      "File \u001b[1;32mc:\\Users\\cinfante\\OneDrive - NRCan RNCan\\Documents\\Greenup\\NASA-LPDAAC-Testing\\venv\\Lib\\site-packages\\requests\\sessions.py:266\u001b[0m, in \u001b[0;36mSessionRedirectMixin.resolve_redirects\u001b[1;34m(self, resp, req, stream, timeout, verify, cert, proxies, yield_requests, **adapter_kwargs)\u001b[0m\n\u001b[0;32m    263\u001b[0m     \u001b[39myield\u001b[39;00m req\n\u001b[0;32m    264\u001b[0m \u001b[39melse\u001b[39;00m:\n\u001b[1;32m--> 266\u001b[0m     resp \u001b[39m=\u001b[39m \u001b[39mself\u001b[39;49m\u001b[39m.\u001b[39;49msend(\n\u001b[0;32m    267\u001b[0m         req,\n\u001b[0;32m    268\u001b[0m         stream\u001b[39m=\u001b[39;49mstream,\n\u001b[0;32m    269\u001b[0m         timeout\u001b[39m=\u001b[39;49mtimeout,\n\u001b[0;32m    270\u001b[0m         verify\u001b[39m=\u001b[39;49mverify,\n\u001b[0;32m    271\u001b[0m         cert\u001b[39m=\u001b[39;49mcert,\n\u001b[0;32m    272\u001b[0m         proxies\u001b[39m=\u001b[39;49mproxies,\n\u001b[0;32m    273\u001b[0m         allow_redirects\u001b[39m=\u001b[39;49m\u001b[39mFalse\u001b[39;49;00m,\n\u001b[0;32m    274\u001b[0m         \u001b[39m*\u001b[39;49m\u001b[39m*\u001b[39;49madapter_kwargs,\n\u001b[0;32m    275\u001b[0m     )\n\u001b[0;32m    277\u001b[0m     extract_cookies_to_jar(\u001b[39mself\u001b[39m\u001b[39m.\u001b[39mcookies, prepared_request, resp\u001b[39m.\u001b[39mraw)\n\u001b[0;32m    279\u001b[0m     \u001b[39m# extract redirect url, if any, for the next loop\u001b[39;00m\n",
      "File \u001b[1;32mc:\\Users\\cinfante\\OneDrive - NRCan RNCan\\Documents\\Greenup\\NASA-LPDAAC-Testing\\venv\\Lib\\site-packages\\requests\\sessions.py:747\u001b[0m, in \u001b[0;36mSession.send\u001b[1;34m(self, request, **kwargs)\u001b[0m\n\u001b[0;32m    744\u001b[0m         \u001b[39mpass\u001b[39;00m\n\u001b[0;32m    746\u001b[0m \u001b[39mif\u001b[39;00m \u001b[39mnot\u001b[39;00m stream:\n\u001b[1;32m--> 747\u001b[0m     r\u001b[39m.\u001b[39;49mcontent\n\u001b[0;32m    749\u001b[0m \u001b[39mreturn\u001b[39;00m r\n",
      "File \u001b[1;32mc:\\Users\\cinfante\\OneDrive - NRCan RNCan\\Documents\\Greenup\\NASA-LPDAAC-Testing\\venv\\Lib\\site-packages\\requests\\models.py:899\u001b[0m, in \u001b[0;36mResponse.content\u001b[1;34m(self)\u001b[0m\n\u001b[0;32m    897\u001b[0m         \u001b[39mself\u001b[39m\u001b[39m.\u001b[39m_content \u001b[39m=\u001b[39m \u001b[39mNone\u001b[39;00m\n\u001b[0;32m    898\u001b[0m     \u001b[39melse\u001b[39;00m:\n\u001b[1;32m--> 899\u001b[0m         \u001b[39mself\u001b[39m\u001b[39m.\u001b[39m_content \u001b[39m=\u001b[39m \u001b[39mb\u001b[39m\u001b[39m\"\u001b[39m\u001b[39m\"\u001b[39m\u001b[39m.\u001b[39mjoin(\u001b[39mself\u001b[39m\u001b[39m.\u001b[39miter_content(CONTENT_CHUNK_SIZE)) \u001b[39mor\u001b[39;00m \u001b[39mb\u001b[39m\u001b[39m\"\u001b[39m\u001b[39m\"\u001b[39m\n\u001b[0;32m    901\u001b[0m \u001b[39mself\u001b[39m\u001b[39m.\u001b[39m_content_consumed \u001b[39m=\u001b[39m \u001b[39mTrue\u001b[39;00m\n\u001b[0;32m    902\u001b[0m \u001b[39m# don't need to release the connection; that's been handled by urllib3\u001b[39;00m\n\u001b[0;32m    903\u001b[0m \u001b[39m# since we exhausted the data.\u001b[39;00m\n",
      "File \u001b[1;32mc:\\Users\\cinfante\\OneDrive - NRCan RNCan\\Documents\\Greenup\\NASA-LPDAAC-Testing\\venv\\Lib\\site-packages\\requests\\models.py:816\u001b[0m, in \u001b[0;36mResponse.iter_content.<locals>.generate\u001b[1;34m()\u001b[0m\n\u001b[0;32m    814\u001b[0m \u001b[39mif\u001b[39;00m \u001b[39mhasattr\u001b[39m(\u001b[39mself\u001b[39m\u001b[39m.\u001b[39mraw, \u001b[39m\"\u001b[39m\u001b[39mstream\u001b[39m\u001b[39m\"\u001b[39m):\n\u001b[0;32m    815\u001b[0m     \u001b[39mtry\u001b[39;00m:\n\u001b[1;32m--> 816\u001b[0m         \u001b[39myield from\u001b[39;00m \u001b[39mself\u001b[39m\u001b[39m.\u001b[39mraw\u001b[39m.\u001b[39mstream(chunk_size, decode_content\u001b[39m=\u001b[39m\u001b[39mTrue\u001b[39;00m)\n\u001b[0;32m    817\u001b[0m     \u001b[39mexcept\u001b[39;00m ProtocolError \u001b[39mas\u001b[39;00m e:\n\u001b[0;32m    818\u001b[0m         \u001b[39mraise\u001b[39;00m ChunkedEncodingError(e)\n",
      "File \u001b[1;32mc:\\Users\\cinfante\\OneDrive - NRCan RNCan\\Documents\\Greenup\\NASA-LPDAAC-Testing\\venv\\Lib\\site-packages\\urllib3\\response.py:628\u001b[0m, in \u001b[0;36mHTTPResponse.stream\u001b[1;34m(self, amt, decode_content)\u001b[0m\n\u001b[0;32m    626\u001b[0m \u001b[39melse\u001b[39;00m:\n\u001b[0;32m    627\u001b[0m     \u001b[39mwhile\u001b[39;00m \u001b[39mnot\u001b[39;00m is_fp_closed(\u001b[39mself\u001b[39m\u001b[39m.\u001b[39m_fp):\n\u001b[1;32m--> 628\u001b[0m         data \u001b[39m=\u001b[39m \u001b[39mself\u001b[39;49m\u001b[39m.\u001b[39;49mread(amt\u001b[39m=\u001b[39;49mamt, decode_content\u001b[39m=\u001b[39;49mdecode_content)\n\u001b[0;32m    630\u001b[0m         \u001b[39mif\u001b[39;00m data:\n\u001b[0;32m    631\u001b[0m             \u001b[39myield\u001b[39;00m data\n",
      "File \u001b[1;32mc:\\Users\\cinfante\\OneDrive - NRCan RNCan\\Documents\\Greenup\\NASA-LPDAAC-Testing\\venv\\Lib\\site-packages\\urllib3\\response.py:567\u001b[0m, in \u001b[0;36mHTTPResponse.read\u001b[1;34m(self, amt, decode_content, cache_content)\u001b[0m\n\u001b[0;32m    564\u001b[0m fp_closed \u001b[39m=\u001b[39m \u001b[39mgetattr\u001b[39m(\u001b[39mself\u001b[39m\u001b[39m.\u001b[39m_fp, \u001b[39m\"\u001b[39m\u001b[39mclosed\u001b[39m\u001b[39m\"\u001b[39m, \u001b[39mFalse\u001b[39;00m)\n\u001b[0;32m    566\u001b[0m \u001b[39mwith\u001b[39;00m \u001b[39mself\u001b[39m\u001b[39m.\u001b[39m_error_catcher():\n\u001b[1;32m--> 567\u001b[0m     data \u001b[39m=\u001b[39m \u001b[39mself\u001b[39;49m\u001b[39m.\u001b[39;49m_fp_read(amt) \u001b[39mif\u001b[39;00m \u001b[39mnot\u001b[39;00m fp_closed \u001b[39melse\u001b[39;00m \u001b[39mb\u001b[39m\u001b[39m\"\u001b[39m\u001b[39m\"\u001b[39m\n\u001b[0;32m    568\u001b[0m     \u001b[39mif\u001b[39;00m amt \u001b[39mis\u001b[39;00m \u001b[39mNone\u001b[39;00m:\n\u001b[0;32m    569\u001b[0m         flush_decoder \u001b[39m=\u001b[39m \u001b[39mTrue\u001b[39;00m\n",
      "File \u001b[1;32mc:\\Users\\cinfante\\OneDrive - NRCan RNCan\\Documents\\Greenup\\NASA-LPDAAC-Testing\\venv\\Lib\\site-packages\\urllib3\\response.py:533\u001b[0m, in \u001b[0;36mHTTPResponse._fp_read\u001b[1;34m(self, amt)\u001b[0m\n\u001b[0;32m    530\u001b[0m     \u001b[39mreturn\u001b[39;00m buffer\u001b[39m.\u001b[39mgetvalue()\n\u001b[0;32m    531\u001b[0m \u001b[39melse\u001b[39;00m:\n\u001b[0;32m    532\u001b[0m     \u001b[39m# StringIO doesn't like amt=None\u001b[39;00m\n\u001b[1;32m--> 533\u001b[0m     \u001b[39mreturn\u001b[39;00m \u001b[39mself\u001b[39;49m\u001b[39m.\u001b[39;49m_fp\u001b[39m.\u001b[39;49mread(amt) \u001b[39mif\u001b[39;00m amt \u001b[39mis\u001b[39;00m \u001b[39mnot\u001b[39;00m \u001b[39mNone\u001b[39;00m \u001b[39melse\u001b[39;00m \u001b[39mself\u001b[39m\u001b[39m.\u001b[39m_fp\u001b[39m.\u001b[39mread()\n",
      "File \u001b[1;32m~\\AppData\\Local\\Programs\\Python\\Python311\\Lib\\http\\client.py:466\u001b[0m, in \u001b[0;36mHTTPResponse.read\u001b[1;34m(self, amt)\u001b[0m\n\u001b[0;32m    463\u001b[0m \u001b[39mif\u001b[39;00m \u001b[39mself\u001b[39m\u001b[39m.\u001b[39mlength \u001b[39mis\u001b[39;00m \u001b[39mnot\u001b[39;00m \u001b[39mNone\u001b[39;00m \u001b[39mand\u001b[39;00m amt \u001b[39m>\u001b[39m \u001b[39mself\u001b[39m\u001b[39m.\u001b[39mlength:\n\u001b[0;32m    464\u001b[0m     \u001b[39m# clip the read to the \"end of response\"\u001b[39;00m\n\u001b[0;32m    465\u001b[0m     amt \u001b[39m=\u001b[39m \u001b[39mself\u001b[39m\u001b[39m.\u001b[39mlength\n\u001b[1;32m--> 466\u001b[0m s \u001b[39m=\u001b[39m \u001b[39mself\u001b[39m\u001b[39m.\u001b[39mfp\u001b[39m.\u001b[39mread(amt)\n\u001b[0;32m    467\u001b[0m \u001b[39mif\u001b[39;00m \u001b[39mnot\u001b[39;00m s \u001b[39mand\u001b[39;00m amt:\n\u001b[0;32m    468\u001b[0m     \u001b[39m# Ideally, we would raise IncompleteRead if the content-length\u001b[39;00m\n\u001b[0;32m    469\u001b[0m     \u001b[39m# wasn't satisfied, but it might break compatibility.\u001b[39;00m\n\u001b[0;32m    470\u001b[0m     \u001b[39mself\u001b[39m\u001b[39m.\u001b[39m_close_conn()\n",
      "File \u001b[1;32m~\\AppData\\Local\\Programs\\Python\\Python311\\Lib\\socket.py:706\u001b[0m, in \u001b[0;36mSocketIO.readinto\u001b[1;34m(self, b)\u001b[0m\n\u001b[0;32m    704\u001b[0m \u001b[39mwhile\u001b[39;00m \u001b[39mTrue\u001b[39;00m:\n\u001b[0;32m    705\u001b[0m     \u001b[39mtry\u001b[39;00m:\n\u001b[1;32m--> 706\u001b[0m         \u001b[39mreturn\u001b[39;00m \u001b[39mself\u001b[39;49m\u001b[39m.\u001b[39;49m_sock\u001b[39m.\u001b[39;49mrecv_into(b)\n\u001b[0;32m    707\u001b[0m     \u001b[39mexcept\u001b[39;00m timeout:\n\u001b[0;32m    708\u001b[0m         \u001b[39mself\u001b[39m\u001b[39m.\u001b[39m_timeout_occurred \u001b[39m=\u001b[39m \u001b[39mTrue\u001b[39;00m\n",
      "File \u001b[1;32m~\\AppData\\Local\\Programs\\Python\\Python311\\Lib\\ssl.py:1278\u001b[0m, in \u001b[0;36mSSLSocket.recv_into\u001b[1;34m(self, buffer, nbytes, flags)\u001b[0m\n\u001b[0;32m   1274\u001b[0m     \u001b[39mif\u001b[39;00m flags \u001b[39m!=\u001b[39m \u001b[39m0\u001b[39m:\n\u001b[0;32m   1275\u001b[0m         \u001b[39mraise\u001b[39;00m \u001b[39mValueError\u001b[39;00m(\n\u001b[0;32m   1276\u001b[0m           \u001b[39m\"\u001b[39m\u001b[39mnon-zero flags not allowed in calls to recv_into() on \u001b[39m\u001b[39m%s\u001b[39;00m\u001b[39m\"\u001b[39m \u001b[39m%\u001b[39m\n\u001b[0;32m   1277\u001b[0m           \u001b[39mself\u001b[39m\u001b[39m.\u001b[39m\u001b[39m__class__\u001b[39m)\n\u001b[1;32m-> 1278\u001b[0m     \u001b[39mreturn\u001b[39;00m \u001b[39mself\u001b[39;49m\u001b[39m.\u001b[39;49mread(nbytes, buffer)\n\u001b[0;32m   1279\u001b[0m \u001b[39melse\u001b[39;00m:\n\u001b[0;32m   1280\u001b[0m     \u001b[39mreturn\u001b[39;00m \u001b[39msuper\u001b[39m()\u001b[39m.\u001b[39mrecv_into(buffer, nbytes, flags)\n",
      "File \u001b[1;32m~\\AppData\\Local\\Programs\\Python\\Python311\\Lib\\ssl.py:1134\u001b[0m, in \u001b[0;36mSSLSocket.read\u001b[1;34m(self, len, buffer)\u001b[0m\n\u001b[0;32m   1132\u001b[0m \u001b[39mtry\u001b[39;00m:\n\u001b[0;32m   1133\u001b[0m     \u001b[39mif\u001b[39;00m buffer \u001b[39mis\u001b[39;00m \u001b[39mnot\u001b[39;00m \u001b[39mNone\u001b[39;00m:\n\u001b[1;32m-> 1134\u001b[0m         \u001b[39mreturn\u001b[39;00m \u001b[39mself\u001b[39;49m\u001b[39m.\u001b[39;49m_sslobj\u001b[39m.\u001b[39;49mread(\u001b[39mlen\u001b[39;49m, buffer)\n\u001b[0;32m   1135\u001b[0m     \u001b[39melse\u001b[39;00m:\n\u001b[0;32m   1136\u001b[0m         \u001b[39mreturn\u001b[39;00m \u001b[39mself\u001b[39m\u001b[39m.\u001b[39m_sslobj\u001b[39m.\u001b[39mread(\u001b[39mlen\u001b[39m)\n",
      "\u001b[1;31mKeyboardInterrupt\u001b[0m: "
     ]
    }
   ],
   "source": [
    "# Perform a search\n",
    "lp_search = 'https://cmr.earthdata.nasa.gov/stac/LPCLOUD/search'\n",
    "\n",
    "params = {}\n",
    "\n",
    "# Set a limit\n",
    "lim = 100\n",
    "params['limit'] = lim  # Add in a limit parameter to retrieve 100 items at a time.\n",
    "\n",
    "# Set the bounding box\n",
    "field = gp.read_file('Field_Boundary.geojson')\n",
    "fieldShape = field['geometry'][0]\n",
    "bbox = '-141.00275,41.6751050889,-52.3231986987,83.6751'\n",
    "params['bbox'] = bbox\n",
    "\n",
    "# Choose your collection\n",
    "collection = \"VNP13A2.v002\"\n",
    "params[\"collections\"] = [collection]\n",
    "\n",
    "# Set the time\n",
    "date_time = \"2023-07-31T00:00:00Z/2023-08-31T23:59:59Z\"\n",
    "params['datetime'] = date_time\n",
    "\n",
    "# Initialize variables for spatial information and canvas\n",
    "geoInfo = None  # Initialize spatial information\n",
    "overall_extent = None  # Initialize overall spatial extent\n",
    "\n",
    "# Make the request\n",
    "vnp_items = requests.post(lp_search, json=params, verify=False).json()['features']\n",
    "print(len(vnp_items))\n",
    "\n",
    "username = 'infantej2'\n",
    "password = 'QWEqwe123!@#'\n",
    "\n",
    "for item_url in vnp_items:\n",
    "    with requests.Session() as session:\n",
    "        session.auth = (username, password)\n",
    "        response = session.get(item_url['assets']['data']['href'], verify=False)\n",
    "        print(item_url)\n",
    "\n",
    "        if response.status_code == 200:\n",
    "            with h5py.File(io.BytesIO(response.content), 'r') as hdf5_file:\n",
    "                all_h5_objs = []\n",
    "                hdf5_file.visit(all_h5_objs.append)\n",
    "                info = hdf5_file['HDFEOS INFORMATION']['StructMetadata.0'][()].split()\n",
    "                metadata_byte2str = [s.decode('utf-8') for s in info]\n",
    "                print(f'Metadata: {metadata_byte2str}')\n",
    "                ulc = [i for i in metadata_byte2str if 'UpperLeftPointMtrs' in i]\n",
    "                ulcLon = float(ulc[0].replace('=', ',').replace('(', '') \\\n",
    "                        .replace(')', '').split(',')[1])\n",
    "                ulcLat = float(ulc[0].replace('=', ',').replace('(', '') \\\n",
    "                        .replace(')', '').split(',')[2])\n",
    "                geoInfo = (ulcLon, 0, ulcLat, 0)\n",
    "                print(f'Geoinfo: {geoInfo}')\n",
    "\n",
    "                # Extract NDVI dataset\n",
    "                ndvi_dataset = hdf5_file['HDFEOS/GRIDS/VIIRS_Grid_16Day_VI_1km/Data Fields/1 km 16 days NDVI'][:]\n",
    "                print(ndvi_dataset)\n",
    "                sinu=rio.crs.CRS.from_proj4(\"+proj=sinu +R=6371007.181 +nadgrids=@null +wktext\")\n",
    "                wgs84=rio.crs.CRS.from_epsg(4326)\n",
    "                # Update overall spatial extent to cover all datasets\n",
    "                if overall_extent is None:\n",
    "                    overall_extent = geoInfo\n",
    "                else:\n",
    "                    # Update extent to include current dataset's extent\n",
    "                    overall_extent = (\n",
    "                        min(overall_extent[0], geoInfo[0]),\n",
    "                        min(overall_extent[1], geoInfo[1]),\n",
    "                        max(overall_extent[2], geoInfo[2]),\n",
    "                        max(overall_extent[3], geoInfo[3])\n",
    "                    )\n",
    "                print(f'Overall extent: {overall_extent}')\n",
    "\n",
    "# Create an empty canvas to hold the mosaic\n",
    "width = int((overall_extent[2] - overall_extent[0]) / 1000)  # Adjust the resolution if necessary\n",
    "height = int((overall_extent[3] - overall_extent[1]) / 1000)  # Adjust the resolution if necessary\n",
    "canvas = np.zeros((height, width), dtype=np.uint16)\n",
    "\n",
    "print(f'Overall width: {width}')\n",
    "print(f'Overall height: {height}')\n",
    "print(f'The canvas: {canvas}')\n",
    "\n",
    "\"\"\"# Iterate through NDVI datasets and place them on the canvas\n",
    "for item_url in vnp_items:\n",
    "    with requests.Session() as session:\n",
    "        session.auth = (username, password)\n",
    "        response = session.get(item_url['assets']['data']['href'], verify=False)\n",
    "        print(item_url)\n",
    "\n",
    "        if response.status_code == 200:\n",
    "            with h5py.File(io.BytesIO(response.content), 'r') as hdf5_file:\n",
    "                # Adjust the following to place the NDVI dataset correctly on the canvas\n",
    "                # Determine the position on the canvas based on spatial info\n",
    "                col_start = int((geoInfo[0] - overall_extent[0]) / 1000)\n",
    "                col_end = col_start + ndvi_dataset.shape[1]\n",
    "                row_start = int((geoInfo[2] - overall_extent[1]) / 1000)\n",
    "                row_end = row_start + ndvi_dataset.shape[0]\n",
    "\n",
    "                # Place the NDVI data on the canvas\n",
    "                canvas[row_start:row_end, col_start:col_end] = ndvi_dataset\n",
    "\n",
    "output_tiff = 'mosaic_ndvi.tif'\n",
    "\n",
    "# Define the transformation (georeferencing) information\n",
    "transform = from_origin(overall_extent[0], overall_extent[3], 1000, 1000)  # Adjust the resolution if necessary\n",
    "\n",
    "# Define the CRS \n",
    "crs = 'EPSG:4326'  \n",
    "\n",
    "# Create the GeoTIFF file and write the combined NDVI data\n",
    "with rio.open(output_tiff, 'w', driver='GTiff', height=canvas.shape[0], width=canvas.shape[1], dtype=canvas.dtype, crs=crs, transform=transform) as dst:\n",
    "    dst.write(canvas, 1)  # Assuming a single-band GeoTIFF\n",
    "\n",
    "print(\"Mosaic GeoTIFF created:\", output_tiff)\"\"\"\n"
   ]
  },
  {
   "cell_type": "markdown",
   "id": "2e3e0a83",
   "metadata": {},
   "source": [
    "# Perform search and read data using satpy"
   ]
  },
  {
   "cell_type": "code",
   "execution_count": 16,
   "id": "8fbfa252",
   "metadata": {},
   "outputs": [
    {
     "name": "stdout",
     "output_type": "stream",
     "text": [
      "-141.00275,41.6751050889,-52.3231986987,83.6751\n"
     ]
    },
    {
     "name": "stderr",
     "output_type": "stream",
     "text": [
      "c:\\Users\\cinfante\\OneDrive - NRCan RNCan\\Documents\\Greenup\\NASA-LPDAAC-Testing\\venv\\Lib\\site-packages\\urllib3\\connectionpool.py:1056: InsecureRequestWarning: Unverified HTTPS request is being made to host 'cmr.earthdata.nasa.gov'. Adding certificate verification is strongly advised. See: https://urllib3.readthedocs.io/en/1.26.x/advanced-usage.html#ssl-warnings\n",
      "  warnings.warn(\n"
     ]
    },
    {
     "name": "stdout",
     "output_type": "stream",
     "text": [
      "29\n"
     ]
    },
    {
     "ename": "NameError",
     "evalue": "name 'Scene' is not defined",
     "output_type": "error",
     "traceback": [
      "\u001b[1;31m---------------------------------------------------------------------------\u001b[0m",
      "\u001b[1;31mNameError\u001b[0m                                 Traceback (most recent call last)",
      "Cell \u001b[1;32mIn[16], line 33\u001b[0m\n\u001b[0;32m     30\u001b[0m \u001b[39m# Define an empty list to store the dataset arrays\u001b[39;00m\n\u001b[0;32m     31\u001b[0m datasets \u001b[39m=\u001b[39m []\n\u001b[1;32m---> 33\u001b[0m scene \u001b[39m=\u001b[39m Scene()\n\u001b[0;32m     35\u001b[0m \u001b[39m# Iterate through vnp_items and read the datasets\u001b[39;00m\n\u001b[0;32m     36\u001b[0m \u001b[39mfor\u001b[39;00m i, item \u001b[39min\u001b[39;00m \u001b[39menumerate\u001b[39m(vnp_items):\n",
      "\u001b[1;31mNameError\u001b[0m: name 'Scene' is not defined"
     ]
    }
   ],
   "source": [
    "# Perform a search\n",
    "lp_search = 'https://cmr.earthdata.nasa.gov/stac/LPCLOUD/search'\n",
    "\n",
    "params = {}\n",
    "\n",
    "# Set a limit\n",
    "lim = 100\n",
    "params['limit'] = lim  # Add in a limit parameter to retrieve 100 items at a time.\n",
    "\n",
    "# Set the bounding box\n",
    "field = gp.read_file('Field_Boundary.geojson')\n",
    "fieldShape = field['geometry'][0]\n",
    "#bbox = f'{fieldShape.bounds[0]},{fieldShape.bounds[1]},{fieldShape.bounds[2]},{fieldShape.bounds[3]}'    # Defined from ROI bounds\n",
    "bbox = '-141.00275,41.6751050889,-52.3231986987,83.6751'\n",
    "print(bbox)\n",
    "params['bbox'] = bbox \n",
    "\n",
    "# Choose your collection\n",
    "collection = \"VNP13A2.v002\"\n",
    "params[\"collections\"] = [collection]\n",
    "\n",
    "# Set the time\n",
    "date_time = \"2023-07-18T00:00:00Z/2023-08-18T23:59:59Z\"\n",
    "params['datetime'] = date_time\n",
    "\n",
    "# Make the request\n",
    "vnp_items = r.post(lp_search, json=params, verify=False).json()['features']\n",
    "print(len(vnp_items))\n",
    "\n",
    "# Define an empty list to store the dataset arrays\n",
    "datasets = []\n",
    "\n",
    "scene = Scene()\n",
    "\n",
    "# Iterate through vnp_items and read the datasets\n",
    "for i, item in enumerate(vnp_items):\n",
    "    item_url = item['assets']['data']['href']\n",
    "    username = 'infantej2'\n",
    "    password = 'QWEqwe123!@#'\n",
    "\n",
    "    with requests.Session() as session:\n",
    "        session.auth = (username, password)\n",
    "        response = session.get(item_url, verify=False)\n",
    "        print(item_url)\n",
    "        \n",
    "        if response.status_code == 200:\n",
    "            \n",
    "            hdf5_data = hdf5_reader(response.content)\n",
    "            scene.add(hdf5_data)\n",
    "\n",
    "            print(f\"Processed item {i}\")\n",
    "        else:\n",
    "            print(f\"Authentication failed or the file is inaccessible for item {i}\")\n",
    "\n",
    "scene.show()\n",
    "        \n",
    "'''\n",
    "# Merge the DataArrays using rioxarray's merge\n",
    "merged_data_array = merge_arrays(datasets)\n",
    "\n",
    "# Define the output file\n",
    "output_file = \"mosaic_h5.tif\"\n",
    "\n",
    "# Write the merged dataset to the output file\n",
    "merged_data_array.rio.to_raster(output_file)\n",
    "'''\n",
    "print(\"Mosaic created successfully.\")"
   ]
  },
  {
   "cell_type": "markdown",
   "id": "70c0a3b0",
   "metadata": {},
   "source": [
    "# Perform search and read data using h5py and xarray"
   ]
  },
  {
   "cell_type": "code",
   "execution_count": 15,
   "id": "937d2be4",
   "metadata": {},
   "outputs": [
    {
     "name": "stdout",
     "output_type": "stream",
     "text": [
      "-141.00275,41.6751050889,-52.3231986987,83.6751\n"
     ]
    },
    {
     "name": "stderr",
     "output_type": "stream",
     "text": [
      "c:\\Users\\cinfante\\OneDrive - NRCan RNCan\\Documents\\Greenup\\NASA-LPDAAC-Testing\\venv\\Lib\\site-packages\\urllib3\\connectionpool.py:1056: InsecureRequestWarning: Unverified HTTPS request is being made to host 'cmr.earthdata.nasa.gov'. Adding certificate verification is strongly advised. See: https://urllib3.readthedocs.io/en/1.26.x/advanced-usage.html#ssl-warnings\n",
      "  warnings.warn(\n"
     ]
    },
    {
     "name": "stdout",
     "output_type": "stream",
     "text": [
      "29\n"
     ]
    },
    {
     "name": "stderr",
     "output_type": "stream",
     "text": [
      "c:\\Users\\cinfante\\OneDrive - NRCan RNCan\\Documents\\Greenup\\NASA-LPDAAC-Testing\\venv\\Lib\\site-packages\\urllib3\\connectionpool.py:1056: InsecureRequestWarning: Unverified HTTPS request is being made to host 'data.lpdaac.earthdatacloud.nasa.gov'. Adding certificate verification is strongly advised. See: https://urllib3.readthedocs.io/en/1.26.x/advanced-usage.html#ssl-warnings\n",
      "  warnings.warn(\n",
      "c:\\Users\\cinfante\\OneDrive - NRCan RNCan\\Documents\\Greenup\\NASA-LPDAAC-Testing\\venv\\Lib\\site-packages\\urllib3\\connectionpool.py:1056: InsecureRequestWarning: Unverified HTTPS request is being made to host 'urs.earthdata.nasa.gov'. Adding certificate verification is strongly advised. See: https://urllib3.readthedocs.io/en/1.26.x/advanced-usage.html#ssl-warnings\n",
      "  warnings.warn(\n",
      "c:\\Users\\cinfante\\OneDrive - NRCan RNCan\\Documents\\Greenup\\NASA-LPDAAC-Testing\\venv\\Lib\\site-packages\\urllib3\\connectionpool.py:1056: InsecureRequestWarning: Unverified HTTPS request is being made to host 'data.lpdaac.earthdatacloud.nasa.gov'. Adding certificate verification is strongly advised. See: https://urllib3.readthedocs.io/en/1.26.x/advanced-usage.html#ssl-warnings\n",
      "  warnings.warn(\n",
      "c:\\Users\\cinfante\\OneDrive - NRCan RNCan\\Documents\\Greenup\\NASA-LPDAAC-Testing\\venv\\Lib\\site-packages\\urllib3\\connectionpool.py:1056: InsecureRequestWarning: Unverified HTTPS request is being made to host 'data.lpdaac.earthdatacloud.nasa.gov'. Adding certificate verification is strongly advised. See: https://urllib3.readthedocs.io/en/1.26.x/advanced-usage.html#ssl-warnings\n",
      "  warnings.warn(\n",
      "c:\\Users\\cinfante\\OneDrive - NRCan RNCan\\Documents\\Greenup\\NASA-LPDAAC-Testing\\venv\\Lib\\site-packages\\urllib3\\connectionpool.py:1056: InsecureRequestWarning: Unverified HTTPS request is being made to host 'd1nklfio7vscoe.cloudfront.net'. Adding certificate verification is strongly advised. See: https://urllib3.readthedocs.io/en/1.26.x/advanced-usage.html#ssl-warnings\n",
      "  warnings.warn(\n"
     ]
    },
    {
     "name": "stdout",
     "output_type": "stream",
     "text": [
      "https://data.lpdaac.earthdatacloud.nasa.gov/lp-prod-protected/VNP13A2.002/VNP13A2.A2023185.h08v04.002.2023201103423/VNP13A2.A2023185.h08v04.002.2023201103423.h5\n",
      "[[-15000 -15000 -15000 ... -15000 -15000 -15000]\n",
      " [-15000 -15000 -15000 ... -15000 -15000 -15000]\n",
      " [-15000 -15000 -15000 ... -15000 -15000 -15000]\n",
      " ...\n",
      " [-15000 -15000 -15000 ...   2886   3018   2916]\n",
      " [-15000 -15000 -15000 ...   2996   2759   2552]\n",
      " [-15000 -15000 -15000 ...   3121   2678   2321]]\n",
      "<xarray.DataArray (y: 1200, x: 1200)>\n",
      "array([[-15000, -15000, -15000, ..., -15000, -15000, -15000],\n",
      "       [-15000, -15000, -15000, ..., -15000, -15000, -15000],\n",
      "       [-15000, -15000, -15000, ..., -15000, -15000, -15000],\n",
      "       ...,\n",
      "       [-15000, -15000, -15000, ...,   2886,   3018,   2916],\n",
      "       [-15000, -15000, -15000, ...,   2996,   2759,   2552],\n",
      "       [-15000, -15000, -15000, ...,   3121,   2678,   2321]], dtype=int16)\n",
      "Dimensions without coordinates: y, x\n",
      "Processed item 0\n"
     ]
    },
    {
     "name": "stderr",
     "output_type": "stream",
     "text": [
      "c:\\Users\\cinfante\\OneDrive - NRCan RNCan\\Documents\\Greenup\\NASA-LPDAAC-Testing\\venv\\Lib\\site-packages\\urllib3\\connectionpool.py:1056: InsecureRequestWarning: Unverified HTTPS request is being made to host 'data.lpdaac.earthdatacloud.nasa.gov'. Adding certificate verification is strongly advised. See: https://urllib3.readthedocs.io/en/1.26.x/advanced-usage.html#ssl-warnings\n",
      "  warnings.warn(\n",
      "c:\\Users\\cinfante\\OneDrive - NRCan RNCan\\Documents\\Greenup\\NASA-LPDAAC-Testing\\venv\\Lib\\site-packages\\urllib3\\connectionpool.py:1056: InsecureRequestWarning: Unverified HTTPS request is being made to host 'urs.earthdata.nasa.gov'. Adding certificate verification is strongly advised. See: https://urllib3.readthedocs.io/en/1.26.x/advanced-usage.html#ssl-warnings\n",
      "  warnings.warn(\n",
      "c:\\Users\\cinfante\\OneDrive - NRCan RNCan\\Documents\\Greenup\\NASA-LPDAAC-Testing\\venv\\Lib\\site-packages\\urllib3\\connectionpool.py:1056: InsecureRequestWarning: Unverified HTTPS request is being made to host 'data.lpdaac.earthdatacloud.nasa.gov'. Adding certificate verification is strongly advised. See: https://urllib3.readthedocs.io/en/1.26.x/advanced-usage.html#ssl-warnings\n",
      "  warnings.warn(\n",
      "c:\\Users\\cinfante\\OneDrive - NRCan RNCan\\Documents\\Greenup\\NASA-LPDAAC-Testing\\venv\\Lib\\site-packages\\urllib3\\connectionpool.py:1056: InsecureRequestWarning: Unverified HTTPS request is being made to host 'data.lpdaac.earthdatacloud.nasa.gov'. Adding certificate verification is strongly advised. See: https://urllib3.readthedocs.io/en/1.26.x/advanced-usage.html#ssl-warnings\n",
      "  warnings.warn(\n",
      "c:\\Users\\cinfante\\OneDrive - NRCan RNCan\\Documents\\Greenup\\NASA-LPDAAC-Testing\\venv\\Lib\\site-packages\\urllib3\\connectionpool.py:1056: InsecureRequestWarning: Unverified HTTPS request is being made to host 'd1nklfio7vscoe.cloudfront.net'. Adding certificate verification is strongly advised. See: https://urllib3.readthedocs.io/en/1.26.x/advanced-usage.html#ssl-warnings\n",
      "  warnings.warn(\n"
     ]
    },
    {
     "name": "stdout",
     "output_type": "stream",
     "text": [
      "https://data.lpdaac.earthdatacloud.nasa.gov/lp-prod-protected/VNP13A2.002/VNP13A2.A2023185.h11v04.002.2023201103404/VNP13A2.A2023185.h11v04.002.2023201103404.h5\n",
      "[[4234 5184 4670 ... 8619 8231 8131]\n",
      " [5070 5540 6434 ... 8523 8476 8629]\n",
      " [6994 7033 6020 ... 8279 8432 8490]\n",
      " ...\n",
      " [8613 8467 9008 ... 8245 8057 7746]\n",
      " [7868 8374 8954 ... 7109 7503 8355]\n",
      " [8521 8714 9033 ... 7940 8481 8601]]\n",
      "<xarray.DataArray (y: 1200, x: 1200)>\n",
      "array([[4234, 5184, 4670, ..., 8619, 8231, 8131],\n",
      "       [5070, 5540, 6434, ..., 8523, 8476, 8629],\n",
      "       [6994, 7033, 6020, ..., 8279, 8432, 8490],\n",
      "       ...,\n",
      "       [8613, 8467, 9008, ..., 8245, 8057, 7746],\n",
      "       [7868, 8374, 8954, ..., 7109, 7503, 8355],\n",
      "       [8521, 8714, 9033, ..., 7940, 8481, 8601]], dtype=int16)\n",
      "Dimensions without coordinates: y, x\n",
      "Processed item 1\n"
     ]
    },
    {
     "name": "stderr",
     "output_type": "stream",
     "text": [
      "c:\\Users\\cinfante\\OneDrive - NRCan RNCan\\Documents\\Greenup\\NASA-LPDAAC-Testing\\venv\\Lib\\site-packages\\urllib3\\connectionpool.py:1056: InsecureRequestWarning: Unverified HTTPS request is being made to host 'data.lpdaac.earthdatacloud.nasa.gov'. Adding certificate verification is strongly advised. See: https://urllib3.readthedocs.io/en/1.26.x/advanced-usage.html#ssl-warnings\n",
      "  warnings.warn(\n",
      "c:\\Users\\cinfante\\OneDrive - NRCan RNCan\\Documents\\Greenup\\NASA-LPDAAC-Testing\\venv\\Lib\\site-packages\\urllib3\\connectionpool.py:1056: InsecureRequestWarning: Unverified HTTPS request is being made to host 'urs.earthdata.nasa.gov'. Adding certificate verification is strongly advised. See: https://urllib3.readthedocs.io/en/1.26.x/advanced-usage.html#ssl-warnings\n",
      "  warnings.warn(\n",
      "c:\\Users\\cinfante\\OneDrive - NRCan RNCan\\Documents\\Greenup\\NASA-LPDAAC-Testing\\venv\\Lib\\site-packages\\urllib3\\connectionpool.py:1056: InsecureRequestWarning: Unverified HTTPS request is being made to host 'data.lpdaac.earthdatacloud.nasa.gov'. Adding certificate verification is strongly advised. See: https://urllib3.readthedocs.io/en/1.26.x/advanced-usage.html#ssl-warnings\n",
      "  warnings.warn(\n",
      "c:\\Users\\cinfante\\OneDrive - NRCan RNCan\\Documents\\Greenup\\NASA-LPDAAC-Testing\\venv\\Lib\\site-packages\\urllib3\\connectionpool.py:1056: InsecureRequestWarning: Unverified HTTPS request is being made to host 'data.lpdaac.earthdatacloud.nasa.gov'. Adding certificate verification is strongly advised. See: https://urllib3.readthedocs.io/en/1.26.x/advanced-usage.html#ssl-warnings\n",
      "  warnings.warn(\n",
      "c:\\Users\\cinfante\\OneDrive - NRCan RNCan\\Documents\\Greenup\\NASA-LPDAAC-Testing\\venv\\Lib\\site-packages\\urllib3\\connectionpool.py:1056: InsecureRequestWarning: Unverified HTTPS request is being made to host 'd1nklfio7vscoe.cloudfront.net'. Adding certificate verification is strongly advised. See: https://urllib3.readthedocs.io/en/1.26.x/advanced-usage.html#ssl-warnings\n",
      "  warnings.warn(\n"
     ]
    },
    {
     "name": "stdout",
     "output_type": "stream",
     "text": [
      "https://data.lpdaac.earthdatacloud.nasa.gov/lp-prod-protected/VNP13A2.002/VNP13A2.A2023185.h10v04.002.2023201103437/VNP13A2.A2023185.h10v04.002.2023201103437.h5\n",
      "[[8090 8635 8390 ... 3013 3435 3248]\n",
      " [8482 8178 8416 ... 3794 4140 4277]\n",
      " [8509 8546 8141 ... 4279 6116 7176]\n",
      " ...\n",
      " [4688 5044 3705 ... 8876 8731 8892]\n",
      " [5389 5207 6739 ... 8723 8992 8601]\n",
      " [5735 4853 3494 ... 8986 8366 8733]]\n",
      "<xarray.DataArray (y: 1200, x: 1200)>\n",
      "array([[8090, 8635, 8390, ..., 3013, 3435, 3248],\n",
      "       [8482, 8178, 8416, ..., 3794, 4140, 4277],\n",
      "       [8509, 8546, 8141, ..., 4279, 6116, 7176],\n",
      "       ...,\n",
      "       [4688, 5044, 3705, ..., 8876, 8731, 8892],\n",
      "       [5389, 5207, 6739, ..., 8723, 8992, 8601],\n",
      "       [5735, 4853, 3494, ..., 8986, 8366, 8733]], dtype=int16)\n",
      "Dimensions without coordinates: y, x\n",
      "Processed item 2\n"
     ]
    },
    {
     "name": "stderr",
     "output_type": "stream",
     "text": [
      "c:\\Users\\cinfante\\OneDrive - NRCan RNCan\\Documents\\Greenup\\NASA-LPDAAC-Testing\\venv\\Lib\\site-packages\\urllib3\\connectionpool.py:1056: InsecureRequestWarning: Unverified HTTPS request is being made to host 'data.lpdaac.earthdatacloud.nasa.gov'. Adding certificate verification is strongly advised. See: https://urllib3.readthedocs.io/en/1.26.x/advanced-usage.html#ssl-warnings\n",
      "  warnings.warn(\n",
      "c:\\Users\\cinfante\\OneDrive - NRCan RNCan\\Documents\\Greenup\\NASA-LPDAAC-Testing\\venv\\Lib\\site-packages\\urllib3\\connectionpool.py:1056: InsecureRequestWarning: Unverified HTTPS request is being made to host 'urs.earthdata.nasa.gov'. Adding certificate verification is strongly advised. See: https://urllib3.readthedocs.io/en/1.26.x/advanced-usage.html#ssl-warnings\n",
      "  warnings.warn(\n",
      "c:\\Users\\cinfante\\OneDrive - NRCan RNCan\\Documents\\Greenup\\NASA-LPDAAC-Testing\\venv\\Lib\\site-packages\\urllib3\\connectionpool.py:1056: InsecureRequestWarning: Unverified HTTPS request is being made to host 'data.lpdaac.earthdatacloud.nasa.gov'. Adding certificate verification is strongly advised. See: https://urllib3.readthedocs.io/en/1.26.x/advanced-usage.html#ssl-warnings\n",
      "  warnings.warn(\n",
      "c:\\Users\\cinfante\\OneDrive - NRCan RNCan\\Documents\\Greenup\\NASA-LPDAAC-Testing\\venv\\Lib\\site-packages\\urllib3\\connectionpool.py:1056: InsecureRequestWarning: Unverified HTTPS request is being made to host 'data.lpdaac.earthdatacloud.nasa.gov'. Adding certificate verification is strongly advised. See: https://urllib3.readthedocs.io/en/1.26.x/advanced-usage.html#ssl-warnings\n",
      "  warnings.warn(\n",
      "c:\\Users\\cinfante\\OneDrive - NRCan RNCan\\Documents\\Greenup\\NASA-LPDAAC-Testing\\venv\\Lib\\site-packages\\urllib3\\connectionpool.py:1056: InsecureRequestWarning: Unverified HTTPS request is being made to host 'd1nklfio7vscoe.cloudfront.net'. Adding certificate verification is strongly advised. See: https://urllib3.readthedocs.io/en/1.26.x/advanced-usage.html#ssl-warnings\n",
      "  warnings.warn(\n"
     ]
    },
    {
     "name": "stdout",
     "output_type": "stream",
     "text": [
      "https://data.lpdaac.earthdatacloud.nasa.gov/lp-prod-protected/VNP13A2.002/VNP13A2.A2023185.h13v04.002.2023201103448/VNP13A2.A2023185.h13v04.002.2023201103448.h5\n",
      "[[  7799   7530   7023 ... -15000 -15000 -15000]\n",
      " [  7388   6710   6736 ... -15000 -15000 -15000]\n",
      " [  6148   6162   6321 ... -15000 -15000 -15000]\n",
      " ...\n",
      " [-15000 -15000 -15000 ... -15000 -15000 -15000]\n",
      " [-15000 -15000 -15000 ... -15000 -15000 -15000]\n",
      " [-15000 -15000 -15000 ... -15000 -15000 -15000]]\n",
      "<xarray.DataArray (y: 1200, x: 1200)>\n",
      "array([[  7799,   7530,   7023, ..., -15000, -15000, -15000],\n",
      "       [  7388,   6710,   6736, ..., -15000, -15000, -15000],\n",
      "       [  6148,   6162,   6321, ..., -15000, -15000, -15000],\n",
      "       ...,\n",
      "       [-15000, -15000, -15000, ..., -15000, -15000, -15000],\n",
      "       [-15000, -15000, -15000, ..., -15000, -15000, -15000],\n",
      "       [-15000, -15000, -15000, ..., -15000, -15000, -15000]], dtype=int16)\n",
      "Dimensions without coordinates: y, x\n",
      "Processed item 3\n"
     ]
    },
    {
     "name": "stderr",
     "output_type": "stream",
     "text": [
      "c:\\Users\\cinfante\\OneDrive - NRCan RNCan\\Documents\\Greenup\\NASA-LPDAAC-Testing\\venv\\Lib\\site-packages\\urllib3\\connectionpool.py:1056: InsecureRequestWarning: Unverified HTTPS request is being made to host 'data.lpdaac.earthdatacloud.nasa.gov'. Adding certificate verification is strongly advised. See: https://urllib3.readthedocs.io/en/1.26.x/advanced-usage.html#ssl-warnings\n",
      "  warnings.warn(\n",
      "c:\\Users\\cinfante\\OneDrive - NRCan RNCan\\Documents\\Greenup\\NASA-LPDAAC-Testing\\venv\\Lib\\site-packages\\urllib3\\connectionpool.py:1056: InsecureRequestWarning: Unverified HTTPS request is being made to host 'urs.earthdata.nasa.gov'. Adding certificate verification is strongly advised. See: https://urllib3.readthedocs.io/en/1.26.x/advanced-usage.html#ssl-warnings\n",
      "  warnings.warn(\n",
      "c:\\Users\\cinfante\\OneDrive - NRCan RNCan\\Documents\\Greenup\\NASA-LPDAAC-Testing\\venv\\Lib\\site-packages\\urllib3\\connectionpool.py:1056: InsecureRequestWarning: Unverified HTTPS request is being made to host 'data.lpdaac.earthdatacloud.nasa.gov'. Adding certificate verification is strongly advised. See: https://urllib3.readthedocs.io/en/1.26.x/advanced-usage.html#ssl-warnings\n",
      "  warnings.warn(\n",
      "c:\\Users\\cinfante\\OneDrive - NRCan RNCan\\Documents\\Greenup\\NASA-LPDAAC-Testing\\venv\\Lib\\site-packages\\urllib3\\connectionpool.py:1056: InsecureRequestWarning: Unverified HTTPS request is being made to host 'data.lpdaac.earthdatacloud.nasa.gov'. Adding certificate verification is strongly advised. See: https://urllib3.readthedocs.io/en/1.26.x/advanced-usage.html#ssl-warnings\n",
      "  warnings.warn(\n",
      "c:\\Users\\cinfante\\OneDrive - NRCan RNCan\\Documents\\Greenup\\NASA-LPDAAC-Testing\\venv\\Lib\\site-packages\\urllib3\\connectionpool.py:1056: InsecureRequestWarning: Unverified HTTPS request is being made to host 'd1nklfio7vscoe.cloudfront.net'. Adding certificate verification is strongly advised. See: https://urllib3.readthedocs.io/en/1.26.x/advanced-usage.html#ssl-warnings\n",
      "  warnings.warn(\n"
     ]
    },
    {
     "name": "stdout",
     "output_type": "stream",
     "text": [
      "https://data.lpdaac.earthdatacloud.nasa.gov/lp-prod-protected/VNP13A2.002/VNP13A2.A2023185.h12v04.002.2023201103408/VNP13A2.A2023185.h12v04.002.2023201103408.h5\n",
      "[[  8325   8740   8042 ...   7566   7133   7450]\n",
      " [  8516   8640   8215 ...   7488   7431   7803]\n",
      " [  8688   8451   8649 ...   6927   6987   6193]\n",
      " ...\n",
      " [  7643   8878   8427 ... -15000 -15000 -15000]\n",
      " [  8762   8321   8623 ... -15000 -15000 -15000]\n",
      " [  8429   7920   8218 ... -15000 -15000 -15000]]\n",
      "<xarray.DataArray (y: 1200, x: 1200)>\n",
      "array([[  8325,   8740,   8042, ...,   7566,   7133,   7450],\n",
      "       [  8516,   8640,   8215, ...,   7488,   7431,   7803],\n",
      "       [  8688,   8451,   8649, ...,   6927,   6987,   6193],\n",
      "       ...,\n",
      "       [  7643,   8878,   8427, ..., -15000, -15000, -15000],\n",
      "       [  8762,   8321,   8623, ..., -15000, -15000, -15000],\n",
      "       [  8429,   7920,   8218, ..., -15000, -15000, -15000]], dtype=int16)\n",
      "Dimensions without coordinates: y, x\n",
      "Processed item 4\n"
     ]
    },
    {
     "name": "stderr",
     "output_type": "stream",
     "text": [
      "c:\\Users\\cinfante\\OneDrive - NRCan RNCan\\Documents\\Greenup\\NASA-LPDAAC-Testing\\venv\\Lib\\site-packages\\urllib3\\connectionpool.py:1056: InsecureRequestWarning: Unverified HTTPS request is being made to host 'data.lpdaac.earthdatacloud.nasa.gov'. Adding certificate verification is strongly advised. See: https://urllib3.readthedocs.io/en/1.26.x/advanced-usage.html#ssl-warnings\n",
      "  warnings.warn(\n",
      "c:\\Users\\cinfante\\OneDrive - NRCan RNCan\\Documents\\Greenup\\NASA-LPDAAC-Testing\\venv\\Lib\\site-packages\\urllib3\\connectionpool.py:1056: InsecureRequestWarning: Unverified HTTPS request is being made to host 'urs.earthdata.nasa.gov'. Adding certificate verification is strongly advised. See: https://urllib3.readthedocs.io/en/1.26.x/advanced-usage.html#ssl-warnings\n",
      "  warnings.warn(\n",
      "c:\\Users\\cinfante\\OneDrive - NRCan RNCan\\Documents\\Greenup\\NASA-LPDAAC-Testing\\venv\\Lib\\site-packages\\urllib3\\connectionpool.py:1056: InsecureRequestWarning: Unverified HTTPS request is being made to host 'data.lpdaac.earthdatacloud.nasa.gov'. Adding certificate verification is strongly advised. See: https://urllib3.readthedocs.io/en/1.26.x/advanced-usage.html#ssl-warnings\n",
      "  warnings.warn(\n",
      "c:\\Users\\cinfante\\OneDrive - NRCan RNCan\\Documents\\Greenup\\NASA-LPDAAC-Testing\\venv\\Lib\\site-packages\\urllib3\\connectionpool.py:1056: InsecureRequestWarning: Unverified HTTPS request is being made to host 'data.lpdaac.earthdatacloud.nasa.gov'. Adding certificate verification is strongly advised. See: https://urllib3.readthedocs.io/en/1.26.x/advanced-usage.html#ssl-warnings\n",
      "  warnings.warn(\n",
      "c:\\Users\\cinfante\\OneDrive - NRCan RNCan\\Documents\\Greenup\\NASA-LPDAAC-Testing\\venv\\Lib\\site-packages\\urllib3\\connectionpool.py:1056: InsecureRequestWarning: Unverified HTTPS request is being made to host 'd1nklfio7vscoe.cloudfront.net'. Adding certificate verification is strongly advised. See: https://urllib3.readthedocs.io/en/1.26.x/advanced-usage.html#ssl-warnings\n",
      "  warnings.warn(\n"
     ]
    },
    {
     "name": "stdout",
     "output_type": "stream",
     "text": [
      "https://data.lpdaac.earthdatacloud.nasa.gov/lp-prod-protected/VNP13A2.002/VNP13A2.A2023185.h09v04.002.2023201103403/VNP13A2.A2023185.h09v04.002.2023201103403.h5\n",
      "[[-15000 -15000 -15000 ...   3542   6516   7074]\n",
      " [-15000 -15000 -15000 ...   8019   8451   8365]\n",
      " [-15000 -15000 -15000 ...   7845   8053   8428]\n",
      " ...\n",
      " [  2824   2310   2598 ...   7395   6695   7073]\n",
      " [  2337   2304   2184 ...   5752   4596   5947]\n",
      " [  2183   2118   2131 ...   4455   6076   5893]]\n",
      "<xarray.DataArray (y: 1200, x: 1200)>\n",
      "array([[-15000, -15000, -15000, ...,   3542,   6516,   7074],\n",
      "       [-15000, -15000, -15000, ...,   8019,   8451,   8365],\n",
      "       [-15000, -15000, -15000, ...,   7845,   8053,   8428],\n",
      "       ...,\n",
      "       [  2824,   2310,   2598, ...,   7395,   6695,   7073],\n",
      "       [  2337,   2304,   2184, ...,   5752,   4596,   5947],\n",
      "       [  2183,   2118,   2131, ...,   4455,   6076,   5893]], dtype=int16)\n",
      "Dimensions without coordinates: y, x\n",
      "Processed item 5\n"
     ]
    },
    {
     "name": "stderr",
     "output_type": "stream",
     "text": [
      "c:\\Users\\cinfante\\OneDrive - NRCan RNCan\\Documents\\Greenup\\NASA-LPDAAC-Testing\\venv\\Lib\\site-packages\\urllib3\\connectionpool.py:1056: InsecureRequestWarning: Unverified HTTPS request is being made to host 'data.lpdaac.earthdatacloud.nasa.gov'. Adding certificate verification is strongly advised. See: https://urllib3.readthedocs.io/en/1.26.x/advanced-usage.html#ssl-warnings\n",
      "  warnings.warn(\n",
      "c:\\Users\\cinfante\\OneDrive - NRCan RNCan\\Documents\\Greenup\\NASA-LPDAAC-Testing\\venv\\Lib\\site-packages\\urllib3\\connectionpool.py:1056: InsecureRequestWarning: Unverified HTTPS request is being made to host 'urs.earthdata.nasa.gov'. Adding certificate verification is strongly advised. See: https://urllib3.readthedocs.io/en/1.26.x/advanced-usage.html#ssl-warnings\n",
      "  warnings.warn(\n",
      "c:\\Users\\cinfante\\OneDrive - NRCan RNCan\\Documents\\Greenup\\NASA-LPDAAC-Testing\\venv\\Lib\\site-packages\\urllib3\\connectionpool.py:1056: InsecureRequestWarning: Unverified HTTPS request is being made to host 'data.lpdaac.earthdatacloud.nasa.gov'. Adding certificate verification is strongly advised. See: https://urllib3.readthedocs.io/en/1.26.x/advanced-usage.html#ssl-warnings\n",
      "  warnings.warn(\n",
      "c:\\Users\\cinfante\\OneDrive - NRCan RNCan\\Documents\\Greenup\\NASA-LPDAAC-Testing\\venv\\Lib\\site-packages\\urllib3\\connectionpool.py:1056: InsecureRequestWarning: Unverified HTTPS request is being made to host 'data.lpdaac.earthdatacloud.nasa.gov'. Adding certificate verification is strongly advised. See: https://urllib3.readthedocs.io/en/1.26.x/advanced-usage.html#ssl-warnings\n",
      "  warnings.warn(\n",
      "c:\\Users\\cinfante\\OneDrive - NRCan RNCan\\Documents\\Greenup\\NASA-LPDAAC-Testing\\venv\\Lib\\site-packages\\urllib3\\connectionpool.py:1056: InsecureRequestWarning: Unverified HTTPS request is being made to host 'd1nklfio7vscoe.cloudfront.net'. Adding certificate verification is strongly advised. See: https://urllib3.readthedocs.io/en/1.26.x/advanced-usage.html#ssl-warnings\n",
      "  warnings.warn(\n"
     ]
    },
    {
     "name": "stdout",
     "output_type": "stream",
     "text": [
      "https://data.lpdaac.earthdatacloud.nasa.gov/lp-prod-protected/VNP13A2.002/VNP13A2.A2023185.h08v03.002.2023201105413/VNP13A2.A2023185.h08v03.002.2023201105413.h5\n",
      "[[-15000 -15000 -15000 ... -15000 -15000 -15000]\n",
      " [-15000 -15000 -15000 ... -15000 -15000 -15000]\n",
      " [-15000 -15000 -15000 ... -15000 -15000 -15000]\n",
      " ...\n",
      " [-15000 -15000 -15000 ... -15000 -15000 -15000]\n",
      " [-15000 -15000 -15000 ... -15000 -15000 -15000]\n",
      " [-15000 -15000 -15000 ... -15000 -15000 -15000]]\n",
      "<xarray.DataArray (y: 1200, x: 1200)>\n",
      "array([[-15000, -15000, -15000, ..., -15000, -15000, -15000],\n",
      "       [-15000, -15000, -15000, ..., -15000, -15000, -15000],\n",
      "       [-15000, -15000, -15000, ..., -15000, -15000, -15000],\n",
      "       ...,\n",
      "       [-15000, -15000, -15000, ..., -15000, -15000, -15000],\n",
      "       [-15000, -15000, -15000, ..., -15000, -15000, -15000],\n",
      "       [-15000, -15000, -15000, ..., -15000, -15000, -15000]], dtype=int16)\n",
      "Dimensions without coordinates: y, x\n",
      "Processed item 6\n"
     ]
    },
    {
     "name": "stderr",
     "output_type": "stream",
     "text": [
      "c:\\Users\\cinfante\\OneDrive - NRCan RNCan\\Documents\\Greenup\\NASA-LPDAAC-Testing\\venv\\Lib\\site-packages\\urllib3\\connectionpool.py:1056: InsecureRequestWarning: Unverified HTTPS request is being made to host 'data.lpdaac.earthdatacloud.nasa.gov'. Adding certificate verification is strongly advised. See: https://urllib3.readthedocs.io/en/1.26.x/advanced-usage.html#ssl-warnings\n",
      "  warnings.warn(\n",
      "c:\\Users\\cinfante\\OneDrive - NRCan RNCan\\Documents\\Greenup\\NASA-LPDAAC-Testing\\venv\\Lib\\site-packages\\urllib3\\connectionpool.py:1056: InsecureRequestWarning: Unverified HTTPS request is being made to host 'urs.earthdata.nasa.gov'. Adding certificate verification is strongly advised. See: https://urllib3.readthedocs.io/en/1.26.x/advanced-usage.html#ssl-warnings\n",
      "  warnings.warn(\n",
      "c:\\Users\\cinfante\\OneDrive - NRCan RNCan\\Documents\\Greenup\\NASA-LPDAAC-Testing\\venv\\Lib\\site-packages\\urllib3\\connectionpool.py:1056: InsecureRequestWarning: Unverified HTTPS request is being made to host 'data.lpdaac.earthdatacloud.nasa.gov'. Adding certificate verification is strongly advised. See: https://urllib3.readthedocs.io/en/1.26.x/advanced-usage.html#ssl-warnings\n",
      "  warnings.warn(\n",
      "c:\\Users\\cinfante\\OneDrive - NRCan RNCan\\Documents\\Greenup\\NASA-LPDAAC-Testing\\venv\\Lib\\site-packages\\urllib3\\connectionpool.py:1056: InsecureRequestWarning: Unverified HTTPS request is being made to host 'data.lpdaac.earthdatacloud.nasa.gov'. Adding certificate verification is strongly advised. See: https://urllib3.readthedocs.io/en/1.26.x/advanced-usage.html#ssl-warnings\n",
      "  warnings.warn(\n",
      "c:\\Users\\cinfante\\OneDrive - NRCan RNCan\\Documents\\Greenup\\NASA-LPDAAC-Testing\\venv\\Lib\\site-packages\\urllib3\\connectionpool.py:1056: InsecureRequestWarning: Unverified HTTPS request is being made to host 'd1nklfio7vscoe.cloudfront.net'. Adding certificate verification is strongly advised. See: https://urllib3.readthedocs.io/en/1.26.x/advanced-usage.html#ssl-warnings\n",
      "  warnings.warn(\n"
     ]
    },
    {
     "name": "stdout",
     "output_type": "stream",
     "text": [
      "https://data.lpdaac.earthdatacloud.nasa.gov/lp-prod-protected/VNP13A2.002/VNP13A2.A2023185.h14v04.002.2023201105437/VNP13A2.A2023185.h14v04.002.2023201105437.h5\n",
      "[[-15000 -15000 -15000 ... -15000 -15000 -15000]\n",
      " [-15000 -15000 -15000 ... -15000 -15000 -15000]\n",
      " [-15000 -15000 -15000 ... -15000 -15000 -15000]\n",
      " ...\n",
      " [-15000 -15000 -15000 ... -15000 -15000 -15000]\n",
      " [-15000 -15000 -15000 ... -15000 -15000 -15000]\n",
      " [-15000 -15000 -15000 ... -15000 -15000 -15000]]\n",
      "<xarray.DataArray (y: 1200, x: 1200)>\n",
      "array([[-15000, -15000, -15000, ..., -15000, -15000, -15000],\n",
      "       [-15000, -15000, -15000, ..., -15000, -15000, -15000],\n",
      "       [-15000, -15000, -15000, ..., -15000, -15000, -15000],\n",
      "       ...,\n",
      "       [-15000, -15000, -15000, ..., -15000, -15000, -15000],\n",
      "       [-15000, -15000, -15000, ..., -15000, -15000, -15000],\n",
      "       [-15000, -15000, -15000, ..., -15000, -15000, -15000]], dtype=int16)\n",
      "Dimensions without coordinates: y, x\n",
      "Processed item 7\n"
     ]
    },
    {
     "name": "stderr",
     "output_type": "stream",
     "text": [
      "c:\\Users\\cinfante\\OneDrive - NRCan RNCan\\Documents\\Greenup\\NASA-LPDAAC-Testing\\venv\\Lib\\site-packages\\urllib3\\connectionpool.py:1056: InsecureRequestWarning: Unverified HTTPS request is being made to host 'data.lpdaac.earthdatacloud.nasa.gov'. Adding certificate verification is strongly advised. See: https://urllib3.readthedocs.io/en/1.26.x/advanced-usage.html#ssl-warnings\n",
      "  warnings.warn(\n",
      "c:\\Users\\cinfante\\OneDrive - NRCan RNCan\\Documents\\Greenup\\NASA-LPDAAC-Testing\\venv\\Lib\\site-packages\\urllib3\\connectionpool.py:1056: InsecureRequestWarning: Unverified HTTPS request is being made to host 'urs.earthdata.nasa.gov'. Adding certificate verification is strongly advised. See: https://urllib3.readthedocs.io/en/1.26.x/advanced-usage.html#ssl-warnings\n",
      "  warnings.warn(\n",
      "c:\\Users\\cinfante\\OneDrive - NRCan RNCan\\Documents\\Greenup\\NASA-LPDAAC-Testing\\venv\\Lib\\site-packages\\urllib3\\connectionpool.py:1056: InsecureRequestWarning: Unverified HTTPS request is being made to host 'data.lpdaac.earthdatacloud.nasa.gov'. Adding certificate verification is strongly advised. See: https://urllib3.readthedocs.io/en/1.26.x/advanced-usage.html#ssl-warnings\n",
      "  warnings.warn(\n",
      "c:\\Users\\cinfante\\OneDrive - NRCan RNCan\\Documents\\Greenup\\NASA-LPDAAC-Testing\\venv\\Lib\\site-packages\\urllib3\\connectionpool.py:1056: InsecureRequestWarning: Unverified HTTPS request is being made to host 'data.lpdaac.earthdatacloud.nasa.gov'. Adding certificate verification is strongly advised. See: https://urllib3.readthedocs.io/en/1.26.x/advanced-usage.html#ssl-warnings\n",
      "  warnings.warn(\n",
      "c:\\Users\\cinfante\\OneDrive - NRCan RNCan\\Documents\\Greenup\\NASA-LPDAAC-Testing\\venv\\Lib\\site-packages\\urllib3\\connectionpool.py:1056: InsecureRequestWarning: Unverified HTTPS request is being made to host 'd1nklfio7vscoe.cloudfront.net'. Adding certificate verification is strongly advised. See: https://urllib3.readthedocs.io/en/1.26.x/advanced-usage.html#ssl-warnings\n",
      "  warnings.warn(\n"
     ]
    },
    {
     "name": "stdout",
     "output_type": "stream",
     "text": [
      "https://data.lpdaac.earthdatacloud.nasa.gov/lp-prod-protected/VNP13A2.002/VNP13A2.A2023185.h15v03.002.2023201105448/VNP13A2.A2023185.h15v03.002.2023201105448.h5\n",
      "[[-15000 -15000 -15000 ... -15000 -15000 -15000]\n",
      " [-15000 -15000 -15000 ... -15000 -15000 -15000]\n",
      " [-15000 -15000 -15000 ... -15000 -15000 -15000]\n",
      " ...\n",
      " [-15000 -15000 -15000 ... -15000 -15000 -15000]\n",
      " [-15000 -15000 -15000 ... -15000 -15000 -15000]\n",
      " [-15000 -15000 -15000 ... -15000 -15000 -15000]]\n",
      "<xarray.DataArray (y: 1200, x: 1200)>\n",
      "array([[-15000, -15000, -15000, ..., -15000, -15000, -15000],\n",
      "       [-15000, -15000, -15000, ..., -15000, -15000, -15000],\n",
      "       [-15000, -15000, -15000, ..., -15000, -15000, -15000],\n",
      "       ...,\n",
      "       [-15000, -15000, -15000, ..., -15000, -15000, -15000],\n",
      "       [-15000, -15000, -15000, ..., -15000, -15000, -15000],\n",
      "       [-15000, -15000, -15000, ..., -15000, -15000, -15000]], dtype=int16)\n",
      "Dimensions without coordinates: y, x\n",
      "Processed item 8\n"
     ]
    },
    {
     "name": "stderr",
     "output_type": "stream",
     "text": [
      "c:\\Users\\cinfante\\OneDrive - NRCan RNCan\\Documents\\Greenup\\NASA-LPDAAC-Testing\\venv\\Lib\\site-packages\\urllib3\\connectionpool.py:1056: InsecureRequestWarning: Unverified HTTPS request is being made to host 'data.lpdaac.earthdatacloud.nasa.gov'. Adding certificate verification is strongly advised. See: https://urllib3.readthedocs.io/en/1.26.x/advanced-usage.html#ssl-warnings\n",
      "  warnings.warn(\n",
      "c:\\Users\\cinfante\\OneDrive - NRCan RNCan\\Documents\\Greenup\\NASA-LPDAAC-Testing\\venv\\Lib\\site-packages\\urllib3\\connectionpool.py:1056: InsecureRequestWarning: Unverified HTTPS request is being made to host 'urs.earthdata.nasa.gov'. Adding certificate verification is strongly advised. See: https://urllib3.readthedocs.io/en/1.26.x/advanced-usage.html#ssl-warnings\n",
      "  warnings.warn(\n",
      "c:\\Users\\cinfante\\OneDrive - NRCan RNCan\\Documents\\Greenup\\NASA-LPDAAC-Testing\\venv\\Lib\\site-packages\\urllib3\\connectionpool.py:1056: InsecureRequestWarning: Unverified HTTPS request is being made to host 'data.lpdaac.earthdatacloud.nasa.gov'. Adding certificate verification is strongly advised. See: https://urllib3.readthedocs.io/en/1.26.x/advanced-usage.html#ssl-warnings\n",
      "  warnings.warn(\n",
      "c:\\Users\\cinfante\\OneDrive - NRCan RNCan\\Documents\\Greenup\\NASA-LPDAAC-Testing\\venv\\Lib\\site-packages\\urllib3\\connectionpool.py:1056: InsecureRequestWarning: Unverified HTTPS request is being made to host 'data.lpdaac.earthdatacloud.nasa.gov'. Adding certificate verification is strongly advised. See: https://urllib3.readthedocs.io/en/1.26.x/advanced-usage.html#ssl-warnings\n",
      "  warnings.warn(\n",
      "c:\\Users\\cinfante\\OneDrive - NRCan RNCan\\Documents\\Greenup\\NASA-LPDAAC-Testing\\venv\\Lib\\site-packages\\urllib3\\connectionpool.py:1056: InsecureRequestWarning: Unverified HTTPS request is being made to host 'd1nklfio7vscoe.cloudfront.net'. Adding certificate verification is strongly advised. See: https://urllib3.readthedocs.io/en/1.26.x/advanced-usage.html#ssl-warnings\n",
      "  warnings.warn(\n"
     ]
    },
    {
     "name": "stdout",
     "output_type": "stream",
     "text": [
      "https://data.lpdaac.earthdatacloud.nasa.gov/lp-prod-protected/VNP13A2.002/VNP13A2.A2023185.h14v03.002.2023201105451/VNP13A2.A2023185.h14v03.002.2023201105451.h5\n",
      "[[-15000 -15000 -15000 ... -15000 -15000 -15000]\n",
      " [-15000 -15000 -15000 ... -15000 -15000 -15000]\n",
      " [-15000 -15000 -15000 ... -15000 -15000 -15000]\n",
      " ...\n",
      " [-15000 -15000 -15000 ... -15000 -15000 -15000]\n",
      " [-15000 -15000 -15000 ... -15000 -15000 -15000]\n",
      " [-15000 -15000 -15000 ... -15000 -15000 -15000]]\n",
      "<xarray.DataArray (y: 1200, x: 1200)>\n",
      "array([[-15000, -15000, -15000, ..., -15000, -15000, -15000],\n",
      "       [-15000, -15000, -15000, ..., -15000, -15000, -15000],\n",
      "       [-15000, -15000, -15000, ..., -15000, -15000, -15000],\n",
      "       ...,\n",
      "       [-15000, -15000, -15000, ..., -15000, -15000, -15000],\n",
      "       [-15000, -15000, -15000, ..., -15000, -15000, -15000],\n",
      "       [-15000, -15000, -15000, ..., -15000, -15000, -15000]], dtype=int16)\n",
      "Dimensions without coordinates: y, x\n",
      "Processed item 9\n"
     ]
    },
    {
     "name": "stderr",
     "output_type": "stream",
     "text": [
      "c:\\Users\\cinfante\\OneDrive - NRCan RNCan\\Documents\\Greenup\\NASA-LPDAAC-Testing\\venv\\Lib\\site-packages\\urllib3\\connectionpool.py:1056: InsecureRequestWarning: Unverified HTTPS request is being made to host 'data.lpdaac.earthdatacloud.nasa.gov'. Adding certificate verification is strongly advised. See: https://urllib3.readthedocs.io/en/1.26.x/advanced-usage.html#ssl-warnings\n",
      "  warnings.warn(\n",
      "c:\\Users\\cinfante\\OneDrive - NRCan RNCan\\Documents\\Greenup\\NASA-LPDAAC-Testing\\venv\\Lib\\site-packages\\urllib3\\connectionpool.py:1056: InsecureRequestWarning: Unverified HTTPS request is being made to host 'urs.earthdata.nasa.gov'. Adding certificate verification is strongly advised. See: https://urllib3.readthedocs.io/en/1.26.x/advanced-usage.html#ssl-warnings\n",
      "  warnings.warn(\n",
      "c:\\Users\\cinfante\\OneDrive - NRCan RNCan\\Documents\\Greenup\\NASA-LPDAAC-Testing\\venv\\Lib\\site-packages\\urllib3\\connectionpool.py:1056: InsecureRequestWarning: Unverified HTTPS request is being made to host 'data.lpdaac.earthdatacloud.nasa.gov'. Adding certificate verification is strongly advised. See: https://urllib3.readthedocs.io/en/1.26.x/advanced-usage.html#ssl-warnings\n",
      "  warnings.warn(\n",
      "c:\\Users\\cinfante\\OneDrive - NRCan RNCan\\Documents\\Greenup\\NASA-LPDAAC-Testing\\venv\\Lib\\site-packages\\urllib3\\connectionpool.py:1056: InsecureRequestWarning: Unverified HTTPS request is being made to host 'data.lpdaac.earthdatacloud.nasa.gov'. Adding certificate verification is strongly advised. See: https://urllib3.readthedocs.io/en/1.26.x/advanced-usage.html#ssl-warnings\n",
      "  warnings.warn(\n",
      "c:\\Users\\cinfante\\OneDrive - NRCan RNCan\\Documents\\Greenup\\NASA-LPDAAC-Testing\\venv\\Lib\\site-packages\\urllib3\\connectionpool.py:1056: InsecureRequestWarning: Unverified HTTPS request is being made to host 'd1nklfio7vscoe.cloudfront.net'. Adding certificate verification is strongly advised. See: https://urllib3.readthedocs.io/en/1.26.x/advanced-usage.html#ssl-warnings\n",
      "  warnings.warn(\n"
     ]
    },
    {
     "name": "stdout",
     "output_type": "stream",
     "text": [
      "https://data.lpdaac.earthdatacloud.nasa.gov/lp-prod-protected/VNP13A2.002/VNP13A2.A2023185.h10v03.002.2023201111147/VNP13A2.A2023185.h10v03.002.2023201111147.h5\n",
      "[[6482 6881 6971 ... 3106 2400 1495]\n",
      " [3762 6381 6013 ... 1974  394 3539]\n",
      " [5649 5536 8079 ... 8791 8743 8206]\n",
      " ...\n",
      " [8173 8166 7707 ... 5429 2550 2899]\n",
      " [7808 7472 8046 ... 1941 2880 2110]\n",
      " [4805 7486 6943 ... 2264 2103 3331]]\n",
      "<xarray.DataArray (y: 1200, x: 1200)>\n",
      "array([[6482, 6881, 6971, ..., 3106, 2400, 1495],\n",
      "       [3762, 6381, 6013, ..., 1974,  394, 3539],\n",
      "       [5649, 5536, 8079, ..., 8791, 8743, 8206],\n",
      "       ...,\n",
      "       [8173, 8166, 7707, ..., 5429, 2550, 2899],\n",
      "       [7808, 7472, 8046, ..., 1941, 2880, 2110],\n",
      "       [4805, 7486, 6943, ..., 2264, 2103, 3331]], dtype=int16)\n",
      "Dimensions without coordinates: y, x\n",
      "Processed item 10\n"
     ]
    },
    {
     "name": "stderr",
     "output_type": "stream",
     "text": [
      "c:\\Users\\cinfante\\OneDrive - NRCan RNCan\\Documents\\Greenup\\NASA-LPDAAC-Testing\\venv\\Lib\\site-packages\\urllib3\\connectionpool.py:1056: InsecureRequestWarning: Unverified HTTPS request is being made to host 'data.lpdaac.earthdatacloud.nasa.gov'. Adding certificate verification is strongly advised. See: https://urllib3.readthedocs.io/en/1.26.x/advanced-usage.html#ssl-warnings\n",
      "  warnings.warn(\n",
      "c:\\Users\\cinfante\\OneDrive - NRCan RNCan\\Documents\\Greenup\\NASA-LPDAAC-Testing\\venv\\Lib\\site-packages\\urllib3\\connectionpool.py:1056: InsecureRequestWarning: Unverified HTTPS request is being made to host 'urs.earthdata.nasa.gov'. Adding certificate verification is strongly advised. See: https://urllib3.readthedocs.io/en/1.26.x/advanced-usage.html#ssl-warnings\n",
      "  warnings.warn(\n",
      "c:\\Users\\cinfante\\OneDrive - NRCan RNCan\\Documents\\Greenup\\NASA-LPDAAC-Testing\\venv\\Lib\\site-packages\\urllib3\\connectionpool.py:1056: InsecureRequestWarning: Unverified HTTPS request is being made to host 'data.lpdaac.earthdatacloud.nasa.gov'. Adding certificate verification is strongly advised. See: https://urllib3.readthedocs.io/en/1.26.x/advanced-usage.html#ssl-warnings\n",
      "  warnings.warn(\n",
      "c:\\Users\\cinfante\\OneDrive - NRCan RNCan\\Documents\\Greenup\\NASA-LPDAAC-Testing\\venv\\Lib\\site-packages\\urllib3\\connectionpool.py:1056: InsecureRequestWarning: Unverified HTTPS request is being made to host 'data.lpdaac.earthdatacloud.nasa.gov'. Adding certificate verification is strongly advised. See: https://urllib3.readthedocs.io/en/1.26.x/advanced-usage.html#ssl-warnings\n",
      "  warnings.warn(\n",
      "c:\\Users\\cinfante\\OneDrive - NRCan RNCan\\Documents\\Greenup\\NASA-LPDAAC-Testing\\venv\\Lib\\site-packages\\urllib3\\connectionpool.py:1056: InsecureRequestWarning: Unverified HTTPS request is being made to host 'd1nklfio7vscoe.cloudfront.net'. Adding certificate verification is strongly advised. See: https://urllib3.readthedocs.io/en/1.26.x/advanced-usage.html#ssl-warnings\n",
      "  warnings.warn(\n"
     ]
    },
    {
     "name": "stdout",
     "output_type": "stream",
     "text": [
      "https://data.lpdaac.earthdatacloud.nasa.gov/lp-prod-protected/VNP13A2.002/VNP13A2.A2023185.h09v03.002.2023201112210/VNP13A2.A2023185.h09v03.002.2023201112210.h5\n",
      "[[-15000 -15000 -15000 ...   6802   6921   6431]\n",
      " [-15000 -15000 -15000 ...   4693   6740   6428]\n",
      " [-15000 -15000 -15000 ...   1921   3074   3684]\n",
      " ...\n",
      " [-15000 -15000 -15000 ...   8120   6793   7263]\n",
      " [-15000 -15000 -15000 ...   7240   7455   7933]\n",
      " [-15000 -15000 -15000 ...   7830   7444   6832]]\n",
      "<xarray.DataArray (y: 1200, x: 1200)>\n",
      "array([[-15000, -15000, -15000, ...,   6802,   6921,   6431],\n",
      "       [-15000, -15000, -15000, ...,   4693,   6740,   6428],\n",
      "       [-15000, -15000, -15000, ...,   1921,   3074,   3684],\n",
      "       ...,\n",
      "       [-15000, -15000, -15000, ...,   8120,   6793,   7263],\n",
      "       [-15000, -15000, -15000, ...,   7240,   7455,   7933],\n",
      "       [-15000, -15000, -15000, ...,   7830,   7444,   6832]], dtype=int16)\n",
      "Dimensions without coordinates: y, x\n",
      "Processed item 11\n"
     ]
    },
    {
     "name": "stderr",
     "output_type": "stream",
     "text": [
      "c:\\Users\\cinfante\\OneDrive - NRCan RNCan\\Documents\\Greenup\\NASA-LPDAAC-Testing\\venv\\Lib\\site-packages\\urllib3\\connectionpool.py:1056: InsecureRequestWarning: Unverified HTTPS request is being made to host 'data.lpdaac.earthdatacloud.nasa.gov'. Adding certificate verification is strongly advised. See: https://urllib3.readthedocs.io/en/1.26.x/advanced-usage.html#ssl-warnings\n",
      "  warnings.warn(\n",
      "c:\\Users\\cinfante\\OneDrive - NRCan RNCan\\Documents\\Greenup\\NASA-LPDAAC-Testing\\venv\\Lib\\site-packages\\urllib3\\connectionpool.py:1056: InsecureRequestWarning: Unverified HTTPS request is being made to host 'urs.earthdata.nasa.gov'. Adding certificate verification is strongly advised. See: https://urllib3.readthedocs.io/en/1.26.x/advanced-usage.html#ssl-warnings\n",
      "  warnings.warn(\n",
      "c:\\Users\\cinfante\\OneDrive - NRCan RNCan\\Documents\\Greenup\\NASA-LPDAAC-Testing\\venv\\Lib\\site-packages\\urllib3\\connectionpool.py:1056: InsecureRequestWarning: Unverified HTTPS request is being made to host 'data.lpdaac.earthdatacloud.nasa.gov'. Adding certificate verification is strongly advised. See: https://urllib3.readthedocs.io/en/1.26.x/advanced-usage.html#ssl-warnings\n",
      "  warnings.warn(\n",
      "c:\\Users\\cinfante\\OneDrive - NRCan RNCan\\Documents\\Greenup\\NASA-LPDAAC-Testing\\venv\\Lib\\site-packages\\urllib3\\connectionpool.py:1056: InsecureRequestWarning: Unverified HTTPS request is being made to host 'data.lpdaac.earthdatacloud.nasa.gov'. Adding certificate verification is strongly advised. See: https://urllib3.readthedocs.io/en/1.26.x/advanced-usage.html#ssl-warnings\n",
      "  warnings.warn(\n",
      "c:\\Users\\cinfante\\OneDrive - NRCan RNCan\\Documents\\Greenup\\NASA-LPDAAC-Testing\\venv\\Lib\\site-packages\\urllib3\\connectionpool.py:1056: InsecureRequestWarning: Unverified HTTPS request is being made to host 'd1nklfio7vscoe.cloudfront.net'. Adding certificate verification is strongly advised. See: https://urllib3.readthedocs.io/en/1.26.x/advanced-usage.html#ssl-warnings\n",
      "  warnings.warn(\n"
     ]
    },
    {
     "name": "stdout",
     "output_type": "stream",
     "text": [
      "https://data.lpdaac.earthdatacloud.nasa.gov/lp-prod-protected/VNP13A2.002/VNP13A2.A2023185.h12v03.002.2023201105447/VNP13A2.A2023185.h12v03.002.2023201105447.h5\n",
      "[[ 2380  5075  1458 ...  5201  4840  2922]\n",
      " [ 2721   983   891 ...  -344 -1404  5859]\n",
      " [ 5171  4611  5332 ...  6675  6263  -927]\n",
      " ...\n",
      " [ 8536  8731  8736 ...  5031  5255  6924]\n",
      " [ 8721  8795  8320 ...  5080  4853  6361]\n",
      " [ 7702  8569  8447 ...  3736  2719  6247]]\n",
      "<xarray.DataArray (y: 1200, x: 1200)>\n",
      "array([[ 2380,  5075,  1458, ...,  5201,  4840,  2922],\n",
      "       [ 2721,   983,   891, ...,  -344, -1404,  5859],\n",
      "       [ 5171,  4611,  5332, ...,  6675,  6263,  -927],\n",
      "       ...,\n",
      "       [ 8536,  8731,  8736, ...,  5031,  5255,  6924],\n",
      "       [ 8721,  8795,  8320, ...,  5080,  4853,  6361],\n",
      "       [ 7702,  8569,  8447, ...,  3736,  2719,  6247]], dtype=int16)\n",
      "Dimensions without coordinates: y, x\n",
      "Processed item 12\n"
     ]
    },
    {
     "name": "stderr",
     "output_type": "stream",
     "text": [
      "c:\\Users\\cinfante\\OneDrive - NRCan RNCan\\Documents\\Greenup\\NASA-LPDAAC-Testing\\venv\\Lib\\site-packages\\urllib3\\connectionpool.py:1056: InsecureRequestWarning: Unverified HTTPS request is being made to host 'data.lpdaac.earthdatacloud.nasa.gov'. Adding certificate verification is strongly advised. See: https://urllib3.readthedocs.io/en/1.26.x/advanced-usage.html#ssl-warnings\n",
      "  warnings.warn(\n",
      "c:\\Users\\cinfante\\OneDrive - NRCan RNCan\\Documents\\Greenup\\NASA-LPDAAC-Testing\\venv\\Lib\\site-packages\\urllib3\\connectionpool.py:1056: InsecureRequestWarning: Unverified HTTPS request is being made to host 'urs.earthdata.nasa.gov'. Adding certificate verification is strongly advised. See: https://urllib3.readthedocs.io/en/1.26.x/advanced-usage.html#ssl-warnings\n",
      "  warnings.warn(\n",
      "c:\\Users\\cinfante\\OneDrive - NRCan RNCan\\Documents\\Greenup\\NASA-LPDAAC-Testing\\venv\\Lib\\site-packages\\urllib3\\connectionpool.py:1056: InsecureRequestWarning: Unverified HTTPS request is being made to host 'data.lpdaac.earthdatacloud.nasa.gov'. Adding certificate verification is strongly advised. See: https://urllib3.readthedocs.io/en/1.26.x/advanced-usage.html#ssl-warnings\n",
      "  warnings.warn(\n",
      "c:\\Users\\cinfante\\OneDrive - NRCan RNCan\\Documents\\Greenup\\NASA-LPDAAC-Testing\\venv\\Lib\\site-packages\\urllib3\\connectionpool.py:1056: InsecureRequestWarning: Unverified HTTPS request is being made to host 'data.lpdaac.earthdatacloud.nasa.gov'. Adding certificate verification is strongly advised. See: https://urllib3.readthedocs.io/en/1.26.x/advanced-usage.html#ssl-warnings\n",
      "  warnings.warn(\n",
      "c:\\Users\\cinfante\\OneDrive - NRCan RNCan\\Documents\\Greenup\\NASA-LPDAAC-Testing\\venv\\Lib\\site-packages\\urllib3\\connectionpool.py:1056: InsecureRequestWarning: Unverified HTTPS request is being made to host 'd1nklfio7vscoe.cloudfront.net'. Adding certificate verification is strongly advised. See: https://urllib3.readthedocs.io/en/1.26.x/advanced-usage.html#ssl-warnings\n",
      "  warnings.warn(\n"
     ]
    },
    {
     "name": "stdout",
     "output_type": "stream",
     "text": [
      "https://data.lpdaac.earthdatacloud.nasa.gov/lp-prod-protected/VNP13A2.002/VNP13A2.A2023185.h13v03.002.2023201105456/VNP13A2.A2023185.h13v03.002.2023201105456.h5\n",
      "[[-15000 -15000 -15000 ... -15000 -15000 -15000]\n",
      " [-15000 -15000  -1396 ... -15000 -15000 -15000]\n",
      " [  -909   -588   -695 ... -15000 -15000 -15000]\n",
      " ...\n",
      " [  6292   6435   7055 ... -15000 -15000 -15000]\n",
      " [  6330   6778   7924 ... -15000 -15000 -15000]\n",
      " [  7107   7694   6463 ... -15000 -15000 -15000]]\n",
      "<xarray.DataArray (y: 1200, x: 1200)>\n",
      "array([[-15000, -15000, -15000, ..., -15000, -15000, -15000],\n",
      "       [-15000, -15000,  -1396, ..., -15000, -15000, -15000],\n",
      "       [  -909,   -588,   -695, ..., -15000, -15000, -15000],\n",
      "       ...,\n",
      "       [  6292,   6435,   7055, ..., -15000, -15000, -15000],\n",
      "       [  6330,   6778,   7924, ..., -15000, -15000, -15000],\n",
      "       [  7107,   7694,   6463, ..., -15000, -15000, -15000]], dtype=int16)\n",
      "Dimensions without coordinates: y, x\n",
      "Processed item 13\n"
     ]
    },
    {
     "name": "stderr",
     "output_type": "stream",
     "text": [
      "c:\\Users\\cinfante\\OneDrive - NRCan RNCan\\Documents\\Greenup\\NASA-LPDAAC-Testing\\venv\\Lib\\site-packages\\urllib3\\connectionpool.py:1056: InsecureRequestWarning: Unverified HTTPS request is being made to host 'data.lpdaac.earthdatacloud.nasa.gov'. Adding certificate verification is strongly advised. See: https://urllib3.readthedocs.io/en/1.26.x/advanced-usage.html#ssl-warnings\n",
      "  warnings.warn(\n",
      "c:\\Users\\cinfante\\OneDrive - NRCan RNCan\\Documents\\Greenup\\NASA-LPDAAC-Testing\\venv\\Lib\\site-packages\\urllib3\\connectionpool.py:1056: InsecureRequestWarning: Unverified HTTPS request is being made to host 'urs.earthdata.nasa.gov'. Adding certificate verification is strongly advised. See: https://urllib3.readthedocs.io/en/1.26.x/advanced-usage.html#ssl-warnings\n",
      "  warnings.warn(\n",
      "c:\\Users\\cinfante\\OneDrive - NRCan RNCan\\Documents\\Greenup\\NASA-LPDAAC-Testing\\venv\\Lib\\site-packages\\urllib3\\connectionpool.py:1056: InsecureRequestWarning: Unverified HTTPS request is being made to host 'data.lpdaac.earthdatacloud.nasa.gov'. Adding certificate verification is strongly advised. See: https://urllib3.readthedocs.io/en/1.26.x/advanced-usage.html#ssl-warnings\n",
      "  warnings.warn(\n",
      "c:\\Users\\cinfante\\OneDrive - NRCan RNCan\\Documents\\Greenup\\NASA-LPDAAC-Testing\\venv\\Lib\\site-packages\\urllib3\\connectionpool.py:1056: InsecureRequestWarning: Unverified HTTPS request is being made to host 'data.lpdaac.earthdatacloud.nasa.gov'. Adding certificate verification is strongly advised. See: https://urllib3.readthedocs.io/en/1.26.x/advanced-usage.html#ssl-warnings\n",
      "  warnings.warn(\n",
      "c:\\Users\\cinfante\\OneDrive - NRCan RNCan\\Documents\\Greenup\\NASA-LPDAAC-Testing\\venv\\Lib\\site-packages\\urllib3\\connectionpool.py:1056: InsecureRequestWarning: Unverified HTTPS request is being made to host 'd1nklfio7vscoe.cloudfront.net'. Adding certificate verification is strongly advised. See: https://urllib3.readthedocs.io/en/1.26.x/advanced-usage.html#ssl-warnings\n",
      "  warnings.warn(\n"
     ]
    },
    {
     "name": "stdout",
     "output_type": "stream",
     "text": [
      "https://data.lpdaac.earthdatacloud.nasa.gov/lp-prod-protected/VNP13A2.002/VNP13A2.A2023185.h11v03.002.2023201105408/VNP13A2.A2023185.h11v03.002.2023201105408.h5\n",
      "[[3367 5039 7561 ... 6440 6190 2687]\n",
      " [4739 5828 4861 ... 6003  894 2252]\n",
      " [6757 6346 6570 ... 2201 2170 2110]\n",
      " ...\n",
      " [3014 3493 4157 ... 8357 8452 8542]\n",
      " [2936 3955 4054 ... 8233 8386 8680]\n",
      " [3447 3580 4247 ... 8516 7952 7606]]\n",
      "<xarray.DataArray (y: 1200, x: 1200)>\n",
      "array([[3367, 5039, 7561, ..., 6440, 6190, 2687],\n",
      "       [4739, 5828, 4861, ..., 6003,  894, 2252],\n",
      "       [6757, 6346, 6570, ..., 2201, 2170, 2110],\n",
      "       ...,\n",
      "       [3014, 3493, 4157, ..., 8357, 8452, 8542],\n",
      "       [2936, 3955, 4054, ..., 8233, 8386, 8680],\n",
      "       [3447, 3580, 4247, ..., 8516, 7952, 7606]], dtype=int16)\n",
      "Dimensions without coordinates: y, x\n",
      "Processed item 14\n"
     ]
    },
    {
     "name": "stderr",
     "output_type": "stream",
     "text": [
      "c:\\Users\\cinfante\\OneDrive - NRCan RNCan\\Documents\\Greenup\\NASA-LPDAAC-Testing\\venv\\Lib\\site-packages\\urllib3\\connectionpool.py:1056: InsecureRequestWarning: Unverified HTTPS request is being made to host 'data.lpdaac.earthdatacloud.nasa.gov'. Adding certificate verification is strongly advised. See: https://urllib3.readthedocs.io/en/1.26.x/advanced-usage.html#ssl-warnings\n",
      "  warnings.warn(\n",
      "c:\\Users\\cinfante\\OneDrive - NRCan RNCan\\Documents\\Greenup\\NASA-LPDAAC-Testing\\venv\\Lib\\site-packages\\urllib3\\connectionpool.py:1056: InsecureRequestWarning: Unverified HTTPS request is being made to host 'urs.earthdata.nasa.gov'. Adding certificate verification is strongly advised. See: https://urllib3.readthedocs.io/en/1.26.x/advanced-usage.html#ssl-warnings\n",
      "  warnings.warn(\n",
      "c:\\Users\\cinfante\\OneDrive - NRCan RNCan\\Documents\\Greenup\\NASA-LPDAAC-Testing\\venv\\Lib\\site-packages\\urllib3\\connectionpool.py:1056: InsecureRequestWarning: Unverified HTTPS request is being made to host 'data.lpdaac.earthdatacloud.nasa.gov'. Adding certificate verification is strongly advised. See: https://urllib3.readthedocs.io/en/1.26.x/advanced-usage.html#ssl-warnings\n",
      "  warnings.warn(\n",
      "c:\\Users\\cinfante\\OneDrive - NRCan RNCan\\Documents\\Greenup\\NASA-LPDAAC-Testing\\venv\\Lib\\site-packages\\urllib3\\connectionpool.py:1056: InsecureRequestWarning: Unverified HTTPS request is being made to host 'data.lpdaac.earthdatacloud.nasa.gov'. Adding certificate verification is strongly advised. See: https://urllib3.readthedocs.io/en/1.26.x/advanced-usage.html#ssl-warnings\n",
      "  warnings.warn(\n",
      "c:\\Users\\cinfante\\OneDrive - NRCan RNCan\\Documents\\Greenup\\NASA-LPDAAC-Testing\\venv\\Lib\\site-packages\\urllib3\\connectionpool.py:1056: InsecureRequestWarning: Unverified HTTPS request is being made to host 'd1nklfio7vscoe.cloudfront.net'. Adding certificate verification is strongly advised. See: https://urllib3.readthedocs.io/en/1.26.x/advanced-usage.html#ssl-warnings\n",
      "  warnings.warn(\n"
     ]
    },
    {
     "name": "stdout",
     "output_type": "stream",
     "text": [
      "https://data.lpdaac.earthdatacloud.nasa.gov/lp-prod-protected/VNP13A2.002/VNP13A2.A2023185.h10v02.002.2023201115854/VNP13A2.A2023185.h10v02.002.2023201115854.h5\n",
      "[[-15000 -15000 -15000 ... -15000 -15000 -15000]\n",
      " [-15000 -15000 -15000 ... -15000 -15000 -15000]\n",
      " [-15000 -15000 -15000 ... -15000 -15000 -15000]\n",
      " ...\n",
      " [  8038   7334   7245 ...   8250   6134   4048]\n",
      " [  6832   6742   6502 ...   7653    289   1988]\n",
      " [  6618   6208   6228 ...   5534   2024   1607]]\n",
      "<xarray.DataArray (y: 1200, x: 1200)>\n",
      "array([[-15000, -15000, -15000, ..., -15000, -15000, -15000],\n",
      "       [-15000, -15000, -15000, ..., -15000, -15000, -15000],\n",
      "       [-15000, -15000, -15000, ..., -15000, -15000, -15000],\n",
      "       ...,\n",
      "       [  8038,   7334,   7245, ...,   8250,   6134,   4048],\n",
      "       [  6832,   6742,   6502, ...,   7653,    289,   1988],\n",
      "       [  6618,   6208,   6228, ...,   5534,   2024,   1607]], dtype=int16)\n",
      "Dimensions without coordinates: y, x\n",
      "Processed item 15\n"
     ]
    },
    {
     "name": "stderr",
     "output_type": "stream",
     "text": [
      "c:\\Users\\cinfante\\OneDrive - NRCan RNCan\\Documents\\Greenup\\NASA-LPDAAC-Testing\\venv\\Lib\\site-packages\\urllib3\\connectionpool.py:1056: InsecureRequestWarning: Unverified HTTPS request is being made to host 'data.lpdaac.earthdatacloud.nasa.gov'. Adding certificate verification is strongly advised. See: https://urllib3.readthedocs.io/en/1.26.x/advanced-usage.html#ssl-warnings\n",
      "  warnings.warn(\n",
      "c:\\Users\\cinfante\\OneDrive - NRCan RNCan\\Documents\\Greenup\\NASA-LPDAAC-Testing\\venv\\Lib\\site-packages\\urllib3\\connectionpool.py:1056: InsecureRequestWarning: Unverified HTTPS request is being made to host 'urs.earthdata.nasa.gov'. Adding certificate verification is strongly advised. See: https://urllib3.readthedocs.io/en/1.26.x/advanced-usage.html#ssl-warnings\n",
      "  warnings.warn(\n",
      "c:\\Users\\cinfante\\OneDrive - NRCan RNCan\\Documents\\Greenup\\NASA-LPDAAC-Testing\\venv\\Lib\\site-packages\\urllib3\\connectionpool.py:1056: InsecureRequestWarning: Unverified HTTPS request is being made to host 'data.lpdaac.earthdatacloud.nasa.gov'. Adding certificate verification is strongly advised. See: https://urllib3.readthedocs.io/en/1.26.x/advanced-usage.html#ssl-warnings\n",
      "  warnings.warn(\n",
      "c:\\Users\\cinfante\\OneDrive - NRCan RNCan\\Documents\\Greenup\\NASA-LPDAAC-Testing\\venv\\Lib\\site-packages\\urllib3\\connectionpool.py:1056: InsecureRequestWarning: Unverified HTTPS request is being made to host 'data.lpdaac.earthdatacloud.nasa.gov'. Adding certificate verification is strongly advised. See: https://urllib3.readthedocs.io/en/1.26.x/advanced-usage.html#ssl-warnings\n",
      "  warnings.warn(\n",
      "c:\\Users\\cinfante\\OneDrive - NRCan RNCan\\Documents\\Greenup\\NASA-LPDAAC-Testing\\venv\\Lib\\site-packages\\urllib3\\connectionpool.py:1056: InsecureRequestWarning: Unverified HTTPS request is being made to host 'd1nklfio7vscoe.cloudfront.net'. Adding certificate verification is strongly advised. See: https://urllib3.readthedocs.io/en/1.26.x/advanced-usage.html#ssl-warnings\n",
      "  warnings.warn(\n"
     ]
    },
    {
     "name": "stdout",
     "output_type": "stream",
     "text": [
      "https://data.lpdaac.earthdatacloud.nasa.gov/lp-prod-protected/VNP13A2.002/VNP13A2.A2023185.h13v01.002.2023201114911/VNP13A2.A2023185.h13v01.002.2023201114911.h5\n",
      "[[-15000 -15000 -15000 ... -15000 -15000 -15000]\n",
      " [-15000 -15000 -15000 ... -15000 -15000 -15000]\n",
      " [-15000 -15000 -15000 ... -15000 -15000 -15000]\n",
      " ...\n",
      " [  5732   5660   5741 ...   2054   2252   2178]\n",
      " [  5652   5701   5414 ...   2744   2567   2174]\n",
      " [  5574   5361   3577 ...   2139   2390   1993]]\n",
      "<xarray.DataArray (y: 1200, x: 1200)>\n",
      "array([[-15000, -15000, -15000, ..., -15000, -15000, -15000],\n",
      "       [-15000, -15000, -15000, ..., -15000, -15000, -15000],\n",
      "       [-15000, -15000, -15000, ..., -15000, -15000, -15000],\n",
      "       ...,\n",
      "       [  5732,   5660,   5741, ...,   2054,   2252,   2178],\n",
      "       [  5652,   5701,   5414, ...,   2744,   2567,   2174],\n",
      "       [  5574,   5361,   3577, ...,   2139,   2390,   1993]], dtype=int16)\n",
      "Dimensions without coordinates: y, x\n",
      "Processed item 16\n"
     ]
    },
    {
     "name": "stderr",
     "output_type": "stream",
     "text": [
      "c:\\Users\\cinfante\\OneDrive - NRCan RNCan\\Documents\\Greenup\\NASA-LPDAAC-Testing\\venv\\Lib\\site-packages\\urllib3\\connectionpool.py:1056: InsecureRequestWarning: Unverified HTTPS request is being made to host 'data.lpdaac.earthdatacloud.nasa.gov'. Adding certificate verification is strongly advised. See: https://urllib3.readthedocs.io/en/1.26.x/advanced-usage.html#ssl-warnings\n",
      "  warnings.warn(\n",
      "c:\\Users\\cinfante\\OneDrive - NRCan RNCan\\Documents\\Greenup\\NASA-LPDAAC-Testing\\venv\\Lib\\site-packages\\urllib3\\connectionpool.py:1056: InsecureRequestWarning: Unverified HTTPS request is being made to host 'urs.earthdata.nasa.gov'. Adding certificate verification is strongly advised. See: https://urllib3.readthedocs.io/en/1.26.x/advanced-usage.html#ssl-warnings\n",
      "  warnings.warn(\n",
      "c:\\Users\\cinfante\\OneDrive - NRCan RNCan\\Documents\\Greenup\\NASA-LPDAAC-Testing\\venv\\Lib\\site-packages\\urllib3\\connectionpool.py:1056: InsecureRequestWarning: Unverified HTTPS request is being made to host 'data.lpdaac.earthdatacloud.nasa.gov'. Adding certificate verification is strongly advised. See: https://urllib3.readthedocs.io/en/1.26.x/advanced-usage.html#ssl-warnings\n",
      "  warnings.warn(\n",
      "c:\\Users\\cinfante\\OneDrive - NRCan RNCan\\Documents\\Greenup\\NASA-LPDAAC-Testing\\venv\\Lib\\site-packages\\urllib3\\connectionpool.py:1056: InsecureRequestWarning: Unverified HTTPS request is being made to host 'data.lpdaac.earthdatacloud.nasa.gov'. Adding certificate verification is strongly advised. See: https://urllib3.readthedocs.io/en/1.26.x/advanced-usage.html#ssl-warnings\n",
      "  warnings.warn(\n",
      "c:\\Users\\cinfante\\OneDrive - NRCan RNCan\\Documents\\Greenup\\NASA-LPDAAC-Testing\\venv\\Lib\\site-packages\\urllib3\\connectionpool.py:1056: InsecureRequestWarning: Unverified HTTPS request is being made to host 'd1nklfio7vscoe.cloudfront.net'. Adding certificate verification is strongly advised. See: https://urllib3.readthedocs.io/en/1.26.x/advanced-usage.html#ssl-warnings\n",
      "  warnings.warn(\n"
     ]
    },
    {
     "name": "stdout",
     "output_type": "stream",
     "text": [
      "https://data.lpdaac.earthdatacloud.nasa.gov/lp-prod-protected/VNP13A2.002/VNP13A2.A2023185.h15v02.002.2023201113201/VNP13A2.A2023185.h15v02.002.2023201113201.h5\n",
      "[[-15000 -15000 -15000 ... -15000 -15000 -15000]\n",
      " [-15000 -15000 -15000 ... -15000 -15000 -15000]\n",
      " [-15000 -15000 -15000 ... -15000 -15000 -15000]\n",
      " ...\n",
      " [-15000 -15000 -15000 ... -15000 -15000 -15000]\n",
      " [-15000 -15000 -15000 ... -15000 -15000 -15000]\n",
      " [-15000 -15000 -15000 ... -15000 -15000 -15000]]\n",
      "<xarray.DataArray (y: 1200, x: 1200)>\n",
      "array([[-15000, -15000, -15000, ..., -15000, -15000, -15000],\n",
      "       [-15000, -15000, -15000, ..., -15000, -15000, -15000],\n",
      "       [-15000, -15000, -15000, ..., -15000, -15000, -15000],\n",
      "       ...,\n",
      "       [-15000, -15000, -15000, ..., -15000, -15000, -15000],\n",
      "       [-15000, -15000, -15000, ..., -15000, -15000, -15000],\n",
      "       [-15000, -15000, -15000, ..., -15000, -15000, -15000]], dtype=int16)\n",
      "Dimensions without coordinates: y, x\n",
      "Processed item 17\n"
     ]
    },
    {
     "name": "stderr",
     "output_type": "stream",
     "text": [
      "c:\\Users\\cinfante\\OneDrive - NRCan RNCan\\Documents\\Greenup\\NASA-LPDAAC-Testing\\venv\\Lib\\site-packages\\urllib3\\connectionpool.py:1056: InsecureRequestWarning: Unverified HTTPS request is being made to host 'data.lpdaac.earthdatacloud.nasa.gov'. Adding certificate verification is strongly advised. See: https://urllib3.readthedocs.io/en/1.26.x/advanced-usage.html#ssl-warnings\n",
      "  warnings.warn(\n",
      "c:\\Users\\cinfante\\OneDrive - NRCan RNCan\\Documents\\Greenup\\NASA-LPDAAC-Testing\\venv\\Lib\\site-packages\\urllib3\\connectionpool.py:1056: InsecureRequestWarning: Unverified HTTPS request is being made to host 'urs.earthdata.nasa.gov'. Adding certificate verification is strongly advised. See: https://urllib3.readthedocs.io/en/1.26.x/advanced-usage.html#ssl-warnings\n",
      "  warnings.warn(\n",
      "c:\\Users\\cinfante\\OneDrive - NRCan RNCan\\Documents\\Greenup\\NASA-LPDAAC-Testing\\venv\\Lib\\site-packages\\urllib3\\connectionpool.py:1056: InsecureRequestWarning: Unverified HTTPS request is being made to host 'data.lpdaac.earthdatacloud.nasa.gov'. Adding certificate verification is strongly advised. See: https://urllib3.readthedocs.io/en/1.26.x/advanced-usage.html#ssl-warnings\n",
      "  warnings.warn(\n",
      "c:\\Users\\cinfante\\OneDrive - NRCan RNCan\\Documents\\Greenup\\NASA-LPDAAC-Testing\\venv\\Lib\\site-packages\\urllib3\\connectionpool.py:1056: InsecureRequestWarning: Unverified HTTPS request is being made to host 'data.lpdaac.earthdatacloud.nasa.gov'. Adding certificate verification is strongly advised. See: https://urllib3.readthedocs.io/en/1.26.x/advanced-usage.html#ssl-warnings\n",
      "  warnings.warn(\n",
      "c:\\Users\\cinfante\\OneDrive - NRCan RNCan\\Documents\\Greenup\\NASA-LPDAAC-Testing\\venv\\Lib\\site-packages\\urllib3\\connectionpool.py:1056: InsecureRequestWarning: Unverified HTTPS request is being made to host 'd1nklfio7vscoe.cloudfront.net'. Adding certificate verification is strongly advised. See: https://urllib3.readthedocs.io/en/1.26.x/advanced-usage.html#ssl-warnings\n",
      "  warnings.warn(\n"
     ]
    },
    {
     "name": "stdout",
     "output_type": "stream",
     "text": [
      "https://data.lpdaac.earthdatacloud.nasa.gov/lp-prod-protected/VNP13A2.002/VNP13A2.A2023185.h16v02.002.2023201115923/VNP13A2.A2023185.h16v02.002.2023201115923.h5\n",
      "[[-15000 -15000 -15000 ...   -502   -566   -295]\n",
      " [-15000 -15000 -15000 ...   -467   -700   -688]\n",
      " [-15000 -15000 -15000 ...   -360   -680   -598]\n",
      " ...\n",
      " [-15000 -15000 -15000 ... -15000 -15000 -15000]\n",
      " [-15000 -15000 -15000 ... -15000 -15000 -15000]\n",
      " [-15000 -15000 -15000 ... -15000 -15000 -15000]]\n",
      "<xarray.DataArray (y: 1200, x: 1200)>\n",
      "array([[-15000, -15000, -15000, ...,   -502,   -566,   -295],\n",
      "       [-15000, -15000, -15000, ...,   -467,   -700,   -688],\n",
      "       [-15000, -15000, -15000, ...,   -360,   -680,   -598],\n",
      "       ...,\n",
      "       [-15000, -15000, -15000, ..., -15000, -15000, -15000],\n",
      "       [-15000, -15000, -15000, ..., -15000, -15000, -15000],\n",
      "       [-15000, -15000, -15000, ..., -15000, -15000, -15000]], dtype=int16)\n",
      "Dimensions without coordinates: y, x\n",
      "Processed item 18\n"
     ]
    },
    {
     "name": "stderr",
     "output_type": "stream",
     "text": [
      "c:\\Users\\cinfante\\OneDrive - NRCan RNCan\\Documents\\Greenup\\NASA-LPDAAC-Testing\\venv\\Lib\\site-packages\\urllib3\\connectionpool.py:1056: InsecureRequestWarning: Unverified HTTPS request is being made to host 'data.lpdaac.earthdatacloud.nasa.gov'. Adding certificate verification is strongly advised. See: https://urllib3.readthedocs.io/en/1.26.x/advanced-usage.html#ssl-warnings\n",
      "  warnings.warn(\n",
      "c:\\Users\\cinfante\\OneDrive - NRCan RNCan\\Documents\\Greenup\\NASA-LPDAAC-Testing\\venv\\Lib\\site-packages\\urllib3\\connectionpool.py:1056: InsecureRequestWarning: Unverified HTTPS request is being made to host 'urs.earthdata.nasa.gov'. Adding certificate verification is strongly advised. See: https://urllib3.readthedocs.io/en/1.26.x/advanced-usage.html#ssl-warnings\n",
      "  warnings.warn(\n",
      "c:\\Users\\cinfante\\OneDrive - NRCan RNCan\\Documents\\Greenup\\NASA-LPDAAC-Testing\\venv\\Lib\\site-packages\\urllib3\\connectionpool.py:1056: InsecureRequestWarning: Unverified HTTPS request is being made to host 'data.lpdaac.earthdatacloud.nasa.gov'. Adding certificate verification is strongly advised. See: https://urllib3.readthedocs.io/en/1.26.x/advanced-usage.html#ssl-warnings\n",
      "  warnings.warn(\n",
      "c:\\Users\\cinfante\\OneDrive - NRCan RNCan\\Documents\\Greenup\\NASA-LPDAAC-Testing\\venv\\Lib\\site-packages\\urllib3\\connectionpool.py:1056: InsecureRequestWarning: Unverified HTTPS request is being made to host 'data.lpdaac.earthdatacloud.nasa.gov'. Adding certificate verification is strongly advised. See: https://urllib3.readthedocs.io/en/1.26.x/advanced-usage.html#ssl-warnings\n",
      "  warnings.warn(\n",
      "c:\\Users\\cinfante\\OneDrive - NRCan RNCan\\Documents\\Greenup\\NASA-LPDAAC-Testing\\venv\\Lib\\site-packages\\urllib3\\connectionpool.py:1056: InsecureRequestWarning: Unverified HTTPS request is being made to host 'd1nklfio7vscoe.cloudfront.net'. Adding certificate verification is strongly advised. See: https://urllib3.readthedocs.io/en/1.26.x/advanced-usage.html#ssl-warnings\n",
      "  warnings.warn(\n"
     ]
    },
    {
     "name": "stdout",
     "output_type": "stream",
     "text": [
      "https://data.lpdaac.earthdatacloud.nasa.gov/lp-prod-protected/VNP13A2.002/VNP13A2.A2023185.h13v02.002.2023201115845/VNP13A2.A2023185.h13v02.002.2023201115845.h5\n",
      "[[  2527   2028   2220 ...   2401   2215   1956]\n",
      " [  3077   4995   5871 ...   2117   2302   2267]\n",
      " [  5273   4562   6394 ...   2050   2076   2518]\n",
      " ...\n",
      " [  6260   5599   5152 ... -15000 -15000 -15000]\n",
      " [  6117   4900   4003 ... -15000 -15000 -15000]\n",
      " [  5536   1407   3333 ... -15000 -15000 -15000]]\n",
      "<xarray.DataArray (y: 1200, x: 1200)>\n",
      "array([[  2527,   2028,   2220, ...,   2401,   2215,   1956],\n",
      "       [  3077,   4995,   5871, ...,   2117,   2302,   2267],\n",
      "       [  5273,   4562,   6394, ...,   2050,   2076,   2518],\n",
      "       ...,\n",
      "       [  6260,   5599,   5152, ..., -15000, -15000, -15000],\n",
      "       [  6117,   4900,   4003, ..., -15000, -15000, -15000],\n",
      "       [  5536,   1407,   3333, ..., -15000, -15000, -15000]], dtype=int16)\n",
      "Dimensions without coordinates: y, x\n",
      "Processed item 19\n"
     ]
    },
    {
     "name": "stderr",
     "output_type": "stream",
     "text": [
      "c:\\Users\\cinfante\\OneDrive - NRCan RNCan\\Documents\\Greenup\\NASA-LPDAAC-Testing\\venv\\Lib\\site-packages\\urllib3\\connectionpool.py:1056: InsecureRequestWarning: Unverified HTTPS request is being made to host 'data.lpdaac.earthdatacloud.nasa.gov'. Adding certificate verification is strongly advised. See: https://urllib3.readthedocs.io/en/1.26.x/advanced-usage.html#ssl-warnings\n",
      "  warnings.warn(\n",
      "c:\\Users\\cinfante\\OneDrive - NRCan RNCan\\Documents\\Greenup\\NASA-LPDAAC-Testing\\venv\\Lib\\site-packages\\urllib3\\connectionpool.py:1056: InsecureRequestWarning: Unverified HTTPS request is being made to host 'urs.earthdata.nasa.gov'. Adding certificate verification is strongly advised. See: https://urllib3.readthedocs.io/en/1.26.x/advanced-usage.html#ssl-warnings\n",
      "  warnings.warn(\n",
      "c:\\Users\\cinfante\\OneDrive - NRCan RNCan\\Documents\\Greenup\\NASA-LPDAAC-Testing\\venv\\Lib\\site-packages\\urllib3\\connectionpool.py:1056: InsecureRequestWarning: Unverified HTTPS request is being made to host 'data.lpdaac.earthdatacloud.nasa.gov'. Adding certificate verification is strongly advised. See: https://urllib3.readthedocs.io/en/1.26.x/advanced-usage.html#ssl-warnings\n",
      "  warnings.warn(\n",
      "c:\\Users\\cinfante\\OneDrive - NRCan RNCan\\Documents\\Greenup\\NASA-LPDAAC-Testing\\venv\\Lib\\site-packages\\urllib3\\connectionpool.py:1056: InsecureRequestWarning: Unverified HTTPS request is being made to host 'data.lpdaac.earthdatacloud.nasa.gov'. Adding certificate verification is strongly advised. See: https://urllib3.readthedocs.io/en/1.26.x/advanced-usage.html#ssl-warnings\n",
      "  warnings.warn(\n",
      "c:\\Users\\cinfante\\OneDrive - NRCan RNCan\\Documents\\Greenup\\NASA-LPDAAC-Testing\\venv\\Lib\\site-packages\\urllib3\\connectionpool.py:1056: InsecureRequestWarning: Unverified HTTPS request is being made to host 'd1nklfio7vscoe.cloudfront.net'. Adding certificate verification is strongly advised. See: https://urllib3.readthedocs.io/en/1.26.x/advanced-usage.html#ssl-warnings\n",
      "  warnings.warn(\n"
     ]
    },
    {
     "name": "stdout",
     "output_type": "stream",
     "text": [
      "https://data.lpdaac.earthdatacloud.nasa.gov/lp-prod-protected/VNP13A2.002/VNP13A2.A2023185.h14v02.002.2023201114930/VNP13A2.A2023185.h14v02.002.2023201114930.h5\n",
      "[[  2064   2111   2417 ... -15000 -15000 -15000]\n",
      " [  2162   2332   2426 ... -15000 -15000 -15000]\n",
      " [  2336   2274   2409 ... -15000 -15000 -15000]\n",
      " ...\n",
      " [-15000 -15000 -15000 ... -15000 -15000 -15000]\n",
      " [-15000 -15000 -15000 ... -15000 -15000 -15000]\n",
      " [-15000 -15000 -15000 ... -15000 -15000 -15000]]\n",
      "<xarray.DataArray (y: 1200, x: 1200)>\n",
      "array([[  2064,   2111,   2417, ..., -15000, -15000, -15000],\n",
      "       [  2162,   2332,   2426, ..., -15000, -15000, -15000],\n",
      "       [  2336,   2274,   2409, ..., -15000, -15000, -15000],\n",
      "       ...,\n",
      "       [-15000, -15000, -15000, ..., -15000, -15000, -15000],\n",
      "       [-15000, -15000, -15000, ..., -15000, -15000, -15000],\n",
      "       [-15000, -15000, -15000, ..., -15000, -15000, -15000]], dtype=int16)\n",
      "Dimensions without coordinates: y, x\n",
      "Processed item 20\n"
     ]
    },
    {
     "name": "stderr",
     "output_type": "stream",
     "text": [
      "c:\\Users\\cinfante\\OneDrive - NRCan RNCan\\Documents\\Greenup\\NASA-LPDAAC-Testing\\venv\\Lib\\site-packages\\urllib3\\connectionpool.py:1056: InsecureRequestWarning: Unverified HTTPS request is being made to host 'data.lpdaac.earthdatacloud.nasa.gov'. Adding certificate verification is strongly advised. See: https://urllib3.readthedocs.io/en/1.26.x/advanced-usage.html#ssl-warnings\n",
      "  warnings.warn(\n",
      "c:\\Users\\cinfante\\OneDrive - NRCan RNCan\\Documents\\Greenup\\NASA-LPDAAC-Testing\\venv\\Lib\\site-packages\\urllib3\\connectionpool.py:1056: InsecureRequestWarning: Unverified HTTPS request is being made to host 'urs.earthdata.nasa.gov'. Adding certificate verification is strongly advised. See: https://urllib3.readthedocs.io/en/1.26.x/advanced-usage.html#ssl-warnings\n",
      "  warnings.warn(\n",
      "c:\\Users\\cinfante\\OneDrive - NRCan RNCan\\Documents\\Greenup\\NASA-LPDAAC-Testing\\venv\\Lib\\site-packages\\urllib3\\connectionpool.py:1056: InsecureRequestWarning: Unverified HTTPS request is being made to host 'data.lpdaac.earthdatacloud.nasa.gov'. Adding certificate verification is strongly advised. See: https://urllib3.readthedocs.io/en/1.26.x/advanced-usage.html#ssl-warnings\n",
      "  warnings.warn(\n",
      "c:\\Users\\cinfante\\OneDrive - NRCan RNCan\\Documents\\Greenup\\NASA-LPDAAC-Testing\\venv\\Lib\\site-packages\\urllib3\\connectionpool.py:1056: InsecureRequestWarning: Unverified HTTPS request is being made to host 'data.lpdaac.earthdatacloud.nasa.gov'. Adding certificate verification is strongly advised. See: https://urllib3.readthedocs.io/en/1.26.x/advanced-usage.html#ssl-warnings\n",
      "  warnings.warn(\n",
      "c:\\Users\\cinfante\\OneDrive - NRCan RNCan\\Documents\\Greenup\\NASA-LPDAAC-Testing\\venv\\Lib\\site-packages\\urllib3\\connectionpool.py:1056: InsecureRequestWarning: Unverified HTTPS request is being made to host 'd1nklfio7vscoe.cloudfront.net'. Adding certificate verification is strongly advised. See: https://urllib3.readthedocs.io/en/1.26.x/advanced-usage.html#ssl-warnings\n",
      "  warnings.warn(\n"
     ]
    },
    {
     "name": "stdout",
     "output_type": "stream",
     "text": [
      "https://data.lpdaac.earthdatacloud.nasa.gov/lp-prod-protected/VNP13A2.002/VNP13A2.A2023185.h12v02.002.2023201115841/VNP13A2.A2023185.h12v02.002.2023201115841.h5\n",
      "[[-15000 -15000 -15000 ...  -3047  -2344   2683]\n",
      " [-15000 -15000 -15000 ...   1689   2512   1956]\n",
      " [-15000 -15000 -15000 ...   6223   5370   4791]\n",
      " ...\n",
      " [  6743   6461   5722 ...   7145   6885   6640]\n",
      " [  6114   5602   5190 ...   6979   6529   6152]\n",
      " [  6020   5697   4992 ...   6641   6788   5289]]\n",
      "<xarray.DataArray (y: 1200, x: 1200)>\n",
      "array([[-15000, -15000, -15000, ...,  -3047,  -2344,   2683],\n",
      "       [-15000, -15000, -15000, ...,   1689,   2512,   1956],\n",
      "       [-15000, -15000, -15000, ...,   6223,   5370,   4791],\n",
      "       ...,\n",
      "       [  6743,   6461,   5722, ...,   7145,   6885,   6640],\n",
      "       [  6114,   5602,   5190, ...,   6979,   6529,   6152],\n",
      "       [  6020,   5697,   4992, ...,   6641,   6788,   5289]], dtype=int16)\n",
      "Dimensions without coordinates: y, x\n",
      "Processed item 21\n"
     ]
    },
    {
     "name": "stderr",
     "output_type": "stream",
     "text": [
      "c:\\Users\\cinfante\\OneDrive - NRCan RNCan\\Documents\\Greenup\\NASA-LPDAAC-Testing\\venv\\Lib\\site-packages\\urllib3\\connectionpool.py:1056: InsecureRequestWarning: Unverified HTTPS request is being made to host 'data.lpdaac.earthdatacloud.nasa.gov'. Adding certificate verification is strongly advised. See: https://urllib3.readthedocs.io/en/1.26.x/advanced-usage.html#ssl-warnings\n",
      "  warnings.warn(\n",
      "c:\\Users\\cinfante\\OneDrive - NRCan RNCan\\Documents\\Greenup\\NASA-LPDAAC-Testing\\venv\\Lib\\site-packages\\urllib3\\connectionpool.py:1056: InsecureRequestWarning: Unverified HTTPS request is being made to host 'urs.earthdata.nasa.gov'. Adding certificate verification is strongly advised. See: https://urllib3.readthedocs.io/en/1.26.x/advanced-usage.html#ssl-warnings\n",
      "  warnings.warn(\n",
      "c:\\Users\\cinfante\\OneDrive - NRCan RNCan\\Documents\\Greenup\\NASA-LPDAAC-Testing\\venv\\Lib\\site-packages\\urllib3\\connectionpool.py:1056: InsecureRequestWarning: Unverified HTTPS request is being made to host 'data.lpdaac.earthdatacloud.nasa.gov'. Adding certificate verification is strongly advised. See: https://urllib3.readthedocs.io/en/1.26.x/advanced-usage.html#ssl-warnings\n",
      "  warnings.warn(\n",
      "c:\\Users\\cinfante\\OneDrive - NRCan RNCan\\Documents\\Greenup\\NASA-LPDAAC-Testing\\venv\\Lib\\site-packages\\urllib3\\connectionpool.py:1056: InsecureRequestWarning: Unverified HTTPS request is being made to host 'data.lpdaac.earthdatacloud.nasa.gov'. Adding certificate verification is strongly advised. See: https://urllib3.readthedocs.io/en/1.26.x/advanced-usage.html#ssl-warnings\n",
      "  warnings.warn(\n",
      "c:\\Users\\cinfante\\OneDrive - NRCan RNCan\\Documents\\Greenup\\NASA-LPDAAC-Testing\\venv\\Lib\\site-packages\\urllib3\\connectionpool.py:1056: InsecureRequestWarning: Unverified HTTPS request is being made to host 'd1nklfio7vscoe.cloudfront.net'. Adding certificate verification is strongly advised. See: https://urllib3.readthedocs.io/en/1.26.x/advanced-usage.html#ssl-warnings\n",
      "  warnings.warn(\n"
     ]
    },
    {
     "name": "stdout",
     "output_type": "stream",
     "text": [
      "https://data.lpdaac.earthdatacloud.nasa.gov/lp-prod-protected/VNP13A2.002/VNP13A2.A2023185.h14v01.002.2023201115919/VNP13A2.A2023185.h14v01.002.2023201115919.h5\n",
      "[[-15000 -15000 -15000 ... -15000 -15000 -15000]\n",
      " [-15000 -15000 -15000 ... -15000 -15000 -15000]\n",
      " [-15000 -15000 -15000 ... -15000 -15000 -15000]\n",
      " ...\n",
      " [  2058   1976   1996 ... -15000 -15000 -15000]\n",
      " [  1915   1964   2050 ... -15000 -15000 -15000]\n",
      " [  1951   1992   2058 ... -15000 -15000 -15000]]\n",
      "<xarray.DataArray (y: 1200, x: 1200)>\n",
      "array([[-15000, -15000, -15000, ..., -15000, -15000, -15000],\n",
      "       [-15000, -15000, -15000, ..., -15000, -15000, -15000],\n",
      "       [-15000, -15000, -15000, ..., -15000, -15000, -15000],\n",
      "       ...,\n",
      "       [  2058,   1976,   1996, ..., -15000, -15000, -15000],\n",
      "       [  1915,   1964,   2050, ..., -15000, -15000, -15000],\n",
      "       [  1951,   1992,   2058, ..., -15000, -15000, -15000]], dtype=int16)\n",
      "Dimensions without coordinates: y, x\n",
      "Processed item 22\n"
     ]
    },
    {
     "name": "stderr",
     "output_type": "stream",
     "text": [
      "c:\\Users\\cinfante\\OneDrive - NRCan RNCan\\Documents\\Greenup\\NASA-LPDAAC-Testing\\venv\\Lib\\site-packages\\urllib3\\connectionpool.py:1056: InsecureRequestWarning: Unverified HTTPS request is being made to host 'data.lpdaac.earthdatacloud.nasa.gov'. Adding certificate verification is strongly advised. See: https://urllib3.readthedocs.io/en/1.26.x/advanced-usage.html#ssl-warnings\n",
      "  warnings.warn(\n",
      "c:\\Users\\cinfante\\OneDrive - NRCan RNCan\\Documents\\Greenup\\NASA-LPDAAC-Testing\\venv\\Lib\\site-packages\\urllib3\\connectionpool.py:1056: InsecureRequestWarning: Unverified HTTPS request is being made to host 'urs.earthdata.nasa.gov'. Adding certificate verification is strongly advised. See: https://urllib3.readthedocs.io/en/1.26.x/advanced-usage.html#ssl-warnings\n",
      "  warnings.warn(\n",
      "c:\\Users\\cinfante\\OneDrive - NRCan RNCan\\Documents\\Greenup\\NASA-LPDAAC-Testing\\venv\\Lib\\site-packages\\urllib3\\connectionpool.py:1056: InsecureRequestWarning: Unverified HTTPS request is being made to host 'data.lpdaac.earthdatacloud.nasa.gov'. Adding certificate verification is strongly advised. See: https://urllib3.readthedocs.io/en/1.26.x/advanced-usage.html#ssl-warnings\n",
      "  warnings.warn(\n"
     ]
    },
    {
     "name": "stdout",
     "output_type": "stream",
     "text": [
      "https://data.lpdaac.earthdatacloud.nasa.gov/lp-prod-protected/VNP13A2.002/VNP13A2.A2023185.h23v02.002.2023201121038/VNP13A2.A2023185.h23v02.002.2023201121038.h5\n",
      "Authentication failed or the file is inaccessible for item 23\n"
     ]
    },
    {
     "name": "stderr",
     "output_type": "stream",
     "text": [
      "c:\\Users\\cinfante\\OneDrive - NRCan RNCan\\Documents\\Greenup\\NASA-LPDAAC-Testing\\venv\\Lib\\site-packages\\urllib3\\connectionpool.py:1056: InsecureRequestWarning: Unverified HTTPS request is being made to host 'data.lpdaac.earthdatacloud.nasa.gov'. Adding certificate verification is strongly advised. See: https://urllib3.readthedocs.io/en/1.26.x/advanced-usage.html#ssl-warnings\n",
      "  warnings.warn(\n",
      "c:\\Users\\cinfante\\OneDrive - NRCan RNCan\\Documents\\Greenup\\NASA-LPDAAC-Testing\\venv\\Lib\\site-packages\\urllib3\\connectionpool.py:1056: InsecureRequestWarning: Unverified HTTPS request is being made to host 'urs.earthdata.nasa.gov'. Adding certificate verification is strongly advised. See: https://urllib3.readthedocs.io/en/1.26.x/advanced-usage.html#ssl-warnings\n",
      "  warnings.warn(\n",
      "c:\\Users\\cinfante\\OneDrive - NRCan RNCan\\Documents\\Greenup\\NASA-LPDAAC-Testing\\venv\\Lib\\site-packages\\urllib3\\connectionpool.py:1056: InsecureRequestWarning: Unverified HTTPS request is being made to host 'data.lpdaac.earthdatacloud.nasa.gov'. Adding certificate verification is strongly advised. See: https://urllib3.readthedocs.io/en/1.26.x/advanced-usage.html#ssl-warnings\n",
      "  warnings.warn(\n",
      "c:\\Users\\cinfante\\OneDrive - NRCan RNCan\\Documents\\Greenup\\NASA-LPDAAC-Testing\\venv\\Lib\\site-packages\\urllib3\\connectionpool.py:1056: InsecureRequestWarning: Unverified HTTPS request is being made to host 'data.lpdaac.earthdatacloud.nasa.gov'. Adding certificate verification is strongly advised. See: https://urllib3.readthedocs.io/en/1.26.x/advanced-usage.html#ssl-warnings\n",
      "  warnings.warn(\n",
      "c:\\Users\\cinfante\\OneDrive - NRCan RNCan\\Documents\\Greenup\\NASA-LPDAAC-Testing\\venv\\Lib\\site-packages\\urllib3\\connectionpool.py:1056: InsecureRequestWarning: Unverified HTTPS request is being made to host 'd1nklfio7vscoe.cloudfront.net'. Adding certificate verification is strongly advised. See: https://urllib3.readthedocs.io/en/1.26.x/advanced-usage.html#ssl-warnings\n",
      "  warnings.warn(\n"
     ]
    },
    {
     "name": "stdout",
     "output_type": "stream",
     "text": [
      "https://data.lpdaac.earthdatacloud.nasa.gov/lp-prod-protected/VNP13A2.002/VNP13A2.A2023185.h17v01.002.2023201122406/VNP13A2.A2023185.h17v01.002.2023201122406.h5\n",
      "[[  -846   -829   -839 ... -15000 -15000 -15000]\n",
      " [  -889   -867   -872 ... -15000 -15000 -15000]\n",
      " [  -834   -836   -845 ... -15000 -15000 -15000]\n",
      " ...\n",
      " [  -731   -470   -316 ... -15000 -15000 -15000]\n",
      " [  -202   -579   -753 ... -15000 -15000 -15000]\n",
      " [  -260   -740   -778 ... -15000 -15000 -15000]]\n",
      "<xarray.DataArray (y: 1200, x: 1200)>\n",
      "array([[  -846,   -829,   -839, ..., -15000, -15000, -15000],\n",
      "       [  -889,   -867,   -872, ..., -15000, -15000, -15000],\n",
      "       [  -834,   -836,   -845, ..., -15000, -15000, -15000],\n",
      "       ...,\n",
      "       [  -731,   -470,   -316, ..., -15000, -15000, -15000],\n",
      "       [  -202,   -579,   -753, ..., -15000, -15000, -15000],\n",
      "       [  -260,   -740,   -778, ..., -15000, -15000, -15000]], dtype=int16)\n",
      "Dimensions without coordinates: y, x\n",
      "Processed item 24\n"
     ]
    },
    {
     "name": "stderr",
     "output_type": "stream",
     "text": [
      "c:\\Users\\cinfante\\OneDrive - NRCan RNCan\\Documents\\Greenup\\NASA-LPDAAC-Testing\\venv\\Lib\\site-packages\\urllib3\\connectionpool.py:1056: InsecureRequestWarning: Unverified HTTPS request is being made to host 'data.lpdaac.earthdatacloud.nasa.gov'. Adding certificate verification is strongly advised. See: https://urllib3.readthedocs.io/en/1.26.x/advanced-usage.html#ssl-warnings\n",
      "  warnings.warn(\n",
      "c:\\Users\\cinfante\\OneDrive - NRCan RNCan\\Documents\\Greenup\\NASA-LPDAAC-Testing\\venv\\Lib\\site-packages\\urllib3\\connectionpool.py:1056: InsecureRequestWarning: Unverified HTTPS request is being made to host 'urs.earthdata.nasa.gov'. Adding certificate verification is strongly advised. See: https://urllib3.readthedocs.io/en/1.26.x/advanced-usage.html#ssl-warnings\n",
      "  warnings.warn(\n",
      "c:\\Users\\cinfante\\OneDrive - NRCan RNCan\\Documents\\Greenup\\NASA-LPDAAC-Testing\\venv\\Lib\\site-packages\\urllib3\\connectionpool.py:1056: InsecureRequestWarning: Unverified HTTPS request is being made to host 'data.lpdaac.earthdatacloud.nasa.gov'. Adding certificate verification is strongly advised. See: https://urllib3.readthedocs.io/en/1.26.x/advanced-usage.html#ssl-warnings\n",
      "  warnings.warn(\n",
      "c:\\Users\\cinfante\\OneDrive - NRCan RNCan\\Documents\\Greenup\\NASA-LPDAAC-Testing\\venv\\Lib\\site-packages\\urllib3\\connectionpool.py:1056: InsecureRequestWarning: Unverified HTTPS request is being made to host 'data.lpdaac.earthdatacloud.nasa.gov'. Adding certificate verification is strongly advised. See: https://urllib3.readthedocs.io/en/1.26.x/advanced-usage.html#ssl-warnings\n",
      "  warnings.warn(\n",
      "c:\\Users\\cinfante\\OneDrive - NRCan RNCan\\Documents\\Greenup\\NASA-LPDAAC-Testing\\venv\\Lib\\site-packages\\urllib3\\connectionpool.py:1056: InsecureRequestWarning: Unverified HTTPS request is being made to host 'd1nklfio7vscoe.cloudfront.net'. Adding certificate verification is strongly advised. See: https://urllib3.readthedocs.io/en/1.26.x/advanced-usage.html#ssl-warnings\n",
      "  warnings.warn(\n"
     ]
    },
    {
     "name": "stdout",
     "output_type": "stream",
     "text": [
      "https://data.lpdaac.earthdatacloud.nasa.gov/lp-prod-protected/VNP13A2.002/VNP13A2.A2023185.h16v01.002.2023201123309/VNP13A2.A2023185.h16v01.002.2023201123309.h5\n",
      "[[-15000 -15000 -15000 ...  -1039  -1018  -1113]\n",
      " [-15000 -15000 -15000 ...  -1044   -959  -1081]\n",
      " [-15000 -15000 -15000 ...   -976  -1178   -946]\n",
      " ...\n",
      " [-15000 -15000 -15000 ...   -525   -368   -495]\n",
      " [-15000 -15000 -15000 ...   -252   -539   -233]\n",
      " [-15000 -15000 -15000 ...   -624   -680   -253]]\n",
      "<xarray.DataArray (y: 1200, x: 1200)>\n",
      "array([[-15000, -15000, -15000, ...,  -1039,  -1018,  -1113],\n",
      "       [-15000, -15000, -15000, ...,  -1044,   -959,  -1081],\n",
      "       [-15000, -15000, -15000, ...,   -976,  -1178,   -946],\n",
      "       ...,\n",
      "       [-15000, -15000, -15000, ...,   -525,   -368,   -495],\n",
      "       [-15000, -15000, -15000, ...,   -252,   -539,   -233],\n",
      "       [-15000, -15000, -15000, ...,   -624,   -680,   -253]], dtype=int16)\n",
      "Dimensions without coordinates: y, x\n",
      "Processed item 25\n"
     ]
    },
    {
     "name": "stderr",
     "output_type": "stream",
     "text": [
      "c:\\Users\\cinfante\\OneDrive - NRCan RNCan\\Documents\\Greenup\\NASA-LPDAAC-Testing\\venv\\Lib\\site-packages\\urllib3\\connectionpool.py:1056: InsecureRequestWarning: Unverified HTTPS request is being made to host 'data.lpdaac.earthdatacloud.nasa.gov'. Adding certificate verification is strongly advised. See: https://urllib3.readthedocs.io/en/1.26.x/advanced-usage.html#ssl-warnings\n",
      "  warnings.warn(\n",
      "c:\\Users\\cinfante\\OneDrive - NRCan RNCan\\Documents\\Greenup\\NASA-LPDAAC-Testing\\venv\\Lib\\site-packages\\urllib3\\connectionpool.py:1056: InsecureRequestWarning: Unverified HTTPS request is being made to host 'urs.earthdata.nasa.gov'. Adding certificate verification is strongly advised. See: https://urllib3.readthedocs.io/en/1.26.x/advanced-usage.html#ssl-warnings\n",
      "  warnings.warn(\n",
      "c:\\Users\\cinfante\\OneDrive - NRCan RNCan\\Documents\\Greenup\\NASA-LPDAAC-Testing\\venv\\Lib\\site-packages\\urllib3\\connectionpool.py:1056: InsecureRequestWarning: Unverified HTTPS request is being made to host 'data.lpdaac.earthdatacloud.nasa.gov'. Adding certificate verification is strongly advised. See: https://urllib3.readthedocs.io/en/1.26.x/advanced-usage.html#ssl-warnings\n",
      "  warnings.warn(\n",
      "c:\\Users\\cinfante\\OneDrive - NRCan RNCan\\Documents\\Greenup\\NASA-LPDAAC-Testing\\venv\\Lib\\site-packages\\urllib3\\connectionpool.py:1056: InsecureRequestWarning: Unverified HTTPS request is being made to host 'data.lpdaac.earthdatacloud.nasa.gov'. Adding certificate verification is strongly advised. See: https://urllib3.readthedocs.io/en/1.26.x/advanced-usage.html#ssl-warnings\n",
      "  warnings.warn(\n",
      "c:\\Users\\cinfante\\OneDrive - NRCan RNCan\\Documents\\Greenup\\NASA-LPDAAC-Testing\\venv\\Lib\\site-packages\\urllib3\\connectionpool.py:1056: InsecureRequestWarning: Unverified HTTPS request is being made to host 'd1nklfio7vscoe.cloudfront.net'. Adding certificate verification is strongly advised. See: https://urllib3.readthedocs.io/en/1.26.x/advanced-usage.html#ssl-warnings\n",
      "  warnings.warn(\n"
     ]
    },
    {
     "name": "stdout",
     "output_type": "stream",
     "text": [
      "https://data.lpdaac.earthdatacloud.nasa.gov/lp-prod-protected/VNP13A2.002/VNP13A2.A2023185.h15v01.002.2023201122420/VNP13A2.A2023185.h15v01.002.2023201122420.h5\n",
      "[[-15000 -15000 -15000 ... -15000 -15000 -15000]\n",
      " [-15000 -15000 -15000 ... -15000 -15000 -15000]\n",
      " [-15000 -15000 -15000 ... -15000 -15000 -15000]\n",
      " ...\n",
      " [-15000 -15000 -15000 ... -15000 -15000 -15000]\n",
      " [-15000 -15000 -15000 ... -15000 -15000 -15000]\n",
      " [-15000 -15000 -15000 ... -15000 -15000 -15000]]\n",
      "<xarray.DataArray (y: 1200, x: 1200)>\n",
      "array([[-15000, -15000, -15000, ..., -15000, -15000, -15000],\n",
      "       [-15000, -15000, -15000, ..., -15000, -15000, -15000],\n",
      "       [-15000, -15000, -15000, ..., -15000, -15000, -15000],\n",
      "       ...,\n",
      "       [-15000, -15000, -15000, ..., -15000, -15000, -15000],\n",
      "       [-15000, -15000, -15000, ..., -15000, -15000, -15000],\n",
      "       [-15000, -15000, -15000, ..., -15000, -15000, -15000]], dtype=int16)\n",
      "Dimensions without coordinates: y, x\n",
      "Processed item 26\n"
     ]
    },
    {
     "name": "stderr",
     "output_type": "stream",
     "text": [
      "c:\\Users\\cinfante\\OneDrive - NRCan RNCan\\Documents\\Greenup\\NASA-LPDAAC-Testing\\venv\\Lib\\site-packages\\urllib3\\connectionpool.py:1056: InsecureRequestWarning: Unverified HTTPS request is being made to host 'data.lpdaac.earthdatacloud.nasa.gov'. Adding certificate verification is strongly advised. See: https://urllib3.readthedocs.io/en/1.26.x/advanced-usage.html#ssl-warnings\n",
      "  warnings.warn(\n",
      "c:\\Users\\cinfante\\OneDrive - NRCan RNCan\\Documents\\Greenup\\NASA-LPDAAC-Testing\\venv\\Lib\\site-packages\\urllib3\\connectionpool.py:1056: InsecureRequestWarning: Unverified HTTPS request is being made to host 'urs.earthdata.nasa.gov'. Adding certificate verification is strongly advised. See: https://urllib3.readthedocs.io/en/1.26.x/advanced-usage.html#ssl-warnings\n",
      "  warnings.warn(\n",
      "c:\\Users\\cinfante\\OneDrive - NRCan RNCan\\Documents\\Greenup\\NASA-LPDAAC-Testing\\venv\\Lib\\site-packages\\urllib3\\connectionpool.py:1056: InsecureRequestWarning: Unverified HTTPS request is being made to host 'data.lpdaac.earthdatacloud.nasa.gov'. Adding certificate verification is strongly advised. See: https://urllib3.readthedocs.io/en/1.26.x/advanced-usage.html#ssl-warnings\n",
      "  warnings.warn(\n",
      "c:\\Users\\cinfante\\OneDrive - NRCan RNCan\\Documents\\Greenup\\NASA-LPDAAC-Testing\\venv\\Lib\\site-packages\\urllib3\\connectionpool.py:1056: InsecureRequestWarning: Unverified HTTPS request is being made to host 'data.lpdaac.earthdatacloud.nasa.gov'. Adding certificate verification is strongly advised. See: https://urllib3.readthedocs.io/en/1.26.x/advanced-usage.html#ssl-warnings\n",
      "  warnings.warn(\n",
      "c:\\Users\\cinfante\\OneDrive - NRCan RNCan\\Documents\\Greenup\\NASA-LPDAAC-Testing\\venv\\Lib\\site-packages\\urllib3\\connectionpool.py:1056: InsecureRequestWarning: Unverified HTTPS request is being made to host 'd1nklfio7vscoe.cloudfront.net'. Adding certificate verification is strongly advised. See: https://urllib3.readthedocs.io/en/1.26.x/advanced-usage.html#ssl-warnings\n",
      "  warnings.warn(\n"
     ]
    },
    {
     "name": "stdout",
     "output_type": "stream",
     "text": [
      "https://data.lpdaac.earthdatacloud.nasa.gov/lp-prod-protected/VNP13A2.002/VNP13A2.A2023185.h20v01.002.2023201124919/VNP13A2.A2023185.h20v01.002.2023201124919.h5\n",
      "[[-15000 -15000 -15000 ... -15000 -15000 -15000]\n",
      " [-15000 -15000 -15000 ... -15000 -15000 -15000]\n",
      " [-15000 -15000 -15000 ... -15000 -15000 -15000]\n",
      " ...\n",
      " [-15000 -15000 -15000 ... -15000 -15000 -15000]\n",
      " [-15000 -15000 -15000 ... -15000 -15000 -15000]\n",
      " [-15000 -15000 -15000 ... -15000 -15000 -15000]]\n",
      "<xarray.DataArray (y: 1200, x: 1200)>\n",
      "array([[-15000, -15000, -15000, ..., -15000, -15000, -15000],\n",
      "       [-15000, -15000, -15000, ..., -15000, -15000, -15000],\n",
      "       [-15000, -15000, -15000, ..., -15000, -15000, -15000],\n",
      "       ...,\n",
      "       [-15000, -15000, -15000, ..., -15000, -15000, -15000],\n",
      "       [-15000, -15000, -15000, ..., -15000, -15000, -15000],\n",
      "       [-15000, -15000, -15000, ..., -15000, -15000, -15000]], dtype=int16)\n",
      "Dimensions without coordinates: y, x\n",
      "Processed item 27\n"
     ]
    },
    {
     "name": "stderr",
     "output_type": "stream",
     "text": [
      "c:\\Users\\cinfante\\OneDrive - NRCan RNCan\\Documents\\Greenup\\NASA-LPDAAC-Testing\\venv\\Lib\\site-packages\\urllib3\\connectionpool.py:1056: InsecureRequestWarning: Unverified HTTPS request is being made to host 'data.lpdaac.earthdatacloud.nasa.gov'. Adding certificate verification is strongly advised. See: https://urllib3.readthedocs.io/en/1.26.x/advanced-usage.html#ssl-warnings\n",
      "  warnings.warn(\n",
      "c:\\Users\\cinfante\\OneDrive - NRCan RNCan\\Documents\\Greenup\\NASA-LPDAAC-Testing\\venv\\Lib\\site-packages\\urllib3\\connectionpool.py:1056: InsecureRequestWarning: Unverified HTTPS request is being made to host 'urs.earthdata.nasa.gov'. Adding certificate verification is strongly advised. See: https://urllib3.readthedocs.io/en/1.26.x/advanced-usage.html#ssl-warnings\n",
      "  warnings.warn(\n",
      "c:\\Users\\cinfante\\OneDrive - NRCan RNCan\\Documents\\Greenup\\NASA-LPDAAC-Testing\\venv\\Lib\\site-packages\\urllib3\\connectionpool.py:1056: InsecureRequestWarning: Unverified HTTPS request is being made to host 'data.lpdaac.earthdatacloud.nasa.gov'. Adding certificate verification is strongly advised. See: https://urllib3.readthedocs.io/en/1.26.x/advanced-usage.html#ssl-warnings\n",
      "  warnings.warn(\n",
      "c:\\Users\\cinfante\\OneDrive - NRCan RNCan\\Documents\\Greenup\\NASA-LPDAAC-Testing\\venv\\Lib\\site-packages\\urllib3\\connectionpool.py:1056: InsecureRequestWarning: Unverified HTTPS request is being made to host 'data.lpdaac.earthdatacloud.nasa.gov'. Adding certificate verification is strongly advised. See: https://urllib3.readthedocs.io/en/1.26.x/advanced-usage.html#ssl-warnings\n",
      "  warnings.warn(\n",
      "c:\\Users\\cinfante\\OneDrive - NRCan RNCan\\Documents\\Greenup\\NASA-LPDAAC-Testing\\venv\\Lib\\site-packages\\urllib3\\connectionpool.py:1056: InsecureRequestWarning: Unverified HTTPS request is being made to host 'd1nklfio7vscoe.cloudfront.net'. Adding certificate verification is strongly advised. See: https://urllib3.readthedocs.io/en/1.26.x/advanced-usage.html#ssl-warnings\n",
      "  warnings.warn(\n"
     ]
    },
    {
     "name": "stdout",
     "output_type": "stream",
     "text": [
      "https://data.lpdaac.earthdatacloud.nasa.gov/lp-prod-protected/VNP13A2.002/VNP13A2.A2023185.h11v02.002.2023201114934/VNP13A2.A2023185.h11v02.002.2023201114934.h5\n",
      "[[-15000 -15000 -15000 ... -15000 -15000 -15000]\n",
      " [-15000 -15000 -15000 ... -15000 -15000 -15000]\n",
      " [-15000 -15000 -15000 ... -15000 -15000 -15000]\n",
      " ...\n",
      " [  3993   2320   1225 ...   6449   1600   1750]\n",
      " [  2026   5086    798 ...   6305   6458   6333]\n",
      " [  2380   1372    868 ...   6075   6073   5961]]\n",
      "<xarray.DataArray (y: 1200, x: 1200)>\n",
      "array([[-15000, -15000, -15000, ..., -15000, -15000, -15000],\n",
      "       [-15000, -15000, -15000, ..., -15000, -15000, -15000],\n",
      "       [-15000, -15000, -15000, ..., -15000, -15000, -15000],\n",
      "       ...,\n",
      "       [  3993,   2320,   1225, ...,   6449,   1600,   1750],\n",
      "       [  2026,   5086,    798, ...,   6305,   6458,   6333],\n",
      "       [  2380,   1372,    868, ...,   6075,   6073,   5961]], dtype=int16)\n",
      "Dimensions without coordinates: y, x\n",
      "Processed item 28\n",
      "Mosaic created successfully.\n"
     ]
    }
   ],
   "source": [
    "# Perform a search\n",
    "lp_search = 'https://cmr.earthdata.nasa.gov/stac/LPCLOUD/search'\n",
    "\n",
    "params = {}\n",
    "\n",
    "# Set a limit\n",
    "lim = 100\n",
    "params['limit'] = lim  # Add in a limit parameter to retrieve 100 items at a time.\n",
    "\n",
    "# Set the bounding box\n",
    "field = gp.read_file('Field_Boundary.geojson')\n",
    "fieldShape = field['geometry'][0]\n",
    "#bbox = f'{fieldShape.bounds[0]},{fieldShape.bounds[1]},{fieldShape.bounds[2]},{fieldShape.bounds[3]}'    # Defined from ROI bounds\n",
    "bbox = '-141.00275,41.6751050889,-52.3231986987,83.6751'\n",
    "print(bbox)\n",
    "params['bbox'] = bbox \n",
    "\n",
    "# Choose your collection\n",
    "collection = \"VNP13A2.v002\"\n",
    "params[\"collections\"] = [collection]\n",
    "\n",
    "# Set the time\n",
    "date_time = \"2023-07-18T00:00:00Z/2023-08-18T23:59:59Z\"\n",
    "params['datetime'] = date_time\n",
    "\n",
    "# Make the request\n",
    "vnp_items = r.post(lp_search, json=params, verify=False).json()['features']\n",
    "print(len(vnp_items))\n",
    "\n",
    "# Define an empty list to store the dataset arrays\n",
    "datasets = []\n",
    "\n",
    "# Iterate through vnp_items and read the datasets\n",
    "for i, item in enumerate(vnp_items):\n",
    "    item_url = item['assets']['data']['href']\n",
    "    username = 'infantej2'\n",
    "    password = 'QWEqwe123!@#'\n",
    "\n",
    "    with requests.Session() as session:\n",
    "        session.auth = (username, password)\n",
    "        response = session.get(item_url, verify=False)\n",
    "        print(item_url)\n",
    "        \n",
    "        if response.status_code == 200:\n",
    "            # Open the HDF5 file from the response content\n",
    "            with h5py.File(io.BytesIO(response.content), 'r') as hdf5_file:\n",
    "                dataset = hdf5_file['HDFEOS/GRIDS/VIIRS_Grid_16Day_VI_1km/Data Fields/1 km 16 days NDVI'][:]\n",
    "\n",
    "                # Convert the dataset to an xarray DataArray\n",
    "                data_array = xr.DataArray(dataset, dims=(\"y\", \"x\"))\n",
    "                print(dataset)\n",
    "                print(data_array)\n",
    "\n",
    "                # Append the DataArray to list\n",
    "                datasets.append(data_array)\n",
    "\n",
    "            print(f\"Processed item {i}\")\n",
    "        else:\n",
    "            print(f\"Authentication failed or the file is inaccessible for item {i}\")\n",
    "        \n",
    "'''\n",
    "# Merge the DataArrays using rioxarray's merge\n",
    "merged_data_array = merge_arrays(datasets)\n",
    "\n",
    "# Define the output file\n",
    "output_file = \"mosaic_h5.tif\"\n",
    "\n",
    "# Write the merged dataset to the output file\n",
    "merged_data_array.rio.to_raster(output_file)\n",
    "'''\n",
    "print(\"Mosaic created successfully.\")"
   ]
  },
  {
   "cell_type": "code",
   "execution_count": null,
   "id": "a1c484ca",
   "metadata": {},
   "outputs": [],
   "source": [
    "# Subset by Band\n",
    "\n",
    "v = vnp_items[20]\n",
    "\n",
    "evi_band_links = []\n",
    "\n",
    "# Define which HLS product is being accessed\n",
    "if v['assets']['browse']['href'].split('/')[4] == 'VNP13A2.v002':\n",
    "    evi_bands = ['B8A', 'B04', 'B02', 'Fmask'] # NIR RED BLUE Quality for S30\n",
    "else:\n",
    "    evi_bands = ['B05', 'B04', 'B02', 'Fmask'] # NIR RED BLUE Quality for L30\n",
    "\n",
    "# Subset the assets in the item down to only the desired bands\n",
    "for a in v['assets']: \n",
    "    if any(b == a for b in evi_bands):\n",
    "        evi_band_links.append(v['assets'][a]['href'])\n",
    "for e in evi_band_links: print(e)\n",
    "\n",
    "image = io.imread(v['assets']['browse']['href'])  # Load jpg browse image into memory\n",
    "\n",
    "# Basic plot of the image\n",
    "plt.figure(figsize=(10,10))              \n",
    "plt.imshow(image)\n",
    "plt.show()\n",
    "\n",
    "del image # Remove the browse image"
   ]
  },
  {
   "cell_type": "code",
   "execution_count": null,
   "id": "e347f39a",
   "metadata": {},
   "outputs": [],
   "source": [
    "# Use vsicurl to load the data directly into memory (be patient, may take a few seconds)\n",
    "for e in evi_band_links:\n",
    "    print(e)\n",
    "    if e.rsplit('.', 2)[-2] == evi_bands[0]:      # NIR index\n",
    "        nir = rio.open(e)\n",
    "    elif e.rsplit('.', 2)[-2] == evi_bands[1]:    # red index\n",
    "        red = rio.open(e)\n",
    "    elif e.rsplit('.', 2)[-2] == evi_bands[2]:    # blue index\n",
    "        blue = rio.open(e)\n",
    "    elif e.rsplit('.', 2)[-2] == evi_bands[3]:    # Fmask index\n",
    "        fmask = rio.open(e)\n",
    "print(\"The COGs have been loaded into memory!\")"
   ]
  },
  {
   "cell_type": "code",
   "execution_count": null,
   "id": "0dfd4bf1",
   "metadata": {},
   "outputs": [],
   "source": [
    "geo_CRS = Proj('+proj=longlat +datum=WGS84 +no_defs', preserve_units=True)  # Source coordinate system of the ROI\n",
    "utm = pyproj.Proj(nir.crs)                                                  # Destination coordinate system\n",
    "project = pyproj.Transformer.from_proj(geo_CRS, utm)                        # Set up the transformation\n",
    "fsUTM = transform(project.transform, fieldShape)                            # Apply reprojection"
   ]
  }
 ],
 "metadata": {
  "kernelspec": {
   "display_name": "Python 3 (ipykernel)",
   "language": "python",
   "name": "python3"
  },
  "language_info": {
   "codemirror_mode": {
    "name": "ipython",
    "version": 3
   },
   "file_extension": ".py",
   "mimetype": "text/x-python",
   "name": "python",
   "nbconvert_exporter": "python",
   "pygments_lexer": "ipython3",
   "version": "3.11.3"
  }
 },
 "nbformat": 4,
 "nbformat_minor": 5
}
