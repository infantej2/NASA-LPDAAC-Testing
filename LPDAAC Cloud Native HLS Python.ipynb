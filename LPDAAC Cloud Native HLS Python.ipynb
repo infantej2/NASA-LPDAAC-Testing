{
 "cells": [
  {
   "cell_type": "code",
   "execution_count": null,
   "id": "6795f00c",
   "metadata": {},
   "outputs": [],
   "source": [
    "import os\n",
    "from datetime import datetime\n",
    "import requests as r\n",
    "import numpy as np\n",
    "import pandas as pd\n",
    "import geopandas as gp\n",
    "from skimage import io\n",
    "import matplotlib.pyplot as plt\n",
    "#from osgeo import gdal\n",
    "import rasterio as rio\n",
    "from rasterio.mask import mask\n",
    "from rasterio.enums import Resampling\n",
    "from rasterio.shutil import copy\n",
    "import pyproj\n",
    "from pyproj import Proj\n",
    "from shapely.ops import transform\n",
    "import xarray as xr\n",
    "#import geoviews as gv\n",
    "#from cartopy import crs\n",
    "import hvplot.xarray\n",
    "import holoviews as hv\n",
    "import boto3\n",
    "from rasterio.session import AWSSession"
   ]
  },
  {
   "cell_type": "markdown",
   "id": "a2d92fb1",
   "metadata": {},
   "source": [
    "# Section 1: Navigating the CMR-STAC API\n",
    "\n",
    "## Set GDAL Configuration Options"
   ]
  },
  {
   "cell_type": "code",
   "execution_count": null,
   "id": "3f7f9834",
   "metadata": {},
   "outputs": [],
   "source": [
    "r.packages.urllib3.disable_warnings()\n",
    "\n",
    "def get_temp_creds():\n",
    "    temp_creds_url = 'https://data.lpdaac.earthdatacloud.nasa.gov/s3credentials'\n",
    "    return r.get(temp_creds_url, verify=False).json()\n",
    "\n",
    "temp_creds_req = get_temp_creds()\n",
    "#temp_creds_req\n",
    "\n",
    "session = boto3.Session(aws_access_key_id=temp_creds_req['accessKeyId'], \n",
    "                        aws_secret_access_key=temp_creds_req['secretAccessKey'],\n",
    "                        aws_session_token=temp_creds_req['sessionToken'],\n",
    "                        region_name='us-west-2')\n",
    "\n",
    "rio_env = rio.Env(AWSSession(session),\n",
    "                  GDAL_DISABLE_READDIR_ON_OPEN='EMPTY_DIR',\n",
    "                  CPL_VSIL_CURL_ALLOWED_EXTENSIONS='tif',\n",
    "                  GDAL_HTTP_UNSAFESSL='YES',\n",
    "                  VSI_CACHE=True,\n",
    "                  region_name='us-west-2',\n",
    "                  GDAL_HTTP_COOKIEFILE=os.path.expanduser('~/cookies.txt'),\n",
    "                  GDAL_HTTP_COOKIEJAR=os.path.expanduser('~/cookies.txt'))\n",
    "rio_env.__enter__()"
   ]
  },
  {
   "cell_type": "markdown",
   "id": "47df9319",
   "metadata": {},
   "source": [
    "## 1. STAC API: Endpoint that enables the querying of STAC items"
   ]
  },
  {
   "cell_type": "code",
   "execution_count": null,
   "id": "f106eb4f",
   "metadata": {},
   "outputs": [],
   "source": [
    "stac = 'https://cmr.earthdata.nasa.gov/stac/' # CMR-STAC API Endpoint\n",
    "r.packages.urllib3.disable_warnings()  # Disable SSL warnings\n",
    "stac_response = r.get(stac, verify=False).json() # Call the STAC API endpoint\n",
    "for s in stac_response: print(s)\n",
    "\n",
    "print(f\"You are now using the {stac_response['id']} API (STAC Version: {stac_response['stac_version']}). {stac_response['description']}\")\n",
    "print(f\"There are {len(stac_response['links'])} STAC catalogs available in CMR.\")"
   ]
  },
  {
   "cell_type": "markdown",
   "id": "b1c9325d",
   "metadata": {},
   "source": [
    "## 2. STAC Catalog: Contains a JSON file of links that organize all of the collections available"
   ]
  },
  {
   "cell_type": "code",
   "execution_count": null,
   "id": "5a9280be",
   "metadata": {},
   "outputs": [],
   "source": [
    "stac_lp = [s for s in stac_response['links'] if 'LP' in s['title']]  # Search for only LP-specific catalogs\n",
    "\n",
    "# LPCLOUD is the STAC catalog we will be using and exploring today\n",
    "lp_cloud = r.get([s for s in stac_lp if s['title'] == 'LPCLOUD'][0]['href'], verify=False).json()\n",
    "for l in lp_cloud: print(f\"{l}: {lp_cloud[l]}\")\n",
    "\n",
    "# Print the links contained in the LP CLOUD STAC Catalog\n",
    "lp_links = lp_cloud['links']\n",
    "for l in lp_links: \n",
    "    try: \n",
    "        print(f\"{l['href']} is the {l['title']}\")\n",
    "    except:\n",
    "        print(f\"{l['href']}\")"
   ]
  },
  {
   "cell_type": "markdown",
   "id": "6a9899ea",
   "metadata": {},
   "source": [
    "## 3. STAC Collection: Extension of STAC Catalog containing additional information that describe the STAC items in that collection"
   ]
  },
  {
   "cell_type": "code",
   "execution_count": null,
   "id": "5a86501d",
   "metadata": {},
   "outputs": [],
   "source": [
    "# Get a response form the LPCLOUD collection and print the information included in the response\n",
    "lp_collections = [l['href'] for l in lp_links if l['rel'] == 'collections'][0]  # Set collections endpoint to variable\n",
    "print(lp_collections)\n",
    "collections_response = r.get(\"https://cmr.earthdata.nasa.gov/stac/LPCLOUD/collections/?page=2\", verify=False).json()                        # Call collections endpoint\n",
    "print(collections_response)\n",
    "print(f\"This collection contains {collections_response['description']} ({len(collections_response['collections'])} available)\")\n",
    "\n",
    "collections = collections_response['collections']\n",
    "print(\"\\n\")\n",
    "\n",
    "# Search available version 2 collections for HLS and print them out\n",
    "hls_collections = [c for c in collections if 'HLS' in c['id'] and 'v2' in c['id']]\n",
    "#print(hls_collections)\n",
    "for h in hls_collections: \n",
    "    print(f\"{h['title']} has an ID (shortname) of: {h['id']}\")\n",
    "\n",
    "# Explore the attributes contained in the HLSS30 collection\n",
    "s30 = [h for h in hls_collections if 'HLSS30' in h['id']][0]    # Grab HLSS30 collection\n",
    "\n",
    "for s in s30['extent']:                                         # Check out the extent of this collection\n",
    "    print(f\"{s}: {s30['extent'][s]}\")\n",
    "\n",
    "print(f\"HLS S30 Start Date is: {s30['extent']['temporal']['interval'][0][0]}\")\n",
    "\n",
    "l30 = [h for h in hls_collections if 'HLSL30' in h['id'] and 'v2.0' in h['id']][0]     # Grab HLSL30 collection\n",
    "\n",
    "for l in l30['extent']:                                                                # Check out the extent of this collection\n",
    "    print(f\"{l}: {l30['extent'][l]}\")"
   ]
  },
  {
   "cell_type": "markdown",
   "id": "5b544dee",
   "metadata": {},
   "source": [
    "## 4. STAC ITem: Represents data and metadata assets that are spatiotempporally coincident"
   ]
  },
  {
   "cell_type": "code",
   "execution_count": null,
   "id": "f6b93711",
   "metadata": {},
   "outputs": [],
   "source": []
  }
 ],
 "metadata": {
  "kernelspec": {
   "display_name": "Python 3 (ipykernel)",
   "language": "python",
   "name": "python3"
  },
  "language_info": {
   "codemirror_mode": {
    "name": "ipython",
    "version": 3
   },
   "file_extension": ".py",
   "mimetype": "text/x-python",
   "name": "python",
   "nbconvert_exporter": "python",
   "pygments_lexer": "ipython3",
   "version": "3.11.3"
  }
 },
 "nbformat": 4,
 "nbformat_minor": 5
}
