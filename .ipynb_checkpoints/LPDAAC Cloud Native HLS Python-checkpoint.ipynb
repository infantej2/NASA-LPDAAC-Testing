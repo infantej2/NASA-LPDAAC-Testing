{
 "cells": [
  {
   "cell_type": "code",
   "execution_count": null,
   "id": "6795f00c",
   "metadata": {},
   "outputs": [],
   "source": [
    "import os\n",
    "from datetime import datetime\n",
    "import requests as r\n",
    "import numpy as np\n",
    "import pandas as pd\n",
    "import geopandas as gp\n",
    "from skimage import io\n",
    "import matplotlib.pyplot as plt\n",
    "#from osgeo import gdal\n",
    "import rasterio as rio\n",
    "from rasterio.mask import mask\n",
    "from rasterio.enums import Resampling\n",
    "from rasterio.shutil import copy\n",
    "import pyproj\n",
    "from pyproj import Proj\n",
    "from shapely.ops import transform\n",
    "import xarray as xr\n",
    "#import geoviews as gv\n",
    "#from cartopy import crs\n",
    "import hvplot.xarray\n",
    "import holoviews as hv\n",
    "import boto3\n",
    "from rasterio.session import AWSSession"
   ]
  },
  {
   "cell_type": "code",
   "execution_count": null,
   "id": "3f7f9834",
   "metadata": {},
   "outputs": [],
   "source": [
    "r.packages.urllib3.disable_warnings()\n",
    "\n",
    "def get_temp_creds():\n",
    "    temp_creds_url = 'https://data.lpdaac.earthdatacloud.nasa.gov/s3credentials'\n",
    "    return r.get(temp_creds_url, verify=False).json()\n",
    "\n",
    "temp_creds_req = get_temp_creds()\n",
    "#temp_creds_req\n",
    "\n",
    "session = boto3.Session(aws_access_key_id=temp_creds_req['accessKeyId'], \n",
    "                        aws_secret_access_key=temp_creds_req['secretAccessKey'],\n",
    "                        aws_session_token=temp_creds_req['sessionToken'],\n",
    "                        region_name='us-west-2')\n",
    "\n",
    "rio_env = rio.Env(AWSSession(session),\n",
    "                  GDAL_DISABLE_READDIR_ON_OPEN='EMPTY_DIR',\n",
    "                  CPL_VSIL_CURL_ALLOWED_EXTENSIONS='tif',\n",
    "                  GDAL_HTTP_UNSAFESSL='YES',\n",
    "                  VSI_CACHE=True,\n",
    "                  region_name='us-west-2',\n",
    "                  GDAL_HTTP_COOKIEFILE=os.path.expanduser('~/cookies.txt'),\n",
    "                  GDAL_HTTP_COOKIEJAR=os.path.expanduser('~/cookies.txt'))\n",
    "rio_env.__enter__()"
   ]
  }
 ],
 "metadata": {
  "kernelspec": {
   "display_name": "Python 3 (ipykernel)",
   "language": "python",
   "name": "python3"
  },
  "language_info": {
   "codemirror_mode": {
    "name": "ipython",
    "version": 3
   },
   "file_extension": ".py",
   "mimetype": "text/x-python",
   "name": "python",
   "nbconvert_exporter": "python",
   "pygments_lexer": "ipython3",
   "version": "3.11.3"
  }
 },
 "nbformat": 4,
 "nbformat_minor": 5
}
